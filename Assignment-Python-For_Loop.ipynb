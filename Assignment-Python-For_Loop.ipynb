{
  "cells": [
    {
      "cell_type": "markdown",
      "metadata": {
        "id": "-7dUZj3oAx9v"
      },
      "source": [
        "Basic Level"
      ]
    },
    {
      "cell_type": "markdown",
      "metadata": {
        "id": "DKbJfG50Zb2e"
      },
      "source": [
        "1. Write a Python program to print the numbers from 1 to 10 using a `for` loop."
      ]
    },
    {
      "cell_type": "code",
      "execution_count": null,
      "metadata": {
        "colab": {
          "base_uri": "https://localhost:8080/"
        },
        "id": "d8fSKhvsZfFC",
        "outputId": "88c92684-5875-45f4-d38f-1921f3bef151"
      },
      "outputs": [
        {
          "name": "stdout",
          "output_type": "stream",
          "text": [
            "0\n",
            "1\n",
            "2\n",
            "3\n",
            "4\n",
            "5\n",
            "6\n",
            "7\n",
            "8\n",
            "9\n",
            "10\n"
          ]
        }
      ],
      "source": [
        "for i in range (11):\n",
        "  print(i)"
      ]
    },
    {
      "cell_type": "markdown",
      "metadata": {
        "id": "0NDIa55caEak"
      },
      "source": [
        "Explantion\n",
        "\n",
        "1. Using for loop to iterate through the range\n",
        "2. printing the result"
      ]
    },
    {
      "cell_type": "markdown",
      "metadata": {
        "id": "vJTFnFWoa5JO"
      },
      "source": [
        "2. Create a program that calculates the sum of all numbers in a list using a `for` loop."
      ]
    },
    {
      "cell_type": "code",
      "execution_count": null,
      "metadata": {
        "colab": {
          "base_uri": "https://localhost:8080/"
        },
        "id": "5V-3JO9TbU9f",
        "outputId": "da9edae0-b66b-4efd-dc5b-90167146039b"
      },
      "outputs": [
        {
          "output_type": "stream",
          "name": "stdout",
          "text": [
            "Enter number of elements : 4\n",
            "32\n",
            "24\n",
            "24\n",
            "14\n",
            "[32, 24, 24, 14]\n",
            "94\n"
          ]
        }
      ],
      "source": [
        "# creating an empty list\n",
        "lst = []\n",
        "\n",
        "# number of elements as input\n",
        "n = int(input(\"Enter number of elements : \"))\n",
        "\n",
        "# iterating till the range\n",
        "for i in range(0, n):\n",
        "    ele = int(input())\n",
        "    # adding the element\n",
        "    lst.append(ele)\n",
        "\n",
        "print(lst)\n",
        "\n",
        "x=0\n",
        "\n",
        "for i in range(len(lst)):\n",
        "  x=x+lst[i]\n",
        "\n",
        "print(x)\n"
      ]
    },
    {
      "cell_type": "markdown",
      "metadata": {
        "id": "Jcb_EfZZfPsp"
      },
      "source": [
        "Explanation\n",
        "\n",
        "1. Declaring an empty list named lst\n",
        "2. Taking the Input of no. of elements of the list\n",
        "3. Using for loop to enter the elements of list\n",
        "4. Printing the list\n",
        "5. declaring x so as to help in taking the sum\n",
        "6. Using for loop to iterate through the len of the list\n",
        "7. adding the elements and printing the result"
      ]
    },
    {
      "cell_type": "markdown",
      "metadata": {
        "id": "h1jcRgW5gacR"
      },
      "source": [
        "3. Write a program to print the characters of a string in reverse order using a `for` loop."
      ]
    },
    {
      "cell_type": "code",
      "execution_count": null,
      "metadata": {
        "id": "yeGHzjmMgfTL",
        "colab": {
          "base_uri": "https://localhost:8080/"
        },
        "outputId": "a23a735e-e421-4672-df05-7342abe4801e"
      },
      "outputs": [
        {
          "output_type": "stream",
          "name": "stdout",
          "text": [
            "Enter A String Hello World\n",
            "dlroW olleH\n"
          ]
        }
      ],
      "source": [
        "x=input(\"Enter A String \")\n",
        "\n",
        "str = \"\"\n",
        "for i in x:\n",
        "  str = i + str\n",
        "\n",
        "\n",
        "print(str)"
      ]
    },
    {
      "cell_type": "markdown",
      "metadata": {
        "id": "3JiG-TCkiydf"
      },
      "source": [
        "Explanation\n",
        "\n",
        "1. Taking Input\n",
        "2. Declaring An empty variable to store the reverse string\n",
        "3. Iterating through x\n",
        "4. Storing string in rev order\n",
        "5. Printing the result"
      ]
    },
    {
      "cell_type": "markdown",
      "metadata": {
        "id": "gQM4IlmXjF6j"
      },
      "source": [
        "4. Develop a program that finds the factorial of a given number using a `for` loop."
      ]
    },
    {
      "cell_type": "code",
      "execution_count": null,
      "metadata": {
        "id": "ktCh-tcrjIyW",
        "colab": {
          "base_uri": "https://localhost:8080/"
        },
        "outputId": "4a3b7285-44a5-4432-b8d8-5a952dce79f9"
      },
      "outputs": [
        {
          "output_type": "stream",
          "name": "stdout",
          "text": [
            "Enter an integer 24\n",
            "620448401733239439360000\n"
          ]
        }
      ],
      "source": [
        "x=int(input(\"Enter an integer \"))\n",
        "factorial=1\n",
        "for i in range(1,x+1):\n",
        "  factorial=factorial*i\n",
        "\n",
        "print(factorial)"
      ]
    },
    {
      "cell_type": "markdown",
      "metadata": {
        "id": "OPrBDttbwFnO"
      },
      "source": [
        "Explanation\n",
        "\n",
        "1. Taking Input\n",
        "2. Declaring a counter\n",
        "3. Using for loop to iterate through the numbers\n",
        "4. Printing the output"
      ]
    },
    {
      "cell_type": "markdown",
      "metadata": {
        "id": "4bomt1PaxxdO"
      },
      "source": [
        "5. Create a program to print the multiplication table of a given number using a `for` loop."
      ]
    },
    {
      "cell_type": "code",
      "execution_count": null,
      "metadata": {
        "id": "1MOvfauex3Za",
        "colab": {
          "base_uri": "https://localhost:8080/"
        },
        "outputId": "be585406-76c0-4abc-9876-edcb3e85c0c2"
      },
      "outputs": [
        {
          "output_type": "stream",
          "name": "stdout",
          "text": [
            "Enter an integer 5\n",
            "5\n",
            "10\n",
            "15\n",
            "20\n",
            "25\n",
            "30\n",
            "35\n",
            "40\n",
            "45\n",
            "50\n"
          ]
        }
      ],
      "source": [
        "x= int(input(\"Enter an integer \"))\n",
        "inc=1\n",
        "for i in range(1,11):\n",
        "  inc=x*i\n",
        "  print(inc)\n"
      ]
    },
    {
      "cell_type": "markdown",
      "metadata": {
        "id": "s4mxaW57zms-"
      },
      "source": [
        "Explanation\n",
        "\n",
        "1. Taking input\n",
        "2. Declaring a counter varibale\n",
        "3. iterating for multiplication\n",
        "4. Multiplying the number with i that is in the range of 10\n",
        "5. Printing the table."
      ]
    },
    {
      "cell_type": "markdown",
      "metadata": {
        "id": "Sc1di2WV0Ad1"
      },
      "source": [
        "6. Write a program that counts the number of even and odd numbers in a list using a `for` loop."
      ]
    },
    {
      "cell_type": "code",
      "execution_count": null,
      "metadata": {
        "id": "hxqSbQX80Bch",
        "colab": {
          "base_uri": "https://localhost:8080/"
        },
        "outputId": "6ef2531b-6975-44b4-8e34-4650d6b1ebd8"
      },
      "outputs": [
        {
          "output_type": "stream",
          "name": "stdout",
          "text": [
            "Enter number of elements : 4\n",
            "7\n",
            "2\n",
            "3\n",
            "6\n",
            "[7, 2, 3, 6]\n",
            "Even digits are  2\n",
            "Odd digits are 2\n"
          ]
        }
      ],
      "source": [
        "# creating an empty list\n",
        "lst = []\n",
        "\n",
        "# number of elements as input\n",
        "n = int(input(\"Enter number of elements : \"))\n",
        "\n",
        "# iterating till the range\n",
        "for i in range(0, n):\n",
        "    ele = int(input())\n",
        "    # adding the element\n",
        "    lst.append(ele)\n",
        "\n",
        "print(lst)\n",
        "\n",
        "even=0\n",
        "odd=0\n",
        "for i in range(len(lst)):\n",
        "  if (lst[i]%2==0):\n",
        "    even=even+1\n",
        "  else:\n",
        "    odd=odd+1\n",
        "\n",
        "print(\"Even digits are \",even)\n",
        "print('Odd digits are',odd)\n"
      ]
    },
    {
      "cell_type": "markdown",
      "metadata": {
        "id": "j_FK8oe64Y8P"
      },
      "source": [
        "Explanation\n",
        "\n",
        "\n",
        "1. Declasring an empty list named lst\n",
        "2. Taking the Input of no. of elements of the list\n",
        "3. Using for loop to enter the elements of list\n",
        "4. Printing the list\n",
        "5. declaring counters even and odd\n",
        "6. Running for loop to iterate through the list\n",
        "7. conditional statement to check for even i.e. if division by 2 returns 0 it is even\n",
        "8. Printing the result"
      ]
    },
    {
      "cell_type": "markdown",
      "metadata": {
        "id": "rEmRsMF547Rz"
      },
      "source": [
        "7. Develop a program that prints the squares of numbers from 1 to 5 using a `for` loop."
      ]
    },
    {
      "cell_type": "code",
      "execution_count": null,
      "metadata": {
        "id": "qFWNajAX5A5k",
        "colab": {
          "base_uri": "https://localhost:8080/"
        },
        "outputId": "a7f77431-b6ed-443a-ddc8-ed49cddcc27e"
      },
      "outputs": [
        {
          "output_type": "stream",
          "name": "stdout",
          "text": [
            "0\n",
            "1\n",
            "4\n",
            "9\n",
            "16\n",
            "25\n"
          ]
        }
      ],
      "source": [
        "for i in range(6):\n",
        "  i=i*i\n",
        "  print(i)"
      ]
    },
    {
      "cell_type": "markdown",
      "metadata": {
        "id": "VRhptYW65VN-"
      },
      "source": [
        "Explanation\n",
        "\n",
        "1. Running for loop in range 6\n",
        "2. squaring the number\n",
        "3. printing the result"
      ]
    },
    {
      "cell_type": "markdown",
      "metadata": {
        "id": "c3_77BCd5f_n"
      },
      "source": [
        "8. Create a program to find the length of a string without using the `len()` function."
      ]
    },
    {
      "cell_type": "code",
      "execution_count": null,
      "metadata": {
        "id": "Z8h7rmHK5n2K",
        "colab": {
          "base_uri": "https://localhost:8080/"
        },
        "outputId": "0d78d6a0-403e-4f5e-91a0-aade5048ec5c"
      },
      "outputs": [
        {
          "output_type": "stream",
          "name": "stdout",
          "text": [
            "Enter A String Rohan\n",
            "The length if the string is  5\n"
          ]
        }
      ],
      "source": [
        "x= input(\"Enter A String \")\n",
        "count=0\n",
        "for i in x:\n",
        "  count+=1\n",
        "\n",
        "print(\"The length if the string is \",count)\n",
        "\n"
      ]
    },
    {
      "cell_type": "markdown",
      "metadata": {
        "id": "QDOUgee39QO-"
      },
      "source": [
        "Explanation\n",
        "\n",
        "1. Taking Input\n",
        "2. Declaring counter to count the string\n",
        "3. Iterating through the string\n",
        "4. Raising counter value by 1"
      ]
    },
    {
      "cell_type": "markdown",
      "metadata": {
        "id": "fTcV_BSX9kyG"
      },
      "source": [
        "9. Write a program that calculates the average of a list of numbers using a `for` loop."
      ]
    },
    {
      "cell_type": "code",
      "execution_count": null,
      "metadata": {
        "id": "jwkUsPdK9n38",
        "colab": {
          "base_uri": "https://localhost:8080/"
        },
        "outputId": "6376b70a-c4f2-4202-b9ab-f318c20ee6d0"
      },
      "outputs": [
        {
          "output_type": "stream",
          "name": "stdout",
          "text": [
            "Enter number of elements : 4\n",
            "5\n",
            "6\n",
            "7\n",
            "8\n",
            "[5, 6, 7, 8]\n",
            "Avg is  6.5\n"
          ]
        }
      ],
      "source": [
        "# creating an empty list\n",
        "lst = []\n",
        "\n",
        "# number of elements as input\n",
        "n = int(input(\"Enter number of elements : \"))\n",
        "\n",
        "# iterating till the range\n",
        "for i in range(0, n):\n",
        "    ele = int(input())\n",
        "    # adding the element\n",
        "    lst.append(ele)\n",
        "\n",
        "print(lst)\n",
        "\n",
        "count=0\n",
        "avg=0\n",
        "for i in range(len(lst)):\n",
        "  count=count+lst[i]\n",
        "  avg=count/n\n",
        "\n",
        "print(\"Avg is \",avg)"
      ]
    },
    {
      "cell_type": "markdown",
      "metadata": {
        "id": "4yz172BC-M0H"
      },
      "source": [
        "1. Declasring an empty list named lst\n",
        "2. Taking the Input of no. of elements of the list\n",
        "3. Using for loop to enter the elements of list\n",
        "4. Printing the list\n",
        "5. declaring count and avg variable\n",
        "6. Iterating through the list\n",
        "7. Adding the values using count variable\n",
        "8. Calculating avg by count/n\n",
        "9. Printing the result"
      ]
    },
    {
      "cell_type": "markdown",
      "metadata": {
        "id": "yRl3gDMP-hda"
      },
      "source": [
        "10. Develop a program that prints the first `n` Fibonacci numbers using a `for` loop."
      ]
    },
    {
      "cell_type": "code",
      "execution_count": null,
      "metadata": {
        "id": "JMswxMKC-kor",
        "colab": {
          "base_uri": "https://localhost:8080/"
        },
        "outputId": "45cdffba-2c78-4f35-b296-a2cdf1ced3c7"
      },
      "outputs": [
        {
          "output_type": "stream",
          "name": "stdout",
          "text": [
            "Enter Number 5\n",
            "0\n",
            "1\n",
            "1\n",
            "2\n"
          ]
        }
      ],
      "source": [
        "x=int(input(\"Enter Number \"))\n",
        "a=0\n",
        "b=1\n",
        "if(x==1):\n",
        "  print(a)\n",
        "else:\n",
        "  print(a)\n",
        "  print(b)\n",
        "  for i in range(2,n):\n",
        "    c=a+b\n",
        "    a=b\n",
        "    b=c\n",
        "    print(c)"
      ]
    },
    {
      "cell_type": "markdown",
      "metadata": {
        "id": "zHJ8xOH7_y8i"
      },
      "source": [
        "Explanation\n",
        "\n",
        "1. Taking input\n",
        "2. Declaring a and b\n",
        "3. if statement is used as fibonacci of 1 is 0\n",
        "4. In the else statement for loop is run to iterate through the range\n",
        "5. fibonacci basic logic is applied of adding the no.s and then interchanging the numbers.\n",
        "6. Printing the result"
      ]
    },
    {
      "cell_type": "markdown",
      "metadata": {
        "id": "d5MUwBQUAnI_"
      },
      "source": [
        "Intermediate Level"
      ]
    },
    {
      "cell_type": "markdown",
      "metadata": {
        "id": "1qENHN0vAs2k"
      },
      "source": [
        "11. Write a program to check if a given list contains any duplicates using a `for` loop."
      ]
    },
    {
      "cell_type": "code",
      "execution_count": 11,
      "metadata": {
        "id": "Fh9cFq2fOY8Q",
        "colab": {
          "base_uri": "https://localhost:8080/"
        },
        "outputId": "99434e6e-b60d-4862-97cf-7aa39ce17daa"
      },
      "outputs": [
        {
          "output_type": "stream",
          "name": "stdout",
          "text": [
            " contains duplicate.\n"
          ]
        }
      ],
      "source": [
        "\n",
        "my_list = [1, 2, 3, 4, 5, 2]\n",
        "\n",
        "\n",
        "has_duplicates = False\n",
        "\n",
        "\n",
        "for i in range(len(my_list)):\n",
        "\n",
        "    for j in range(i + 1, len(my_list)):\n",
        "\n",
        "\n",
        "        if my_list[i] == my_list[j]:\n",
        "            has_duplicates = True\n",
        "            break\n",
        "\n",
        "if has_duplicates:\n",
        "    print(\" contains duplicate.\")\n",
        "else:\n",
        "    print(\" does not contain duplicate.\")\n",
        "\n"
      ]
    },
    {
      "cell_type": "markdown",
      "metadata": {
        "id": "f6tqApTodc7t"
      },
      "source": [
        "Explanation\n",
        "\n",
        "1. Declaring a list\n",
        "2. Iterating using for loop\n",
        "3. Next loop to check for the remaining elements\n",
        "4. Checking if it contains duplictaes\n",
        "5. Printing the result"
      ]
    },
    {
      "cell_type": "markdown",
      "metadata": {
        "id": "UplVKg76dd63"
      },
      "source": [
        "12. Create a program that prints the prime numbers in a given range using a `for` loop."
      ]
    },
    {
      "cell_type": "code",
      "execution_count": null,
      "metadata": {
        "id": "qYddTqocdjZE",
        "colab": {
          "base_uri": "https://localhost:8080/"
        },
        "outputId": "15bbceb5-67bb-43db-dd38-ce19dd8ae899"
      },
      "outputs": [
        {
          "output_type": "stream",
          "name": "stdout",
          "text": [
            "Enter An Integer23\n",
            "Prime\n"
          ]
        }
      ],
      "source": [
        "x= int(input(\"Enter An Integer\"))\n",
        "count=0\n",
        "if(x==1):\n",
        "  print(\"prime\")\n",
        "else:\n",
        "  for i in range(1,x+1):\n",
        "    if(x%i==0):\n",
        "      count=count+1\n",
        "  if(count==2):\n",
        "    print(\"Prime\")\n",
        "  else:\n",
        "    print(\"Not Prime\")"
      ]
    },
    {
      "cell_type": "markdown",
      "metadata": {
        "id": "tYYEApKap1L_"
      },
      "source": [
        "Explanation\n",
        "\n",
        "1. Take Input\n",
        "2. Running for loop to check for the factors\n",
        "3. If there is a factor the counter is raised by 1\n",
        "4. Since prime number have two factors if count value is 2 it is a prime number.\n",
        "5. Printing the result"
      ]
    },
    {
      "cell_type": "markdown",
      "source": [
        "13. Develop a program that counts the number of vowels in a string using a `for` loop."
      ],
      "metadata": {
        "id": "e8ZeIr9f1hC2"
      }
    },
    {
      "cell_type": "code",
      "execution_count": null,
      "metadata": {
        "id": "Ai8pszKfrS1b",
        "colab": {
          "base_uri": "https://localhost:8080/"
        },
        "outputId": "293f0593-7514-4ad9-9986-50e2726132e2"
      },
      "outputs": [
        {
          "output_type": "stream",
          "name": "stdout",
          "text": [
            "Enter A String Hello World\n",
            "Number of Vowels is  3\n"
          ]
        }
      ],
      "source": [
        "x=input(\"Enter A String \")\n",
        "count=0\n",
        "for i in x:\n",
        "  if (i=='a'or i=='e'or i=='i'or i=='o'or i=='u'):\n",
        "    count=count+1\n",
        "\n",
        "print(\"Number of Vowels is \",count)"
      ]
    },
    {
      "cell_type": "markdown",
      "metadata": {
        "id": "KTTjV-CBuuNx"
      },
      "source": [
        "Explanation\n",
        "\n",
        "1. Taking Input\n",
        "2. Declaring Count\n",
        "3. Running for loop to iterate through the string\n",
        "4. If statement to check for vowels\n",
        "5. Raising counter value by 1\n",
        "6. Printing the result"
      ]
    },
    {
      "cell_type": "markdown",
      "metadata": {
        "id": "roubQumou-QK"
      },
      "source": [
        "14. Write a program to find the maximum element in a 2D list using a nested `for` loop."
      ]
    },
    {
      "cell_type": "code",
      "execution_count": 12,
      "metadata": {
        "id": "LCWzKf9zvDTm",
        "colab": {
          "base_uri": "https://localhost:8080/"
        },
        "outputId": "4a9136a2-6943-4372-e9be-889c1c0007b0"
      },
      "outputs": [
        {
          "output_type": "stream",
          "name": "stdout",
          "text": [
            "Maximum element: 9\n"
          ]
        }
      ],
      "source": [
        "\n",
        "matrix = [\n",
        "    [1, 2, 3],\n",
        "    [4, 5, 6],\n",
        "    [7, 8, 9]\n",
        "]\n",
        "\n",
        "\n",
        "max_element = matrix[0][0]\n",
        "\n",
        "\n",
        "for row in matrix:\n",
        "\n",
        "    for element in row:\n",
        "\n",
        "        if element > max_element:\n",
        "            max_element = element\n",
        "\n",
        "\n",
        "print(\"Maximum element:\", max_element)"
      ]
    },
    {
      "cell_type": "markdown",
      "metadata": {
        "id": "BdzbPE8j6fyT"
      },
      "source": [
        "Explanation\n",
        "\n",
        "1. Declaring Sample list\n",
        "2. Initialising max element\n",
        "3. Main list is used to iterate through main list\n",
        "4. If a greater number is found it is stored\n",
        "5. Printing the result"
      ]
    },
    {
      "cell_type": "markdown",
      "metadata": {
        "id": "39iXsJuk6f9v"
      },
      "source": [
        "15. Create a program that removes all occurrences of a specific element from a list using a `for` loop."
      ]
    },
    {
      "cell_type": "code",
      "execution_count": null,
      "metadata": {
        "id": "WgaiYgVs6pcl",
        "colab": {
          "base_uri": "https://localhost:8080/"
        },
        "outputId": "004ceee0-67a6-46ca-9305-b3c65017c29e"
      },
      "outputs": [
        {
          "output_type": "stream",
          "name": "stdout",
          "text": [
            "[7, 10, 25, 36]\n"
          ]
        }
      ],
      "source": [
        "l = [7,10,21,25,36,21]\n",
        "a = 21\n",
        "\n",
        "# Remove the item for all its occurrences\n",
        "for item in l:\n",
        "\tif(item==a):\n",
        "\t\tl.remove(a)\n",
        "\n",
        "print(l)"
      ]
    },
    {
      "cell_type": "markdown",
      "metadata": {
        "id": "-4RZLa-477Pa"
      },
      "source": [
        "Explanation\n",
        "\n",
        "1. Declaring list\n",
        "2. Specifying the item to be removed\n",
        "3. Iterating through the list\n",
        "4. If element found delete the item."
      ]
    },
    {
      "cell_type": "markdown",
      "metadata": {
        "id": "0c_f_AMO8U85"
      },
      "source": [
        "16. Develop a program that generates a multiplication table for numbers from 1 to 5 using a nested `for` loop."
      ]
    },
    {
      "cell_type": "code",
      "execution_count": null,
      "metadata": {
        "id": "-wnRTP3I8ZrC",
        "colab": {
          "base_uri": "https://localhost:8080/"
        },
        "outputId": "8bbaf25b-33cc-4bd9-f02e-67e823826e81"
      },
      "outputs": [
        {
          "output_type": "stream",
          "name": "stdout",
          "text": [
            "1 x 1 = 1 \n",
            "\n",
            "1 x 2 = 2 \n",
            "\n",
            "1 x 3 = 3 \n",
            "\n",
            "1 x 4 = 4 \n",
            "\n",
            "1 x 5 = 5 \n",
            "\n",
            "1 x 6 = 6 \n",
            "\n",
            "1 x 7 = 7 \n",
            "\n",
            "1 x 8 = 8 \n",
            "\n",
            "1 x 9 = 9 \n",
            "\n",
            "1 x 10 = 10 \n",
            "\n",
            "\n",
            "\n",
            "2 x 1 = 2 \n",
            "\n",
            "2 x 2 = 4 \n",
            "\n",
            "2 x 3 = 6 \n",
            "\n",
            "2 x 4 = 8 \n",
            "\n",
            "2 x 5 = 10 \n",
            "\n",
            "2 x 6 = 12 \n",
            "\n",
            "2 x 7 = 14 \n",
            "\n",
            "2 x 8 = 16 \n",
            "\n",
            "2 x 9 = 18 \n",
            "\n",
            "2 x 10 = 20 \n",
            "\n",
            "\n",
            "\n",
            "3 x 1 = 3 \n",
            "\n",
            "3 x 2 = 6 \n",
            "\n",
            "3 x 3 = 9 \n",
            "\n",
            "3 x 4 = 12 \n",
            "\n",
            "3 x 5 = 15 \n",
            "\n",
            "3 x 6 = 18 \n",
            "\n",
            "3 x 7 = 21 \n",
            "\n",
            "3 x 8 = 24 \n",
            "\n",
            "3 x 9 = 27 \n",
            "\n",
            "3 x 10 = 30 \n",
            "\n",
            "\n",
            "\n",
            "4 x 1 = 4 \n",
            "\n",
            "4 x 2 = 8 \n",
            "\n",
            "4 x 3 = 12 \n",
            "\n",
            "4 x 4 = 16 \n",
            "\n",
            "4 x 5 = 20 \n",
            "\n",
            "4 x 6 = 24 \n",
            "\n",
            "4 x 7 = 28 \n",
            "\n",
            "4 x 8 = 32 \n",
            "\n",
            "4 x 9 = 36 \n",
            "\n",
            "4 x 10 = 40 \n",
            "\n",
            "\n",
            "\n",
            "5 x 1 = 5 \n",
            "\n",
            "5 x 2 = 10 \n",
            "\n",
            "5 x 3 = 15 \n",
            "\n",
            "5 x 4 = 20 \n",
            "\n",
            "5 x 5 = 25 \n",
            "\n",
            "5 x 6 = 30 \n",
            "\n",
            "5 x 7 = 35 \n",
            "\n",
            "5 x 8 = 40 \n",
            "\n",
            "5 x 9 = 45 \n",
            "\n",
            "5 x 10 = 50 \n",
            "\n",
            "\n",
            "\n"
          ]
        }
      ],
      "source": [
        "a=5\n",
        "\n",
        "for i in range(1,a+1):\n",
        "  for j in range(1,11):  #to iterate through the multiples\n",
        "    print(i, \"x\", j, \"=\", i * j, \"\\n\")\n",
        "\n",
        "  print(\"\\n\")\n"
      ]
    },
    {
      "cell_type": "markdown",
      "metadata": {
        "id": "k8h04TnqDBf0"
      },
      "source": [
        "Explanation\n",
        "\n",
        "1. Declaring max value upto which table is required\n",
        "2. First for to iterate in the range for the table\n",
        "3. Second for is used to iterate through the multiples of the table\n",
        "4. Printing the result"
      ]
    },
    {
      "cell_type": "markdown",
      "metadata": {
        "id": "TaVwtwr0EFtW"
      },
      "source": [
        "17. Write a program that converts a list of Fahrenheit temperatures to Celsius using a `for` loop."
      ]
    },
    {
      "cell_type": "code",
      "execution_count": null,
      "metadata": {
        "id": "11gL7WX5EMkR",
        "colab": {
          "base_uri": "https://localhost:8080/"
        },
        "outputId": "73e9913d-b347-4a6d-b4b1-e1e720de5daf"
      },
      "outputs": [
        {
          "output_type": "stream",
          "name": "stdout",
          "text": [
            "-1.1111111111111112\n",
            "4.444444444444445\n",
            "10.0\n",
            "15.555555555555555\n",
            "21.11111111111111\n"
          ]
        }
      ],
      "source": [
        "l=[30,40,50,60,70]\n",
        "for i in range(len(l)):\n",
        "  c=(l[i]-32)*5/9\n",
        "  print(c)"
      ]
    },
    {
      "cell_type": "markdown",
      "metadata": {
        "id": "nO0kjFuNFXT1"
      },
      "source": [
        "Explanation\n",
        "\n",
        "1.   Declaring a list\n",
        "2.   Iterating through the list using for loop\n",
        "3.   conversion formula\n",
        "4.   printing the result\n",
        "\n"
      ]
    },
    {
      "cell_type": "markdown",
      "metadata": {
        "id": "vW9balwUGpmj"
      },
      "source": [
        "18. Create a program to print the common elements from two lists using a `for` loop."
      ]
    },
    {
      "cell_type": "code",
      "execution_count": null,
      "metadata": {
        "id": "bFIhl4FFGxx_",
        "colab": {
          "base_uri": "https://localhost:8080/"
        },
        "outputId": "64c0c768-b1db-4831-af68-e140c7b9dc42"
      },
      "outputs": [
        {
          "output_type": "stream",
          "name": "stdout",
          "text": [
            "7\n",
            "8\n"
          ]
        }
      ],
      "source": [
        "l1=[3,4,5,6,7,8]\n",
        "l2=[7,8,9,10,11]\n",
        "\n",
        "for i in range(len(l1)):\n",
        "  for j in range(len(l2)):\n",
        "    if (l1[i]==l2[j]):\n",
        "      print(l1[i])\n"
      ]
    },
    {
      "cell_type": "markdown",
      "metadata": {
        "id": "N6KSgnP6H6zb"
      },
      "source": [
        "Explanation\n",
        "\n",
        "1. Declaring both the list\n",
        "2. Iterating through the range of l1 and l2\n",
        "3. Checking for common values\n",
        "4. printing the common values"
      ]
    },
    {
      "cell_type": "markdown",
      "metadata": {
        "id": "iTEabHuuIQpC"
      },
      "source": [
        "19. Develop a program that prints the pattern of right-angled triangles using a `for` loop. Use ‘*’ to draw the\n",
        "pattern"
      ]
    },
    {
      "cell_type": "code",
      "execution_count": null,
      "metadata": {
        "id": "3BwQevX5IbcF",
        "colab": {
          "base_uri": "https://localhost:8080/"
        },
        "outputId": "c946d62f-1c65-42f6-e5b4-05b6cef7f84b"
      },
      "outputs": [
        {
          "output_type": "stream",
          "name": "stdout",
          "text": [
            "* \n",
            "* * \n",
            "* * * \n",
            "* * * * \n",
            "* * * * * \n"
          ]
        }
      ],
      "source": [
        "for i in range(1,6):\n",
        "  for j in range(1,i+1):\n",
        "    print(\"*\",end=' ')\n",
        "\n",
        "  print()"
      ]
    },
    {
      "cell_type": "markdown",
      "metadata": {
        "id": "kyVHl0fDKCs0"
      },
      "source": [
        "Explanation\n",
        "\n",
        "1. Iterating through the rows and columns\n",
        "2. Printing the star\n",
        "3. Next print is to transfer the columns\n"
      ]
    },
    {
      "cell_type": "markdown",
      "metadata": {
        "id": "KUz0ss_7KeaM"
      },
      "source": [
        "20. Write a program to find the greatest common divisor (GCD) of two numbers using a `for` loop."
      ]
    },
    {
      "cell_type": "code",
      "execution_count": null,
      "metadata": {
        "id": "tuyHhPJ7Khc0",
        "colab": {
          "base_uri": "https://localhost:8080/"
        },
        "outputId": "2024258d-b03d-4ba5-e6ce-3e14d841a172"
      },
      "outputs": [
        {
          "output_type": "stream",
          "name": "stdout",
          "text": [
            "Enter Integer 32\n",
            "Enter Integer 40\n",
            "GCD of 32 and 40 is 8\n"
          ]
        }
      ],
      "source": [
        "num1 = int(input(\"Enter Integer \"))\n",
        "num2 = int(input(\"Enter Integer \"))\n",
        "gcd = 1\n",
        "\n",
        "for i in range(1, min(num1, num2)):\n",
        "    if num1 % i == 0 and num2 % i == 0:\n",
        "        gcd = i\n",
        "print(\"GCD of\", num1, \"and\", num2, \"is\", gcd)"
      ]
    },
    {
      "cell_type": "markdown",
      "metadata": {
        "id": "6wpD90jkWu8l"
      },
      "source": [
        "Explanation\n",
        "\n",
        "1. Taking Input\n",
        "2. Giving gcd a value\n",
        "3. Using for loop to check for factors\n",
        "4. Giving the condition\n",
        "5. Printing the result"
      ]
    },
    {
      "cell_type": "markdown",
      "metadata": {
        "id": "Kbquumw1XP2H"
      },
      "source": [
        "Advanced Level"
      ]
    },
    {
      "cell_type": "markdown",
      "metadata": {
        "id": "Jvfx7MpmXX9B"
      },
      "source": [
        "21. Create a program that calculates the sum of the digits of numbers in a list using a list comprehension."
      ]
    },
    {
      "cell_type": "code",
      "source": [
        "\n",
        "numbers = [12, 32, 45, 67]\n",
        "\n",
        "\n",
        "digit_sums = [sum(int(digit) for digit in str(num)) for num in numbers]\n",
        "\n",
        "print(\"Sum of digits:\", digit_sums)"
      ],
      "metadata": {
        "colab": {
          "base_uri": "https://localhost:8080/"
        },
        "id": "wRRxJVnW7kKr",
        "outputId": "67e03127-ba43-4f12-bfe1-83b80bfd290a"
      },
      "execution_count": 7,
      "outputs": [
        {
          "output_type": "stream",
          "name": "stdout",
          "text": [
            "Sum of digits: [3, 5, 9, 13]\n"
          ]
        }
      ]
    },
    {
      "cell_type": "markdown",
      "metadata": {
        "id": "_oS1PPiHplRU"
      },
      "source": [
        "1. Initialising list\n",
        "2. Printing the first list\n",
        "3. Sum is calculated using sum() and list comprehension\n",
        "4. Printing the result"
      ]
    },
    {
      "cell_type": "markdown",
      "metadata": {
        "id": "bB6sOGgQp8tO"
      },
      "source": [
        "22. Write a program to find the prime factors of a given number using a `for` loop and list comprehension."
      ]
    },
    {
      "cell_type": "code",
      "execution_count": null,
      "metadata": {
        "id": "L-satYXyqA4W",
        "colab": {
          "base_uri": "https://localhost:8080/"
        },
        "outputId": "a080e549-7f09-48fb-c2b3-5fcddb2dea82"
      },
      "outputs": [
        {
          "output_type": "stream",
          "name": "stdout",
          "text": [
            "Prime factors of 85 are: [5, 17]\n"
          ]
        }
      ],
      "source": [
        "\n",
        "num = 85\n",
        "\n",
        "\n",
        "def is_prime(x):\n",
        "    if x <= 1:\n",
        "        return False\n",
        "    for i in range(2, int(x**0.5) + 1):\n",
        "        if x % i == 0:\n",
        "            return False\n",
        "    return True\n",
        "\n",
        "prime_factors = [factor for factor in range(2, num + 1) if num % factor == 0 and is_prime(factor)]\n",
        "\n",
        "print(\"Prime factors of\", num, \"are:\", prime_factors)"
      ]
    },
    {
      "cell_type": "markdown",
      "metadata": {
        "id": "F61vnihEcGAV"
      },
      "source": [
        "Explanation\n",
        "\n",
        "1. Define the value of whic prime factors are to be find\n",
        "2. Function to check if a number is prime.\n",
        "3. Using for loop to iterate through the values\n",
        "4. Using list comprehension to find the factors.\n",
        "5. Printing the result"
      ]
    },
    {
      "cell_type": "markdown",
      "metadata": {
        "id": "m4wLc1O2cnsx"
      },
      "source": [
        "23. Develop a program that extracts unique elements from a list and stores them in a new list using a list\n",
        "comprehension."
      ]
    },
    {
      "cell_type": "code",
      "execution_count": null,
      "metadata": {
        "id": "PwjxitvOcrGq",
        "colab": {
          "base_uri": "https://localhost:8080/"
        },
        "outputId": "ab719001-4aae-44f2-a7b5-c367381cd2d6"
      },
      "outputs": [
        {
          "output_type": "stream",
          "name": "stdout",
          "text": [
            "Unique elements  [32, 2, 67, 5, 84]\n"
          ]
        }
      ],
      "source": [
        "\n",
        "l = [32, 67, 67,84, 5,2,2]\n",
        "\n",
        "unique_elements = list(set(l))\n",
        "\n",
        "print(\"Unique elements \", unique_elements)"
      ]
    },
    {
      "cell_type": "markdown",
      "metadata": {
        "id": "j77YxSWRc64S"
      },
      "source": [
        "Explanation\n",
        "\n",
        "1. Creating sample list\n",
        "2. Using list comprehension to extract unique elements\n",
        "3. Printing the result"
      ]
    },
    {
      "cell_type": "markdown",
      "metadata": {
        "id": "sApZTe4OdvuP"
      },
      "source": [
        "24. Create a program that generates a list of all palindromic numbers up to a specified limit using a list\n",
        "comprehension."
      ]
    },
    {
      "cell_type": "code",
      "execution_count": 8,
      "metadata": {
        "id": "WTUXZ2Piek23",
        "colab": {
          "base_uri": "https://localhost:8080/"
        },
        "outputId": "293d68ad-1634-4a2e-f536-7fa46af59060"
      },
      "outputs": [
        {
          "output_type": "stream",
          "name": "stdout",
          "text": [
            "Palindromic numbers up to 150 are: [1, 2, 3, 4, 5, 6, 7, 8, 9, 11, 22, 33, 44, 55, 66, 77, 88, 99, 101, 111, 121, 131, 141]\n"
          ]
        }
      ],
      "source": [
        "\n",
        "x = 150\n",
        "\n",
        "\n",
        "palindromic_numbers = [num for num in range(1, x + 1) if str(num) == str(num)[::-1]]\n",
        "\n",
        "print(\"Palindromic numbers up to\", x, \"are:\", palindromic_numbers)"
      ]
    },
    {
      "cell_type": "markdown",
      "metadata": {
        "id": "1lRPacyRfDCT"
      },
      "source": [
        "Explanation\n",
        "\n",
        "1. Taking the limit upto which the numbers should be printed\n",
        "2. Using list comprehension to generate palindromic numbers.\n",
        "3. Printing the numbers"
      ]
    },
    {
      "cell_type": "markdown",
      "metadata": {
        "id": "dbd1O_S6fUeu"
      },
      "source": [
        "25. Write a program to flatten a nested list using list comprehension."
      ]
    },
    {
      "cell_type": "code",
      "execution_count": null,
      "metadata": {
        "id": "w0cwPEbFfZoe",
        "colab": {
          "base_uri": "https://localhost:8080/"
        },
        "outputId": "4c507555-0f08-4e17-80f5-ea5aadd1188f"
      },
      "outputs": [
        {
          "output_type": "stream",
          "name": "stdout",
          "text": [
            "Flattened list: [1, 2, 3, 4, 5, 6, 7, 8]\n"
          ]
        }
      ],
      "source": [
        "\n",
        "samplelist = [[1, 2, 3], [4, 5], [6, 7, 8]]\n",
        "\n",
        "\n",
        "flattenedlist = [element for sublist in samplelist for element in sublist]\n",
        "\n",
        "print(\"Flattened list:\", flattenedlist)"
      ]
    },
    {
      "cell_type": "markdown",
      "metadata": {
        "id": "eYODNM6VfstT"
      },
      "source": [
        "Explanation\n",
        "\n",
        "1. Declaring a sample list\n",
        "2. using list comprehension to flatten the sample list\n",
        "3. Printing the result"
      ]
    },
    {
      "cell_type": "markdown",
      "metadata": {
        "id": "7uN0jgXUf5nx"
      },
      "source": [
        "26. Develop a program that computes the sum of even and odd numbers in a list separately using list\n",
        "comprehension."
      ]
    },
    {
      "cell_type": "code",
      "execution_count": null,
      "metadata": {
        "id": "-wk9dsVvf8UC",
        "colab": {
          "base_uri": "https://localhost:8080/"
        },
        "outputId": "c794c235-6a66-4b67-d5ea-2e8d118baf75"
      },
      "outputs": [
        {
          "output_type": "stream",
          "name": "stdout",
          "text": [
            "Sum of even numbers: 20\n",
            "Sum of odd numbers: 25\n"
          ]
        }
      ],
      "source": [
        "\n",
        "l = [1, 2, 3, 4, 5, 6, 7, 8, 9]\n",
        "\n",
        "\n",
        "evensum = sum(num for num in l if num % 2 == 0)\n",
        "oddsum = sum(num for num in l if num % 2 != 0)\n",
        "\n",
        "print(\"Sum of even numbers:\", evensum)\n",
        "print(\"Sum of odd numbers:\", oddsum)"
      ]
    },
    {
      "cell_type": "markdown",
      "metadata": {
        "id": "2juLBTqCg54D"
      },
      "source": [
        "Explanation\n",
        "\n",
        "1. declaring a list\n",
        "2. Using list comprehension to compute sum of even and odd numbers in the list\n",
        "3. Printing the result"
      ]
    },
    {
      "cell_type": "markdown",
      "metadata": {
        "id": "GNF6jexIhGEy"
      },
      "source": [
        "27. Create a program that generates a list of squares of odd numbers between 1 and 10 using list\n",
        "comprehension."
      ]
    },
    {
      "cell_type": "code",
      "execution_count": null,
      "metadata": {
        "id": "x-xEnkgchJr2",
        "colab": {
          "base_uri": "https://localhost:8080/"
        },
        "outputId": "5bb0d303-df0a-4635-c554-d13921494900"
      },
      "outputs": [
        {
          "output_type": "stream",
          "name": "stdout",
          "text": [
            "Squares of odd numbers: [1, 9, 25, 49, 81]\n"
          ]
        }
      ],
      "source": [
        "square = [num ** 2 for num in range(1, 11) if num % 2 != 0]\n",
        "\n",
        "print(\"Squares of odd numbers:\", square)"
      ]
    },
    {
      "cell_type": "markdown",
      "metadata": {
        "id": "gHdEuogshhYr"
      },
      "source": [
        "Explanation\n",
        "\n",
        "1. Defining the list comprehension in range 1 to 11\n",
        "2. printing the result"
      ]
    },
    {
      "cell_type": "markdown",
      "metadata": {
        "id": "G9cfb-Nshr1N"
      },
      "source": [
        "28. Write a program that combines two lists into a dictionary using list comprehension."
      ]
    },
    {
      "cell_type": "code",
      "execution_count": null,
      "metadata": {
        "id": "XQWK1-sehvGY",
        "colab": {
          "base_uri": "https://localhost:8080/"
        },
        "outputId": "72fedca2-9a4d-4021-f37b-6acf8ee3f91c"
      },
      "outputs": [
        {
          "output_type": "stream",
          "name": "stdout",
          "text": [
            "Dictionary: {'a': 1, 'b': 2, 'c': 3}\n"
          ]
        }
      ],
      "source": [
        "\n",
        "key = ['a', 'b', 'c']\n",
        "value = [1, 2, 3]\n",
        "\n",
        "\n",
        "dict1 = {k: v for k, v in zip(key, value)}\n",
        "\n",
        "print(\"Dictionary:\", dict1)"
      ]
    },
    {
      "cell_type": "markdown",
      "metadata": {
        "id": "V6mdC4M5h-uK"
      },
      "source": [
        "Explanation\n",
        "\n",
        "1. Declaring a sample list\n",
        "2. Using list comprehension to create a dictionary\n",
        "3. Printing the result"
      ]
    },
    {
      "cell_type": "markdown",
      "metadata": {
        "id": "pnldJeVCiJXP"
      },
      "source": [
        "29. Develop a program that extracts the vowels from a string and stores them in a list using list comprehension."
      ]
    },
    {
      "cell_type": "code",
      "execution_count": null,
      "metadata": {
        "id": "RzB7c9bciUIP",
        "colab": {
          "base_uri": "https://localhost:8080/"
        },
        "outputId": "2e7dabcb-3918-460f-b719-f0394785afc4"
      },
      "outputs": [
        {
          "output_type": "stream",
          "name": "stdout",
          "text": [
            "Vowels  ['e', 'o', 'o']\n"
          ]
        }
      ],
      "source": [
        "\n",
        "a = \"Hello, World!\"\n",
        "\n",
        "\n",
        "vowels = [char for char in a if char.lower() in 'aeiou']\n",
        "\n",
        "print(\"Vowels \", vowels)"
      ]
    },
    {
      "cell_type": "markdown",
      "metadata": {
        "id": "jHoJhXlUiZjJ"
      },
      "source": [
        "Explanation\n",
        "\n",
        "1. Creating a sample string to check for vowels\n",
        "2. Using List comprehension\n",
        "3. printing the result"
      ]
    },
    {
      "cell_type": "markdown",
      "metadata": {
        "id": "NjfbBmcGi5jm"
      },
      "source": [
        "30. Create a program that removes all non-numeric characters from a list of strings using list comprehension."
      ]
    },
    {
      "cell_type": "code",
      "execution_count": null,
      "metadata": {
        "id": "i0BAs-qsi6SF",
        "colab": {
          "base_uri": "https://localhost:8080/"
        },
        "outputId": "52dff9ae-105f-408f-bf28-60bd992bab56"
      },
      "outputs": [
        {
          "output_type": "stream",
          "name": "stdout",
          "text": [
            "Numeric strings: [456, 123]\n"
          ]
        }
      ],
      "source": [
        "\n",
        "a = [\"rohan456\", \"yuvraj123\"]\n",
        "\n",
        "\n",
        "numeric_values = [int(''.join(char for char in string if char.isnumeric())) for string in a]\n",
        "\n",
        "print(\"Numeric strings:\", numeric_values)"
      ]
    },
    {
      "cell_type": "markdown",
      "metadata": {
        "id": "2YuO4IH-jbYt"
      },
      "source": [
        "Explanation\n",
        "\n",
        "1. Declaring a list\n",
        "2. Using list to remove non numeric characters\n",
        "3. Printing the result"
      ]
    },
    {
      "cell_type": "markdown",
      "metadata": {
        "id": "_2kM4DsRjzKw"
      },
      "source": [
        "Challenge Level"
      ]
    },
    {
      "cell_type": "markdown",
      "metadata": {
        "id": "CoCmc-Esj503"
      },
      "source": [
        "31. Write a program to generate a list of prime numbers using the Sieve of Eratosthenes algorithm and list\n",
        "comprehension."
      ]
    },
    {
      "cell_type": "code",
      "execution_count": null,
      "metadata": {
        "id": "5pLbs77Nj73m",
        "colab": {
          "base_uri": "https://localhost:8080/"
        },
        "outputId": "41a0a0ee-c7cc-4600-8742-3d9a1a917388"
      },
      "outputs": [
        {
          "output_type": "stream",
          "name": "stdout",
          "text": [
            "ENter limit70\n",
            "Prime numbers up to 70 are: [2, 3, 5, 7, 11, 13, 17, 19, 23, 29, 31, 37, 41, 43, 47, 53, 59, 61, 67]\n"
          ]
        }
      ],
      "source": [
        "\n",
        "x=int(input(\"ENter limit\"))\n",
        "\n",
        "\n",
        "is_prime = [True] * (x + 1)\n",
        "is_prime[0] = is_prime[1] = False\n",
        "\n",
        "\n",
        "for num in range(2, int(x**0.5) + 1):\n",
        "    if is_prime[num]:\n",
        "        for multiple in range(num * num, x + 1, num):\n",
        "            is_prime[multiple] = False\n",
        "\n",
        "\n",
        "prime_numbers = [num for num in range(2, x + 1) if is_prime[num]]\n",
        "\n",
        "print(\"Prime numbers up to\", x, \"are:\", prime_numbers)"
      ]
    },
    {
      "cell_type": "markdown",
      "source": [
        "Explanation\n",
        "\n",
        "1. Enter Limit for prime numbers\n",
        "2. Create a boolean list to mark prime numbers\n",
        "3. Sieve of Eratosthenes algorithm\n",
        "4. List Comprehension to get the numbers\n",
        "5. Print the numbers"
      ],
      "metadata": {
        "id": "g1GhTsJr8NDX"
      }
    },
    {
      "cell_type": "markdown",
      "source": [
        "32. Create a program that generates a list of all Pythagorean triplets up to a specified limit using list\n",
        "comprehension."
      ],
      "metadata": {
        "id": "ymXOvT4s8i1Y"
      }
    },
    {
      "cell_type": "code",
      "source": [
        "\n",
        "x= int(input(\"Enter Limit\"))\n",
        "\n",
        "\n",
        "pythagorean_triplets = [(a, b, c) for a in range(1, x + 1) for b in range(a, x + 1) for c in range(b, x + 1) if a**2 + b**2 == c**2]\n",
        "\n",
        "print(\"Pythagorean triplets up to\", x, \"are:\", pythagorean_triplets)"
      ],
      "metadata": {
        "colab": {
          "base_uri": "https://localhost:8080/"
        },
        "id": "I7VlefFS8njP",
        "outputId": "b2c01065-2bbc-40f3-85bb-7e790014b5ba"
      },
      "execution_count": null,
      "outputs": [
        {
          "output_type": "stream",
          "name": "stdout",
          "text": [
            "Enter Limit25\n",
            "Pythagorean triplets up to 25 are: [(3, 4, 5), (5, 12, 13), (6, 8, 10), (7, 24, 25), (8, 15, 17), (9, 12, 15), (12, 16, 20), (15, 20, 25)]\n"
          ]
        }
      ]
    },
    {
      "cell_type": "markdown",
      "source": [
        "Explanation\n",
        "\n",
        "1. Enter tHE UTMOST POINT TO WHICH THE TRIPLETS ARE REQUIREd\n",
        "2. Use list comprehension to generate it\n",
        "3. Print the result"
      ],
      "metadata": {
        "id": "xXgTpjem9RvI"
      }
    },
    {
      "cell_type": "markdown",
      "source": [
        "33. Develop a program that generates a list of all possible combinations of two lists using list comprehension."
      ],
      "metadata": {
        "id": "uHZh2c5R9dkM"
      }
    },
    {
      "cell_type": "code",
      "source": [
        "\n",
        "list1 = [1, 2]\n",
        "list2 = ['rohan', 'yuvraj']\n",
        "\n",
        "\n",
        "final = [(x, y) for x in list1 for y in list2]\n",
        "\n",
        "print(\"Combinations:\", final)"
      ],
      "metadata": {
        "colab": {
          "base_uri": "https://localhost:8080/"
        },
        "id": "QEhwP0Hh9goq",
        "outputId": "1fb34e64-980d-42c8-9972-b37122c6973b"
      },
      "execution_count": null,
      "outputs": [
        {
          "output_type": "stream",
          "name": "stdout",
          "text": [
            "Combinations: [(1, 'rohan'), (1, 'yuvraj'), (2, 'rohan'), (2, 'yuvraj')]\n"
          ]
        }
      ]
    },
    {
      "cell_type": "markdown",
      "source": [
        "Explanation\n",
        "\n",
        "1. Declaring both the lists\n",
        "2. Comprehension list to generate the result\n",
        "3. Print the result"
      ],
      "metadata": {
        "id": "Bg0dRTz697r3"
      }
    },
    {
      "cell_type": "markdown",
      "source": [
        "34. Write a program that calculates the mean, median, and mode of a list of numbers using list\n",
        "comprehension."
      ],
      "metadata": {
        "id": "zmYNgJii-GO8"
      }
    },
    {
      "cell_type": "code",
      "source": [
        "import statistics\n",
        "\n",
        "\n",
        "numbers = [10,20,30,40,50,60,70]\n",
        "\n",
        "\n",
        "mean = sum(numbers) / len(numbers)\n",
        "median = statistics.median(numbers)\n",
        "mode = statistics.mode(numbers)\n",
        "\n",
        "print(\"Mean:\", mean)\n",
        "print(\"Median:\", median)\n",
        "print(\"Mode:\", mode)"
      ],
      "metadata": {
        "colab": {
          "base_uri": "https://localhost:8080/"
        },
        "id": "FcSLiVNR-IxA",
        "outputId": "145656eb-2327-4009-8a60-8ff56266d836"
      },
      "execution_count": null,
      "outputs": [
        {
          "output_type": "stream",
          "name": "stdout",
          "text": [
            "Mean: 40.0\n",
            "Median: 40\n",
            "Mode: 10\n"
          ]
        }
      ]
    },
    {
      "cell_type": "markdown",
      "source": [
        "Explanation\n",
        "\n",
        "1. Taking the numbers\n",
        "2. Calculating the mean median and mode\n",
        "3. Printing the result"
      ],
      "metadata": {
        "id": "bDl_fBXA-XKZ"
      }
    },
    {
      "cell_type": "markdown",
      "source": [
        "35. Create a program that generates Pascal's triangle up to a specified number of rows using list\n",
        "comprehension."
      ],
      "metadata": {
        "id": "w1DYVDnQ-o5T"
      }
    },
    {
      "cell_type": "code",
      "source": [
        "\n",
        "num_rows = 5\n",
        "\n",
        "\n",
        "pascals_triangle = [[1]]\n",
        "\n",
        "\n",
        "[pascals_triangle.append([1] + [pascals_triangle[i - 1][j - 1] + pascals_triangle[i - 1][j] for j in range(1, i)] + [1]) for i in range(1, num_rows)]\n",
        "\n",
        "print(\"Pascal's Triangle:\")\n",
        "for row in pascals_triangle:\n",
        "    print(row)"
      ],
      "metadata": {
        "colab": {
          "base_uri": "https://localhost:8080/"
        },
        "id": "C0bqqZuy-sOt",
        "outputId": "a668fb00-fd21-465b-e9af-9dda6d9718b6"
      },
      "execution_count": null,
      "outputs": [
        {
          "output_type": "stream",
          "name": "stdout",
          "text": [
            "Pascal's Triangle:\n",
            "[1]\n",
            "[1, 1]\n",
            "[1, 2, 1]\n",
            "[1, 3, 3, 1]\n",
            "[1, 4, 6, 4, 1]\n"
          ]
        }
      ]
    },
    {
      "cell_type": "markdown",
      "source": [
        "Explanation\n",
        "\n",
        "1. Inputting the number of rows\n",
        "2. Initailising the pascal triangle from the forst row\n",
        "3. Using list comprehension to generate the remaining rows\n",
        "4. Printing the result"
      ],
      "metadata": {
        "id": "MLdZhqam-32T"
      }
    },
    {
      "cell_type": "markdown",
      "source": [
        "36. Develop a program that calculates the sum of the digits of a factorial of numbers from 1 to 5 using list\n",
        "comprehension."
      ],
      "metadata": {
        "id": "AUPKRdwc_OMM"
      }
    },
    {
      "cell_type": "code",
      "source": [
        "\n",
        "numbers = [1, 2, 3, 4, 5]\n",
        "\n",
        "\n",
        "def factorial(n):\n",
        "    if n == 0:\n",
        "        return 1\n",
        "    return n * factorial(n - 1)\n",
        "\n",
        "\n",
        "sums_of_digits = [sum(int(digit) for digit in str(factorial(num))) for num in numbers]\n",
        "\n",
        "print(\"Sum of digits of factorials:\", sums_of_digits)"
      ],
      "metadata": {
        "colab": {
          "base_uri": "https://localhost:8080/"
        },
        "id": "bV0pyoDV_R0W",
        "outputId": "0591cc47-00b8-40f8-d609-e5977ebcbbff"
      },
      "execution_count": 9,
      "outputs": [
        {
          "output_type": "stream",
          "name": "stdout",
          "text": [
            "Sum of digits of factorials: [1, 2, 6, 6, 3]\n"
          ]
        }
      ]
    },
    {
      "cell_type": "markdown",
      "source": [
        "Explanation\n",
        "\n",
        "1. Number for we want to calculate the sum of digits\n",
        "2. Function to calculate factorial\n",
        "3. Using list comprehension\n",
        "4. Printing reult"
      ],
      "metadata": {
        "id": "hc4eoW2C_7Fw"
      }
    },
    {
      "cell_type": "markdown",
      "source": [
        "37. Write a program that finds the longest word in a sentence using list comprehension."
      ],
      "metadata": {
        "id": "XX8eK7DT_7TY"
      }
    },
    {
      "cell_type": "code",
      "source": [
        "\n",
        "sentence = \"Rohan Yuvraj\"\n",
        "\n",
        "\n",
        "longest_word = max([word for word in sentence.split()], key=len)\n",
        "\n",
        "print(\"Longest word:\", longest_word)"
      ],
      "metadata": {
        "colab": {
          "base_uri": "https://localhost:8080/"
        },
        "id": "3zNaydoI__Om",
        "outputId": "55c80afd-6d0f-488c-dccc-078048a26fee"
      },
      "execution_count": null,
      "outputs": [
        {
          "output_type": "stream",
          "name": "stdout",
          "text": [
            "Longest word: Yuvraj\n"
          ]
        }
      ]
    },
    {
      "cell_type": "markdown",
      "source": [
        "Explanation\n",
        "\n",
        "1. Declaring string\n",
        "2. Using list comprehension to first split and then find the longest word\n",
        "3. Printing the result"
      ],
      "metadata": {
        "id": "7Vr2mkl6AN9U"
      }
    },
    {
      "cell_type": "markdown",
      "source": [
        "38. Create a program that filters a list of strings to include only those with more than three vowels using list\n",
        "comprehension."
      ],
      "metadata": {
        "id": "0a2JguN6AaSP"
      }
    },
    {
      "cell_type": "code",
      "source": [
        "\n",
        "strings = [\"oooo\", \"abab\", \"aeio\"]\n",
        "\n",
        "\n",
        "def count_vowels(string):\n",
        "    return sum(1 for char in string if char.lower() in 'aeiou')\n",
        "\n",
        "\n",
        "final = [string for string in strings if count_vowels(string) > 3]\n",
        "\n",
        "print(\"Strings with more than three vowels:\", final)"
      ],
      "metadata": {
        "colab": {
          "base_uri": "https://localhost:8080/"
        },
        "id": "js6qjJzrAcro",
        "outputId": "6f211134-d6a0-48b7-adf2-a4890f05a750"
      },
      "execution_count": null,
      "outputs": [
        {
          "output_type": "stream",
          "name": "stdout",
          "text": [
            "Strings with more than three vowels: ['oooo', 'aeio']\n"
          ]
        }
      ]
    },
    {
      "cell_type": "markdown",
      "source": [
        "Explanation\n",
        "1. Declaring the list\n",
        "2. Function to count vowels\n",
        "3. List comprehension to check for more than three vowels\n",
        "4. Printing the result"
      ],
      "metadata": {
        "id": "4pobClaFA2S5"
      }
    },
    {
      "cell_type": "markdown",
      "source": [
        "39. Develop a program that calculates the sum of the digits of numbers from 1 to 1000 using list\n",
        "comprehension."
      ],
      "metadata": {
        "id": "QjR2WWx7BCuv"
      }
    },
    {
      "cell_type": "code",
      "source": [
        "\n",
        "sums_of_digits = [sum(int(digit) for digit in str(num)) for num in range(1, 1001)]\n",
        "\n",
        "print(\"Sum of digits of numbers from 1 to 1000:\", sums_of_digits)"
      ],
      "metadata": {
        "colab": {
          "base_uri": "https://localhost:8080/"
        },
        "id": "sxBTeOTkBJIP",
        "outputId": "52a830b4-9518-4f7f-bd0a-a58cf82149d3"
      },
      "execution_count": 2,
      "outputs": [
        {
          "output_type": "stream",
          "name": "stdout",
          "text": [
            "Sum of digits of numbers from 1 to 1000: [1, 2, 3, 4, 5, 6, 7, 8, 9, 1, 2, 3, 4, 5, 6, 7, 8, 9, 10, 2, 3, 4, 5, 6, 7, 8, 9, 10, 11, 3, 4, 5, 6, 7, 8, 9, 10, 11, 12, 4, 5, 6, 7, 8, 9, 10, 11, 12, 13, 5, 6, 7, 8, 9, 10, 11, 12, 13, 14, 6, 7, 8, 9, 10, 11, 12, 13, 14, 15, 7, 8, 9, 10, 11, 12, 13, 14, 15, 16, 8, 9, 10, 11, 12, 13, 14, 15, 16, 17, 9, 10, 11, 12, 13, 14, 15, 16, 17, 18, 1, 2, 3, 4, 5, 6, 7, 8, 9, 10, 2, 3, 4, 5, 6, 7, 8, 9, 10, 11, 3, 4, 5, 6, 7, 8, 9, 10, 11, 12, 4, 5, 6, 7, 8, 9, 10, 11, 12, 13, 5, 6, 7, 8, 9, 10, 11, 12, 13, 14, 6, 7, 8, 9, 10, 11, 12, 13, 14, 15, 7, 8, 9, 10, 11, 12, 13, 14, 15, 16, 8, 9, 10, 11, 12, 13, 14, 15, 16, 17, 9, 10, 11, 12, 13, 14, 15, 16, 17, 18, 10, 11, 12, 13, 14, 15, 16, 17, 18, 19, 2, 3, 4, 5, 6, 7, 8, 9, 10, 11, 3, 4, 5, 6, 7, 8, 9, 10, 11, 12, 4, 5, 6, 7, 8, 9, 10, 11, 12, 13, 5, 6, 7, 8, 9, 10, 11, 12, 13, 14, 6, 7, 8, 9, 10, 11, 12, 13, 14, 15, 7, 8, 9, 10, 11, 12, 13, 14, 15, 16, 8, 9, 10, 11, 12, 13, 14, 15, 16, 17, 9, 10, 11, 12, 13, 14, 15, 16, 17, 18, 10, 11, 12, 13, 14, 15, 16, 17, 18, 19, 11, 12, 13, 14, 15, 16, 17, 18, 19, 20, 3, 4, 5, 6, 7, 8, 9, 10, 11, 12, 4, 5, 6, 7, 8, 9, 10, 11, 12, 13, 5, 6, 7, 8, 9, 10, 11, 12, 13, 14, 6, 7, 8, 9, 10, 11, 12, 13, 14, 15, 7, 8, 9, 10, 11, 12, 13, 14, 15, 16, 8, 9, 10, 11, 12, 13, 14, 15, 16, 17, 9, 10, 11, 12, 13, 14, 15, 16, 17, 18, 10, 11, 12, 13, 14, 15, 16, 17, 18, 19, 11, 12, 13, 14, 15, 16, 17, 18, 19, 20, 12, 13, 14, 15, 16, 17, 18, 19, 20, 21, 4, 5, 6, 7, 8, 9, 10, 11, 12, 13, 5, 6, 7, 8, 9, 10, 11, 12, 13, 14, 6, 7, 8, 9, 10, 11, 12, 13, 14, 15, 7, 8, 9, 10, 11, 12, 13, 14, 15, 16, 8, 9, 10, 11, 12, 13, 14, 15, 16, 17, 9, 10, 11, 12, 13, 14, 15, 16, 17, 18, 10, 11, 12, 13, 14, 15, 16, 17, 18, 19, 11, 12, 13, 14, 15, 16, 17, 18, 19, 20, 12, 13, 14, 15, 16, 17, 18, 19, 20, 21, 13, 14, 15, 16, 17, 18, 19, 20, 21, 22, 5, 6, 7, 8, 9, 10, 11, 12, 13, 14, 6, 7, 8, 9, 10, 11, 12, 13, 14, 15, 7, 8, 9, 10, 11, 12, 13, 14, 15, 16, 8, 9, 10, 11, 12, 13, 14, 15, 16, 17, 9, 10, 11, 12, 13, 14, 15, 16, 17, 18, 10, 11, 12, 13, 14, 15, 16, 17, 18, 19, 11, 12, 13, 14, 15, 16, 17, 18, 19, 20, 12, 13, 14, 15, 16, 17, 18, 19, 20, 21, 13, 14, 15, 16, 17, 18, 19, 20, 21, 22, 14, 15, 16, 17, 18, 19, 20, 21, 22, 23, 6, 7, 8, 9, 10, 11, 12, 13, 14, 15, 7, 8, 9, 10, 11, 12, 13, 14, 15, 16, 8, 9, 10, 11, 12, 13, 14, 15, 16, 17, 9, 10, 11, 12, 13, 14, 15, 16, 17, 18, 10, 11, 12, 13, 14, 15, 16, 17, 18, 19, 11, 12, 13, 14, 15, 16, 17, 18, 19, 20, 12, 13, 14, 15, 16, 17, 18, 19, 20, 21, 13, 14, 15, 16, 17, 18, 19, 20, 21, 22, 14, 15, 16, 17, 18, 19, 20, 21, 22, 23, 15, 16, 17, 18, 19, 20, 21, 22, 23, 24, 7, 8, 9, 10, 11, 12, 13, 14, 15, 16, 8, 9, 10, 11, 12, 13, 14, 15, 16, 17, 9, 10, 11, 12, 13, 14, 15, 16, 17, 18, 10, 11, 12, 13, 14, 15, 16, 17, 18, 19, 11, 12, 13, 14, 15, 16, 17, 18, 19, 20, 12, 13, 14, 15, 16, 17, 18, 19, 20, 21, 13, 14, 15, 16, 17, 18, 19, 20, 21, 22, 14, 15, 16, 17, 18, 19, 20, 21, 22, 23, 15, 16, 17, 18, 19, 20, 21, 22, 23, 24, 16, 17, 18, 19, 20, 21, 22, 23, 24, 25, 8, 9, 10, 11, 12, 13, 14, 15, 16, 17, 9, 10, 11, 12, 13, 14, 15, 16, 17, 18, 10, 11, 12, 13, 14, 15, 16, 17, 18, 19, 11, 12, 13, 14, 15, 16, 17, 18, 19, 20, 12, 13, 14, 15, 16, 17, 18, 19, 20, 21, 13, 14, 15, 16, 17, 18, 19, 20, 21, 22, 14, 15, 16, 17, 18, 19, 20, 21, 22, 23, 15, 16, 17, 18, 19, 20, 21, 22, 23, 24, 16, 17, 18, 19, 20, 21, 22, 23, 24, 25, 17, 18, 19, 20, 21, 22, 23, 24, 25, 26, 9, 10, 11, 12, 13, 14, 15, 16, 17, 18, 10, 11, 12, 13, 14, 15, 16, 17, 18, 19, 11, 12, 13, 14, 15, 16, 17, 18, 19, 20, 12, 13, 14, 15, 16, 17, 18, 19, 20, 21, 13, 14, 15, 16, 17, 18, 19, 20, 21, 22, 14, 15, 16, 17, 18, 19, 20, 21, 22, 23, 15, 16, 17, 18, 19, 20, 21, 22, 23, 24, 16, 17, 18, 19, 20, 21, 22, 23, 24, 25, 17, 18, 19, 20, 21, 22, 23, 24, 25, 26, 18, 19, 20, 21, 22, 23, 24, 25, 26, 27, 1]\n"
          ]
        }
      ]
    },
    {
      "cell_type": "markdown",
      "source": [
        "Explanation\n",
        "\n",
        "1. Using list comprehension to calculate the sum of digits\n",
        "2. print the result"
      ],
      "metadata": {
        "id": "yE9MjeSABbUS"
      }
    },
    {
      "cell_type": "markdown",
      "source": [
        "40. Write a program that generates a list of prime palindromic numbers using list comprehension."
      ],
      "metadata": {
        "id": "z-fPNnUyBbi3"
      }
    },
    {
      "cell_type": "code",
      "source": [
        "# Function to check if a number is prime\n",
        "def is_prime(num):\n",
        "    if num <= 1:\n",
        "        return False\n",
        "    for i in range(2, int(num**0.5) + 1):\n",
        "        if num % i == 0:\n",
        "            return False\n",
        "    return True\n",
        "\n",
        "# Use list comprehension to generate prime palindromic numbers\n",
        "prime_palindromic_numbers = [num for num in range(1, 1000)  if is_prime(num) and str(num) == str(num) [::-1]]\n",
        "\n",
        "print(\"Prime palindromic numbers:\", prime_palindromic_numbers)"
      ],
      "metadata": {
        "colab": {
          "base_uri": "https://localhost:8080/"
        },
        "id": "Lp0P_MgvBd3v",
        "outputId": "013e9176-54c3-4a7a-d6b5-891f13eb1c63"
      },
      "execution_count": 1,
      "outputs": [
        {
          "output_type": "stream",
          "name": "stdout",
          "text": [
            "Prime palindromic numbers: [2, 3, 5, 7, 11, 101, 131, 151, 181, 191, 313, 353, 373, 383, 727, 757, 787, 797, 919, 929]\n"
          ]
        }
      ]
    },
    {
      "cell_type": "markdown",
      "source": [
        "Explanation\n",
        "\n",
        "1. Declaring a function to check if the number is prime.\n",
        "2. Iterating through the loop and checking for the condition.\n",
        "3. Using list to generate palindromic numbers.\n",
        "4. Printing the result."
      ],
      "metadata": {
        "id": "sQ2vkpHc0EDW"
      }
    }
  ],
  "metadata": {
    "colab": {
      "provenance": []
    },
    "kernelspec": {
      "display_name": "Python 3",
      "name": "python3"
    },
    "language_info": {
      "name": "python"
    }
  },
  "nbformat": 4,
  "nbformat_minor": 0
}