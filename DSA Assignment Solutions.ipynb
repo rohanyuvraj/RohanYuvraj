{
 "cells": [
  {
   "cell_type": "markdown",
   "metadata": {},
   "source": [
    "Problem 1: Reverse a singly linked list."
   ]
  },
  {
   "cell_type": "code",
   "execution_count": 3,
   "metadata": {},
   "outputs": [
    {
     "name": "stdout",
     "output_type": "stream",
     "text": [
      "Original linked list:\n",
      "1 -> 2 -> 3 -> 4 -> 5 -> \n",
      "Reversed linked list:\n",
      "5 -> 4 -> 3 -> 2 -> 1 -> "
     ]
    }
   ],
   "source": [
    "class ListNode:\n",
    "    def __init__(self, value=0, next=None):\n",
    "        self.value = value\n",
    "        self.next = next\n",
    "\n",
    "def reverse_linked_list(head):\n",
    "    prev = None\n",
    "    current = head\n",
    "\n",
    "    while current is not None:\n",
    "        next_node = current.next\n",
    "        current.next = prev\n",
    "        prev = current\n",
    "        current = next_node\n",
    "\n",
    "    return prev\n",
    "\n",
    "# Example usage:\n",
    "# Create a linked list: 1 -> 2 -> 3 -> 4 -> 5\n",
    "head = ListNode(1, ListNode(2, ListNode(3, ListNode(4, ListNode(5)))))\n",
    "print(\"Original linked list:\")\n",
    "current = head\n",
    "while current is not None:\n",
    "    print(current.value, end=\" -> \")\n",
    "    current = current.next\n",
    "\n",
    "# Reverse the linked list\n",
    "head = reverse_linked_list(head)\n",
    "\n",
    "print(\"\\nReversed linked list:\")\n",
    "current = head\n",
    "while current is not None:\n",
    "    print(current.value, end=\" -> \")\n",
    "    current = current.next\n",
    "\n"
   ]
  },
  {
   "cell_type": "markdown",
   "metadata": {},
   "source": [
    "Problem 2: Merge two sorted linked lists into one sorted linked list."
   ]
  },
  {
   "cell_type": "code",
   "execution_count": 4,
   "metadata": {},
   "outputs": [
    {
     "name": "stdout",
     "output_type": "stream",
     "text": [
      "List 1:\n",
      "1 -> 3 -> 5 -> \n",
      "List 2:\n",
      "2 -> 4 -> 6 -> \n",
      "Merged Sorted List:\n",
      "1 -> 2 -> 3 -> 4 -> 5 -> 6 -> "
     ]
    }
   ],
   "source": [
    "class ListNode:\n",
    "    def __init__(self, value=0, next=None):\n",
    "        self.value = value\n",
    "        self.next = next\n",
    "\n",
    "def merge_sorted_lists(list1, list2):\n",
    "    dummy = ListNode()\n",
    "    current = dummy\n",
    "\n",
    "    while list1 is not None and list2 is not None:\n",
    "        if list1.value < list2.value:\n",
    "            current.next = list1\n",
    "            list1 = list1.next\n",
    "        else:\n",
    "            current.next = list2\n",
    "            list2 = list2.next\n",
    "\n",
    "        current = current.next\n",
    "\n",
    "    # If one of the lists is longer than the other\n",
    "    if list1 is not None:\n",
    "        current.next = list1\n",
    "    elif list2 is not None:\n",
    "        current.next = list2\n",
    "\n",
    "    return dummy.next\n",
    "\n",
    "# Example usage:\n",
    "# Create two sorted linked lists: 1 -> 3 -> 5 and 2 -> 4 -> 6\n",
    "list1 = ListNode(1, ListNode(3, ListNode(5)))\n",
    "list2 = ListNode(2, ListNode(4, ListNode(6)))\n",
    "\n",
    "print(\"List 1:\")\n",
    "current = list1\n",
    "while current is not None:\n",
    "    print(current.value, end=\" -> \")\n",
    "    current = current.next\n",
    "\n",
    "print(\"\\nList 2:\")\n",
    "current = list2\n",
    "while current is not None:\n",
    "    print(current.value, end=\" -> \")\n",
    "    current = current.next\n",
    "\n",
    "# Merge the two sorted lists\n",
    "merged_list = merge_sorted_lists(list1, list2)\n",
    "\n",
    "print(\"\\nMerged Sorted List:\")\n",
    "current = merged_list\n",
    "while current is not None:\n",
    "    print(current.value, end=\" -> \")\n",
    "    current = current.next\n"
   ]
  },
  {
   "cell_type": "markdown",
   "metadata": {},
   "source": [
    "Problem 3: Remove nth node from end of linked list\n",
    "\n",
    "Input: 1 -> 2 -> 3 -> 4 -> 5, n = 2\n",
    "Output: 1 -> 2 -> 3 -> 5"
   ]
  },
  {
   "cell_type": "code",
   "execution_count": 7,
   "metadata": {},
   "outputs": [
    {
     "name": "stdout",
     "output_type": "stream",
     "text": [
      "Original Linked List:\n",
      "1 -> 2 -> 3 -> 4 -> 5 -> \n",
      "Linked List after Removing 2-th node from the end:\n",
      "1 -> 2 -> 3 -> 5 -> "
     ]
    }
   ],
   "source": [
    "class ListNode:\n",
    "    def __init__(self, value=0, next=None):\n",
    "        self.value = value\n",
    "        self.next = next\n",
    "\n",
    "def remove_nth_from_end(head, n):\n",
    "    dummy = ListNode()\n",
    "    dummy.next = head\n",
    "    fast = slow = dummy\n",
    "\n",
    "    # Move fast n+1 steps ahead\n",
    "    for _ in range(n + 1):\n",
    "        fast = fast.next\n",
    "\n",
    "    # Move both fast and slow until fast reaches the end\n",
    "    while fast is not None:\n",
    "        fast = fast.next\n",
    "        slow = slow.next\n",
    "\n",
    "    # Remove the nth node from the end\n",
    "    slow.next = slow.next.next\n",
    "\n",
    "    return dummy.next\n",
    "\n",
    "# Example usage:\n",
    "# Create a linked list: 1 -> 2 -> 3 -> 4 -> 5\n",
    "head = ListNode(1, ListNode(2, ListNode(3, ListNode(4, ListNode(5)))))\n",
    "n = 2\n",
    "\n",
    "print(\"Original Linked List:\")\n",
    "current = head\n",
    "while current is not None:\n",
    "    print(current.value, end=\" -> \")\n",
    "    current = current.next\n",
    "\n",
    "# Remove the nth node from the end\n",
    "head = remove_nth_from_end(head, n)\n",
    "\n",
    "print(\"\\nLinked List after Removing {}-th node from the end:\".format(n))\n",
    "current = head\n",
    "while current is not None:\n",
    "    print(current.value, end=\" -> \")\n",
    "    current = current.next\n"
   ]
  },
  {
   "cell_type": "markdown",
   "metadata": {},
   "source": [
    "Problem 4: Find the intersection point of 2 linked lists\n",
    "Input: List 1: 1 -> 2 -> 3 -> 4, List 2: 9 -> 8 -> 3 -> 4\n",
    "Output: Node with value 3"
   ]
  },
  {
   "cell_type": "code",
   "execution_count": 8,
   "metadata": {},
   "outputs": [
    {
     "name": "stdout",
     "output_type": "stream",
     "text": [
      "List 1:\n",
      "1 -> 2 -> 3 -> 4 -> \n",
      "List 2:\n",
      "9 -> 8 -> 3 -> 4 -> \n",
      "Intersection Node Value: 3\n"
     ]
    }
   ],
   "source": [
    "class ListNode:\n",
    "    def __init__(self, value=0, next=None):\n",
    "        self.value = value\n",
    "        self.next = next\n",
    "\n",
    "def get_intersection_node(head1, head2):\n",
    "    if not head1 or not head2:\n",
    "        return None\n",
    "\n",
    "    pointer1, pointer2 = head1, head2\n",
    "\n",
    "    while pointer1 != pointer2:\n",
    "        pointer1 = pointer1.next if pointer1 else head2\n",
    "        pointer2 = pointer2.next if pointer2 else head1\n",
    "\n",
    "    return pointer1\n",
    "\n",
    "# Example usage:\n",
    "# Create two linked lists: 1 -> 2 -> 3 -> 4 and 9 -> 8 -> 3 -> 4\n",
    "list1 = ListNode(1, ListNode(2, ListNode(3, ListNode(4))))\n",
    "list2 = ListNode(9, ListNode(8, list1.next.next))  # Connect list2 to list1 at the node with value 3\n",
    "\n",
    "print(\"List 1:\")\n",
    "current = list1\n",
    "while current is not None:\n",
    "    print(current.value, end=\" -> \")\n",
    "    current = current.next\n",
    "\n",
    "print(\"\\nList 2:\")\n",
    "current = list2\n",
    "while current is not None:\n",
    "    print(current.value, end=\" -> \")\n",
    "    current = current.next\n",
    "\n",
    "intersection_node = get_intersection_node(list1, list2)\n",
    "if intersection_node:\n",
    "    print(\"\\nIntersection Node Value:\", intersection_node.value)\n",
    "else:\n",
    "    print(\"\\nNo Intersection\")\n"
   ]
  },
  {
   "cell_type": "markdown",
   "metadata": {},
   "source": [
    "Problem 5: Remove duplicates from a sorted list.\n",
    "    Input: 1 -> 1 -> 2 -> 3 -> 3\n",
    "Output: 1 -> 2 -> 3"
   ]
  },
  {
   "cell_type": "code",
   "execution_count": 10,
   "metadata": {},
   "outputs": [
    {
     "name": "stdout",
     "output_type": "stream",
     "text": [
      "Original Linked List:\n",
      "1 -> 1 -> 2 -> 3 -> 3 -> \n",
      "Linked List after Removing Duplicates:\n",
      "1 -> 2 -> 3 -> "
     ]
    }
   ],
   "source": [
    "class ListNode:\n",
    "    def __init__(self, value=0, next=None):\n",
    "        self.value = value\n",
    "        self.next = next\n",
    "\n",
    "def remove_duplicates(head):\n",
    "    current = head\n",
    "\n",
    "    while current is not None and current.next is not None:\n",
    "        if current.value == current.next.value:\n",
    "            current.next = current.next.next\n",
    "        else:\n",
    "            current = current.next\n",
    "\n",
    "    return head\n",
    "\n",
    "# Example usage:\n",
    "# Create a sorted linked list: 1 -> 1 -> 2 -> 3 -> 3\n",
    "head = ListNode(1, ListNode(1, ListNode(2, ListNode(3, ListNode(3)))))\n",
    "\n",
    "print(\"Original Linked List:\")\n",
    "current = head\n",
    "while current is not None:\n",
    "    print(current.value, end=\" -> \")\n",
    "    current = current.next\n",
    "\n",
    "# Remove duplicates\n",
    "head = remove_duplicates(head)\n",
    "\n",
    "print(\"\\nLinked List after Removing Duplicates:\")\n",
    "current = head\n",
    "while current is not None:\n",
    "    print(current.value, end=\" -> \")\n",
    "    current = current.next\n"
   ]
  },
  {
   "cell_type": "markdown",
   "metadata": {},
   "source": [
    "6) Add two numbers represented by linked lists (where each node contains a single digit).\n",
    "Input: List 1: 2 -> 4 -> 3, List 2: 5 -> 6 -> 4 (represents 342 + 465)\n",
    "Output: 7 -> 0 -> 8 (represents 807)"
   ]
  },
  {
   "cell_type": "code",
   "execution_count": 11,
   "metadata": {},
   "outputs": [
    {
     "name": "stdout",
     "output_type": "stream",
     "text": [
      "List 1:\n",
      "2 -> 4 -> 3 -> \n",
      "List 2:\n",
      "5 -> 6 -> 4 -> \n",
      "Result after adding two numbers:\n",
      "7 -> 0 -> 8 -> "
     ]
    }
   ],
   "source": [
    "class ListNode:\n",
    "    def __init__(self, value=0, next=None):\n",
    "        self.value = value\n",
    "        self.next = next\n",
    "\n",
    "def add_two_numbers(l1, l2):\n",
    "    dummy = ListNode()\n",
    "    current = dummy\n",
    "    carry = 0\n",
    "\n",
    "    while l1 or l2 or carry:\n",
    "        # Get the values of the current nodes or 0 if the node is None\n",
    "        x = l1.value if l1 else 0\n",
    "        y = l2.value if l2 else 0\n",
    "\n",
    "        # Calculate the sum and carry\n",
    "        _sum = x + y + carry\n",
    "        carry = _sum // 10\n",
    "\n",
    "        # Create a new node with the current digit\n",
    "        current.next = ListNode(_sum % 10)\n",
    "        current = current.next\n",
    "\n",
    "        # Move to the next nodes if they exist\n",
    "        if l1:\n",
    "            l1 = l1.next\n",
    "        if l2:\n",
    "            l2 = l2.next\n",
    "\n",
    "    return dummy.next\n",
    "\n",
    "# Example usage:\n",
    "# Create two linked lists: 2 -> 4 -> 3 and 5 -> 6 -> 4\n",
    "list1 = ListNode(2, ListNode(4, ListNode(3)))\n",
    "list2 = ListNode(5, ListNode(6, ListNode(4)))\n",
    "\n",
    "print(\"List 1:\")\n",
    "current = list1\n",
    "while current is not None:\n",
    "    print(current.value, end=\" -> \")\n",
    "    current = current.next\n",
    "\n",
    "print(\"\\nList 2:\")\n",
    "current = list2\n",
    "while current is not None:\n",
    "    print(current.value, end=\" -> \")\n",
    "    current = current.next\n",
    "\n",
    "# Add the two numbers\n",
    "result = add_two_numbers(list1, list2)\n",
    "\n",
    "print(\"\\nResult after adding two numbers:\")\n",
    "current = result\n",
    "while current is not None:\n",
    "    print(current.value, end=\" -> \")\n",
    "    current = current.next\n"
   ]
  },
  {
   "cell_type": "markdown",
   "metadata": {},
   "source": [
    "Problem 7) Swap nodes in pairs in a linked list.\n",
    "Input: 1 -> 2 -> 3 -> 4\n",
    "Output: 2 -> 1 -> 4 -> 3"
   ]
  },
  {
   "cell_type": "code",
   "execution_count": 12,
   "metadata": {},
   "outputs": [
    {
     "name": "stdout",
     "output_type": "stream",
     "text": [
      "Original Linked List:\n",
      "1 -> 2 -> 3 -> 4 -> \n",
      "Linked List after Swapping Nodes in Pairs:\n",
      "2 -> 1 -> 4 -> 3 -> "
     ]
    }
   ],
   "source": [
    "class ListNode:\n",
    "    def __init__(self, value=0, next=None):\n",
    "        self.value = value\n",
    "        self.next = next\n",
    "\n",
    "def swap_pairs(head):\n",
    "    dummy = ListNode()\n",
    "    dummy.next = head\n",
    "    current = dummy\n",
    "\n",
    "    while current.next and current.next.next:\n",
    "        # Nodes to be swapped\n",
    "        node1 = current.next\n",
    "        node2 = current.next.next\n",
    "\n",
    "        # Swapping\n",
    "        node1.next = node2.next\n",
    "        node2.next = node1\n",
    "        current.next = node2\n",
    "\n",
    "        # Move to the next pair\n",
    "        current = node1\n",
    "\n",
    "    return dummy.next\n",
    "\n",
    "# Example usage:\n",
    "# Create a linked list: 1 -> 2 -> 3 -> 4\n",
    "head = ListNode(1, ListNode(2, ListNode(3, ListNode(4))))\n",
    "\n",
    "print(\"Original Linked List:\")\n",
    "current = head\n",
    "while current is not None:\n",
    "    print(current.value, end=\" -> \")\n",
    "    current = current.next\n",
    "\n",
    "# Swap nodes in pairs\n",
    "head = swap_pairs(head)\n",
    "\n",
    "print(\"\\nLinked List after Swapping Nodes in Pairs:\")\n",
    "current = head\n",
    "while current is not None:\n",
    "    print(current.value, end=\" -> \")\n",
    "    current = current.next\n"
   ]
  },
  {
   "cell_type": "markdown",
   "metadata": {},
   "source": [
    "Problem 8) Reverse nodes in a linked list in groups of k."
   ]
  },
  {
   "cell_type": "code",
   "execution_count": 14,
   "metadata": {},
   "outputs": [],
   "source": [
    "class ListNode:\n",
    "    def __init__(self, value=0, next=None):\n",
    "        self.value = value\n",
    "        self.next = next\n",
    "\n",
    "def reverse_k_group(head, k):\n",
    "    def reverse_list(start, end):\n",
    "        prev, current = None, start\n",
    "\n",
    "        while current != end:\n",
    "            next_node = current.next\n",
    "            current.next = prev\n",
    "            prev = current\n",
    "            current = next_node\n",
    "\n",
    "        return prev\n",
    "\n",
    "    dummy = ListNode()\n",
    "    dummy.next = head\n",
    "    current, prev_group_end = dummy, dummy\n",
    "\n",
    "    while current.next:\n",
    "        group_start = current.next\n",
    "        group_end = group_start\n",
    "\n",
    "        # Move k nodes or until the end of the list\n",
    "        for _ in range(k - 1):\n",
    "            if group_end.next:\n",
    "                group_end = group_end.next\n",
    "            else:\n",
    "                return dummy.next  # If there are fewer than k nodes, no need to reverse\n",
    "\n",
    "        # Save the next node of the current group for connecting with the next reversed group\n",
    "        next_group_start = group_end.next\n",
    "\n",
    "        # Reverse the current group\n",
    "        reverse_list(group_start, next_group_start)\n",
    "\n",
    "        # Connect the reversed group to the previous one\n"
   ]
  },
  {
   "cell_type": "markdown",
   "metadata": {},
   "source": [
    "Problem 9: Determine if a linked list is a palindrome."
   ]
  },
  {
   "cell_type": "code",
   "execution_count": 1,
   "metadata": {},
   "outputs": [
    {
     "name": "stdout",
     "output_type": "stream",
     "text": [
      "True\n"
     ]
    }
   ],
   "source": [
    "class ListNode:\n",
    "    def __init__(self, val=0, next=None):\n",
    "        self.val = val\n",
    "        self.next = next\n",
    "\n",
    "def is_palindrome(head):\n",
    "    # Step 1: Traverse the linked list and store elements in an array\n",
    "    values = []\n",
    "    current = head\n",
    "    while current:\n",
    "        values.append(current.val)\n",
    "        current = current.next\n",
    "    \n",
    "    # Step 2: Use two pointers to check for palindrome\n",
    "    left, right = 0, len(values) - 1\n",
    "    while left < right:\n",
    "        if values[left] != values[right]:\n",
    "            return False\n",
    "        left += 1\n",
    "        right -= 1\n",
    "    \n",
    "    return True\n",
    "\n",
    "# Example usage\n",
    "# Create a sample linked list: 1 -> 2 -> 3 -> 2 -> 1\n",
    "head = ListNode(1)\n",
    "head.next = ListNode(2)\n",
    "head.next.next = ListNode(3)\n",
    "head.next.next.next = ListNode(2)\n",
    "head.next.next.next.next = ListNode(1)\n",
    "\n",
    "print(is_palindrome(head))  # Output: True\n"
   ]
  },
  {
   "cell_type": "markdown",
   "metadata": {},
   "source": [
    "Problem 10) Rotate a linked list to the right by k places."
   ]
  },
  {
   "cell_type": "code",
   "execution_count": 2,
   "metadata": {},
   "outputs": [
    {
     "name": "stdout",
     "output_type": "stream",
     "text": [
      "Original Linked List:\n",
      "1 -> 2 -> 3 -> 4 -> 5 -> None\n",
      "Linked List after rotating right by 2 places:\n",
      "4 -> 5 -> 1 -> 2 -> 3 -> None\n"
     ]
    }
   ],
   "source": [
    "class ListNode:\n",
    "    def __init__(self, val=0, next=None):\n",
    "        self.val = val\n",
    "        self.next = next\n",
    "\n",
    "def rotate_right(head, k):\n",
    "    if not head or k == 0:\n",
    "        return head\n",
    "    \n",
    "    # Step 1: Find the length of the linked list\n",
    "    length = 1\n",
    "    tail = head\n",
    "    while tail.next:\n",
    "        tail = tail.next\n",
    "        length += 1\n",
    "    \n",
    "    # Calculate the effective rotation value\n",
    "    k = k % length\n",
    "    \n",
    "    if k == 0:\n",
    "        return head\n",
    "    \n",
    "    # Step 2: Identify the new head and new tail positions\n",
    "    new_tail = head\n",
    "    for _ in range(length - k - 1):\n",
    "        new_tail = new_tail.next\n",
    "    \n",
    "    new_head = new_tail.next\n",
    "    new_tail.next = None\n",
    "    tail.next = head\n",
    "    \n",
    "    return new_head\n",
    "\n",
    "# Helper function to print the linked list\n",
    "def print_linked_list(head):\n",
    "    current = head\n",
    "    while current:\n",
    "        print(current.val, end=\" -> \")\n",
    "        current = current.next\n",
    "    print(\"None\")\n",
    "\n",
    "# Example usage\n",
    "# Create a sample linked list: 1 -> 2 -> 3 -> 4 -> 5\n",
    "head = ListNode(1)\n",
    "head.next = ListNode(2)\n",
    "head.next.next = ListNode(3)\n",
    "head.next.next.next = ListNode(4)\n",
    "head.next.next.next.next = ListNode(5)\n",
    "\n",
    "print(\"Original Linked List:\")\n",
    "print_linked_list(head)\n",
    "\n",
    "k = 2\n",
    "rotated_head = rotate_right(head, k)\n",
    "\n",
    "print(f\"Linked List after rotating right by {k} places:\")\n",
    "print_linked_list(rotated_head)\n"
   ]
  },
  {
   "cell_type": "markdown",
   "metadata": {},
   "source": [
    "Problem 11: Flatten a multilevel doubly linked list."
   ]
  },
  {
   "cell_type": "code",
   "execution_count": 3,
   "metadata": {},
   "outputs": [
    {
     "name": "stdout",
     "output_type": "stream",
     "text": [
      "Original Doubly Linked List:\n",
      "1 <=> 2 <=> 3 <=> 7 <=> 8 <=> 11 <=> 12 \n",
      "\n",
      "Flattened Doubly Linked List:\n",
      "1 <=> 2 <=> 3 <=> 4 <=> 5 <=> 6 <=> 7 <=> 8 <=> 9 <=> 10 <=> 11 <=> 12 \n"
     ]
    }
   ],
   "source": [
    "class Node:\n",
    "    def __init__(self, val, prev=None, next=None, child=None):\n",
    "        self.val = val\n",
    "        self.prev = prev\n",
    "        self.next = next\n",
    "        self.child = child\n",
    "\n",
    "def flatten(head):\n",
    "    if not head:\n",
    "        return None\n",
    "    \n",
    "    current = head\n",
    "    while current:\n",
    "        if current.child:\n",
    "            child_tail = current.child\n",
    "            while child_tail.next:\n",
    "                child_tail = child_tail.next\n",
    "            \n",
    "            child_tail.next = current.next\n",
    "            if current.next:\n",
    "                current.next.prev = child_tail\n",
    "            \n",
    "            current.next = current.child\n",
    "            current.child.prev = current\n",
    "            current.child = None\n",
    "        \n",
    "        current = current.next\n",
    "    \n",
    "    return head\n",
    "\n",
    "# Helper function to print the flattened doubly linked list\n",
    "def print_list(head):\n",
    "    current = head\n",
    "    while current:\n",
    "        print(current.val, end=\" \")\n",
    "        if current.next:\n",
    "            print(\"<=>\", end=\" \")\n",
    "        current = current.next\n",
    "    print()\n",
    "\n",
    "# Example usage\n",
    "# Constructing a sample multilevel doubly linked list:\n",
    "# 1 <-> 2 <-> 3 <-> 7 <-> 8 <-> 11 <-> 12 <-> 9 <-> 10\n",
    "#          |          |\n",
    "#          4 <-> 5 <-> 6\n",
    "head = Node(1)\n",
    "head.next = Node(2)\n",
    "head.next.prev = head\n",
    "head.next.next = Node(3)\n",
    "head.next.next.prev = head.next\n",
    "head.next.next.next = Node(7)\n",
    "head.next.next.next.prev = head.next.next\n",
    "head.next.next.next.next = Node(8)\n",
    "head.next.next.next.next.prev = head.next.next.next\n",
    "head.next.next.next.next.next = Node(11)\n",
    "head.next.next.next.next.next.prev = head.next.next.next.next\n",
    "head.next.next.next.next.next.next = Node(12)\n",
    "head.next.next.next.next.next.next.prev = head.next.next.next.next\n",
    "head.next.next.child = Node(4)\n",
    "head.next.next.child.next = Node(5)\n",
    "head.next.next.child.next.prev = head.next.next.child\n",
    "head.next.next.child.next.next = Node(6)\n",
    "head.next.next.child.next.next.prev = head.next.next.child.next\n",
    "head.next.next.next.next.child = Node(9)\n",
    "head.next.next.next.next.child.next = Node(10)\n",
    "head.next.next.next.next.child.next.prev = head.next.next.next.next.child\n",
    "\n",
    "print(\"Original Doubly Linked List:\")\n",
    "print_list(head)\n",
    "\n",
    "flatten_head = flatten(head)\n",
    "\n",
    "print(\"\\nFlattened Doubly Linked List:\")\n",
    "print_list(flatten_head)\n"
   ]
  },
  {
   "cell_type": "markdown",
   "metadata": {},
   "source": [
    "Problem 12: Rearrange a linked list such that all even positioned nodes are placed at the end."
   ]
  },
  {
   "cell_type": "code",
   "execution_count": 4,
   "metadata": {},
   "outputs": [
    {
     "name": "stdout",
     "output_type": "stream",
     "text": [
      "Original Linked List:\n",
      "1 -> 2 -> 3 -> 4 -> 5 -> None\n",
      "\n",
      "Rearranged Linked List:\n",
      "1 -> 3 -> 5 -> 2 -> 4 -> None\n"
     ]
    }
   ],
   "source": [
    "class ListNode:\n",
    "    def __init__(self, val=0, next=None):\n",
    "        self.val = val\n",
    "        self.next = next\n",
    "\n",
    "def rearrange_linked_list(head):\n",
    "    if not head or not head.next:\n",
    "        return head\n",
    "\n",
    "    # Separate odd and even-positioned nodes\n",
    "    odd_head = ListNode(0)\n",
    "    even_head = ListNode(0)\n",
    "    odd_current = odd_head\n",
    "    even_current = even_head\n",
    "    current = head\n",
    "    is_odd = True\n",
    "\n",
    "    while current:\n",
    "        if is_odd:\n",
    "            odd_current.next = current\n",
    "            odd_current = odd_current.next\n",
    "        else:\n",
    "            even_current.next = current\n",
    "            even_current = even_current.next\n",
    "\n",
    "        is_odd = not is_odd\n",
    "        current = current.next\n",
    "\n",
    "    # Connect odd and even lists\n",
    "    odd_current.next = even_head.next\n",
    "    even_current.next = None\n",
    "\n",
    "    return odd_head.next\n",
    "\n",
    "# Helper function to print the linked list\n",
    "def print_linked_list(head):\n",
    "    current = head\n",
    "    while current:\n",
    "        print(current.val, end=\" -> \")\n",
    "        current = current.next\n",
    "    print(\"None\")\n",
    "\n",
    "# Example usage\n",
    "# Create a sample linked list: 1 -> 2 -> 3 -> 4 -> 5\n",
    "head = ListNode(1)\n",
    "head.next = ListNode(2)\n",
    "head.next.next = ListNode(3)\n",
    "head.next.next.next = ListNode(4)\n",
    "head.next.next.next.next = ListNode(5)\n",
    "\n",
    "print(\"Original Linked List:\")\n",
    "print_linked_list(head)\n",
    "\n",
    "rearranged_head = rearrange_linked_list(head)\n",
    "\n",
    "print(\"\\nRearranged Linked List:\")\n",
    "print_linked_list(rearranged_head)\n"
   ]
  },
  {
   "cell_type": "markdown",
   "metadata": {},
   "source": [
    "Problem 13: Given a non-negative number represented as a linked list, add one to it."
   ]
  },
  {
   "cell_type": "code",
   "execution_count": 5,
   "metadata": {},
   "outputs": [
    {
     "name": "stdout",
     "output_type": "stream",
     "text": [
      "Original Linked List:\n",
      "1 -> 2 -> 3 -> None\n",
      "\n",
      "Linked List after adding one:\n",
      "1 -> 2 -> 4 -> None\n"
     ]
    }
   ],
   "source": [
    "class ListNode:\n",
    "    def __init__(self, val=0, next=None):\n",
    "        self.val = val\n",
    "        self.next = next\n",
    "\n",
    "def add_one(head):\n",
    "    # Step 1: Traverse to find the last node\n",
    "    last_node = None\n",
    "    current = head\n",
    "    while current:\n",
    "        last_node = current\n",
    "        current = current.next\n",
    "    \n",
    "    # Step 2: Start adding 1 to the last node\n",
    "    current = last_node\n",
    "    carry = 1\n",
    "    while current and carry:\n",
    "        current.val += carry\n",
    "        carry = current.val // 10\n",
    "        current.val %= 10\n",
    "        if carry and not current.next:\n",
    "            current.next = ListNode(carry)\n",
    "            carry = 0\n",
    "        current = current.next\n",
    "    \n",
    "    return head\n",
    "\n",
    "# Helper function to print the linked list\n",
    "def print_linked_list(head):\n",
    "    current = head\n",
    "    while current:\n",
    "        print(current.val, end=\" -> \")\n",
    "        current = current.next\n",
    "    print(\"None\")\n",
    "\n",
    "# Example usage\n",
    "# Create a sample linked list: 1 -> 2 -> 3\n",
    "head = ListNode(1)\n",
    "head.next = ListNode(2)\n",
    "head.next.next = ListNode(3)\n",
    "\n",
    "print(\"Original Linked List:\")\n",
    "print_linked_list(head)\n",
    "\n",
    "new_head = add_one(head)\n",
    "\n",
    "print(\"\\nLinked List after adding one:\")\n",
    "print_linked_list(new_head)\n"
   ]
  },
  {
   "cell_type": "markdown",
   "metadata": {},
   "source": [
    "Problem 14: Given a sorted array and a target value, return the index if the target is found. If not, return the\n",
    "index where it would be inserted."
   ]
  },
  {
   "cell_type": "code",
   "execution_count": 6,
   "metadata": {},
   "outputs": [
    {
     "name": "stdout",
     "output_type": "stream",
     "text": [
      "2\n",
      "1\n",
      "4\n",
      "0\n"
     ]
    }
   ],
   "source": [
    "def search_insert_position(nums, target):\n",
    "    left, right = 0, len(nums) - 1\n",
    "    \n",
    "    while left <= right:\n",
    "        mid = left + (right - left) // 2\n",
    "        \n",
    "        if nums[mid] == target:\n",
    "            return mid\n",
    "        elif nums[mid] < target:\n",
    "            left = mid + 1\n",
    "        else:\n",
    "            right = mid - 1\n",
    "    \n",
    "    return left\n",
    "\n",
    "# Example usage\n",
    "nums = [1, 3, 5, 6]\n",
    "target = 5\n",
    "print(search_insert_position(nums, target))  # Output: 2\n",
    "\n",
    "target = 2\n",
    "print(search_insert_position(nums, target))  # Output: 1\n",
    "\n",
    "target = 7\n",
    "print(search_insert_position(nums, target))  # Output: 4\n",
    "\n",
    "target = 0\n",
    "print(search_insert_position(nums, target))  # Output: 0\n"
   ]
  },
  {
   "cell_type": "markdown",
   "metadata": {},
   "source": [
    "Problem 15: Find the minimum element in a rotated sorted array."
   ]
  },
  {
   "cell_type": "code",
   "execution_count": 7,
   "metadata": {},
   "outputs": [
    {
     "name": "stdout",
     "output_type": "stream",
     "text": [
      "0\n",
      "1\n",
      "11\n"
     ]
    }
   ],
   "source": [
    "def find_min_in_rotated_sorted_array(nums):\n",
    "    left, right = 0, len(nums) - 1\n",
    "    \n",
    "    while left < right:\n",
    "        mid = left + (right - left) // 2\n",
    "        \n",
    "        # If mid element is greater than the rightmost element,\n",
    "        # the minimum element must be in the right half.\n",
    "        if nums[mid] > nums[right]:\n",
    "            left = mid + 1\n",
    "        # If mid element is less than or equal to the rightmost element,\n",
    "        # the minimum element must be in the left half (including mid).\n",
    "        else:\n",
    "            right = mid\n",
    "    \n",
    "    # At the end of the loop, left will point to the minimum element.\n",
    "    return nums[left]\n",
    "\n",
    "# Example usage\n",
    "nums = [4, 5, 6, 7, 0, 1, 2]\n",
    "print(find_min_in_rotated_sorted_array(nums))  # Output: 0\n",
    "\n",
    "nums = [3, 4, 5, 1, 2]\n",
    "print(find_min_in_rotated_sorted_array(nums))  # Output: 1\n",
    "\n",
    "nums = [11, 13, 15, 17]\n",
    "print(find_min_in_rotated_sorted_array(nums))  # Output: 11\n"
   ]
  },
  {
   "cell_type": "markdown",
   "metadata": {},
   "source": [
    "Problem 16: Search for a target value in a rotated sorted array."
   ]
  },
  {
   "cell_type": "code",
   "execution_count": 8,
   "metadata": {},
   "outputs": [
    {
     "name": "stdout",
     "output_type": "stream",
     "text": [
      "4\n",
      "-1\n"
     ]
    }
   ],
   "source": [
    "def search_rotated_sorted_array(nums, target):\n",
    "    left, right = 0, len(nums) - 1\n",
    "    \n",
    "    while left <= right:\n",
    "        mid = left + (right - left) // 2\n",
    "        \n",
    "        # If target is found at mid, return its index\n",
    "        if nums[mid] == target:\n",
    "            return mid\n",
    "        \n",
    "        # Check if left half is sorted\n",
    "        if nums[left] <= nums[mid]:\n",
    "            # Check if target is within the sorted left half\n",
    "            if nums[left] <= target < nums[mid]:\n",
    "                right = mid - 1\n",
    "            else:\n",
    "                left = mid + 1\n",
    "        # Otherwise, right half must be sorted\n",
    "        else:\n",
    "            # Check if target is within the sorted right half\n",
    "            if nums[mid] < target <= nums[right]:\n",
    "                left = mid + 1\n",
    "            else:\n",
    "                right = mid - 1\n",
    "    \n",
    "    # If target is not found, return -1\n",
    "    return -1\n",
    "\n",
    "# Example usage\n",
    "nums = [4, 5, 6, 7, 0, 1, 2]\n",
    "target = 0\n",
    "print(search_rotated_sorted_array(nums, target))  # Output: 4\n",
    "\n",
    "target = 3\n",
    "print(search_rotated_sorted_array(nums, target))  # Output: -1\n"
   ]
  },
  {
   "cell_type": "markdown",
   "metadata": {},
   "source": [
    "17)Find the peak element in an array. A peak element is greater than its neighbors."
   ]
  },
  {
   "cell_type": "markdown",
   "metadata": {},
   "source": [
    "def find_peak_element(nums):\n",
    "    left, right = 0, len(nums) - 1\n",
    "    \n",
    "    while left < right:\n",
    "        mid = left + (right - left) // 2\n",
    "        \n",
    "        # Check if mid element is a peak\n",
    "        if nums[mid] > nums[mid + 1]:\n",
    "            right = mid\n",
    "        else:\n",
    "            left = mid + 1\n",
    "    \n",
    "    # At the end of the loop, left will point to a peak element\n",
    "    return left\n",
    "\n",
    "# Example usage\n",
    "nums = [1, 2, 3, 1]\n",
    "print(find_peak_element(nums))  # Output: 2\n",
    "\n",
    "nums = [1, 2, 1, 3, 5, 6, 4]\n",
    "print(find_peak_element(nums))  # Output: 5\n",
    "\n"
   ]
  },
  {
   "cell_type": "markdown",
   "metadata": {},
   "source": [
    "Problem 18: Given a m x n matrix where each row and column is sorted in ascending order, count the number\n",
    "of negative numbers."
   ]
  },
  {
   "cell_type": "code",
   "execution_count": 10,
   "metadata": {},
   "outputs": [
    {
     "name": "stdout",
     "output_type": "stream",
     "text": [
      "8\n"
     ]
    }
   ],
   "source": [
    "def count_negatives(matrix):\n",
    "    count = 0\n",
    "    rows, cols = len(matrix), len(matrix[0])\n",
    "    row, col = 0, cols - 1\n",
    "    \n",
    "    while row < rows and col >= 0:\n",
    "        if matrix[row][col] < 0:\n",
    "            count += rows - row\n",
    "            col -= 1\n",
    "        else:\n",
    "            row += 1\n",
    "    \n",
    "    return count\n",
    "\n",
    "# Example usage\n",
    "matrix = [\n",
    "    [4, 3, 2, -1],\n",
    "    [3, 2, 1, -1],\n",
    "    [1, 1, -1, -2],\n",
    "    [-1, -1, -2, -3]\n",
    "]\n",
    "print(count_negatives(matrix))  # Output: 8\n"
   ]
  },
  {
   "cell_type": "markdown",
   "metadata": {},
   "source": [
    "Problem 19: Given a 2D matrix sorted in ascending order in each row, and the first integer of each row is\n",
    "greater than the last integer of the previous row, determine if a target value is present in the matrix."
   ]
  },
  {
   "cell_type": "markdown",
   "metadata": {},
   "source": [
    "def search_matrix(matrix, target):\n",
    "    if not matrix or not matrix[0]:\n",
    "        return False\n",
    "    \n",
    "    rows, cols = len(matrix), len(matrix[0])\n",
    "    left, right = 0, rows * cols - 1\n",
    "    \n",
    "    while left <= right:\n",
    "        mid = left + (right - left) // 2\n",
    "        mid_element = matrix[mid // cols][mid % cols]\n",
    "        \n",
    "        if mid_element == target:\n",
    "            return True\n",
    "        elif mid_element < target:\n",
    "            left = mid + 1\n",
    "        else:\n",
    "            right = mid - 1\n",
    "    \n",
    "    return False\n",
    "\n",
    "# Example usage\n",
    "matrix = [\n",
    "    [1, 3, 5, 7],\n",
    "    [10, 11, 16, 20],\n",
    "    [23, 30, 34, 60]\n",
    "]\n",
    "target = 3\n",
    "print(search_matrix(matrix, target))  # Output: True\n",
    "\n",
    "target = 13\n",
    "print(search_matrix(matrix, target))  # Output: False\n"
   ]
  },
  {
   "cell_type": "markdown",
   "metadata": {},
   "source": [
    "Problem 20: Find Median in Two Sorted Arrays\n",
    "Problem: Given two sorted arrays, find the median of the combined sorted array."
   ]
  },
  {
   "cell_type": "code",
   "execution_count": 13,
   "metadata": {},
   "outputs": [
    {
     "name": "stdout",
     "output_type": "stream",
     "text": [
      "3\n",
      "3.0\n"
     ]
    }
   ],
   "source": [
    "def findMedianSortedArrays(nums1, nums2):\n",
    "    total_length = len(nums1) + len(nums2)\n",
    "    \n",
    "    if total_length % 2 == 0:\n",
    "        return (find_kth_element(nums1, nums2, total_length // 2) + find_kth_element(nums1, nums2, total_length // 2 - 1)) / 2\n",
    "    else:\n",
    "        return find_kth_element(nums1, nums2, total_length // 2)\n",
    "\n",
    "def find_kth_element(nums1, nums2, k):\n",
    "    m, n = len(nums1), len(nums2)\n",
    "    if m > n:\n",
    "        nums1, nums2, m, n = nums2, nums1, n, m\n",
    "    \n",
    "    if n == 0:\n",
    "        return nums1[k]\n",
    "    \n",
    "    left, right = 0, m\n",
    "    \n",
    "    while left < right:\n",
    "        mid1 = left + (right - left) // 2\n",
    "        mid2 = k - mid1 - 1\n",
    "        \n",
    "        if mid2 < 0 or (mid2 < n and nums1[mid1] > nums2[mid2]):\n",
    "            right = mid1\n",
    "        else:\n",
    "            left = mid1 + 1\n",
    "    \n",
    "    mid1 = left - 1\n",
    "    mid2 = k - left\n",
    "    \n",
    "    if mid2 < 0:\n",
    "        return nums1[mid1]\n",
    "    elif mid1 < 0:\n",
    "        return nums2[mid2]\n",
    "    else:\n",
    "        return max(nums1[mid1], nums2[mid2])\n",
    "\n",
    "# Example usage\n",
    "nums1 = [1, 3]\n",
    "nums2 = [2]\n",
    "print(findMedianSortedArrays(nums1, nums2))  # Output: 2.0\n",
    "\n",
    "nums1 = [1, 2]\n",
    "nums2 = [3, 4]\n",
    "print(findMedianSortedArrays(nums1, nums2))  # Output: 2.5\n"
   ]
  },
  {
   "cell_type": "markdown",
   "metadata": {},
   "source": [
    "Problem 21: Given a sorted character array and a target letter, find the smallest letter in the array that is\n",
    "greater than the target."
   ]
  },
  {
   "cell_type": "code",
   "execution_count": 14,
   "metadata": {},
   "outputs": [
    {
     "name": "stdout",
     "output_type": "stream",
     "text": [
      "c\n",
      "f\n",
      "f\n",
      "j\n",
      "c\n"
     ]
    }
   ],
   "source": [
    "def nextGreatestLetter(letters, target):\n",
    "    left, right = 0, len(letters) - 1\n",
    "    \n",
    "    while left <= right:\n",
    "        mid = left + (right - left) // 2\n",
    "        \n",
    "        # If the middle element is smaller than or equal to the target,\n",
    "        # search in the right half.\n",
    "        if letters[mid] <= target:\n",
    "            left = mid + 1\n",
    "        # If the middle element is greater than the target,\n",
    "        # search in the left half and update the result.\n",
    "        else:\n",
    "            right = mid - 1\n",
    "    \n",
    "    # After the loop, left will point to the smallest letter greater than the target.\n",
    "    # If left exceeds the length of the array, return the first element (cyclically).\n",
    "    return letters[left % len(letters)]\n",
    "\n",
    "# Example usage\n",
    "letters = [\"c\", \"f\", \"j\"]\n",
    "target = \"a\"\n",
    "print(nextGreatestLetter(letters, target))  # Output: \"c\"\n",
    "\n",
    "target = \"c\"\n",
    "print(nextGreatestLetter(letters, target))  # Output: \"f\"\n",
    "\n",
    "target = \"d\"\n",
    "print(nextGreatestLetter(letters, target))  # Output: \"f\"\n",
    "\n",
    "target = \"g\"\n",
    "print(nextGreatestLetter(letters, target))  # Output: \"j\"\n",
    "\n",
    "target = \"j\"\n",
    "print(nextGreatestLetter(letters, target))  # Output: \"c\" (cyclically)\n"
   ]
  },
  {
   "cell_type": "markdown",
   "metadata": {},
   "source": [
    "Problem 22: Given an array with n objects colored red, white, or blue, sort them in-place so that objects of\n",
    "the same color are adjacent, with the colors in the order red, white, and blue."
   ]
  },
  {
   "cell_type": "code",
   "execution_count": 15,
   "metadata": {},
   "outputs": [
    {
     "name": "stdout",
     "output_type": "stream",
     "text": [
      "[0, 0, 1, 1, 2, 2]\n"
     ]
    }
   ],
   "source": [
    "def sortColors(nums):\n",
    "    left, right = 0, len(nums) - 1\n",
    "    current = 0\n",
    "    \n",
    "    while current <= right:\n",
    "        if nums[current] == 0:\n",
    "            nums[left], nums[current] = nums[current], nums[left]\n",
    "            left += 1\n",
    "            current += 1\n",
    "        elif nums[current] == 2:\n",
    "            nums[current], nums[right] = nums[right], nums[current]\n",
    "            right -= 1\n",
    "        else:\n",
    "            current += 1\n",
    "\n",
    "# Example usage\n",
    "nums = [2, 0, 2, 1, 1, 0]\n",
    "sortColors(nums)\n",
    "print(nums)  # Output: [0, 0, 1, 1, 2, 2]\n"
   ]
  },
  {
   "cell_type": "markdown",
   "metadata": {},
   "source": [
    "Problem 23: Find the kth largest element in an unsorted array."
   ]
  },
  {
   "cell_type": "code",
   "execution_count": 16,
   "metadata": {},
   "outputs": [
    {
     "name": "stdout",
     "output_type": "stream",
     "text": [
      "5\n"
     ]
    }
   ],
   "source": [
    "import heapq\n",
    "\n",
    "def findKthLargest(nums, k):\n",
    "    # Convert the input list into a max heap\n",
    "    heap = nums[:k]\n",
    "    heapq.heapify(heap)\n",
    "    \n",
    "    # Traverse the remaining elements of the array\n",
    "    for num in nums[k:]:\n",
    "        # If the current element is larger than the smallest element in the heap\n",
    "        # (which is the root of the max heap), replace the smallest element with the current element\n",
    "        if num > heap[0]:\n",
    "            heapq.heappop(heap)\n",
    "            heapq.heappush(heap, num)\n",
    "    \n",
    "    # The kth largest element is the root of the max heap\n",
    "    return heap[0]\n",
    "\n",
    "# Example usage\n",
    "nums = [3, 2, 1, 5, 6, 4]\n",
    "k = 2\n",
    "print(findKthLargest(nums, k))  # Output: 5\n"
   ]
  },
  {
   "cell_type": "markdown",
   "metadata": {},
   "source": [
    "Problem 24: Given an unsorted array, reorder it in-place such that nums[0] <= nums[1] >= nums[2] <=\n",
    "nums[3]..."
   ]
  },
  {
   "cell_type": "code",
   "execution_count": 17,
   "metadata": {},
   "outputs": [
    {
     "name": "stdout",
     "output_type": "stream",
     "text": [
      "[1, 3, 2, 5, 4, 6]\n"
     ]
    }
   ],
   "source": [
    "def wiggleSort(nums):\n",
    "    nums.sort()  # Sort the array in ascending order\n",
    "    \n",
    "    # Swap adjacent elements starting from the second element\n",
    "    for i in range(1, len(nums) - 1, 2):\n",
    "        nums[i], nums[i + 1] = nums[i + 1], nums[i]\n",
    "\n",
    "# Example usage\n",
    "nums = [3, 5, 2, 1, 6, 4]\n",
    "wiggleSort(nums)\n",
    "print(nums)  # Output will be an array reordered as specified\n"
   ]
  },
  {
   "cell_type": "markdown",
   "metadata": {},
   "source": [
    "Problem 25: Given an array of integers, calculate the sum of all its elements."
   ]
  },
  {
   "cell_type": "code",
   "execution_count": 18,
   "metadata": {},
   "outputs": [
    {
     "name": "stdout",
     "output_type": "stream",
     "text": [
      "15\n"
     ]
    }
   ],
   "source": [
    "def sum_of_array_elements(nums):\n",
    "    sum = 0\n",
    "    for num in nums:\n",
    "        sum += num\n",
    "    return sum\n",
    "\n",
    "# Example usage\n",
    "nums = [1, 2, 3, 4, 5]\n",
    "print(sum_of_array_elements(nums))  # Output: 15\n"
   ]
  },
  {
   "cell_type": "markdown",
   "metadata": {},
   "source": [
    "Problem 26: Find the maximum element in an array of integers."
   ]
  },
  {
   "cell_type": "code",
   "execution_count": 19,
   "metadata": {},
   "outputs": [
    {
     "name": "stdout",
     "output_type": "stream",
     "text": [
      "6\n"
     ]
    }
   ],
   "source": [
    "def find_max_element(nums):\n",
    "    if not nums:\n",
    "        return None\n",
    "    \n",
    "    max_element = nums[0]\n",
    "    for num in nums[1:]:\n",
    "        if num > max_element:\n",
    "            max_element = num\n",
    "    return max_element\n",
    "\n",
    "# Example usage\n",
    "nums = [3, 5, 2, 1, 6, 4]\n",
    "print(find_max_element(nums))  # Output: 6\n"
   ]
  },
  {
   "cell_type": "markdown",
   "metadata": {},
   "source": [
    "Problem 27: Implement linear search to find the index of a target element in an array."
   ]
  },
  {
   "cell_type": "code",
   "execution_count": 20,
   "metadata": {},
   "outputs": [
    {
     "name": "stdout",
     "output_type": "stream",
     "text": [
      "2\n",
      "-1\n"
     ]
    }
   ],
   "source": [
    "def linear_search(nums, target):\n",
    "    for i, num in enumerate(nums):\n",
    "        if num == target:\n",
    "            return i\n",
    "    return -1  # Return -1 if the target element is not found\n",
    "\n",
    "# Example usage\n",
    "nums = [4, 2, 7, 1, 9, 5]\n",
    "target = 7\n",
    "print(linear_search(nums, target))  # Output: 2 (index of the target element)\n",
    "\n",
    "target = 3\n",
    "print(linear_search(nums, target))  # Output: -1 (target element not found)\n"
   ]
  },
  {
   "cell_type": "markdown",
   "metadata": {},
   "source": [
    "Problem 28 Calculate the factorial of a given number."
   ]
  },
  {
   "cell_type": "code",
   "execution_count": 21,
   "metadata": {},
   "outputs": [
    {
     "name": "stdout",
     "output_type": "stream",
     "text": [
      "120\n"
     ]
    }
   ],
   "source": [
    "def factorial_recursive(n):\n",
    "    if n == 0:\n",
    "        return 1\n",
    "    return n * factorial_recursive(n - 1)\n",
    "\n",
    "# Example usage\n",
    "n = 5\n",
    "print(factorial_recursive(n))  # Output: 120\n"
   ]
  },
  {
   "cell_type": "markdown",
   "metadata": {},
   "source": [
    "Problem 29: Check if a given number is a prime number."
   ]
  },
  {
   "cell_type": "code",
   "execution_count": 22,
   "metadata": {},
   "outputs": [
    {
     "name": "stdout",
     "output_type": "stream",
     "text": [
      "True\n",
      "False\n"
     ]
    }
   ],
   "source": [
    "import math\n",
    "\n",
    "def is_prime(number):\n",
    "    if number <= 1:\n",
    "        return False\n",
    "    if number == 2:\n",
    "        return True\n",
    "    if number % 2 == 0:\n",
    "        return False\n",
    "    \n",
    "    # Iterate from 3 to the square root of the number with a step of 2\n",
    "    for i in range(3, int(math.sqrt(number)) + 1, 2):\n",
    "        if number % i == 0:\n",
    "            return False\n",
    "    return True\n",
    "\n",
    "# Example usage\n",
    "number = 17\n",
    "print(is_prime(number))  # Output: True\n",
    "\n",
    "number = 15\n",
    "print(is_prime(number))  # Output: False\n"
   ]
  },
  {
   "cell_type": "markdown",
   "metadata": {},
   "source": [
    "Problem 30: Generate the Fibonacci series up to a given number n."
   ]
  },
  {
   "cell_type": "code",
   "execution_count": 23,
   "metadata": {},
   "outputs": [
    {
     "name": "stdout",
     "output_type": "stream",
     "text": [
      "[0, 1, 1, 2, 3, 5, 8]\n",
      "[0, 1, 1, 2, 3, 5, 8, 13]\n"
     ]
    }
   ],
   "source": [
    "def generate_fibonacci_iterative(n):\n",
    "    fib_series = []\n",
    "    a, b = 0, 1\n",
    "    while a <= n:\n",
    "        fib_series.append(a)\n",
    "        a, b = b, a + b\n",
    "    return fib_series\n",
    "\n",
    "# Example usage\n",
    "n = 10\n",
    "print(generate_fibonacci_iterative(n))  # Output: [0, 1, 1, 2, 3, 5, 8]\n",
    "\n",
    "n = 20\n",
    "print(generate_fibonacci_iterative(n))  # Output: [0, 1, 1, 2, 3, 5, 8, 13]\n"
   ]
  },
  {
   "cell_type": "markdown",
   "metadata": {},
   "source": [
    "Problem 31: Calculate the power of a number using recursion."
   ]
  },
  {
   "cell_type": "code",
   "execution_count": 24,
   "metadata": {},
   "outputs": [
    {
     "name": "stdout",
     "output_type": "stream",
     "text": [
      "8\n",
      "81\n"
     ]
    }
   ],
   "source": [
    "def power(base, exponent):\n",
    "    # Base case: if exponent is 0, return 1\n",
    "    if exponent == 0:\n",
    "        return 1\n",
    "    \n",
    "    # Recursive case: multiply base with the result of power(base, exponent - 1)\n",
    "    return base * power(base, exponent - 1)\n",
    "\n",
    "# Example usage\n",
    "base = 2\n",
    "exponent = 3\n",
    "print(power(base, exponent))  # Output: 8 (2^3)\n",
    "\n",
    "base = 3\n",
    "exponent = 4\n",
    "print(power(base, exponent))  # Output: 81 (3^4)\n"
   ]
  },
  {
   "cell_type": "markdown",
   "metadata": {},
   "source": [
    "Problem 32: Reverse a given string."
   ]
  },
  {
   "cell_type": "code",
   "execution_count": 25,
   "metadata": {},
   "outputs": [
    {
     "name": "stdout",
     "output_type": "stream",
     "text": [
      "olleh\n"
     ]
    }
   ],
   "source": [
    "def reverse_string(s):\n",
    "    return s[::-1]\n",
    "\n",
    "# Example usage\n",
    "s = \"hello\"\n",
    "print(reverse_string(s))  # Output: \"olleh\"\n"
   ]
  },
  {
   "cell_type": "code",
   "execution_count": null,
   "metadata": {},
   "outputs": [],
   "source": []
  }
 ],
 "metadata": {
  "kernelspec": {
   "display_name": "Python 3",
   "language": "python",
   "name": "python3"
  },
  "language_info": {
   "codemirror_mode": {
    "name": "ipython",
    "version": 3
   },
   "file_extension": ".py",
   "mimetype": "text/x-python",
   "name": "python",
   "nbconvert_exporter": "python",
   "pygments_lexer": "ipython3",
   "version": "3.7.3"
  }
 },
 "nbformat": 4,
 "nbformat_minor": 2
}
