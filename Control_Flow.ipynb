{
  "nbformat": 4,
  "nbformat_minor": 0,
  "metadata": {
    "colab": {
      "provenance": []
    },
    "kernelspec": {
      "name": "python3",
      "display_name": "Python 3"
    },
    "language_info": {
      "name": "python"
    }
  },
  "cells": [
    {
      "cell_type": "markdown",
      "source": [
        "Basic If-Else Statements:"
      ],
      "metadata": {
        "id": "hzCGylLD75Pn"
      }
    },
    {
      "cell_type": "markdown",
      "source": [
        "1. Write a Python program to check if a given number is positive or negative."
      ],
      "metadata": {
        "id": "nynKtwla7-Y_"
      }
    },
    {
      "cell_type": "code",
      "source": [
        "x= int(input(\"Enter Number\"))\n",
        "if x>0:\n",
        "  print(\"Positive\")\n",
        "else:\n",
        "  print(\"Negative\")"
      ],
      "metadata": {
        "colab": {
          "base_uri": "https://localhost:8080/"
        },
        "id": "r30OdvvM8DHB",
        "outputId": "b614dde8-3dd6-40b2-c034-98b6faea7e9a"
      },
      "execution_count": null,
      "outputs": [
        {
          "output_type": "stream",
          "name": "stdout",
          "text": [
            "Enter Number20\n",
            "Positive\n"
          ]
        }
      ]
    },
    {
      "cell_type": "markdown",
      "source": [
        "Explanation:\n",
        "\n",
        "1. Taking Input\n",
        "2. If > 0 Positive else Negative\n",
        "3. Print Result"
      ],
      "metadata": {
        "id": "iGwXKhSC8d5k"
      }
    },
    {
      "cell_type": "markdown",
      "source": [
        "2. Create a program that determines if a person is eligible to vote based on their age."
      ],
      "metadata": {
        "id": "aW6Zqyxs8Wrs"
      }
    },
    {
      "cell_type": "code",
      "source": [
        "x=int(input(\"Enter Age \"))\n",
        "if x>=18:\n",
        "  print(\"Eligible\")\n",
        "else:\n",
        "  print(\"Not Eligible\")\n"
      ],
      "metadata": {
        "colab": {
          "base_uri": "https://localhost:8080/"
        },
        "id": "ShlivT4h8amG",
        "outputId": "66e42b8e-5a15-4eb8-f2ab-b2398f464f08"
      },
      "execution_count": null,
      "outputs": [
        {
          "output_type": "stream",
          "name": "stdout",
          "text": [
            "Enter Age 24\n",
            "Eligible\n"
          ]
        }
      ]
    },
    {
      "cell_type": "markdown",
      "source": [
        "Explanation\n",
        "\n",
        "1. Taking Input\n",
        "2. If age is more than 18 then eligible\n",
        "3. Print the Result"
      ],
      "metadata": {
        "id": "ndxs-lLB-2CS"
      }
    },
    {
      "cell_type": "markdown",
      "source": [
        "3. Develop a program to find the maximum of two numbers using if-else statements."
      ],
      "metadata": {
        "id": "7rr53q3f_A28"
      }
    },
    {
      "cell_type": "code",
      "source": [
        "x=int(input(\"Enter First Number \"))\n",
        "y=int(input(\"Enter Second Number \"))\n",
        "if x>y:\n",
        "  print(\"Greatest is\",x)\n",
        "else:\n",
        "  print(\"Greatest is\",y)"
      ],
      "metadata": {
        "colab": {
          "base_uri": "https://localhost:8080/"
        },
        "id": "4dWXqbHR_EXG",
        "outputId": "75538a92-caf4-45b5-8a96-f08dc364519d"
      },
      "execution_count": null,
      "outputs": [
        {
          "output_type": "stream",
          "name": "stdout",
          "text": [
            "Enter First Number 15\n",
            "Enter Second Number 16\n",
            "Greatest is 16\n"
          ]
        }
      ]
    },
    {
      "cell_type": "markdown",
      "source": [
        "Explanation\n",
        "\n",
        "1. Taking Input\n",
        "2. Checking for greatest.\n",
        "3. Print the result"
      ],
      "metadata": {
        "id": "UgVuHSePpDfg"
      }
    },
    {
      "cell_type": "markdown",
      "source": [
        "4. Write a Python script to classify a given year as a leap year or not."
      ],
      "metadata": {
        "id": "7fpyXHuFpLWc"
      }
    },
    {
      "cell_type": "code",
      "source": [
        " year=int(input(\"Enter year to be checked \"))\n",
        " if(year%4==0 and year%100!= 0 or year%400==0):\n",
        "  print(\"The year is a leap year\")\n",
        " else:\n",
        "  print(\"The year isn't a leap year\")"
      ],
      "metadata": {
        "colab": {
          "base_uri": "https://localhost:8080/"
        },
        "id": "bIjQXzuspZik",
        "outputId": "8d27747c-db45-4427-8c0d-3fdcfa2932f4"
      },
      "execution_count": null,
      "outputs": [
        {
          "output_type": "stream",
          "name": "stdout",
          "text": [
            "Enter year to be checked 2000\n",
            "The year is a leap year\n"
          ]
        }
      ]
    },
    {
      "cell_type": "markdown",
      "source": [
        "Explanation\n",
        "\n",
        "1. Taking Input\n",
        "2. Writning the logic for leap year\n",
        "3. Printing the result"
      ],
      "metadata": {
        "id": "phKOkpNBp2Ax"
      }
    },
    {
      "cell_type": "markdown",
      "source": [
        "5. Create a program that checks whether a character is a vowel or a consonant."
      ],
      "metadata": {
        "id": "lsr19jQYqCpp"
      }
    },
    {
      "cell_type": "code",
      "source": [
        "char=input(\"Enter Character \")\n",
        "vowel=['a','e','i','o','u','A','E','I','O','U']\n",
        "if char in vowel:\n",
        "  print(\"Vowel\")\n",
        "else:\n",
        "  print(\"Consonant\")"
      ],
      "metadata": {
        "colab": {
          "base_uri": "https://localhost:8080/"
        },
        "id": "QpZhRneeqJRC",
        "outputId": "a98e0fa2-edcc-4348-ca8c-1d6744d66013"
      },
      "execution_count": null,
      "outputs": [
        {
          "output_type": "stream",
          "name": "stdout",
          "text": [
            "Enter Character b\n",
            "Consonant\n"
          ]
        }
      ]
    },
    {
      "cell_type": "markdown",
      "source": [
        "Explanation\n",
        "\n",
        "1. Taking Input\n",
        "2. Declaring the vowels\n",
        "3. Checking for vowel\n",
        "4. Printing the result."
      ],
      "metadata": {
        "id": "hMRVFu5T01Su"
      }
    },
    {
      "cell_type": "markdown",
      "source": [
        "6. Implement a program to determine whether a given number is even or odd."
      ],
      "metadata": {
        "id": "o1tqznSt0-S2"
      }
    },
    {
      "cell_type": "code",
      "source": [
        "x=int(input(\"Enter Value \"))\n",
        "if x%2==0:\n",
        "  print(\"even\")\n",
        "else:\n",
        "  print(\"odd\")"
      ],
      "metadata": {
        "colab": {
          "base_uri": "https://localhost:8080/"
        },
        "id": "VCuaZS5q1B3N",
        "outputId": "08512db5-67de-4f83-f61a-41502ed047cd"
      },
      "execution_count": null,
      "outputs": [
        {
          "output_type": "stream",
          "name": "stdout",
          "text": [
            "Enter Value 23\n",
            "odd\n"
          ]
        }
      ]
    },
    {
      "cell_type": "markdown",
      "source": [
        "Explanation\n",
        "\n",
        "1. Taking Input\n",
        "2. Checking for condition\n",
        "3. Printing the result"
      ],
      "metadata": {
        "id": "h2UFYr4T1Sbv"
      }
    },
    {
      "cell_type": "markdown",
      "source": [
        "7. Write a Python function to calculate the absolute value of a number without using the `abs()` function."
      ],
      "metadata": {
        "id": "9YxIvcNX1bw4"
      }
    },
    {
      "cell_type": "code",
      "source": [
        "x=int(input(\"Enter Number\"))\n",
        "if x>0:\n",
        "  print(x)\n",
        "else:\n",
        "  print(-x)"
      ],
      "metadata": {
        "colab": {
          "base_uri": "https://localhost:8080/"
        },
        "id": "Yc_xH14E1g1u",
        "outputId": "14458291-e2c7-42ed-aa47-2660dd4e7bb9"
      },
      "execution_count": null,
      "outputs": [
        {
          "output_type": "stream",
          "name": "stdout",
          "text": [
            "Enter Number-5\n",
            "5\n"
          ]
        }
      ]
    },
    {
      "cell_type": "markdown",
      "source": [
        "Explanation\n",
        "\n",
        "1. Taking Input\n",
        "2. Writing logic\n",
        "3. Printing the result"
      ],
      "metadata": {
        "id": "fJ6Myaqs2-n7"
      }
    },
    {
      "cell_type": "markdown",
      "source": [
        "8. Develop a program that determines the largest of three given numbers using if-else statements."
      ],
      "metadata": {
        "id": "zfPrRAR73IX9"
      }
    },
    {
      "cell_type": "code",
      "source": [
        "x= int(input(\"Enter Number \"))\n",
        "y= int(input(\"Enter Number \"))\n",
        "z= int(input(\"Enter Number \"))\n",
        "l=0\n",
        "if x>y:\n",
        "  if x>z:\n",
        "    l=x\n",
        "  else:\n",
        "    l=z\n",
        "else:\n",
        "  if y>z:\n",
        "    l=y\n",
        "  else:\n",
        "    l=z\n",
        "\n",
        "print(\"Largest \",l)\n",
        "\n"
      ],
      "metadata": {
        "id": "3WNo18S13Mbn",
        "colab": {
          "base_uri": "https://localhost:8080/"
        },
        "outputId": "d16c2d95-1485-487a-d5b0-02937ef67df6"
      },
      "execution_count": null,
      "outputs": [
        {
          "output_type": "stream",
          "name": "stdout",
          "text": [
            "Enter Number 20\n",
            "Enter Number 10\n",
            "Enter Number 30\n",
            "Largest  30\n"
          ]
        }
      ]
    },
    {
      "cell_type": "markdown",
      "source": [
        "Explanation\n",
        "\n",
        "1. Taking input\n",
        "2. Using if else to determine largest\n",
        "3. Printing result\n"
      ],
      "metadata": {
        "id": "QVoaiILSVxPI"
      }
    },
    {
      "cell_type": "markdown",
      "source": [
        "9. Create a program that checks if a given string is a palindrome."
      ],
      "metadata": {
        "id": "1KmY4d06V5sG"
      }
    },
    {
      "cell_type": "code",
      "source": [
        "x=input(\"Enter String\")\n",
        "z = x.replace(\" \", \"\").lower()\n",
        "y=z[::-1]\n",
        "\n",
        "if z==y:\n",
        "  print(\"Is Palindrome\")\n",
        "else:\n",
        "  print(\"Is Not Palindrome\")"
      ],
      "metadata": {
        "colab": {
          "base_uri": "https://localhost:8080/"
        },
        "id": "9G_5BYDSV_9F",
        "outputId": "93cd2e34-ad23-43b6-e8cb-56795cab6707"
      },
      "execution_count": null,
      "outputs": [
        {
          "output_type": "stream",
          "name": "stdout",
          "text": [
            "Enter StringHello\n",
            "Is Not Palindrome\n"
          ]
        }
      ]
    },
    {
      "cell_type": "markdown",
      "source": [
        "Explanation\n",
        "\n",
        "1. Taking Input\n",
        "2. Reversing the string\n",
        "3. Checking condition\n",
        "4. Printing the result"
      ],
      "metadata": {
        "id": "poxjIuOCZCC7"
      }
    },
    {
      "cell_type": "markdown",
      "source": [
        "10. Write a Python program to calculate the grade based on a student's score."
      ],
      "metadata": {
        "id": "tBGiGhtJZgaB"
      }
    },
    {
      "cell_type": "code",
      "source": [
        "x= int(input(\"Enter Marks \"))\n",
        "if x>=90:\n",
        "  print(\"A+\")\n",
        "elif 90>x>=80:\n",
        "  print(\"A\")\n",
        "elif 80>x>=70:\n",
        "  print(\"B\")\n",
        "elif 70>x>=60:\n",
        "  print(\"C\")\n",
        "elif 60>x>=50:\n",
        "  print(\"D\")\n",
        "elif 50>x>=40:\n",
        "  print(\"E\")\n",
        "else:\n",
        "  print(\"F\")"
      ],
      "metadata": {
        "id": "4QX-XxRhZw1t",
        "colab": {
          "base_uri": "https://localhost:8080/"
        },
        "outputId": "a33ca4df-e4ad-46a8-91e9-ab3946e58354"
      },
      "execution_count": null,
      "outputs": [
        {
          "output_type": "stream",
          "name": "stdout",
          "text": [
            "Enter Marks 55\n",
            "D\n"
          ]
        }
      ]
    },
    {
      "cell_type": "markdown",
      "source": [
        "Explanation\n",
        "\n",
        "1. Taking Input\n",
        "2. Writing the conditions for assessment of grade\n",
        "3. Printing the result"
      ],
      "metadata": {
        "id": "5WT77Q4LYBCC"
      }
    },
    {
      "cell_type": "markdown",
      "source": [
        "Nested If-Else Statements:"
      ],
      "metadata": {
        "id": "sbjDqo6cYPcD"
      }
    },
    {
      "cell_type": "markdown",
      "source": [
        "11. Write a program to find the largest among three numbers using nested if-else statements."
      ],
      "metadata": {
        "id": "Kg0e5zCmYX8b"
      }
    },
    {
      "cell_type": "code",
      "source": [
        "x= int(input(\"Enter Number\"))\n",
        "y= int(input(\"Enter Number\"))\n",
        "z= int(input(\"Enter Number\"))\n",
        "if x>y and y>z:\n",
        "  print(x, \" is largest\")\n",
        "elif y>x and x>z:\n",
        "  print(y, \" is largest\")\n",
        "else:\n",
        "  print(z, \"is largest\")"
      ],
      "metadata": {
        "colab": {
          "base_uri": "https://localhost:8080/"
        },
        "id": "TOJi8EuZYfVU",
        "outputId": "d923eb1b-8c4c-4cfb-dc6e-b29fc6a9b8ba"
      },
      "execution_count": null,
      "outputs": [
        {
          "output_type": "stream",
          "name": "stdout",
          "text": [
            "Enter Number21\n",
            "Enter Number32\n",
            "Enter Number45\n",
            "45 is largest\n"
          ]
        }
      ]
    },
    {
      "cell_type": "markdown",
      "source": [
        "Explanation\n",
        "\n",
        "1. Taking input\n",
        "2. Calculating Maximum using nested if\n",
        "3. Printing Result"
      ],
      "metadata": {
        "id": "dSBVqAxyZrUO"
      }
    },
    {
      "cell_type": "markdown",
      "source": [
        "12. Implement a program to determine if a triangle is equilateral, isosceles, or scalene."
      ],
      "metadata": {
        "id": "WjlAmiFvZzyo"
      }
    },
    {
      "cell_type": "code",
      "source": [
        "x, y, z = [int(x) for x in input(\"Enter three values using spaces: \").split()]\n",
        "if x==y and y==z:\n",
        "  print(\"Equilateral\")\n",
        "elif x==y or y==z or x==z:\n",
        "  print(\"Isosceles\")\n",
        "else:\n",
        "  print(\"Scalene\")"
      ],
      "metadata": {
        "colab": {
          "base_uri": "https://localhost:8080/"
        },
        "id": "SrxfC4FgaT8O",
        "outputId": "260aae12-f87c-43b4-fbd8-418007bf05e6"
      },
      "execution_count": null,
      "outputs": [
        {
          "output_type": "stream",
          "name": "stdout",
          "text": [
            "Enter three values using spaces:  3 4 5\n",
            "Scalene\n"
          ]
        }
      ]
    },
    {
      "cell_type": "markdown",
      "source": [
        "Explanation\n",
        "\n",
        "1. Taking Input using list comprehension\n",
        "2. Checking for conditions of particular triangle\n",
        "3. Printing the result"
      ],
      "metadata": {
        "id": "cgGf9b20dJ9l"
      }
    },
    {
      "cell_type": "markdown",
      "source": [
        "13. Develop a program that checks if a year is a leap year and also if it is a century year."
      ],
      "metadata": {
        "id": "6h9Bbnk_dX9o"
      }
    },
    {
      "cell_type": "code",
      "source": [
        " year=int(input(\"Enter year to be checked \"))\n",
        " if(year%4==0 and year%100!= 0 or year%400==0):\n",
        "  print(\"The year is a leap year\")\n",
        "  if year%100==0:\n",
        "    print(\"Century Year\")\n",
        "  else :\n",
        "    print(\"Not A Century Year\")\n",
        " else:\n",
        "  print(\"The year isn't a leap year\")\n",
        "  if year%100==0:\n",
        "    print(\"Century Year\")\n",
        "  else :\n",
        "    print(\"Not A Century Year\")\n",
        "\n"
      ],
      "metadata": {
        "colab": {
          "base_uri": "https://localhost:8080/"
        },
        "id": "wml95hRSdhdn",
        "outputId": "11c046ac-d938-47f6-8e6d-0d0f5e1aa09c"
      },
      "execution_count": null,
      "outputs": [
        {
          "output_type": "stream",
          "name": "stdout",
          "text": [
            "Enter year to be checked 2022\n",
            "The year isn't a leap year\n",
            "Not A Century Year\n"
          ]
        }
      ]
    },
    {
      "cell_type": "markdown",
      "source": [
        "Explanation\n",
        "\n",
        "1. Taking Input\n",
        "2. Checking condition for leap year\n",
        "3. Checking condition for century year\n",
        "4. Printing the result"
      ],
      "metadata": {
        "id": "_B47Bxdif5dL"
      }
    },
    {
      "cell_type": "markdown",
      "source": [
        "14. Write a Python script to determine if a number is positive, negative, or zero."
      ],
      "metadata": {
        "id": "eRbvbCWegKML"
      }
    },
    {
      "cell_type": "code",
      "source": [
        "x=int(input(\"Enter Number \"))\n",
        "if x>0:\n",
        "  print(\"Positive\")\n",
        "elif x<0:\n",
        "  print(\"Negative\")\n",
        "elif x==0:\n",
        "  print(\"Zero\")\n",
        "else:\n",
        "  print(\"Incorrect Input\")"
      ],
      "metadata": {
        "colab": {
          "base_uri": "https://localhost:8080/"
        },
        "id": "IFWk8lqwgRrV",
        "outputId": "8f5e6057-06e7-4d74-93f2-f7f2f1fc20da"
      },
      "execution_count": null,
      "outputs": [
        {
          "output_type": "stream",
          "name": "stdout",
          "text": [
            "Enter Number 23\n",
            "Positive\n"
          ]
        }
      ]
    },
    {
      "cell_type": "markdown",
      "source": [
        "Explanation\n",
        "\n",
        "1. Taking Input\n",
        "2. Checking condition\n",
        "3. Printing result"
      ],
      "metadata": {
        "id": "57hTCHpFih_x"
      }
    },
    {
      "cell_type": "markdown",
      "source": [
        "15. Create a program to check if a person is a teenager (between 13 and 19 years old)."
      ],
      "metadata": {
        "id": "_n9u5wGIioeu"
      }
    },
    {
      "cell_type": "code",
      "source": [
        "x= int(input(\"Enter Age\"))\n",
        "if 19>=x>=13:\n",
        "  print(\"Teenager\")\n",
        "else:\n",
        "  print(\"Not A Teenager\")"
      ],
      "metadata": {
        "colab": {
          "base_uri": "https://localhost:8080/"
        },
        "id": "UfweZq4Kiy8P",
        "outputId": "199aacc0-c586-4715-c2c3-9ba36dec20ba"
      },
      "execution_count": null,
      "outputs": [
        {
          "output_type": "stream",
          "name": "stdout",
          "text": [
            "Enter Age15\n",
            "Teenager\n"
          ]
        }
      ]
    },
    {
      "cell_type": "markdown",
      "source": [
        "Explanation\n",
        "\n",
        "1. Taking input\n",
        "2. Checking condition\n",
        "3. Printing Result"
      ],
      "metadata": {
        "id": "4bIPHC1JjM7z"
      }
    },
    {
      "cell_type": "markdown",
      "source": [
        "16. Develop a program that determines the type of angle based on its measure (acute, obtuse, or right)."
      ],
      "metadata": {
        "id": "5VsvvO0wjcnh"
      }
    },
    {
      "cell_type": "code",
      "source": [
        "x= int(input(\"Enter Angle \"))\n",
        "if x<90:\n",
        "  print(\"Acute\")\n",
        "elif x>90:\n",
        "  print(\"Obtuse\")\n",
        "else:\n",
        "  print(\"Right Angle\")"
      ],
      "metadata": {
        "colab": {
          "base_uri": "https://localhost:8080/"
        },
        "id": "fB7h-Tb0jghG",
        "outputId": "964809a1-1f52-47a5-87f3-d5cc450324ef"
      },
      "execution_count": null,
      "outputs": [
        {
          "output_type": "stream",
          "name": "stdout",
          "text": [
            "Enter Angle 90\n",
            "Right Angle\n"
          ]
        }
      ]
    },
    {
      "cell_type": "markdown",
      "source": [
        "Explanation\n",
        "\n",
        "1. Taking Input\n",
        "2. Checking for condition\n",
        "3. Printing the result"
      ],
      "metadata": {
        "id": "wcuzPunEk-cj"
      }
    },
    {
      "cell_type": "markdown",
      "source": [
        "17. Write a Python program to calculate the roots of a quadratic equation."
      ],
      "metadata": {
        "id": "4KF5bCMElHFr"
      }
    },
    {
      "cell_type": "code",
      "source": [
        "import math\n",
        "\n",
        "a = float(input(\"Enter value of a \"))\n",
        "b = float(input(\"Enter value of b: \"))\n",
        "c = float(input(\"Enter value of c: \"))\n",
        "\n",
        "discriminant = b**2 - 4*a*c\n",
        "\n",
        "if discriminant > 0:\n",
        "    root1 = (-b + math.sqrt(discriminant)) / (2*a)\n",
        "    root2 = (-b - math.sqrt(discriminant)) / (2*a)\n",
        "    print(\"Two real and distinct roots:\", root1, \"and\", root2)\n",
        "elif discriminant == 0:\n",
        "    root1 = root2 = -b / (2*a)\n",
        "    print(\"Two real and equal roots:\", root1)\n",
        "else:\n",
        "    real_part = -b / (2*a)\n",
        "    imaginary_part = math.sqrt(abs(discriminant)) / (2*a)\n",
        "    print(\"Two complex roots:\", real_part, \"+\", imaginary_part, \"i and\", real_part, \"-\", imaginary_part, \"i\")"
      ],
      "metadata": {
        "colab": {
          "base_uri": "https://localhost:8080/"
        },
        "id": "9xYcV8IxlNEJ",
        "outputId": "ca664c20-0f34-4fa3-994a-e9fbc879c95b"
      },
      "execution_count": null,
      "outputs": [
        {
          "output_type": "stream",
          "name": "stdout",
          "text": [
            "Enter value of a 2\n",
            "Enter value of b: 8\n",
            "Enter value of c: 8\n",
            "Two real and equal roots: -2.0\n"
          ]
        }
      ]
    },
    {
      "cell_type": "markdown",
      "source": [
        "Explanation\n",
        "\n",
        "1. Taking input of values a b and c\n",
        "2. Calculating discriminant\n",
        "3. Calculating roots on the basis of discriminant\n",
        "4. Printing the result"
      ],
      "metadata": {
        "id": "insbOCVHnSHh"
      }
    },
    {
      "cell_type": "markdown",
      "source": [
        "18. Implement a program to determine the day of the week based on a user-provided number (1 for Monday, 2\n",
        "for Tuesday, etc.)."
      ],
      "metadata": {
        "id": "nS9qo1cqnoGq"
      }
    },
    {
      "cell_type": "code",
      "source": [
        "x=int(input(\"Enter number\"))\n",
        "if x==1:\n",
        "  print(\"Monday\")\n",
        "elif x==2:\n",
        "  print(\"Tuesday\")\n",
        "elif x==3:\n",
        "  print(\"Wednesday\")\n",
        "elif x==4:\n",
        "  print(\"Thursday\")\n",
        "elif x==5:\n",
        "  print(\"Friday\")\n",
        "elif x==6:\n",
        "  print(\"Saturday\")\n",
        "elif x==7:\n",
        "  print(\"Sunday\")\n",
        "else:\n",
        "  print(\"Invalid Input\")\n"
      ],
      "metadata": {
        "colab": {
          "base_uri": "https://localhost:8080/"
        },
        "id": "aNeWYGa6nw7I",
        "outputId": "b7d9f789-49f0-4b57-82fe-c62d1adf76e4"
      },
      "execution_count": null,
      "outputs": [
        {
          "output_type": "stream",
          "name": "stdout",
          "text": [
            "Enter number4\n",
            "Thursday\n"
          ]
        }
      ]
    },
    {
      "cell_type": "markdown",
      "source": [
        "Explanation\n",
        "\n",
        "1. Taking Input\n",
        "2. Checking for the day\n",
        "3. Printing the result"
      ],
      "metadata": {
        "id": "1ssCA5PdoqeS"
      }
    },
    {
      "cell_type": "markdown",
      "source": [
        "19. Create a program that determines if a year is a leap year and also if it is evenly divisible by 400."
      ],
      "metadata": {
        "id": "-KGa21VzpmQ8"
      }
    },
    {
      "cell_type": "code",
      "source": [
        " year=int(input(\"Enter year to be checked \"))\n",
        " if(year%4==0 and year%100!= 0 or year%400==0):\n",
        "  print(\"The year is a leap year\")\n",
        "  if year%400==0:\n",
        "    print(\"Evenly divisible by 400\")\n",
        "  else:\n",
        "    print(\"Not Evenly divisible by 400\")\n",
        " else:\n",
        "  print(\"The year isn't a leap year\")\n",
        "  if year%400==0:\n",
        "    print(\"Evenly divisible by 400\")\n",
        "  else:\n",
        "    print(\"Not Evenly divisible by 400\")"
      ],
      "metadata": {
        "colab": {
          "base_uri": "https://localhost:8080/"
        },
        "id": "h85ngQVDprRm",
        "outputId": "1d2fcfff-f541-40ff-f0b9-f26927cd02cb"
      },
      "execution_count": null,
      "outputs": [
        {
          "output_type": "stream",
          "name": "stdout",
          "text": [
            "Enter year to be checked 2000\n",
            "The year is a leap year\n",
            "Evenly divisible by 400\n"
          ]
        }
      ]
    },
    {
      "cell_type": "markdown",
      "source": [
        "Explanation\n",
        "\n",
        "1. Taking Input\n",
        "2. Checking for leap year\n",
        "3. Checking if evenly divisible by 400\n",
        "4. Printing the result"
      ],
      "metadata": {
        "id": "0s96wIu_qIW1"
      }
    },
    {
      "cell_type": "markdown",
      "source": [
        "20. Develop a program that checks if a given number is prime or not using nested if-else statements."
      ],
      "metadata": {
        "id": "aLBHfGlzqo8o"
      }
    },
    {
      "cell_type": "code",
      "source": [
        "number = int(input(\"Enter a number: \"))\n",
        "if number <= 1:\n",
        "    is_prime = False\n",
        "else:\n",
        "    is_prime = True\n",
        "    for i in range(2, int(number**0.5) + 1):\n",
        "        if number % i == 0:\n",
        "            is_prime = False\n",
        "            break\n",
        "\n",
        "if is_prime:\n",
        "    print(number, \"is prime.\")\n",
        "else:\n",
        "    print(number, \"is not prime.\")"
      ],
      "metadata": {
        "colab": {
          "base_uri": "https://localhost:8080/"
        },
        "id": "L4hb5lLaqvSw",
        "outputId": "52ee57b2-cf02-48c2-c326-7c945e60dd63"
      },
      "execution_count": null,
      "outputs": [
        {
          "output_type": "stream",
          "name": "stdout",
          "text": [
            "Enter a number: 1\n",
            "1 is not prime.\n"
          ]
        }
      ]
    },
    {
      "cell_type": "markdown",
      "source": [
        "Explanation\n",
        "\n",
        "1. Taking Input\n",
        "2. Filtering Out valies less than 1\n",
        "3. Checking For divisibility of the number within the range\n",
        "4. Printing the result"
      ],
      "metadata": {
        "id": "lNEsVGBcsrkD"
      }
    },
    {
      "cell_type": "markdown",
      "source": [
        "Elif Statements:"
      ],
      "metadata": {
        "id": "efaoWEzdtDIc"
      }
    },
    {
      "cell_type": "markdown",
      "source": [
        "21. Write a Python program to assign grades based on different ranges of scores using elif statements."
      ],
      "metadata": {
        "id": "igRz7GADtGWV"
      }
    },
    {
      "cell_type": "code",
      "source": [
        "x= int(input(\"Enter Marks \"))\n",
        "if x>=90:\n",
        "  print(\"A+\")\n",
        "elif 90>x>=80:\n",
        "  print(\"A\")\n",
        "elif 80>x>=70:\n",
        "  print(\"B\")\n",
        "elif 70>x>=60:\n",
        "  print(\"C\")\n",
        "elif 60>x>=50:\n",
        "  print(\"D\")\n",
        "elif 50>x>=40:\n",
        "  print(\"E\")\n",
        "else:\n",
        "  print(\"F\")"
      ],
      "metadata": {
        "colab": {
          "base_uri": "https://localhost:8080/"
        },
        "id": "sRCxAQSctilU",
        "outputId": "0ea757d5-55e9-4581-b307-0b4c6866550f"
      },
      "execution_count": null,
      "outputs": [
        {
          "output_type": "stream",
          "name": "stdout",
          "text": [
            "Enter Marks 83\n",
            "A\n"
          ]
        }
      ]
    },
    {
      "cell_type": "markdown",
      "source": [
        "Explanation\n",
        "\n",
        "1. Taking Input\n",
        "2. Checking for condition\n",
        "3. Print Result"
      ],
      "metadata": {
        "id": "ZvBoduw9NDhD"
      }
    },
    {
      "cell_type": "markdown",
      "source": [
        "22. Implement a program to determine the type of a triangle based on its angles."
      ],
      "metadata": {
        "id": "1NvHQrcnNKqv"
      }
    },
    {
      "cell_type": "code",
      "source": [
        "x, y, z = [int(x) for x in input(\"Enter the angles of Triangle \").split()]\n",
        "if x==y and y==z:\n",
        "  print(\"Equilateral\")\n",
        "elif x==y or y==z or x==z:\n",
        "  print(\"Isosceles\")\n",
        "else:\n",
        "  print(\"Scalene\")"
      ],
      "metadata": {
        "colab": {
          "base_uri": "https://localhost:8080/"
        },
        "id": "myWEQYhMNPmA",
        "outputId": "4637fb65-007c-4e06-ccaa-2623983100c3"
      },
      "execution_count": null,
      "outputs": [
        {
          "output_type": "stream",
          "name": "stdout",
          "text": [
            "Enter the angles of Triangle 60 60 60\n",
            "Equilateral\n"
          ]
        }
      ]
    },
    {
      "cell_type": "markdown",
      "source": [
        "Explanation\n",
        "\n",
        "1. Taking Input using list comprehension\n",
        "2. Checking for conditions of particular triangle\n",
        "3. Printing the result"
      ],
      "metadata": {
        "id": "stUZcJpPNsvP"
      }
    },
    {
      "cell_type": "markdown",
      "source": [
        "23. Develop a program to categorize a given person's BMI into underweight, normal, overweight, or obese using\n",
        "elif statements."
      ],
      "metadata": {
        "id": "T-eRicEsN3XB"
      }
    },
    {
      "cell_type": "code",
      "source": [
        "weight = float(input(\"Enter weight in kg: \"))\n",
        "height = float(input(\"Enter height in meters: \"))\n",
        "\n",
        "bmi = weight / (height ** 2)\n",
        "\n",
        "if bmi < 18.5:\n",
        "    category = \"Underweight\"\n",
        "elif 18.5 <= bmi < 24.9:\n",
        "    category = \"Normal\"\n",
        "elif 24.9 <= bmi < 29.9:\n",
        "    category = \"Overweight\"\n",
        "else:\n",
        "    category = \"Obese\"\n",
        "\n",
        "print(\"BMI Category:\", category)"
      ],
      "metadata": {
        "colab": {
          "base_uri": "https://localhost:8080/"
        },
        "id": "CCY6fyFBN8yC",
        "outputId": "58c90b3c-aa74-4447-a648-bb79cd8cf5ab"
      },
      "execution_count": null,
      "outputs": [
        {
          "output_type": "stream",
          "name": "stdout",
          "text": [
            "Enter weight in kg: 60\n",
            "Enter height in meters: 1.5\n",
            "BMI Category: Overweight\n"
          ]
        }
      ]
    },
    {
      "cell_type": "markdown",
      "source": [
        "Explanation\n",
        "\n",
        "1. Input: Person's weight (kg) and height (m)\n",
        "2. Calculate BMI\n",
        "3. Categorise using elif statement\n",
        "4. Printing the result"
      ],
      "metadata": {
        "id": "njmd_mSPPH46"
      }
    },
    {
      "cell_type": "markdown",
      "source": [
        "24. Create a program that determines whether a given number is positive, negative, or zero using elif\n",
        "statements."
      ],
      "metadata": {
        "id": "uHwhovZlPeTi"
      }
    },
    {
      "cell_type": "code",
      "source": [
        "x= int(input(\"Enter Number\"))\n",
        "if x>0:\n",
        "  print(\"Positive\")\n",
        "elif x<0:\n",
        "  print(\"Negative\")\n",
        "elif x==0:\n",
        "  print(\"Zero\")\n",
        "else:\n",
        "  print(\"Invalid\")"
      ],
      "metadata": {
        "colab": {
          "base_uri": "https://localhost:8080/"
        },
        "id": "0Ib6wPWfPnY5",
        "outputId": "fafcc716-6dd2-4cda-b2ee-2cfd848e32db"
      },
      "execution_count": null,
      "outputs": [
        {
          "output_type": "stream",
          "name": "stdout",
          "text": [
            "Enter Number23\n",
            "Positive\n"
          ]
        }
      ]
    },
    {
      "cell_type": "markdown",
      "source": [
        "Explanation\n",
        "\n",
        "1. Taking Input\n",
        "2. Checking for positive and negative numbers using if else statement\n",
        "3. Printing the result"
      ],
      "metadata": {
        "id": "wkD8zg1JQI0O"
      }
    },
    {
      "cell_type": "markdown",
      "source": [
        "25. Write a Python script to determine the type of a character (uppercase, lowercase, or special) using elif\n",
        "statements."
      ],
      "metadata": {
        "id": "SmwtI6N5QV1o"
      }
    },
    {
      "cell_type": "code",
      "source": [
        "x= input(\"Enter Character\")\n",
        "if x.isupper():\n",
        "  print(\"Uppercase\")\n",
        "elif x.islower():\n",
        "  print(\"Lowercase\")\n",
        "else:\n",
        "  print(\"Special\")"
      ],
      "metadata": {
        "colab": {
          "base_uri": "https://localhost:8080/"
        },
        "id": "ilr-chh1QaNf",
        "outputId": "fc1c8a43-4841-49fd-8248-32660408f6a0"
      },
      "execution_count": null,
      "outputs": [
        {
          "output_type": "stream",
          "name": "stdout",
          "text": [
            "Enter Charactera\n",
            "Lowercase\n"
          ]
        }
      ]
    },
    {
      "cell_type": "markdown",
      "source": [
        "Explanation\n",
        "\n",
        "1. Taking input\n",
        "2. Checking for uppercase using isupper() ,similarly for lowercase\n",
        "3. Printing the result."
      ],
      "metadata": {
        "id": "0YsqeElQS5tc"
      }
    },
    {
      "cell_type": "markdown",
      "source": [
        "26. Implement a program to calculate the discounted price based on different purchase amounts using elif\n",
        "statements."
      ],
      "metadata": {
        "id": "MdFnaUXSTJqp"
      }
    },
    {
      "cell_type": "code",
      "source": [
        "x= float(input(\"Enter Amount\"))\n",
        "if x>=1000:\n",
        "  discount = 0.1\n",
        "elif x>=500:\n",
        "  discount=0.5\n",
        "else:\n",
        "  discount=0\n",
        "\n",
        "discountedprice= x - x*discount\n",
        "print(\"Discounted Price is \", discountedprice)"
      ],
      "metadata": {
        "colab": {
          "base_uri": "https://localhost:8080/"
        },
        "id": "AMqt7-NSTUWw",
        "outputId": "bf3a690c-2304-4fc5-dfac-85e519d21c46"
      },
      "execution_count": null,
      "outputs": [
        {
          "output_type": "stream",
          "name": "stdout",
          "text": [
            "Enter Amount2050\n",
            "Discounted Price is  1845.0\n"
          ]
        }
      ]
    },
    {
      "cell_type": "markdown",
      "source": [
        "Explanation\n",
        "\n",
        "1. Taking Amount as input\n",
        "2. Checking the price for discount\n",
        "3. Printing the result"
      ],
      "metadata": {
        "id": "2DlA8XRQUsiR"
      }
    },
    {
      "cell_type": "markdown",
      "source": [
        "27. Develop a program to calculate the electricity bill based on different consumption slabs using elif\n",
        "statements."
      ],
      "metadata": {
        "id": "kPUYLDUUU96Q"
      }
    },
    {
      "cell_type": "code",
      "source": [
        "units=int(input(\"Enter Units\"))\n",
        "bill=0\n",
        "slab=0\n",
        "if units>=500:\n",
        "  slab=8\n",
        "elif units>=400:\n",
        "  slab=6\n",
        "elif units>=200:\n",
        "  slab=4\n",
        "else:\n",
        "  slab=3\n",
        "\n",
        "bill=units*slab\n",
        "print(\"Slab rate is \",slab,\"and bill is \",bill)\n"
      ],
      "metadata": {
        "colab": {
          "base_uri": "https://localhost:8080/"
        },
        "id": "vriZEuv4VBp0",
        "outputId": "0664dee7-751c-4b9d-c223-687c9dc35e93"
      },
      "execution_count": null,
      "outputs": [
        {
          "output_type": "stream",
          "name": "stdout",
          "text": [
            "Enter Units600\n",
            "Slab rate is  8 and bill is  4800\n"
          ]
        }
      ]
    },
    {
      "cell_type": "markdown",
      "source": [
        "Explanation\n",
        "\n",
        "1. Taking input\n",
        "2. Declaring variables\n",
        "3. Checking for the number of units used\n",
        "4. Calculating Bill\n",
        "5. Printing Result"
      ],
      "metadata": {
        "id": "Di-65egBxmD5"
      }
    },
    {
      "cell_type": "markdown",
      "source": [
        "28. Create a program to determine the type of quadrilateral based on its angles and sides using elif\n",
        "statements."
      ],
      "metadata": {
        "id": "_txLbM7tx0qf"
      }
    },
    {
      "cell_type": "code",
      "source": [
        "\n",
        "angle1 = float(input(\"Enter the first angle \"))\n",
        "angle2 = float(input(\"Enter the second angle \"))\n",
        "angle3 = float(input(\"Enter the third angle \"))\n",
        "angle4 = float(input(\"Enter the fourth angle \"))\n",
        "\n",
        "side1 = float(input(\"Enter the length of side 1 \"))\n",
        "side2 = float(input(\"Enter the length of side 2 \"))\n",
        "side3 = float(input(\"Enter the length of side 3 \"))\n",
        "side4 = float(input(\"Enter the length of side 4 \"))\n",
        "\n",
        "if angle1 == angle2 == angle3 == angle4 == 90:\n",
        "    quadrilateral_type = \"Rectangle\"\n",
        "elif angle1 == angle2 == angle3 == angle4 != 90:\n",
        "    quadrilateral_type = \"Rhombus\"\n",
        "elif angle1 == angle2 == angle3 == angle4 == 90 and side1 == side2 == side3 == side4:\n",
        "    quadrilateral_type = \"Square\"\n",
        "elif side1 == side2 == side3 == side4:\n",
        "    quadrilateral_type = \"Quadrilateral\"\n",
        "else:\n",
        "    quadrilateral_type = \"Irregular\"\n",
        "\n",
        "print(\"Quadrilateral type:\", quadrilateral_type)"
      ],
      "metadata": {
        "colab": {
          "base_uri": "https://localhost:8080/"
        },
        "id": "njnrvHsox19M",
        "outputId": "1d9b96ec-82b6-48aa-a002-49d74fb5b275"
      },
      "execution_count": null,
      "outputs": [
        {
          "output_type": "stream",
          "name": "stdout",
          "text": [
            "Enter the first angle 45\n",
            "Enter the second angle 50\n",
            "Enter the third angle 90\n",
            "Enter the fourth angle 175\n",
            "Enter the length of side 1 4\n",
            "Enter the length of side 2 3\n",
            "Enter the length of side 3 2\n",
            "Enter the length of side 4 5\n",
            "Quadrilateral type: Irregular\n"
          ]
        }
      ]
    },
    {
      "cell_type": "markdown",
      "source": [
        "Explanation\n",
        "\n",
        "1. Taking input of angle\n",
        "2. Taking input of sides\n",
        "3. Checking the comdition\n",
        "4. Printing the result"
      ],
      "metadata": {
        "id": "_rC-IJZ3yHwu"
      }
    },
    {
      "cell_type": "markdown",
      "source": [
        "29. Write a Python script to determine the season based on a user-provided month using elif statements."
      ],
      "metadata": {
        "id": "jT5ERhpCyyr1"
      }
    },
    {
      "cell_type": "code",
      "source": [
        "month = int(input(\"Enter the month number \"))\n",
        "\n",
        "if 3 <= month <= 5:\n",
        "    season = \"Spring\"\n",
        "elif 6 <= month <= 8:\n",
        "    season = \"Summer\"\n",
        "elif 9 <= month <= 11:\n",
        "    season = \"Autumn\"\n",
        "elif 12<=month<=2:\n",
        "    season = \"Winter\"\n",
        "\n",
        "print(\"Season:\", season)"
      ],
      "metadata": {
        "colab": {
          "base_uri": "https://localhost:8080/"
        },
        "id": "Ofu5mQIx06dq",
        "outputId": "cb21a5a6-ae2b-43bf-c1f7-11727e27ba00"
      },
      "execution_count": null,
      "outputs": [
        {
          "output_type": "stream",
          "name": "stdout",
          "text": [
            "Enter the month number 9\n",
            "Season: Autumn\n"
          ]
        }
      ]
    },
    {
      "cell_type": "markdown",
      "source": [
        "Explanation\n",
        "\n",
        "1. Taking Input\n",
        "2. Determining the season\n",
        "3. Printing result"
      ],
      "metadata": {
        "id": "Qc12wXgG1pxt"
      }
    },
    {
      "cell_type": "markdown",
      "source": [
        "30. Implement a program to determine the type of a year (leap or common) and month (30 or 31 days) using\n",
        "elif statements."
      ],
      "metadata": {
        "id": "1kerqAY71yOj"
      }
    },
    {
      "cell_type": "code",
      "source": [
        "year = int(input(\"Enter a year: \"))\n",
        "month = int(input(\"Enter a month (1-12): \"))\n",
        "\n",
        "if (year % 4 == 0 and year % 100 != 0) or (year % 400 == 0):\n",
        "    yeartype = \"Leap Year\"\n",
        "else:\n",
        "    yeartype = \"Common Year\"\n",
        "\n",
        "if month in [4, 6, 9, 11]:\n",
        "    days = 30\n",
        "elif month == 2:\n",
        "    days = 29 if yeartype == \"Leap Year\" else 28\n",
        "else:\n",
        "    days = 31\n",
        "\n",
        "print(yeartype)\n",
        "print(\"Number of days in the month:\", days)"
      ],
      "metadata": {
        "colab": {
          "base_uri": "https://localhost:8080/"
        },
        "id": "tSBKxAFH11ju",
        "outputId": "9913d005-f74b-4af3-9913-c3cde689c011"
      },
      "execution_count": null,
      "outputs": [
        {
          "output_type": "stream",
          "name": "stdout",
          "text": [
            "Enter a year: 2000\n",
            "Enter a month (1-12): 6\n",
            "Leap Year\n",
            "Number of days in the month: 30\n"
          ]
        }
      ]
    },
    {
      "cell_type": "markdown",
      "source": [
        "Explanation\n",
        "\n",
        "1. Taking Input Of Month and Year\n",
        "2. CHecking for leap year\n",
        "3. Determining the days of the month\n",
        "4. Printing the result"
      ],
      "metadata": {
        "id": "GHDoY-nJ2vlt"
      }
    },
    {
      "cell_type": "markdown",
      "source": [
        "Basic Level:"
      ],
      "metadata": {
        "id": "EwvnfpAF3ZV6"
      }
    },
    {
      "cell_type": "markdown",
      "source": [
        "1. Write a Python program that checks if a given number is positive, negative, or zero."
      ],
      "metadata": {
        "id": "NVoSVHxk3cN2"
      }
    },
    {
      "cell_type": "code",
      "source": [
        "x=int(input(\"Enter Number \"))\n",
        "if x>0:\n",
        "  print(\"Positive\")\n",
        "elif x<0:\n",
        "  print(\"Negative\")\n",
        "elif x==0:\n",
        "  print(\"Zero\")\n",
        "else:\n",
        "  print(\"Incorrect Input\")"
      ],
      "metadata": {
        "colab": {
          "base_uri": "https://localhost:8080/"
        },
        "id": "gz_sBJ8T3hGM",
        "outputId": "17434436-1991-43b1-f79f-4ee50e8e9442"
      },
      "execution_count": null,
      "outputs": [
        {
          "output_type": "stream",
          "name": "stdout",
          "text": [
            "Enter Number -3\n",
            "Negative\n"
          ]
        }
      ]
    },
    {
      "cell_type": "markdown",
      "source": [
        "Explanation\n",
        "\n",
        "1. Taking input\n",
        "2. Checking for condition\n",
        "3. Printing the result"
      ],
      "metadata": {
        "id": "HmD-rkAqVgfl"
      }
    },
    {
      "cell_type": "markdown",
      "source": [
        "2. Create a program to determine if a person is eligible to vote based on their age."
      ],
      "metadata": {
        "id": "wFuIC4twVp6f"
      }
    },
    {
      "cell_type": "code",
      "source": [
        "x=int(input(\"Enter Age \"))\n",
        "if x>=18:\n",
        "  print(\"Eligible\")\n",
        "else:\n",
        "  print(\"Not Eligible\")"
      ],
      "metadata": {
        "colab": {
          "base_uri": "https://localhost:8080/"
        },
        "id": "8JU5Fdv_VtDh",
        "outputId": "1833b183-16e9-4f88-88cd-4d5ceabeea10"
      },
      "execution_count": null,
      "outputs": [
        {
          "output_type": "stream",
          "name": "stdout",
          "text": [
            "Enter Age 25\n",
            "Eligible\n"
          ]
        }
      ]
    },
    {
      "cell_type": "markdown",
      "source": [
        "Explanation\n",
        "\n",
        "1. Taking INput\n",
        "2. Checking age criteria\n",
        "3. Printing result"
      ],
      "metadata": {
        "id": "ClK8Ne91V-HW"
      }
    },
    {
      "cell_type": "markdown",
      "source": [
        "3. Write a program to find the maximum of two given numbers using conditional statements."
      ],
      "metadata": {
        "id": "oiPHxDi6WFBR"
      }
    },
    {
      "cell_type": "code",
      "source": [
        "x=int(input(\"Enter First Number \"))\n",
        "y=int(input(\"Enter Second Number \"))\n",
        "if x>y:\n",
        "  print(\"Greatest is\",x)\n",
        "else:\n",
        "  print(\"Greatest is\",y)"
      ],
      "metadata": {
        "colab": {
          "base_uri": "https://localhost:8080/"
        },
        "id": "Hyie4-r4Wo5Q",
        "outputId": "660067aa-6e42-44be-f141-93cee8a08128"
      },
      "execution_count": null,
      "outputs": [
        {
          "output_type": "stream",
          "name": "stdout",
          "text": [
            "Enter First Number 23\n",
            "Enter Second Number 22\n",
            "Greatest is 23\n"
          ]
        }
      ]
    },
    {
      "cell_type": "markdown",
      "source": [
        "Explanation\n",
        "\n",
        "1. Taking input\n",
        "2. Conditional statemenet to check greatest\n",
        "3. Printing the result"
      ],
      "metadata": {
        "id": "Cjrx8oG5WxfC"
      }
    },
    {
      "cell_type": "markdown",
      "source": [
        "4. Develop a program that calculates the grade of a student based on their exam score."
      ],
      "metadata": {
        "id": "RcnYWfO8W8wv"
      }
    },
    {
      "cell_type": "code",
      "source": [
        "x= int(input(\"Enter Marks \"))\n",
        "if x>=90:\n",
        "  print(\"A+\")\n",
        "elif 90>x>=80:\n",
        "  print(\"A\")\n",
        "elif 80>x>=70:\n",
        "  print(\"B\")\n",
        "elif 70>x>=60:\n",
        "  print(\"C\")\n",
        "elif 60>x>=50:\n",
        "  print(\"D\")\n",
        "elif 50>x>=40:\n",
        "  print(\"E\")\n",
        "else:\n",
        "  print(\"F\")"
      ],
      "metadata": {
        "colab": {
          "base_uri": "https://localhost:8080/"
        },
        "id": "BSWNn6McXGbC",
        "outputId": "017f7264-7847-45b0-ed98-fd921f2b3524"
      },
      "execution_count": null,
      "outputs": [
        {
          "output_type": "stream",
          "name": "stdout",
          "text": [
            "Enter Marks 47\n",
            "E\n"
          ]
        }
      ]
    },
    {
      "cell_type": "markdown",
      "source": [
        "Explanation\n",
        "\n",
        "1. Entering marks\n",
        "2. Assigning grade values\n",
        "3. Checking condition\n",
        "4. Printing result"
      ],
      "metadata": {
        "id": "LOt2FpwMXNdg"
      }
    },
    {
      "cell_type": "markdown",
      "source": [
        "5. Create a program that checks if a year is a leap year or not."
      ],
      "metadata": {
        "id": "aiBBU9YyXaTN"
      }
    },
    {
      "cell_type": "code",
      "source": [
        " year=int(input(\"Enter year to be checked \"))\n",
        " if(year%4==0 and year%100!= 0 or year%400==0):\n",
        "  print(\"The year is a leap year\")\n",
        " else:\n",
        "  print(\"The year isn't a leap year\")"
      ],
      "metadata": {
        "colab": {
          "base_uri": "https://localhost:8080/"
        },
        "id": "M0lUknj_XiJ9",
        "outputId": "22679edb-77d8-4c34-d2fd-60d198a3dd4d"
      },
      "execution_count": null,
      "outputs": [
        {
          "output_type": "stream",
          "name": "stdout",
          "text": [
            "Enter year to be checked 1996\n",
            "The year is a leap year\n"
          ]
        }
      ]
    },
    {
      "cell_type": "markdown",
      "source": [
        "EXplanation\n",
        "\n",
        "1. Taking input\n",
        "2. Entering the condition for leap year\n",
        "3. Printing result"
      ],
      "metadata": {
        "id": "U9F799lKXp6-"
      }
    },
    {
      "cell_type": "markdown",
      "source": [
        "6. Write a program to classify a triangle based on its sides' lengths."
      ],
      "metadata": {
        "id": "d8QqBI30X2yt"
      }
    },
    {
      "cell_type": "code",
      "source": [
        "x, y, z = [int(x) for x in input(\"Enter three values using spaces: \").split()]\n",
        "if x==y and y==z:\n",
        "  print(\"Equilateral\")\n",
        "elif x==y or y==z or x==z:\n",
        "  print(\"Isosceles\")\n",
        "else:\n",
        "  print(\"Scalene\")"
      ],
      "metadata": {
        "colab": {
          "base_uri": "https://localhost:8080/"
        },
        "id": "isiHbSSOX6-k",
        "outputId": "b8779595-c538-4682-e4f8-f58d114ec1a6"
      },
      "execution_count": null,
      "outputs": [
        {
          "output_type": "stream",
          "name": "stdout",
          "text": [
            "Enter three values using spaces:  3 4 5\n",
            "Scalene\n"
          ]
        }
      ]
    },
    {
      "cell_type": "markdown",
      "source": [
        "Explanation\n",
        "\n",
        "1. TAking input using list comprehension\n",
        "2. Checking the sides\n",
        "3. Printing the result"
      ],
      "metadata": {
        "id": "-hklvUuwYGQm"
      }
    },
    {
      "cell_type": "markdown",
      "source": [
        "7. Build a program that determines the largest of three given numbers."
      ],
      "metadata": {
        "id": "ZjKJHyxjYPzh"
      }
    },
    {
      "cell_type": "code",
      "source": [
        "x= int(input(\"Enter Number\"))\n",
        "y= int(input(\"Enter Number\"))\n",
        "z= int(input(\"Enter Number\"))\n",
        "if x>y and y>z:\n",
        "  print(x, \" is largest\")\n",
        "elif y>x and x>z:\n",
        "  print(y, \" is largest\")\n",
        "else:\n",
        "  print(z, \"is largest\")"
      ],
      "metadata": {
        "colab": {
          "base_uri": "https://localhost:8080/"
        },
        "id": "2sn55YZAYSx4",
        "outputId": "639db541-591a-404c-835a-469c50d2c4aa"
      },
      "execution_count": null,
      "outputs": [
        {
          "output_type": "stream",
          "name": "stdout",
          "text": [
            "Enter Number25\n",
            "Enter Number47\n",
            "Enter Number94\n",
            "94 is largest\n"
          ]
        }
      ]
    },
    {
      "cell_type": "markdown",
      "source": [
        "Explanation\n",
        "\n",
        "1. Taking input\n",
        "2. Checking condition\n",
        "3. Printing result"
      ],
      "metadata": {
        "id": "1vHT1qGWYkVs"
      }
    },
    {
      "cell_type": "markdown",
      "source": [
        "8. Develop a program that checks whether a character is a vowel or a consonant."
      ],
      "metadata": {
        "id": "cwe4ScWTY1o8"
      }
    },
    {
      "cell_type": "code",
      "source": [
        "char=input(\"Enter Character \")\n",
        "vowel=['a','e','i','o','u','A','E','I','O','U']\n",
        "if char in vowel:\n",
        "  print(\"Vowel\")\n",
        "else:\n",
        "  print(\"Consonant\")"
      ],
      "metadata": {
        "colab": {
          "base_uri": "https://localhost:8080/"
        },
        "id": "UMYFUKjnY8pZ",
        "outputId": "dc985bbc-fc1b-42a8-d033-230ee2dc3779"
      },
      "execution_count": null,
      "outputs": [
        {
          "output_type": "stream",
          "name": "stdout",
          "text": [
            "Enter Character z\n",
            "Consonant\n"
          ]
        }
      ]
    },
    {
      "cell_type": "markdown",
      "source": [
        "Explanation\n",
        "\n",
        "1. Taking input\n",
        "2. assigning values of vowels\n",
        "3. Checking condition\n",
        "4. Printing result"
      ],
      "metadata": {
        "id": "IDdZ5LYtY_ur"
      }
    },
    {
      "cell_type": "markdown",
      "source": [
        "9. Create a program to calculate the total cost of a shopping cart based on discounts."
      ],
      "metadata": {
        "id": "9qMbr2UlZUi_"
      }
    },
    {
      "cell_type": "code",
      "source": [
        "x= float(input(\"Enter Amount\"))\n",
        "if x>=1000:\n",
        "  discount = 0.1\n",
        "elif x>=500:\n",
        "  discount=0.5\n",
        "else:\n",
        "  discount=0\n",
        "\n",
        "discountedprice= x - x*discount\n",
        "print(\"Discounted Price is \", discountedprice)"
      ],
      "metadata": {
        "colab": {
          "base_uri": "https://localhost:8080/"
        },
        "id": "Hua9x0cVZTU7",
        "outputId": "8673c271-ea2e-4d0d-b44a-8cbeac8e57b1"
      },
      "execution_count": null,
      "outputs": [
        {
          "output_type": "stream",
          "name": "stdout",
          "text": [
            "Enter Amount5000\n",
            "Discounted Price is  4500.0\n"
          ]
        }
      ]
    },
    {
      "cell_type": "markdown",
      "source": [
        "Explanation\n",
        "\n",
        "1. Taking input\n",
        "2. giving the discount on basis of slab\n",
        "3. Checking condition and calculating price\n",
        "4. Printing the result"
      ],
      "metadata": {
        "id": "Pf6CEwY8ZfKF"
      }
    },
    {
      "cell_type": "markdown",
      "source": [
        "10. Write a program that checks if a given number is even or odd."
      ],
      "metadata": {
        "id": "qmgaahmTZ1jI"
      }
    },
    {
      "cell_type": "code",
      "source": [
        "x= int(input(\" Enter Number \"))\n",
        "if x%2==0:\n",
        "  print(\"Even\")\n",
        "else:\n",
        "  print(\"Odd\")"
      ],
      "metadata": {
        "colab": {
          "base_uri": "https://localhost:8080/"
        },
        "id": "1ZQLVDKbZ2VY",
        "outputId": "b2d6eb86-98f4-4c7c-c399-9d432b3bbf97"
      },
      "execution_count": null,
      "outputs": [
        {
          "output_type": "stream",
          "name": "stdout",
          "text": [
            " Enter Number 23\n",
            "Odd\n"
          ]
        }
      ]
    },
    {
      "cell_type": "markdown",
      "source": [
        "Explanation\n",
        "\n",
        "1. taking input\n",
        "2. Checking for even\n",
        "3. Printing the result"
      ],
      "metadata": {
        "id": "fZ9ZJSIgaEIR"
      }
    },
    {
      "cell_type": "markdown",
      "source": [
        "Intermediate Level:"
      ],
      "metadata": {
        "id": "PXCHV2azaMU8"
      }
    },
    {
      "cell_type": "markdown",
      "source": [
        "11. Write a program that calculates the roots of a quadratic equation ."
      ],
      "metadata": {
        "id": "XEfOFQwuaRvi"
      }
    },
    {
      "cell_type": "code",
      "source": [
        "import math\n",
        "\n",
        "a = float(input(\"Enter value of a \"))\n",
        "b = float(input(\"Enter value of b: \"))\n",
        "c = float(input(\"Enter value of c: \"))\n",
        "\n",
        "discriminant = b**2 - 4*a*c\n",
        "\n",
        "if discriminant > 0:\n",
        "    root1 = (-b + math.sqrt(discriminant)) / (2*a)\n",
        "    root2 = (-b - math.sqrt(discriminant)) / (2*a)\n",
        "    print(\"Two real and distinct roots:\", root1, \"and\", root2)\n",
        "elif discriminant == 0:\n",
        "    root1 = root2 = -b / (2*a)\n",
        "    print(\"Two real and equal roots:\", root1)\n",
        "else:\n",
        "    real_part = -b / (2*a)\n",
        "    imaginary_part = math.sqrt(abs(discriminant)) / (2*a)\n",
        "    print(\"Two complex roots:\", real_part, \"+\", imaginary_part, \"i and\", real_part, \"-\", imaginary_part, \"i\")8"
      ],
      "metadata": {
        "colab": {
          "base_uri": "https://localhost:8080/"
        },
        "id": "ORlGTrPhxzUI",
        "outputId": "d0a912f9-d09a-4d1d-dca3-f5478b3e8df2"
      },
      "execution_count": null,
      "outputs": [
        {
          "output_type": "stream",
          "name": "stdout",
          "text": [
            "Enter value of a 4\n",
            "Enter value of b: 8\n",
            "Enter value of c: 6\n",
            "Two complex roots: -1.0 + 0.7071067811865476 i and -1.0 - 0.7071067811865476 i\n"
          ]
        }
      ]
    },
    {
      "cell_type": "markdown",
      "source": [
        "Explanation\n",
        "\n",
        "1. Takin value a ,b,c\n",
        "2. Calculating discriminant\n",
        "3. Checking condition based on discriminant\n",
        "3. Printing roots"
      ],
      "metadata": {
        "id": "v9xLQQQWx7CW"
      }
    },
    {
      "cell_type": "markdown",
      "source": [
        "12. Create a program that determines the day of the week based on the day number (1-7)."
      ],
      "metadata": {
        "id": "YempPKk8yITj"
      }
    },
    {
      "cell_type": "code",
      "source": [
        "x=int(input(\"Enter number\"))\n",
        "if x==1:\n",
        "  print(\"Monday\")\n",
        "elif x==2:\n",
        "  print(\"Tuesday\")\n",
        "elif x==3:\n",
        "  print(\"Wednesday\")\n",
        "elif x==4:\n",
        "  print(\"Thursday\")\n",
        "elif x==5:\n",
        "  print(\"Friday\")\n",
        "elif x==6:\n",
        "  print(\"Saturday\")\n",
        "elif x==7:\n",
        "  print(\"Sunday\")\n",
        "else:\n",
        "  print(\"Invalid Input\")"
      ],
      "metadata": {
        "colab": {
          "base_uri": "https://localhost:8080/"
        },
        "id": "uPCu-Vb7yNc8",
        "outputId": "5d725a86-19ea-4aef-96a9-602bc3c5066c"
      },
      "execution_count": null,
      "outputs": [
        {
          "output_type": "stream",
          "name": "stdout",
          "text": [
            "Enter number3\n",
            "Wednesday\n"
          ]
        }
      ]
    },
    {
      "cell_type": "markdown",
      "source": [
        "Explanation\n",
        "\n",
        "1. Taking input\n",
        "2. Assigning values to the days\n",
        "3. Checking condition based on it\n",
        "4. Printing result"
      ],
      "metadata": {
        "id": "2PhQcgu0zShW"
      }
    },
    {
      "cell_type": "markdown",
      "source": [
        "13. Develop a program that calculates the factorial of a given number using recursion."
      ],
      "metadata": {
        "id": "X_d7GBkLziWC"
      }
    },
    {
      "cell_type": "code",
      "source": [
        "def fact(n):\n",
        " if n==0:\n",
        "  return 1\n",
        " else:\n",
        "  return n*fact(n-1)\n",
        "\n",
        "x=int(input(\" Enter number \"))\n",
        "if x<0:\n",
        "  print(\"Invalid Input\")\n",
        "else:\n",
        "  value=fact(x)\n",
        "  print(\"Factorial is \",value)"
      ],
      "metadata": {
        "colab": {
          "base_uri": "https://localhost:8080/"
        },
        "id": "9E3RBe2PztmL",
        "outputId": "910ce54d-7af7-4247-972f-65ac88220ccc"
      },
      "execution_count": null,
      "outputs": [
        {
          "output_type": "stream",
          "name": "stdout",
          "text": [
            " Enter number 12\n",
            "Factorial is  479001600\n"
          ]
        }
      ]
    },
    {
      "cell_type": "markdown",
      "source": [
        "Explanation\n",
        "\n",
        "1. Defining a recursive function\n",
        "2. Taking Input\n",
        "3. Checking condition\n",
        "4. Calling function\n",
        "5. Printing result"
      ],
      "metadata": {
        "id": "f4JyJM3X2doZ"
      }
    },
    {
      "cell_type": "markdown",
      "source": [
        "14. Write a program to find the largest among three numbers without using the `max()` function."
      ],
      "metadata": {
        "id": "qYo15H4k2sYj"
      }
    },
    {
      "cell_type": "code",
      "source": [
        "x= int(input(\"Enter Number \"))\n",
        "y= int(input(\"Enter Number \"))\n",
        "z= int(input(\"Enter Number \"))\n",
        "l=0\n",
        "if x>y:\n",
        "  if x>z:\n",
        "    l=x\n",
        "  else:\n",
        "    l=z\n",
        "else:\n",
        "  if y>z:\n",
        "    l=y\n",
        "  else:\n",
        "    l=z\n",
        "\n",
        "print(\"Largest \",l)"
      ],
      "metadata": {
        "id": "lvVaoAAu2wsO"
      },
      "execution_count": null,
      "outputs": []
    },
    {
      "cell_type": "markdown",
      "source": [
        "Explanation\n",
        "\n",
        "1. Taking input\n",
        "2. Checking largest based on if else\n",
        "3. Printing the largest number"
      ],
      "metadata": {
        "id": "AHlR-5DB26iM"
      }
    },
    {
      "cell_type": "markdown",
      "source": [
        "15. Create a program that simulates a basic ATM transaction menu."
      ],
      "metadata": {
        "id": "kcgInBcV3DS7"
      }
    },
    {
      "cell_type": "code",
      "source": [
        "bal = 1000\n",
        "\n",
        "while True:\n",
        "    print(\"1. Check Balance\")\n",
        "    print(\"2. Deposit\")\n",
        "    print(\"3. Withdraw\")\n",
        "    print(\"4. Exit\")\n",
        "\n",
        "    choice = int(input(\"Enter your choice \"))\n",
        "\n",
        "    if choice == 1:\n",
        "        print(\"Balance: Rs\", bal)\n",
        "    elif choice == 2:\n",
        "        amount = float(input(\"Enter deposit amount: Rs\"))\n",
        "        bal += amount\n",
        "        print(\"Deposit successful. New balance: Rs\", bal)\n",
        "    elif choice == 3:\n",
        "        amount = float(input(\"Enter withdrawal amount: Rs\"))\n",
        "        if amount <= bal:\n",
        "            bal -= amount\n",
        "            print(\"Withdrawal successful. New balance: Rs\", bal)\n",
        "        else:\n",
        "            print(\"Insufficient funds.\")\n",
        "    elif choice == 4:\n",
        "        print(\"Exiting ATM \")\n",
        "        break\n",
        "    else:\n",
        "        print(\"Invalid choice. Please select a valid option.\")\n"
      ],
      "metadata": {
        "colab": {
          "base_uri": "https://localhost:8080/"
        },
        "id": "E3dzuDS63TDA",
        "outputId": "e4f2fef1-cd85-40a2-f6e1-13a9493b8aea"
      },
      "execution_count": null,
      "outputs": [
        {
          "output_type": "stream",
          "name": "stdout",
          "text": [
            "1. Check Balance\n",
            "2. Deposit\n",
            "3. Withdraw\n",
            "4. Exit\n",
            "Enter your choice 2\n",
            "Enter deposit amount: Rs5000\n",
            "Deposit successful. New balance: Rs 6000.0\n",
            "1. Check Balance\n",
            "2. Deposit\n",
            "3. Withdraw\n",
            "4. Exit\n",
            "Enter your choice 4\n",
            "Exiting ATM \n"
          ]
        }
      ]
    },
    {
      "cell_type": "markdown",
      "source": [
        "Explanation\n",
        "\n",
        "1. Declaring an initial balance of dunds\n",
        "2. Declaring while so as to repeat function until break encounters\n",
        "3. Taking user input to find the purpose\n",
        "4. After the desired function\n",
        "5. Display the result"
      ],
      "metadata": {
        "id": "XaG11Wkb5Ytn"
      }
    },
    {
      "cell_type": "markdown",
      "source": [
        "16. Build a program that checks if a given string is a palindrome or not."
      ],
      "metadata": {
        "id": "FCQsOfyt52EV"
      }
    },
    {
      "cell_type": "code",
      "source": [
        "x=input(\"Enter String\")\n",
        "z = x.replace(\" \", \"\").lower()\n",
        "y=z[::-1]\n",
        "\n",
        "if z==y:\n",
        "  print(\"Is Palindrome\")\n",
        "else:\n",
        "  print(\"Is Not Palindrome\")"
      ],
      "metadata": {
        "colab": {
          "base_uri": "https://localhost:8080/"
        },
        "id": "52U-9OGo8pq_",
        "outputId": "a59ed66c-2bdb-4ea9-cbdd-bafd660433bf"
      },
      "execution_count": null,
      "outputs": [
        {
          "output_type": "stream",
          "name": "stdout",
          "text": [
            "Enter StringWow\n",
            "Is Palindrome\n"
          ]
        }
      ]
    },
    {
      "cell_type": "markdown",
      "source": [
        "Explanation\n",
        "\n",
        "1. Taking Input\n",
        "2. Removing the soaces and converting to lower\n",
        "3. Checking both the strings using conditional statement\n",
        "4. Printing the result"
      ],
      "metadata": {
        "id": "g_oEObrwCXj6"
      }
    },
    {
      "cell_type": "markdown",
      "source": [
        "17. Write a program that calculates the average of a list of numbers, excluding the smallest and largest values."
      ],
      "metadata": {
        "id": "8gXGhNFRCkBz"
      }
    },
    {
      "cell_type": "code",
      "source": [
        "num = [float(x) for x in input(\"Enter numbers separated by spaces  \").split()]\n",
        "if len(num)>=3:\n",
        "  num.sort()\n",
        "  num=num[1:-1]\n",
        "  avg=sum(num)/len(num)\n",
        "  print(\"Average is \",avg)\n",
        "else:\n",
        "  print(\"Enter 3 or more numbers\")"
      ],
      "metadata": {
        "colab": {
          "base_uri": "https://localhost:8080/"
        },
        "id": "UYkRN1dzCtQ9",
        "outputId": "130345ef-b947-42f2-feb8-02f955e0a5e5"
      },
      "execution_count": null,
      "outputs": [
        {
          "output_type": "stream",
          "name": "stdout",
          "text": [
            "Enter numbers separated by spaces  9 7 2 5 3\n",
            "Average is  5.0\n"
          ]
        }
      ]
    },
    {
      "cell_type": "markdown",
      "source": [
        "Explanation\n",
        "\n",
        "1. Taking inout using list comprehension\n",
        "2. Sorting the numbers\n",
        "3. Excluding the smallest and largest\n",
        "4. Calculating avg\n",
        "5. Printing Average"
      ],
      "metadata": {
        "id": "Bf9dTLzaE8nc"
      }
    },
    {
      "cell_type": "markdown",
      "source": [
        "18. Develop a program that converts a given temperature from Celsius to Fahrenheit."
      ],
      "metadata": {
        "id": "y_XSlCtPFMN5"
      }
    },
    {
      "cell_type": "code",
      "source": [
        "x=int(input(\" Enter temperature \"))\n",
        "f=(9*x/5)+32\n",
        "print(\"Temp in Fahrenheit \", f)\n"
      ],
      "metadata": {
        "colab": {
          "base_uri": "https://localhost:8080/"
        },
        "id": "f3RwzAC8FZfJ",
        "outputId": "e5f15445-d4dc-4368-e59d-c4ef8c5527ea"
      },
      "execution_count": null,
      "outputs": [
        {
          "output_type": "stream",
          "name": "stdout",
          "text": [
            " Enter temperature 54\n",
            "Temp in Fahrenheit  129.2\n"
          ]
        }
      ]
    },
    {
      "cell_type": "markdown",
      "source": [
        "Explanation\n",
        "\n",
        "1. Taking input\n",
        "2. Converting to fahrenheit\n",
        "3. Display the result"
      ],
      "metadata": {
        "id": "JwRw21UuGFrC"
      }
    },
    {
      "cell_type": "markdown",
      "source": [
        "19. Create a program that simulates a basic calculator for addition, subtraction, multiplication, and division."
      ],
      "metadata": {
        "id": "UuANwSEDGMMi"
      }
    },
    {
      "cell_type": "code",
      "source": [
        "num1 = float(input(\"Enter first number: \"))\n",
        "num2 = float(input(\"Enter second number: \"))\n",
        "operation = input(\"Enter operation (+, -, *, /): \")\n",
        "\n",
        "if operation == '+':\n",
        "    result = num1 + num2\n",
        "elif operation == '-':\n",
        "    result = num1 - num2\n",
        "elif operation == '*':\n",
        "    result = num1 * num2\n",
        "elif operation == '/':\n",
        "    if num2 != 0:\n",
        "        result = num1 / num2\n",
        "    else:\n",
        "        result = \"Not Defined\"\n",
        "else:\n",
        "    result = \"Invalid \"\n",
        "\n",
        "print(\"Result is \", result)"
      ],
      "metadata": {
        "colab": {
          "base_uri": "https://localhost:8080/"
        },
        "id": "_KhVEzghGSAz",
        "outputId": "3ea8822c-eccd-4653-ebe1-45a098e85e9e"
      },
      "execution_count": null,
      "outputs": [
        {
          "output_type": "stream",
          "name": "stdout",
          "text": [
            "Enter first number: 45\n",
            "Enter second number: 54\n",
            "Enter operation (+, -, *, /): +\n",
            "Result is  99.0\n"
          ]
        }
      ]
    },
    {
      "cell_type": "markdown",
      "source": [
        "Explanation\n",
        "\n",
        "1. Taking both numbers and the operation\n",
        "2. Checking condition based on operation\n",
        "3. Performing the operation\n",
        "4. Printing the result"
      ],
      "metadata": {
        "id": "V-5ncMnSGsNN"
      }
    },
    {
      "cell_type": "markdown",
      "source": [
        "20. Write a program that determines the roots of a cubic equation using the Cardano formula."
      ],
      "metadata": {
        "id": "A5DR3I5OG3rp"
      }
    },
    {
      "cell_type": "code",
      "source": [
        "a = float(input(\"Enter coefficient a: \"))\n",
        "b = float(input(\"Enter coefficient b: \"))\n",
        "c = float(input(\"Enter coefficient c: \"))\n",
        "d = float(input(\"Enter coefficient d: \"))\n",
        "\n",
        "p = c/a - (b**2)/(3*a**2)\n",
        "q = (2*b**3)/(27*a**3) - (b*c)/(3*a**2) + d/a\n",
        "\n",
        "discriminant = (q**2)/4 + (p**3)/27\n",
        "\n",
        "if discriminant > 0:\n",
        "    root1 = (-q/2 + discriminant**0.5)**(1/3) + (-q/2 - discriminant**0.5)**(1/3) - b/(3*a)\n",
        "    print(\"One real root:\", root1)\n",
        "elif discriminant == 0:\n",
        "    root1 = -q/2**(1/3) - b/(3*a)\n",
        "    root2 = -(2**0.5)*root1 - b/(3*a)\n",
        "    root3 = (2**0.5)*root1 - b/(3*a)\n",
        "    print(\"Three real roots:\", root1, \",\", root2, \",\", root3)\n",
        "else:\n",
        "    real_part = -q/2**(1/3)\n",
        "    imaginary_part = (3**0.5/2)*(discriminant**0.5)\n",
        "    root1 = (real_part + imaginary_part)**(1/3) + (real_part - imaginary_part)**(1/3) - b/(3*a)\n",
        "    print(\"One real root and two complex roots:\", root1)"
      ],
      "metadata": {
        "colab": {
          "base_uri": "https://localhost:8080/"
        },
        "id": "lSOOrhnpG8PG",
        "outputId": "7e676ee5-7ddf-4701-c3e5-c964eede0f5a"
      },
      "execution_count": null,
      "outputs": [
        {
          "output_type": "stream",
          "name": "stdout",
          "text": [
            "Enter coefficient a: 23\n",
            "Enter coefficient b: 24\n",
            "Enter coefficient c: 23\n",
            "Enter coefficient d: 25\n",
            "One real root: (0.34848790042901756+0.8154270072671422j)\n"
          ]
        }
      ]
    },
    {
      "cell_type": "markdown",
      "source": [
        "Explanation\n",
        "\n",
        "1. Taking input of coefficients\n",
        "2. Caclulating p and q\n",
        "3. Calculating discriminant\n",
        "4. Calculating roots based on discriminant\n",
        "5. Printing the roots"
      ],
      "metadata": {
        "id": "wxAZLD2xHKg9"
      }
    },
    {
      "cell_type": "markdown",
      "source": [
        "Advanced Level:"
      ],
      "metadata": {
        "id": "zCdI0BJQHpQR"
      }
    },
    {
      "cell_type": "markdown",
      "source": [
        "21. Create a program that calculates the income tax based on the user's income and tax brackets."
      ],
      "metadata": {
        "id": "EjjVveXJHsg2"
      }
    },
    {
      "cell_type": "code",
      "source": [
        "income = float(input(\"Enter your income: \"))\n",
        "\n",
        "brackets = [300000, 500000, 700000, 1000000]\n",
        "rates = [0.1, 0.2, 0.3, 0.4, 0.5]\n",
        "\n",
        "tax = 0\n",
        "remaining_income = income\n",
        "for i in range(len(brackets)):\n",
        "    if remaining_income <= 0:\n",
        "        break\n",
        "    if i == len(brackets) - 1 or remaining_income <= brackets[i+1]:\n",
        "        tax += remaining_income * rates[i]\n",
        "    else:\n",
        "        tax += brackets[i] * rates[i]\n",
        "        remaining_income -= brackets[i]\n",
        "\n",
        "print(\"Income tax:\", tax)"
      ],
      "metadata": {
        "colab": {
          "base_uri": "https://localhost:8080/"
        },
        "id": "6cOBFQ4B8kPb",
        "outputId": "96bda524-4402-4a1f-834d-030bf5835d66"
      },
      "execution_count": null,
      "outputs": [
        {
          "output_type": "stream",
          "name": "stdout",
          "text": [
            "Enter your income: 5000000\n",
            "Income tax: 1740000.0\n"
          ]
        }
      ]
    },
    {
      "cell_type": "markdown",
      "source": [
        "Explanation\n",
        "\n",
        "1. Taking users income as input\n",
        "2. Declaring tax brackets and rates\n",
        "3. Calculating income based on tax brackets\n",
        "4. Printing result"
      ],
      "metadata": {
        "id": "pFxrIm609CIX"
      }
    },
    {
      "cell_type": "markdown",
      "source": [
        "22. Write a program that simulates a rock-paper-scissors game against the computer."
      ],
      "metadata": {
        "id": "MQnH5xQ_9yvj"
      }
    },
    {
      "cell_type": "code",
      "source": [
        "import random\n",
        "user=input(print(\"Enter Choice : rock , paper ,scissors  \"))\n",
        "x=user.lower()\n",
        "choices=['rock','paper','scissors']\n",
        "computer_choice = random.choice(choices)\n",
        "if x==computer_choice:\n",
        "  print(\" Tie \")\n",
        "elif (x == 'rock' and computer_choice == 'scissors') or (x == 'paper' and computer_choice == 'rock') or (x == 'scissors' and computer_choice == 'paper'):\n",
        "  print(\" You Win and computer's choice is \",computer_choice)\n",
        "else:\n",
        "  print(\" Computer Wins and its choice is \",computer_choice)\n",
        "\n"
      ],
      "metadata": {
        "colab": {
          "base_uri": "https://localhost:8080/"
        },
        "id": "MVV7lPBq92S8",
        "outputId": "990aa51e-c573-456f-b586-235f9de3f146"
      },
      "execution_count": null,
      "outputs": [
        {
          "output_type": "stream",
          "name": "stdout",
          "text": [
            "Enter Choice : rock , paper ,scissors  \n",
            "Nonerock\n",
            " You Win and computer's choice is  scissors\n"
          ]
        }
      ]
    },
    {
      "cell_type": "markdown",
      "source": [
        "Explanation\n",
        "\n",
        "1. importing library\n",
        "2. Taking User input\n",
        "3. Converting to lowercase\n",
        "4. Generating random computer choices\n",
        "5. Generating Result based on conditional statement\n",
        "6. Printing result"
      ],
      "metadata": {
        "id": "xQjgv7pO_z7J"
      }
    },
    {
      "cell_type": "markdown",
      "source": [
        "23. Develop a program that generates a random password based on user preferences (length, complexity)."
      ],
      "metadata": {
        "id": "FvoCD9iDALyu"
      }
    },
    {
      "cell_type": "code",
      "source": [
        "import random\n",
        "import string\n",
        "\n",
        "# Input: Password length and complexity\n",
        "length = int(input(\"Enter the length of the password: \"))\n",
        "complexity = input(\"Enter complexity (easy, medium, strong): \").lower()\n",
        "\n",
        "# Define character sets based on complexity\n",
        "if complexity == 'easy':\n",
        "    characters = string.ascii_letters + string.digits\n",
        "elif complexity == 'medium':\n",
        "    characters = string.ascii_letters + string.digits + string.punctuation\n",
        "elif complexity == 'strong':\n",
        "    characters = string.ascii_letters + string.digits + string.punctuation + string.ascii_letters.upper()\n",
        "else:\n",
        "    print(\"Invalid complexity choice.\")\n",
        "    exit()\n",
        "\n",
        "# Generate the password\n",
        "password = ''.join(random.choice(characters) for _ in range(length))\n",
        "print(\"Generated password:\", password)"
      ],
      "metadata": {
        "colab": {
          "base_uri": "https://localhost:8080/"
        },
        "id": "rImgtgJaAQoH",
        "outputId": "2bc8811a-a176-49fb-a5c3-15a45c7ad517"
      },
      "execution_count": null,
      "outputs": [
        {
          "output_type": "stream",
          "name": "stdout",
          "text": [
            "Enter the length of the password: 8\n",
            "Enter complexity (easy, medium, strong): medium\n",
            "Generated password: PIJAit>!\n"
          ]
        }
      ]
    },
    {
      "cell_type": "markdown",
      "source": [
        "Explanation\n",
        "\n",
        "1. Importing random and string\n",
        "2. taking input of length and complexity\n",
        "3. Joining them based on complexity\n",
        "4. Generating password\n",
        "5. Printing password\n",
        "\n"
      ],
      "metadata": {
        "id": "M5XmVaSDCx5g"
      }
    },
    {
      "cell_type": "markdown",
      "source": [
        "24. Create a program that implements a simple text-based adventure game with branching scenarios."
      ],
      "metadata": {
        "id": "NPVpKn2ODsuw"
      }
    },
    {
      "cell_type": "code",
      "source": [
        "\n",
        "print(\"You are in an abandoned ship. You can go in or turn back\")\n",
        "\n",
        "\n",
        "choice = input(\"Which path do you choose? (forward/back): \").lower()\n",
        "\n",
        "if choice == 'forward':\n",
        "    print(\"You find the hidden treasure!\")\n",
        "else:\n",
        "    print(\"You turn back .\")\n",
        "\n",
        "\n",
        "print(\"The adventure ends.\")"
      ],
      "metadata": {
        "id": "qojywZ4wDyjv",
        "colab": {
          "base_uri": "https://localhost:8080/"
        },
        "outputId": "c5465c70-a177-435b-c4cb-2e750acc0fb3"
      },
      "execution_count": 16,
      "outputs": [
        {
          "output_type": "stream",
          "name": "stdout",
          "text": [
            "You are in an abandoned ship. You can go in or turn back\n",
            "Which path do you choose? (forward/back): forward\n",
            "You find the hidden treasure!\n",
            "The adventure ends.\n"
          ]
        }
      ]
    },
    {
      "cell_type": "markdown",
      "source": [
        "Explanation\n",
        "\n",
        "1. Declaring the scenario\n",
        "2. Taking the input\n",
        "3. Braching conditions given\n",
        "4. Print the output"
      ],
      "metadata": {
        "id": "KSxg3SFrcm1A"
      }
    },
    {
      "cell_type": "markdown",
      "source": [
        "25. Build a program that solves a linear equation for x, considering different cases."
      ],
      "metadata": {
        "id": "hGaUdjzzcnwj"
      }
    },
    {
      "cell_type": "code",
      "source": [
        "a=float(input(\" Enter coefficient of a \"))\n",
        "b=float(input(\" Enter coefficient of b \"))\n",
        "if a == 0:\n",
        "    if b == 0:\n",
        "        print( \"Infinite solutions \")\n",
        "    else:\n",
        "        print = (\"No solution \")\n",
        "else:\n",
        "    x = -b / a\n",
        "    print(x)"
      ],
      "metadata": {
        "colab": {
          "base_uri": "https://localhost:8080/"
        },
        "id": "9ryGnSsWcq-S",
        "outputId": "b66b4bb2-db5b-4461-f72f-689b83f79b5f"
      },
      "execution_count": null,
      "outputs": [
        {
          "output_type": "stream",
          "name": "stdout",
          "text": [
            " Enter coefficient of a 24\n",
            " Enter coefficient of b 20\n",
            "-0.8333333333333334\n"
          ]
        }
      ]
    },
    {
      "cell_type": "markdown",
      "source": [
        "Explanation\n",
        "\n",
        "1. Taking input of coefficient\n",
        "2. Calculating output based on condition\n",
        "3. Print result"
      ],
      "metadata": {
        "id": "efvNlzPEe1TS"
      }
    },
    {
      "cell_type": "markdown",
      "source": [
        "26. Write a program that simulates a basic quiz game with multiple-choice questions and scoring."
      ],
      "metadata": {
        "id": "6cP8GHtDfEPw"
      }
    },
    {
      "cell_type": "code",
      "source": [
        "questions=[\"When is Independence day celebrated in India\",\"What is the ocean at the souther part of India\"]\n",
        "answers=[\"15 August\",\"Indian Ocean\"]\n",
        "a=0\n",
        "for i, question in enumerate(questions):\n",
        "    print(f\"Question {i + 1}: {question}\")\n",
        "    user_answer = input(\"Your answer: \")\n",
        "    if user_answer.lower() == answers[i].lower():\n",
        "        print(\"Correct!\")\n",
        "        a += 1\n",
        "    else:\n",
        "        print(f\"Wrong! The correct answer is {answers[i]}.\")\n",
        "\n",
        "print(\"Score is \",a)"
      ],
      "metadata": {
        "colab": {
          "base_uri": "https://localhost:8080/"
        },
        "id": "_NG8LztYeqTz",
        "outputId": "e1f02c41-6b18-4b94-d468-e7b92c53b043"
      },
      "execution_count": 15,
      "outputs": [
        {
          "output_type": "stream",
          "name": "stdout",
          "text": [
            "Question 1: When is Independence day celebrated in India\n",
            "Your answer: 15 August\n",
            "Correct!\n",
            "Question 2: What is the ocean at the souther part of India\n",
            "Your answer: Indian Ocean\n",
            "Correct!\n",
            "Score is  2\n"
          ]
        }
      ]
    },
    {
      "cell_type": "markdown",
      "source": [
        "Explanation\n",
        "\n",
        "1. Defining the question as well as the answers\n",
        "2. Iterating through the questions\n",
        "3. Checking for validity of answers using conditional statement\n",
        "4. Calculating score\n",
        "5. Printing Score"
      ],
      "metadata": {
        "id": "Ngku-HmCgZlD"
      }
    },
    {
      "cell_type": "markdown",
      "source": [
        "27. Develop a program that determines whether a given year is a prime number or not."
      ],
      "metadata": {
        "id": "20emdjnCgZ5H"
      }
    },
    {
      "cell_type": "code",
      "source": [
        "x = int(input(\"Enter the year \"))\n",
        "\n",
        "if x > 1:\n",
        "    for i in range(2, x):\n",
        "        if (x % i) == 0:\n",
        "            print(\"Not Prime\")\n",
        "            break\n",
        "    else:\n",
        "        print(\"Prime\")\n",
        "else:\n",
        "    print( \" not prime.\")"
      ],
      "metadata": {
        "colab": {
          "base_uri": "https://localhost:8080/"
        },
        "id": "sKGErDSzgbRl",
        "outputId": "733c2961-ce35-48f8-e8b6-aa4d701dbe8d"
      },
      "execution_count": null,
      "outputs": [
        {
          "output_type": "stream",
          "name": "stdout",
          "text": [
            "Enter the year 2022\n",
            "Not Prime\n"
          ]
        }
      ]
    },
    {
      "cell_type": "markdown",
      "source": [
        "Explanation\n",
        "\n",
        "1. Taking input of year\n",
        "2. Checking if it's prime\n",
        "3. Print result"
      ],
      "metadata": {
        "id": "3nGKk1yXhTqZ"
      }
    },
    {
      "cell_type": "markdown",
      "source": [
        "28. Create a program that sorts three numbers in ascending order using conditional statements."
      ],
      "metadata": {
        "id": "fGm53EEchbTs"
      }
    },
    {
      "cell_type": "code",
      "source": [
        "x = float(input(\"Enter the first number: \"))\n",
        "y = float(input(\"Enter the second number: \"))\n",
        "z = float(input(\"Enter the third number: \"))\n",
        "\n",
        "if x > y:\n",
        "    x, y = y, x\n",
        "\n",
        "if x > z:\n",
        "    x, z = z, x\n",
        "\n",
        "if y > z:\n",
        "    y, z = z, y\n",
        "\n",
        "print(\"The numbers in ascending order are:\", x, y, z)"
      ],
      "metadata": {
        "colab": {
          "base_uri": "https://localhost:8080/"
        },
        "id": "mTssuEP2ho_O",
        "outputId": "37cd8f0b-d2c7-48ea-88c0-825a5e5d7a85"
      },
      "execution_count": null,
      "outputs": [
        {
          "output_type": "stream",
          "name": "stdout",
          "text": [
            "Enter the first number: 25\n",
            "Enter the second number: 97\n",
            "Enter the third number: 45\n",
            "The numbers in ascending order are: 25.0 45.0 97.0\n"
          ]
        }
      ]
    },
    {
      "cell_type": "markdown",
      "source": [
        "Explanation\n",
        "\n",
        "1. Input three numbers from the user\n",
        "2. Check and swap the numbers\n",
        "3. Print the numbers in ascending order"
      ],
      "metadata": {
        "id": "xNaAs5Czhx7z"
      }
    },
    {
      "cell_type": "markdown",
      "source": [
        "29. Build a program that determines the roots of a quartic equation using numerical methods."
      ],
      "metadata": {
        "id": "NOL_MasMiv6z"
      }
    },
    {
      "cell_type": "code",
      "source": [
        "import math\n",
        "\n",
        "\n",
        "a = float(input(\"Enter coefficient a \"))\n",
        "b = float(input(\"Enter coefficient b \"))\n",
        "c = float(input(\"Enter coefficient c \"))\n",
        "\n",
        "discriminant = b**2 - 4*a*c\n",
        "\n",
        "if discriminant > 0:\n",
        "    root1 = (-b + math.sqrt(discriminant)) / (2*a)\n",
        "    root2 = (-b - math.sqrt(discriminant)) / (2*a)\n",
        "    print(\"Two real and distinct roots \", root1, \"and\", root2)\n",
        "elif discriminant == 0:\n",
        "    root1 = root2 = -b / (2*a)\n",
        "    print(\"Two real and equal roots \", root1)\n",
        "else:\n",
        "    real_part = -b / (2*a)\n",
        "    imaginary_part = math.sqrt(abs(discriminant)) / (2*a)\n",
        "    print(\"Two complex roots \", real_part, \"+\", imaginary_part, \"i and\", real_part, \"-\", imaginary_part, \"i\")"
      ],
      "metadata": {
        "colab": {
          "base_uri": "https://localhost:8080/"
        },
        "id": "APB7QtyPizpv",
        "outputId": "6986c443-ba4e-49ae-a1b8-b0319998800d"
      },
      "execution_count": null,
      "outputs": [
        {
          "output_type": "stream",
          "name": "stdout",
          "text": [
            "Enter coefficient a: 20\n",
            "Enter coefficient b: 40\n",
            "Enter coefficient c: 10\n",
            "Two real and distinct roots: -0.2928932188134524 and -1.7071067811865475\n"
          ]
        }
      ]
    },
    {
      "cell_type": "markdown",
      "source": [
        "Explanation\n",
        "\n",
        "1. Taking input of coefficient\n",
        "2. Calculating the discriminant\n",
        "3. Calculating roots based on discriminant\n",
        "4. Printing the roots"
      ],
      "metadata": {
        "id": "EZi7g59xjcHa"
      }
    },
    {
      "cell_type": "markdown",
      "source": [
        "30. Write a program that calculates the BMI (Body Mass Index) and provides health recommendations based\n",
        "on the user's input."
      ],
      "metadata": {
        "id": "l4wA89gKj02Y"
      }
    },
    {
      "cell_type": "code",
      "source": [
        "weight = float(input(\"Enter weight in kg: \"))\n",
        "height = float(input(\"Enter height in meters: \"))\n",
        "\n",
        "bmi = weight / (height ** 2)\n",
        "\n",
        "if bmi < 18.5:\n",
        "    print( \"Underweight\" )\n",
        "    print( \"Gain Weight \")\n",
        "elif 18.5 <= bmi < 24.9:\n",
        "    print( \"Normal\" )\n",
        "    print(\" Try to maintain it \")\n",
        "elif 24.9 <= bmi < 29.9:\n",
        "    print( \"Overweight\")\n",
        "    print(\" Lose Weight\")\n",
        "else:\n",
        "    print( \"Obese\" )\n",
        "    print(\" Consult a dietitian\")\n",
        "\n"
      ],
      "metadata": {
        "colab": {
          "base_uri": "https://localhost:8080/"
        },
        "id": "MLcGcxbpj4hq",
        "outputId": "c0d0df60-2b68-439a-db3e-a097d0e87e94"
      },
      "execution_count": null,
      "outputs": [
        {
          "output_type": "stream",
          "name": "stdout",
          "text": [
            "Enter weight in kg: 70\n",
            "Enter height in meters: 1.82\n",
            "Normal\n",
            " Try to maintain it \n"
          ]
        }
      ]
    },
    {
      "cell_type": "markdown",
      "source": [
        "Challenge Level:"
      ],
      "metadata": {
        "id": "QSz9_ul6lfaz"
      }
    },
    {
      "cell_type": "markdown",
      "source": [
        "31. Create a program that validates a password based on complexity rules (length, characters, etc.)."
      ],
      "metadata": {
        "id": "VgaREMzPlteZ"
      }
    },
    {
      "cell_type": "code",
      "source": [
        "import re\n",
        "\n",
        "password = input(\"Enter a password: \")\n",
        "\n",
        "length_rule = len(password) >= 8\n",
        "uppercase_rule = any(char.isupper() for char in password)\n",
        "lowercase_rule = any(char.islower() for char in password)\n",
        "digit_rule = any(char.isdigit() for char in password)\n",
        "special_char_rule = re.search(r'[!@#$%^&*(),.?\":{}|<>]', password)\n",
        "\n",
        "if all([length_rule, uppercase_rule, lowercase_rule, digit_rule, special_char_rule]):\n",
        "    print(\"Password is valid.\")\n",
        "else:\n",
        "    print(\"Password is not valid. Please follow the complexity rules.\")"
      ],
      "metadata": {
        "colab": {
          "base_uri": "https://localhost:8080/"
        },
        "id": "3hzc8cdol-ge",
        "outputId": "d4628c4b-6003-4cfb-f356-4f70163f1d9a"
      },
      "execution_count": null,
      "outputs": [
        {
          "output_type": "stream",
          "name": "stdout",
          "text": [
            "Enter a password: Hello1234@\n",
            "Password is valid.\n"
          ]
        }
      ]
    },
    {
      "cell_type": "markdown",
      "source": [
        "Explanation\n",
        "\n",
        "1. Importing re module to use regular expression\n",
        "2. Defining rules for password complexity\n",
        "3. Checking for complexity rules\n",
        "4. Print the result\n"
      ],
      "metadata": {
        "id": "9MqI4dpD3UUr"
      }
    },
    {
      "cell_type": "markdown",
      "source": [
        "32. Develop a program that performs matrix addition and subtraction based on user input."
      ],
      "metadata": {
        "id": "45_7reiV30xA"
      }
    },
    {
      "cell_type": "code",
      "source": [
        "import numpy as np\n",
        "\n",
        "rows = int(input(\"Enter the number of rows: \"))\n",
        "cols = int(input(\"Enter the number of columns: \"))\n",
        "\n",
        "matrix1 = np.array([[float(input(f\"Matrix 1 [{i+1},{j+1}]: \")) for j in range(cols)] for i in range(rows)])\n",
        "matrix2 = np.array([[float(input(f\"Matrix 2 [{i+1},{j+1}]: \")) for j in range(cols)] for i in range(rows)])\n",
        "\n",
        "addition = matrix1 + matrix2\n",
        "subtraction = matrix1 - matrix2\n",
        "\n",
        "print(\"Addition \")\n",
        "print(addition)\n",
        "\n",
        "print(\"Subtraction\")\n",
        "print(subtraction)"
      ],
      "metadata": {
        "colab": {
          "base_uri": "https://localhost:8080/"
        },
        "id": "fKfitTfQ36ce",
        "outputId": "40f9a32f-bd10-466b-af06-fa7a830a6e9e"
      },
      "execution_count": null,
      "outputs": [
        {
          "output_type": "stream",
          "name": "stdout",
          "text": [
            "Enter the number of rows: 3\n",
            "Enter the number of columns: 3\n",
            "Matrix 1 [1,1]: 2\n",
            "Matrix 1 [1,2]: 3\n",
            "Matrix 1 [1,3]: 4\n",
            "Matrix 1 [2,1]: 5\n",
            "Matrix 1 [2,2]: 6\n",
            "Matrix 1 [2,3]: 7\n",
            "Matrix 1 [3,1]: 1\n",
            "Matrix 1 [3,2]: 2\n",
            "Matrix 1 [3,3]: 3\n",
            "Matrix 2 [1,1]: 6\n",
            "Matrix 2 [1,2]: 7\n",
            "Matrix 2 [1,3]: 8\n",
            "Matrix 2 [2,1]: 9\n",
            "Matrix 2 [2,2]: 1\n",
            "Matrix 2 [2,3]: 3\n",
            "Matrix 2 [3,1]: 4\n",
            "Matrix 2 [3,2]: 5\n",
            "Matrix 2 [3,3]: 6\n",
            "Addition \n",
            "[[ 8. 10. 12.]\n",
            " [14.  7. 10.]\n",
            " [ 5.  7.  9.]]\n",
            "Subtraction\n",
            "[[-4. -4. -4.]\n",
            " [-4.  5.  4.]\n",
            " [-3. -3. -3.]]\n"
          ]
        }
      ]
    },
    {
      "cell_type": "markdown",
      "source": [
        "Explanation\n",
        "\n",
        "1. Importing Numpy\n",
        "2. Declaring the  dimensions of matrix\n",
        "3. Assigning values of matrix\n",
        "4. Performing calculation\n",
        "5. Printing the result"
      ],
      "metadata": {
        "id": "rKfs7nJH53_z"
      }
    },
    {
      "cell_type": "markdown",
      "source": [
        "33. Write a program that calculates the greatest common divisor (GCD) of two numbers using the Euclidean\n",
        "algorithm."
      ],
      "metadata": {
        "id": "XVP_oRT86IfF"
      }
    },
    {
      "cell_type": "code",
      "source": [
        "x=int(input(\"Enter 1st Number\"))\n",
        "y=int(input(\"Enter 2nd Number\"))\n",
        "x,y=y,x%y\n",
        "print(\"GCD is \",x)"
      ],
      "metadata": {
        "colab": {
          "base_uri": "https://localhost:8080/"
        },
        "id": "_UiLVr_t6LoW",
        "outputId": "b3ea093e-b2bd-4d6b-f1e9-971964bec646"
      },
      "execution_count": null,
      "outputs": [
        {
          "output_type": "stream",
          "name": "stdout",
          "text": [
            "Enter 1st Number24\n",
            "Enter 2nd Number4\n",
            "GCD is  4\n"
          ]
        }
      ]
    },
    {
      "cell_type": "markdown",
      "source": [
        "34. Build a program that performs matrix multiplication using nested loops and conditional statements."
      ],
      "metadata": {
        "id": "1pDXoPRq67NX"
      }
    },
    {
      "cell_type": "code",
      "source": [
        "rows1 = int(input(\"Enter the number of rows for Matrix 1: \"))\n",
        "cols1 = int(input(\"Enter the number of columns for Matrix 1: \"))\n",
        "rows2 = int(input(\"Enter the number of rows for Matrix 2: \"))\n",
        "cols2 = int(input(\"Enter the number of columns for Matrix 2: \"))\n",
        "\n",
        "if cols1 != rows2:\n",
        "    print(\"Matrix multiplication is not possible.\")\n",
        "    exit()\n",
        "\n",
        "matrix1 = [[float(input(f\"Matrix 1 [{i+1},{j+1}]: \")) for j in range(cols1)] for i in range(rows1)]\n",
        "matrix2 = [[float(input(f\"Matrix 2 [{i+1},{j+1}]: \")) for j in range(cols2)] for i in range(rows2)]\n",
        "\n",
        "result = [[0 for _ in range(cols2)] for _ in range(rows1)]\n",
        "\n",
        "for i in range(rows1):\n",
        "    for j in range(cols2):\n",
        "        for k in range(cols1):\n",
        "            result[i][j] += matrix1[i][k] * matrix2[k][j]\n",
        "\n",
        "print(\"Matrix Multiplication Result:\")\n",
        "for row in result:\n",
        "    print(row)"
      ],
      "metadata": {
        "colab": {
          "base_uri": "https://localhost:8080/"
        },
        "id": "xNns09TI8rCu",
        "outputId": "d762c8c1-61ee-4d63-95f1-31131503eac7"
      },
      "execution_count": null,
      "outputs": [
        {
          "output_type": "stream",
          "name": "stdout",
          "text": [
            "Enter the number of rows for Matrix 1: 2\n",
            "Enter the number of columns for Matrix 1: 2\n",
            "Enter the number of rows for Matrix 2: 2\n",
            "Enter the number of columns for Matrix 2: 2\n",
            "Matrix 1 [1,1]: 2\n",
            "Matrix 1 [1,2]: 3\n",
            "Matrix 1 [2,1]: 2\n",
            "Matrix 1 [2,2]: 4\n",
            "Matrix 2 [1,1]: 2\n",
            "Matrix 2 [1,2]: 3\n",
            "Matrix 2 [2,1]: 2\n",
            "Matrix 2 [2,2]: 4\n",
            "Matrix Multiplication Result:\n",
            "[10.0, 18.0]\n",
            "[12.0, 22.0]\n"
          ]
        }
      ]
    },
    {
      "cell_type": "markdown",
      "source": [
        "Explanation\n",
        "\n",
        "1. Taking matrix dimensions\n",
        "2. Checking condition to make sure that it is possible\n",
        "3. Initialising result\n",
        "4. Performing matrix multiplication\n",
        "5. Printing result"
      ],
      "metadata": {
        "id": "UB4_Uzru-izx"
      }
    },
    {
      "cell_type": "markdown",
      "source": [
        "35. Create a program that simulates a basic text-based tic-tac-toe game against the computer."
      ],
      "metadata": {
        "id": "uNrkk5_s-77V"
      }
    },
    {
      "cell_type": "code",
      "source": [
        "import random\n",
        "\n",
        "def print_board(board):\n",
        "    for row in board:\n",
        "        print(\" | \".join(row))\n",
        "        print(\"-\" * 9)\n",
        "\n",
        "def check_win(board, player):\n",
        "    for row in board:\n",
        "        if all(cell == player for cell in row):\n",
        "            return True\n",
        "\n",
        "    for col in range(3):\n",
        "        if all(board[row][col] == player for row in range(3)):\n",
        "            return True\n",
        "\n",
        "    if all(board[i][i] == player for i in range(3)) or all(board[i][2 - i] == player for i in range(3)):\n",
        "        return True\n",
        "\n",
        "    return False\n",
        "\n",
        "def is_board_full(board):\n",
        "    return all(cell != ' ' for row in board for cell in row)\n",
        "\n",
        "def computer_move(board):\n",
        "    empty_cells = [(i, j) for i in range(3) for j in range(3) if board[i][j] == ' ']\n",
        "    return random.choice(empty_cells)\n",
        "\n",
        "board = [[' ' for _ in range(3)] for _ in range(3)]\n",
        "player = 'X'\n",
        "computer = 'O'\n",
        "\n",
        "while True:\n",
        "    print_board(board)\n",
        "\n",
        "    if player == 'X':\n",
        "        row, col = map(int, input(\"Enter your move (row and column): \").split())\n",
        "    else:\n",
        "        print(\"Computer's turn...\")\n",
        "        row, col = computer_move(board)\n",
        "\n",
        "    if 0 <= row < 3 and 0 <= col < 3 and board[row][col] == ' ':\n",
        "        board[row][col] = player\n",
        "        if check_win(board, player):\n",
        "            print_board(board)\n",
        "            print(f\"Player {player} wins!\")\n",
        "            break\n",
        "        elif is_board_full(board):\n",
        "            print_board(board)\n",
        "            print(\"It's a tie!\")\n",
        "            break\n",
        "        player, computer = computer, player\n",
        "    else:\n",
        "        print(\"Invalid move. Try again.\")\n",
        "\n",
        "print(\"Game over.\")"
      ],
      "metadata": {
        "colab": {
          "base_uri": "https://localhost:8080/"
        },
        "id": "qkTnvmBg_J0u",
        "outputId": "dcfa2f81-929b-48b3-fde7-a1a5e3a2c87f"
      },
      "execution_count": null,
      "outputs": [
        {
          "output_type": "stream",
          "name": "stdout",
          "text": [
            "  |   |  \n",
            "---------\n",
            "  |   |  \n",
            "---------\n",
            "  |   |  \n",
            "---------\n",
            "Enter your move (row and column): 3 3\n",
            "Invalid move. Try again.\n",
            "  |   |  \n",
            "---------\n",
            "  |   |  \n",
            "---------\n",
            "  |   |  \n",
            "---------\n",
            "Enter your move (row and column): 2 3\n",
            "Invalid move. Try again.\n",
            "  |   |  \n",
            "---------\n",
            "  |   |  \n",
            "---------\n",
            "  |   |  \n",
            "---------\n",
            "Enter your move (row and column): 2 2\n",
            "  |   |  \n",
            "---------\n",
            "  |   |  \n",
            "---------\n",
            "  |   | X\n",
            "---------\n",
            "Computer's turn...\n",
            "  | O |  \n",
            "---------\n",
            "  |   |  \n",
            "---------\n",
            "  |   | X\n",
            "---------\n",
            "Enter your move (row and column): 0 2\n",
            "  | O | X\n",
            "---------\n",
            "  |   |  \n",
            "---------\n",
            "  |   | X\n",
            "---------\n",
            "Computer's turn...\n",
            "  | O | X\n",
            "---------\n",
            "  |   |  \n",
            "---------\n",
            "  | O | X\n",
            "---------\n",
            "Enter your move (row and column): 0 3\n",
            "Invalid move. Try again.\n",
            "  | O | X\n",
            "---------\n",
            "  |   |  \n",
            "---------\n",
            "  | O | X\n",
            "---------\n",
            "Enter your move (row and column): 0 2\n",
            "Invalid move. Try again.\n",
            "  | O | X\n",
            "---------\n",
            "  |   |  \n",
            "---------\n",
            "  | O | X\n",
            "---------\n",
            "Enter your move (row and column): 1 1\n",
            "  | O | X\n",
            "---------\n",
            "  | X |  \n",
            "---------\n",
            "  | O | X\n",
            "---------\n",
            "Computer's turn...\n",
            "  | O | X\n",
            "---------\n",
            "  | X | O\n",
            "---------\n",
            "  | O | X\n",
            "---------\n",
            "Enter your move (row and column): 2 0\n",
            "  | O | X\n",
            "---------\n",
            "  | X | O\n",
            "---------\n",
            "X | O | X\n",
            "---------\n",
            "Player X wins!\n",
            "Game over.\n"
          ]
        }
      ]
    },
    {
      "cell_type": "markdown",
      "source": [
        "Explanation\n",
        "\n",
        "1. Function to print board\n",
        "2. Function to check if a player has won\n",
        "3. Function to check if board is full\n",
        "4. Function to make computer's move\n",
        "5. Main game loop"
      ],
      "metadata": {
        "id": "tsfAVWgtDvNo"
      }
    },
    {
      "cell_type": "markdown",
      "source": [
        "36. Write a program that generates Fibonacci numbers up to a specified term using iterative methods."
      ],
      "metadata": {
        "id": "_qtv7mcoFCYt"
      }
    },
    {
      "cell_type": "code",
      "source": [
        "nterms = int(input(\"How many terms? \"))\n",
        "\n",
        "n1, n2 = 0, 1\n",
        "count = 0\n",
        "\n",
        "if nterms <= 0:\n",
        "   print(\"Please enter a positive integer\")\n",
        "\n",
        "elif nterms == 1:\n",
        "   print(\"Fibonacci sequence upto\",nterms,\":\")\n",
        "   print(n1)\n",
        "else:\n",
        "   print(\"Fibonacci sequence:\")\n",
        "   while count < nterms:\n",
        "       print(n1)\n",
        "       nth = n1 + n2\n",
        "\n",
        "       n1 = n2\n",
        "       n2 = nth\n",
        "       count += 1"
      ],
      "metadata": {
        "colab": {
          "base_uri": "https://localhost:8080/"
        },
        "id": "3fhwpJx0Xuvx",
        "outputId": "8539cdca-fae1-4e73-c742-5ef07ed40eac"
      },
      "execution_count": 1,
      "outputs": [
        {
          "output_type": "stream",
          "name": "stdout",
          "text": [
            "How many terms? 7\n",
            "Fibonacci sequence:\n",
            "0\n",
            "1\n",
            "1\n",
            "2\n",
            "3\n",
            "5\n",
            "8\n"
          ]
        }
      ]
    },
    {
      "cell_type": "markdown",
      "source": [
        "Explanation\n",
        "\n",
        "1. Taking Input\n",
        "2. Check if the number is valid\n",
        "3. If there is only 1 term return n1\n",
        "4. Generating sequence using while loop\n",
        "5. Printing the result"
      ],
      "metadata": {
        "id": "eY4VfFpOYd8h"
      }
    },
    {
      "cell_type": "markdown",
      "source": [
        "37. Develop a program that calculates the nth term of the Fibonacci sequence using memoization."
      ],
      "metadata": {
        "id": "3Ip-ae4tY00s"
      }
    },
    {
      "cell_type": "code",
      "source": [
        "memo = {}\n",
        "\n",
        "def fibonacci(n):\n",
        "    if n in memo:\n",
        "        return memo[n]\n",
        "    if n <= 1:\n",
        "        result = n\n",
        "    else:\n",
        "        result = fibonacci(n - 1) + fibonacci(n - 2)\n",
        "    memo[n] = result\n",
        "    return result\n",
        "\n",
        "n = int(input(\"Enter the term number: \"))\n",
        "\n",
        "if n < 0:\n",
        "    print(\"Invalid input.\")\n",
        "else:\n",
        "    nth_term = fibonacci(n)\n",
        "    print(f\"The {n}th term of the Fibonacci sequence is {nth_term}.\")"
      ],
      "metadata": {
        "colab": {
          "base_uri": "https://localhost:8080/"
        },
        "id": "M9OBC3j1nHaj",
        "outputId": "d1d24c22-4b92-453f-f135-d8c141828d63"
      },
      "execution_count": 1,
      "outputs": [
        {
          "output_type": "stream",
          "name": "stdout",
          "text": [
            "Enter the term number: 5\n",
            "The 5th term of the Fibonacci sequence is 5.\n"
          ]
        }
      ]
    },
    {
      "cell_type": "markdown",
      "source": [
        "Explanation\n",
        "\n",
        "1. Declaring function to calculate fibonacci using memoization\n",
        "2. Taking Input\n",
        "3. Printing Result"
      ],
      "metadata": {
        "id": "TduVBs73nsf9"
      }
    },
    {
      "cell_type": "markdown",
      "source": [
        "38. Create a program that generates a calendar for a given month and year using conditional statements."
      ],
      "metadata": {
        "id": "SzXfFIhvn5cv"
      }
    },
    {
      "cell_type": "code",
      "source": [
        "import calendar\n",
        "\n",
        "year = int(input(\"Enter the year: \"))\n",
        "month = int(input(\"Enter the month (1-12): \"))\n",
        "\n",
        "cal = calendar.month(year, month)\n",
        "print(\"Calendar:\")\n",
        "print(cal)"
      ],
      "metadata": {
        "colab": {
          "base_uri": "https://localhost:8080/"
        },
        "id": "UeNzAxzSoKZC",
        "outputId": "1b38ce89-22c4-4b22-a497-a74b4d5dd4e0"
      },
      "execution_count": 2,
      "outputs": [
        {
          "output_type": "stream",
          "name": "stdout",
          "text": [
            "Enter the year: 1996\n",
            "Enter the month (1-12): 7\n",
            "Calendar:\n",
            "     July 1996\n",
            "Mo Tu We Th Fr Sa Su\n",
            " 1  2  3  4  5  6  7\n",
            " 8  9 10 11 12 13 14\n",
            "15 16 17 18 19 20 21\n",
            "22 23 24 25 26 27 28\n",
            "29 30 31\n",
            "\n"
          ]
        }
      ]
    },
    {
      "cell_type": "markdown",
      "source": [
        "Explanation\n",
        "\n",
        "1. Importing Calendar\n",
        "2. Taking input of month and year\n",
        "3. Displaying Calendar"
      ],
      "metadata": {
        "id": "-h2yalaxovHF"
      }
    },
    {
      "cell_type": "markdown",
      "source": [
        "39. Build a program that simulates a basic text-based blackjack game against the computer."
      ],
      "metadata": {
        "id": "rOmXfCqfpEIO"
      }
    },
    {
      "cell_type": "code",
      "source": [
        "import random\n",
        "\n",
        "def calculate_hand_value(hand):\n",
        "    value = 0\n",
        "    num_aces = 0\n",
        "\n",
        "    for card in hand:\n",
        "        if card in \"JQK\":\n",
        "            value += 10\n",
        "        elif card == \"A\":\n",
        "            value += 11\n",
        "            num_aces += 1\n",
        "        else:\n",
        "            value += int(card)\n",
        "\n",
        "    while value > 21 and num_aces > 0:\n",
        "        value -= 10\n",
        "        num_aces -= 1\n",
        "\n",
        "    return value\n",
        "\n",
        "def deal_card():\n",
        "    card = random.choice([\"2\", \"3\", \"4\", \"5\", \"6\", \"7\", \"8\", \"9\", \"10\", \"J\", \"Q\", \"K\", \"A\"])\n",
        "    return card\n",
        "\n",
        "player_hand = []\n",
        "computer_hand = []\n",
        "\n",
        "player_hand.append(deal_card())\n",
        "player_hand.append(deal_card())\n",
        "computer_hand.append(deal_card())\n",
        "computer_hand.append(deal_card())\n",
        "\n",
        "\n",
        "while True:\n",
        "    # Display player's hand and one of the computer's cards\n",
        "    print(\"Your hand:\", player_hand)\n",
        "    print(\"Computer's hand:\", [computer_hand[0], \"X\"])  # Hide the second card of the computer\n",
        "\n",
        "    # Check for player blackjack or bust\n",
        "    if calculate_hand_value(player_hand) == 21:\n",
        "        print(\"Blackjack! You win!\")\n",
        "        break\n",
        "    elif calculate_hand_value(player_hand) > 21:\n",
        "        print(\"Bust! You lose!\")\n",
        "        break\n",
        "\n",
        "\n",
        "    action = input(\"Do you want to 'hit' or 'stand'? \").lower()\n",
        "\n",
        "    if action == \"hit\":\n",
        "        player_hand.append(deal_card())\n",
        "    elif action == \"stand\":\n",
        "\n",
        "        print(\"Computer's hand:\", computer_hand)\n",
        "\n",
        "\n",
        "        while calculate_hand_value(computer_hand) < 17:\n",
        "            computer_hand.append(deal_card())\n",
        "\n",
        "\n",
        "        if calculate_hand_value(computer_hand) > 21:\n",
        "            print(\"Computer busts! You win!\")\n",
        "        elif calculate_hand_value(computer_hand) >= calculate_hand_value(player_hand):\n",
        "            print(\"Computer wins!\")\n",
        "        else:\n",
        "            print(\"You win!\")\n",
        "\n",
        "        break\n",
        "    else:\n",
        "        print(\"Invalid input. Please enter 'hit' or 'stand'.\")\n",
        "\n",
        "\n",
        "print(\"Game over. Thank you for playing!\")"
      ],
      "metadata": {
        "colab": {
          "base_uri": "https://localhost:8080/"
        },
        "id": "VyvcOv15pH6p",
        "outputId": "1efb489f-f19e-4c65-f5be-d102d4167ca1"
      },
      "execution_count": 3,
      "outputs": [
        {
          "output_type": "stream",
          "name": "stdout",
          "text": [
            "Your hand: ['3', '5']\n",
            "Computer's hand: ['6', 'X']\n",
            "Do you want to 'hit' or 'stand'? hit\n",
            "Your hand: ['3', '5', '8']\n",
            "Computer's hand: ['6', 'X']\n",
            "Do you want to 'hit' or 'stand'? hit\n",
            "Your hand: ['3', '5', '8', '3']\n",
            "Computer's hand: ['6', 'X']\n",
            "Do you want to 'hit' or 'stand'? stand\n",
            "Computer's hand: ['6', '10']\n",
            "Computer busts! You win!\n",
            "Game over. Thank you for playing!\n"
          ]
        }
      ]
    },
    {
      "cell_type": "markdown",
      "source": [
        "Explanation\n",
        "\n",
        "1. Importing random\n",
        "2. Function to calculate total value of a hand\n",
        "3. Function to deal a new card\n",
        "4. Initialise the game\n",
        "5. Deal the initial cards\n",
        "6. Game loop\n",
        "7. Ask the player to hit or stand\n",
        "8. End of the game"
      ],
      "metadata": {
        "id": "ky-VOmMbpqiK"
      }
    },
    {
      "cell_type": "markdown",
      "source": [
        "40. Write a program that generates the prime factors of a given number using trial division."
      ],
      "metadata": {
        "id": "VWiTEYhOqT0e"
      }
    },
    {
      "cell_type": "code",
      "source": [
        "\n",
        "number = int(input(\"Enter a number: \"))\n",
        "\n",
        "def prime_factors(n):\n",
        "    factors = []\n",
        "    divisor = 2\n",
        "    while n > 1:\n",
        "        while n % divisor == 0:\n",
        "            factors.append(divisor)\n",
        "            n //= divisor\n",
        "        divisor += 1\n",
        "    return factors\n",
        "\n",
        "if number <= 1:\n",
        "    print(\"Prime factors are not defined for numbers less than or equal to 1.\")\n",
        "else:\n",
        "    factors = prime_factors(number)\n",
        "    print(\"Prime factors:\", factors)\n",
        ""
      ],
      "metadata": {
        "colab": {
          "base_uri": "https://localhost:8080/"
        },
        "id": "-ExlZXSkqXI6",
        "outputId": "a491da2f-01c8-452c-a94e-5751557d2cf0"
      },
      "execution_count": 12,
      "outputs": [
        {
          "output_type": "stream",
          "name": "stdout",
          "text": [
            "Enter a number: 2\n",
            "Prime factors: [2]\n"
          ]
        }
      ]
    },
    {
      "cell_type": "markdown",
      "source": [
        "Explanation\n",
        "\n",
        "1. Taking input\n",
        "2. Defining function to calculate the prime factors\n",
        "3. Checking for value of n\n",
        "4. Printing the result"
      ],
      "metadata": {
        "id": "KboL2wCXIt6z"
      }
    }
  ]
}