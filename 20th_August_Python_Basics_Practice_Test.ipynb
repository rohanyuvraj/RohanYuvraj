{
  "cells": [
    {
      "cell_type": "markdown",
      "metadata": {
        "id": "EUAzNq27oqKB"
      },
      "source": [
        "## **String Based Assignment Problem**"
      ]
    },
    {
      "cell_type": "markdown",
      "metadata": {
        "id": "xFqf6HXQoqKD"
      },
      "source": [
        "### 1. Write a program to reverse a string.\n"
      ]
    },
    {
      "cell_type": "code",
      "execution_count": null,
      "metadata": {
        "id": "_Rd-ymXCoqKE",
        "outputId": "25f52750-7c8a-4a25-a290-3b3989b5245e"
      },
      "outputs": [
        {
          "name": "stdout",
          "output_type": "stream",
          "text": [
            "The reverse of Hello, World! is !dlroW ,olleH\n"
          ]
        }
      ],
      "source": [
        "\n",
        "def reverse_string(input_string):\n",
        "    return input_string[::-1]\n",
        "\n",
        "\n",
        "input_str = \"Hello, World!\"\n",
        "\n",
        "\n",
        "reversed_str = reverse_string(input_str)\n",
        "\n",
        "\n",
        "print(f\"The reverse of {input_str} is {reversed_str}\")\n"
      ]
    },
    {
      "cell_type": "markdown",
      "metadata": {
        "id": "hqHeOpu3oqKF"
      },
      "source": [
        "### 2. Check if a string is a palindrome.\n"
      ]
    },
    {
      "cell_type": "code",
      "execution_count": null,
      "metadata": {
        "id": "ouogu7_eoqKF",
        "outputId": "84b384cd-7eac-43e2-a61e-44eaca1d9675"
      },
      "outputs": [
        {
          "name": "stdout",
          "output_type": "stream",
          "text": [
            "True\n",
            "False\n"
          ]
        }
      ],
      "source": [
        "\n",
        "def is_palindrome(input_string):\n",
        "    cleaned_str = ''.join(input_string.split()).lower()\n",
        "    return cleaned_str == cleaned_str[::-1]\n",
        "\n",
        "\n",
        "input_str1 = \"A man a plan a canal Panama\"\n",
        "\n",
        "\n",
        "print(is_palindrome(input_str1))\n",
        "\n",
        "\n",
        "input_str2 = \"hello, world!\"\n",
        "\n",
        "\n",
        "print(is_palindrome(input_str2))"
      ]
    },
    {
      "cell_type": "markdown",
      "metadata": {
        "id": "0uURovE6oqKG"
      },
      "source": [
        "### 3. Convert a string to uppercase.\n"
      ]
    },
    {
      "cell_type": "code",
      "execution_count": null,
      "metadata": {
        "id": "IFk8UPcOoqKG",
        "outputId": "af1f91b4-028f-4e5a-da0d-78320b33d6f0"
      },
      "outputs": [
        {
          "name": "stdout",
          "output_type": "stream",
          "text": [
            "Uppercase :  THIS IS LOWECASE SENTANCE.\n"
          ]
        }
      ],
      "source": [
        "\n",
        "string = \"this is lowecase sentance.\"\n",
        "\n",
        "\n",
        "print(\"Uppercase : \", string.upper())\n"
      ]
    },
    {
      "cell_type": "markdown",
      "metadata": {
        "id": "iJTHPl0xoqKG"
      },
      "source": [
        "### 4. Convert a string to lowercase.\n"
      ]
    },
    {
      "cell_type": "code",
      "execution_count": null,
      "metadata": {
        "id": "QJYzZ0r1oqKG",
        "outputId": "d22a1bc6-5c08-4db5-d147-79cabdbf0112"
      },
      "outputs": [
        {
          "name": "stdout",
          "output_type": "stream",
          "text": [
            "Lowercase :   this is uppercase sentance.\n"
          ]
        }
      ],
      "source": [
        "\n",
        "string = \" THIS IS UPPERCASE SENTANCE.\"\n",
        "\n",
        "\n",
        "print(\"Lowercase : \", string.lower())"
      ]
    },
    {
      "cell_type": "markdown",
      "metadata": {
        "id": "iMvw_4g_oqKH"
      },
      "source": [
        "### 5. Count the number of vowels in a string.\n"
      ]
    },
    {
      "cell_type": "code",
      "execution_count": null,
      "metadata": {
        "id": "ArMksI6foqKH",
        "outputId": "2b7c47a2-2afb-41cc-d218-9a3c01b75c4b"
      },
      "outputs": [
        {
          "name": "stdout",
          "output_type": "stream",
          "text": [
            "There are 7 vowel(s) in entered string 'this is a example string.'.\n"
          ]
        }
      ],
      "source": [
        "\n",
        "input_string = 'this is a example string.'\n",
        "\n",
        "# vowles string (characters needs to get counted from input string)\n",
        "vowels_string = \"aeiou\"\n",
        "\n",
        "# variable to store the count of vowles occured in user entered string\n",
        "count = 0\n",
        "\n",
        "for chr in input_string:\n",
        "    chr_lowercase = chr.lower()\n",
        "\n",
        "    if chr_lowercase in vowels_string:\n",
        "        count = count + 1\n",
        "\n",
        "# display the vowels count\n",
        "print(f\"There are {count} vowel(s) in entered string '{input_string}'.\")"
      ]
    },
    {
      "cell_type": "markdown",
      "metadata": {
        "id": "_QIpdmppoqKH"
      },
      "source": [
        "### 6. Count the number of consonants in a string.\n"
      ]
    },
    {
      "cell_type": "code",
      "execution_count": null,
      "metadata": {
        "id": "UfMEnH9yoqKH",
        "outputId": "8f7ef8fd-d140-416b-87da-9d7845d7b249"
      },
      "outputs": [
        {
          "name": "stdout",
          "output_type": "stream",
          "text": [
            "There are 13 consonant(s) in entered string 'this is a example string'.\n"
          ]
        }
      ],
      "source": [
        "# taking string input from user to count consonants\n",
        "input_string = 'this is a example string'\n",
        "\n",
        "# removing the space characters from input string\n",
        "cleaned_str = ''.join(input_string.split()).lower()\n",
        "\n",
        "# vowles string (characters needs to get counted from input string)\n",
        "vowels_string = \"aeiou\"\n",
        "\n",
        "# variable to store the count of consonants occured in user entered string\n",
        "count = 0\n",
        "\n",
        "for chr in cleaned_str:\n",
        "\n",
        "    # using not operator so that we can count every character except those which occurs in vowels_string. Doing this will count all the consonants occured in string\n",
        "    if chr not in vowels_string:\n",
        "        count = count + 1\n",
        "\n",
        "# display the consonants count\n",
        "print(f\"There are {count} consonant(s) in entered string '{input_string}'.\")"
      ]
    },
    {
      "cell_type": "markdown",
      "metadata": {
        "id": "bHX2MulvoqKI"
      },
      "source": [
        "### 7. Remove all whitespaces from a string.\n"
      ]
    },
    {
      "cell_type": "code",
      "execution_count": null,
      "metadata": {
        "id": "0q3ygZ_1oqKI",
        "outputId": "8f425b84-1eb3-40ab-8424-48aeff88400b"
      },
      "outputs": [
        {
          "name": "stdout",
          "output_type": "stream",
          "text": [
            "String after removing white spaces :  DivyanshuPrasadislearningdatascience.\n"
          ]
        }
      ],
      "source": [
        "# initialise a string\n",
        "input_string = \"Divyanshu Prasad is learning data science.\"\n",
        "\n",
        "# swapping the space in string with empty string\n",
        "removed_spaces = input_string.replace(\" \", \"\")\n",
        "\n",
        "# display the result string\n",
        "print(\"String after removing white spaces : \",removed_spaces)"
      ]
    },
    {
      "cell_type": "markdown",
      "metadata": {
        "id": "NUE9G3kQoqKI"
      },
      "source": [
        "### 8. Find the length of a string without using the `len()` function.\n"
      ]
    },
    {
      "cell_type": "code",
      "execution_count": null,
      "metadata": {
        "id": "OkstiKCLoqKI",
        "outputId": "eebf66bb-1940-46c8-b11a-506eec39efdb"
      },
      "outputs": [
        {
          "name": "stdout",
          "output_type": "stream",
          "text": [
            "Length of input string is : 15\n"
          ]
        }
      ],
      "source": [
        "# example string\n",
        "input_string = \"checking length\"\n",
        "\n",
        "# variable to store the length of the input string\n",
        "length = 0\n",
        "\n",
        "# counting number of chracters occured in string which in total is length of string\n",
        "for char in input_string:\n",
        "    length += 1\n",
        "\n",
        "print(\"Length of input string is :\", length)"
      ]
    },
    {
      "cell_type": "markdown",
      "metadata": {
        "id": "g2W7CQTgoqKI"
      },
      "source": [
        "### 9. Check if a string contains a specific word.\n"
      ]
    },
    {
      "cell_type": "code",
      "execution_count": null,
      "metadata": {
        "id": "NixeEg-7oqKI",
        "outputId": "940781f8-c91f-462d-b069-b6aa33a57a89"
      },
      "outputs": [
        {
          "name": "stdout",
          "output_type": "stream",
          "text": [
            "The string contains the word 'python'.\n"
          ]
        }
      ],
      "source": [
        "# taking user input for string and the specific word\n",
        "input_string = input(\"Enter a string: \")\n",
        "specific_word = input(\"Enter the specific word to check for: \")\n",
        "\n",
        "# checking for the specific word in the string using 'in' keyword\n",
        "if specific_word in input_string:\n",
        "    # display message if word is present\n",
        "    print(f\"The string contains the word '{specific_word}'.\")\n",
        "else:\n",
        "    # display message if word is not present\n",
        "    print(f\"The string does not contain the word '{specific_word}'.\")"
      ]
    },
    {
      "cell_type": "markdown",
      "metadata": {
        "id": "-UUck-KFoqKJ"
      },
      "source": [
        "### 10. Replace a word in a string with another word.\n"
      ]
    },
    {
      "cell_type": "code",
      "execution_count": null,
      "metadata": {
        "id": "B39XDe4uoqKJ",
        "outputId": "24f4b4c7-c292-4c55-e7e9-391aa0c67959"
      },
      "outputs": [
        {
          "name": "stdout",
          "output_type": "stream",
          "text": [
            "Modified string: wello world\n"
          ]
        }
      ],
      "source": [
        "# taking string from user\n",
        "input_string = input(\"Enter a sentence: \")\n",
        "\n",
        "# input for new word and word to be replaced\n",
        "old_word = input(\"Enter the word to be replaced: \")\n",
        "new_word = input(\"Enter the new word: \")\n",
        "\n",
        "# replacing the old word with the new word using string.replace() method\n",
        "answer_string = input_string.replace(old_word, new_word)\n",
        "\n",
        "# display the modified string\n",
        "print(\"Modified string:\", answer_string)"
      ]
    },
    {
      "cell_type": "markdown",
      "metadata": {
        "id": "A2RX3KsQoqKJ"
      },
      "source": [
        "### 11. Count the occurrences of a word in a string.\n"
      ]
    },
    {
      "cell_type": "code",
      "execution_count": null,
      "metadata": {
        "id": "XKQZ6oT6oqKJ",
        "outputId": "f5f906e8-5262-4d4d-a1cd-718c24bc3ef4"
      },
      "outputs": [
        {
          "name": "stdout",
          "output_type": "stream",
          "text": [
            "The word 'text' appears 3 times in the text.\n"
          ]
        }
      ],
      "source": [
        "# sample text\n",
        "text = \"This is a sample text. This text contains the word 'text' multiple times.\"\n",
        "\n",
        "# word to be counted\n",
        "word_to_count = \"text\"\n",
        "\n",
        "# using count function to get the count of words\n",
        "count = text.count(word_to_count)\n",
        "\n",
        "# display the result with a message\n",
        "print(f\"The word '{word_to_count}' appears {count} times in the text.\")\n"
      ]
    },
    {
      "cell_type": "markdown",
      "metadata": {
        "id": "4FkhfVIRoqKK"
      },
      "source": [
        "### 12. Find the first occurrence of a word in a string.\n"
      ]
    },
    {
      "cell_type": "code",
      "execution_count": null,
      "metadata": {
        "id": "FLuHSD1XoqKK",
        "outputId": "60a18157-436b-4e18-a8f1-85c2d8fec515"
      },
      "outputs": [
        {
          "name": "stdout",
          "output_type": "stream",
          "text": [
            "The first occurrence of 'text' starts at index 17.\n"
          ]
        }
      ],
      "source": [
        "# sample text\n",
        "text = \"This is a sample text. This text contains the word 'text' multiple times.\"\n",
        "\n",
        "# word to be looked for first occurance\n",
        "word_to_count = \"text\"\n",
        "\n",
        "# find() function to get first occurance of word in a text\n",
        "first_occurrence = text.find(word_to_count)\n",
        "\n",
        "# display the index of the word found with a message\n",
        "print(f\"The first occurrence of '{word_to_count}' starts at index {first_occurrence}.\")"
      ]
    },
    {
      "cell_type": "markdown",
      "metadata": {
        "id": "9HVg9XP5oqKK"
      },
      "source": [
        "### 13. Find the last occurrence of a word in a string.\n"
      ]
    },
    {
      "cell_type": "code",
      "execution_count": null,
      "metadata": {
        "id": "T3bY-tDooqKK",
        "outputId": "3d99389c-319e-4c82-bfcd-5547aa0923e6"
      },
      "outputs": [
        {
          "name": "stdout",
          "output_type": "stream",
          "text": [
            "The last occurrence of 'text' starts at index 52.\n"
          ]
        }
      ],
      "source": [
        "# sample text\n",
        "text = \"This is a sample text. This text contains the word 'text' multiple times.\"\n",
        "\n",
        "# word to be looked for last occurance\n",
        "word_to_count = \"text\"\n",
        "\n",
        "# rfind() function to get last occurance of word in a text\n",
        "last_occurrence = text.rfind(word_to_count)\n",
        "\n",
        "# display the index of the word found with a message\n",
        "print(f\"The last occurrence of '{word_to_count}' starts at index {last_occurrence}.\")"
      ]
    },
    {
      "cell_type": "markdown",
      "metadata": {
        "id": "enpATAA0oqKK"
      },
      "source": [
        "### 14. Split a string into a list of words.\n"
      ]
    },
    {
      "cell_type": "code",
      "execution_count": null,
      "metadata": {
        "id": "1t2zwcDloqKK",
        "outputId": "86b146f8-4789-4e84-de08-5aee390a7b63"
      },
      "outputs": [
        {
          "name": "stdout",
          "output_type": "stream",
          "text": [
            "The list of words in the text: ['this', 'is', 'a', 'dummy', 'sentance']\n"
          ]
        }
      ],
      "source": [
        "# example text\n",
        "sentance = 'this is a dummy sentance'\n",
        "\n",
        "# splitting the words of sentance by spaces\n",
        "words = sentance.split()\n",
        "\n",
        "# display the list of words\n",
        "print(\"The list of words in the text:\", words)"
      ]
    },
    {
      "cell_type": "markdown",
      "metadata": {
        "id": "w8JiPy2uoqKL"
      },
      "source": [
        "### 15. Join a list of words into a string.\n"
      ]
    },
    {
      "cell_type": "code",
      "execution_count": null,
      "metadata": {
        "id": "5766J-OMoqKL",
        "outputId": "1c13c0fd-9d61-4909-ed2a-784f66e6d8f4"
      },
      "outputs": [
        {
          "name": "stdout",
          "output_type": "stream",
          "text": [
            "The joined string: this is a dummy sentance\n"
          ]
        }
      ],
      "source": [
        "# joining the separated words to form a sentance again using .join()\n",
        "joined_text = \" \".join(words)\n",
        "\n",
        "# display the sentance\n",
        "print(\"The joined string:\", joined_text)"
      ]
    },
    {
      "cell_type": "markdown",
      "metadata": {
        "id": "HMQd9yIuoqKL"
      },
      "source": [
        "### 16. Convert a string where words are separated by spaces to one where words are separated by underscores.\n"
      ]
    },
    {
      "cell_type": "code",
      "execution_count": null,
      "metadata": {
        "id": "FiGTXa6koqKL",
        "outputId": "0fe93c59-daf6-41e9-aeb4-dd9c2e3faa4b"
      },
      "outputs": [
        {
          "name": "stdout",
          "output_type": "stream",
          "text": [
            "Hello_World\n"
          ]
        }
      ],
      "source": [
        "input_str = \"Hello World\"\n",
        "\n",
        "# using replace() to get _ at place of space\n",
        "result_16 = input_str.replace(' ', '_')\n",
        "\n",
        "# display the result\n",
        "print(result_16)"
      ]
    },
    {
      "cell_type": "markdown",
      "metadata": {
        "id": "w_bIWYCUoqKL"
      },
      "source": [
        "### 17. Check if a string starts with a specific word or phrase.\n"
      ]
    },
    {
      "cell_type": "code",
      "execution_count": null,
      "metadata": {
        "id": "ulJteg-voqKL",
        "outputId": "a5b248c3-995a-459d-e157-73ff49d74d0f"
      },
      "outputs": [
        {
          "name": "stdout",
          "output_type": "stream",
          "text": [
            "True\n"
          ]
        }
      ],
      "source": [
        "input_str = \"Hello World\"\n",
        "\n",
        "# word to check as prefix in above string or not\n",
        "word_to_check = \"Hello\"\n",
        "\n",
        "# checking if the text is starting with the word or not\n",
        "result_17 = input_str.startswith(word_to_check)\n",
        "\n",
        "# display result\n",
        "print(result_17)"
      ]
    },
    {
      "cell_type": "markdown",
      "metadata": {
        "id": "Jz7vdl6joqKM"
      },
      "source": [
        "### 18. Check if a string ends with a specific word or phrase.\n"
      ]
    },
    {
      "cell_type": "code",
      "execution_count": null,
      "metadata": {
        "id": "wl0WJXHsoqKM",
        "outputId": "ea426314-16e9-47f0-f4ca-7535a784c21f"
      },
      "outputs": [
        {
          "name": "stdout",
          "output_type": "stream",
          "text": [
            "True\n"
          ]
        }
      ],
      "source": [
        "input_str = \"Hello World\"\n",
        "\n",
        "# word to check as suffix in above string or not\n",
        "word_to_check = \"World\"\n",
        "\n",
        "# checking if the text is ending with the word or not\n",
        "result_18 = input_str.endswith(word_to_check)\n",
        "\n",
        "# display the result\n",
        "print(result_18)"
      ]
    },
    {
      "cell_type": "markdown",
      "metadata": {
        "id": "zAUl5BENoqKM"
      },
      "source": [
        "### 19. Convert a string to title case (e.g., \"hello world\" to \"Hello World\").\n"
      ]
    },
    {
      "cell_type": "code",
      "execution_count": null,
      "metadata": {
        "id": "Fd6PYBCFoqKM",
        "outputId": "4aa9cfb0-b399-405d-8b12-1f87b4476e66"
      },
      "outputs": [
        {
          "name": "stdout",
          "output_type": "stream",
          "text": [
            "Hello World\n"
          ]
        }
      ],
      "source": [
        "input_str = \"hello world\"\n",
        "\n",
        "# .title() will capitalize the words in sentance\n",
        "result_19 = input_str.title()\n",
        "\n",
        "# display the updated text\n",
        "print(result_19)"
      ]
    },
    {
      "cell_type": "markdown",
      "metadata": {
        "id": "-sfF0TbBoqKV"
      },
      "source": [
        "### 20. Find the longest word in a string.\n"
      ]
    },
    {
      "cell_type": "code",
      "execution_count": null,
      "metadata": {
        "id": "n0liBwNUoqKV",
        "outputId": "34775760-78f8-41f9-8d14-bfba6f8eb9d8"
      },
      "outputs": [
        {
          "name": "stdout",
          "output_type": "stream",
          "text": [
            "sentence\n"
          ]
        }
      ],
      "source": [
        "# example string\n",
        "input_str = \"This is a sample sentence with some long words\"\n",
        "\n",
        "# getting every word from sentance to a list using split\n",
        "words = input_str.split()\n",
        "\n",
        "# max function gets the max value from passed arguments, using key = len will check the max length word from the list\n",
        "result_20 = max(words, key=len)\n",
        "\n",
        "# display the result\n",
        "print(result_20)"
      ]
    },
    {
      "cell_type": "markdown",
      "metadata": {
        "id": "FDpKbpNOoqKW"
      },
      "source": [
        "### 21. Find the shortest word in a string.\n"
      ]
    },
    {
      "cell_type": "code",
      "execution_count": null,
      "metadata": {
        "id": "8a98T1f5oqKW",
        "outputId": "c88bc648-881e-4498-e9cb-4f4ad97a7899"
      },
      "outputs": [
        {
          "name": "stdout",
          "output_type": "stream",
          "text": [
            "a\n"
          ]
        }
      ],
      "source": [
        "# example string\n",
        "input_str = \"This is a sample sentence with some short words\"\n",
        "\n",
        "# getting every word from sentance to a list using split\n",
        "words = input_str.split()\n",
        "\n",
        "# max function gets the min value from passed arguments, using key = len will check the min length word from the list\n",
        "result_21 = min(words, key=len)\n",
        "\n",
        "# display the result\n",
        "print(result_21)"
      ]
    },
    {
      "cell_type": "markdown",
      "metadata": {
        "id": "_BOgLI0xoqKW"
      },
      "source": [
        "### 22. Reverse the order of words in a string.\n"
      ]
    },
    {
      "cell_type": "code",
      "execution_count": null,
      "metadata": {
        "id": "pZzFmdJtoqKW",
        "outputId": "3f7ea588-7d1f-40ca-8814-a5e80b6ea2b6"
      },
      "outputs": [
        {
          "name": "stdout",
          "output_type": "stream",
          "text": [
            "World Hello\n"
          ]
        }
      ],
      "source": [
        "input_str = \"Hello World\"\n",
        "\n",
        "# splitting the sentence to an array of words\n",
        "words = input_str.split()\n",
        "\n",
        "# now reversing the list of words and joining them in new string variable\n",
        "result_22 = ' '.join(reversed(words))\n",
        "\n",
        "# display the result\n",
        "print(result_22)"
      ]
    },
    {
      "cell_type": "markdown",
      "metadata": {
        "id": "2mXGVaYUoqKW"
      },
      "source": [
        "### 23. Check if a string is alphanumeric.\n"
      ]
    },
    {
      "cell_type": "code",
      "execution_count": null,
      "metadata": {
        "id": "XoAuyAjjoqKW",
        "outputId": "b71f2c3a-290e-4c2a-e770-905cb00c75bd"
      },
      "outputs": [
        {
          "name": "stdout",
          "output_type": "stream",
          "text": [
            "True\n"
          ]
        }
      ],
      "source": [
        "input_str = \"Hello123\"\n",
        "\n",
        "# below line will check if the sentance is a mix of characters and numbers\n",
        "result_23 = input_str.isalnum()\n",
        "\n",
        "# display true or false as per the status of word\n",
        "print(result_23)"
      ]
    },
    {
      "cell_type": "markdown",
      "metadata": {
        "id": "TuiJMKhwoqKX"
      },
      "source": [
        "### 24. Extract all digits from a string.\n"
      ]
    },
    {
      "cell_type": "code",
      "execution_count": null,
      "metadata": {
        "id": "PEjkD0QCoqKX",
        "outputId": "620262c5-46b7-45eb-ac28-bf4688f7354d"
      },
      "outputs": [
        {
          "name": "stdout",
          "output_type": "stream",
          "text": [
            "123\n"
          ]
        }
      ],
      "source": [
        "input_str = \"Hello123\"\n",
        "\n",
        "# check if any character in a word is digit and filter them out and join in new string\n",
        "result_24 = ''.join(filter(str.isdigit, input_str))\n",
        "\n",
        "# display the filtered numbers from the alphanumeric word\n",
        "print(result_24)"
      ]
    },
    {
      "cell_type": "markdown",
      "metadata": {
        "id": "Vl7MTI8zoqKX"
      },
      "source": [
        "### 25. Extract all alphabets from a string.\n"
      ]
    },
    {
      "cell_type": "code",
      "execution_count": null,
      "metadata": {
        "id": "P8qpnTBToqKX",
        "outputId": "71c65575-94c5-4f81-b6cb-4b8a4b8a0f29"
      },
      "outputs": [
        {
          "name": "stdout",
          "output_type": "stream",
          "text": [
            "Hello\n"
          ]
        }
      ],
      "source": [
        "input_str = \"Hello123\"\n",
        "\n",
        "# check if any character in a word is alphabet and filter them out and join in new string\n",
        "result_25 = ''.join(filter(str.isalpha, input_str))\n",
        "\n",
        "# display the filtered numbers from the alphanumeric word\n",
        "print(result_25)"
      ]
    },
    {
      "cell_type": "markdown",
      "metadata": {
        "id": "Nfi62AOMoqKX"
      },
      "source": [
        "### 26. Count the number of uppercase letters in a string.\n"
      ]
    },
    {
      "cell_type": "code",
      "execution_count": null,
      "metadata": {
        "id": "zdhwhM5RoqKX",
        "outputId": "37be389b-f78b-423d-bd94-de605e045da5"
      },
      "outputs": [
        {
          "name": "stdout",
          "output_type": "stream",
          "text": [
            "Number of uppercase letters: 0\n"
          ]
        }
      ],
      "source": [
        "# Input a string\n",
        "string = input(\"Enter a string: \")\n",
        "\n",
        "# Initialize a count variable\n",
        "uppercase_count = 0\n",
        "\n",
        "# Iterate through the characters in the string\n",
        "for char in string:\n",
        "    if char.isupper():\n",
        "        uppercase_count += 1\n",
        "\n",
        "print(\"Number of uppercase letters:\", uppercase_count)\n"
      ]
    },
    {
      "cell_type": "markdown",
      "metadata": {
        "id": "j5Xt1klooqKY"
      },
      "source": [
        "### 27. Count the number of lowercase letters in a string.\n"
      ]
    },
    {
      "cell_type": "code",
      "execution_count": null,
      "metadata": {
        "id": "cmsyAnproqKY",
        "outputId": "2970d35d-a044-4602-aadd-79865fdfcdf7"
      },
      "outputs": [
        {
          "name": "stdout",
          "output_type": "stream",
          "text": [
            "Number of lowercase letters: 5\n"
          ]
        }
      ],
      "source": [
        "# Input a string\n",
        "string = input(\"Enter a string: \")\n",
        "\n",
        "# Initialize a count variable\n",
        "lowercase_count = 0\n",
        "\n",
        "# Iterate through the characters in the string\n",
        "for char in string:\n",
        "    if char.islower():\n",
        "        lowercase_count += 1\n",
        "\n",
        "print(\"Number of lowercase letters:\", lowercase_count)\n"
      ]
    },
    {
      "cell_type": "markdown",
      "metadata": {
        "id": "YBfkRIUVoqKY"
      },
      "source": [
        "### 28. Swap the case of each character in a string.\n"
      ]
    },
    {
      "cell_type": "code",
      "execution_count": null,
      "metadata": {
        "id": "_PBZnmvdoqKY",
        "outputId": "dea00a50-8d4b-4f4a-bd07-4bbd724dc25d"
      },
      "outputs": [
        {
          "name": "stdout",
          "output_type": "stream",
          "text": [
            "Swapped string: HELLO\n"
          ]
        }
      ],
      "source": [
        "# Input a string\n",
        "string = input(\"Enter a string: \")\n",
        "\n",
        "# Use the swapcase() method to swap the case of characters\n",
        "swapped_string = string.swapcase()\n",
        "\n",
        "print(\"Swapped string:\", swapped_string)\n"
      ]
    },
    {
      "cell_type": "markdown",
      "metadata": {
        "id": "ZR_S72eroqKZ"
      },
      "source": [
        "### 29. Remove a specific word from a string.\n"
      ]
    },
    {
      "cell_type": "code",
      "execution_count": null,
      "metadata": {
        "id": "yVdNlirgoqKZ",
        "outputId": "7dac33cc-a2c6-4b47-b22e-6239ef2507a1"
      },
      "outputs": [
        {
          "name": "stdout",
          "output_type": "stream",
          "text": [
            "String after removing the word: heo\n"
          ]
        }
      ],
      "source": [
        "# Input a string\n",
        "string = input(\"Enter a string: \")\n",
        "\n",
        "# Input the word to be removed\n",
        "word_to_remove = input(\"Enter the word to remove: \")\n",
        "\n",
        "# Use the replace() method to remove the specified word\n",
        "new_string = string.replace(word_to_remove, '')\n",
        "\n",
        "print(\"String after removing the word:\", new_string)\n"
      ]
    },
    {
      "cell_type": "markdown",
      "metadata": {
        "id": "QibK-mMxoqKZ"
      },
      "source": [
        "### 30. Check if a string is a valid email address.\n"
      ]
    },
    {
      "cell_type": "code",
      "execution_count": null,
      "metadata": {
        "id": "1iIEvrlVoqKZ",
        "outputId": "e86e0e63-4024-4141-9181-1478570ad8cb"
      },
      "outputs": [
        {
          "name": "stdout",
          "output_type": "stream",
          "text": [
            "Invalid email address.\n"
          ]
        }
      ],
      "source": [
        "import re\n",
        "\n",
        "# Input an email address\n",
        "email = input(\"Enter an email address: \")\n",
        "\n",
        "# Define a regular expression pattern for email validation\n",
        "pattern = r'^[a-zA-Z0-9._%+-]+@[a-zA-Z0-9.-]+\\.[a-zA-Z]{2,}$'\n",
        "\n",
        "# Use the re.match() function to check if the email matches the pattern\n",
        "if re.match(pattern, email):\n",
        "    print(\"Valid email address.\")\n",
        "else:\n",
        "    print(\"Invalid email address.\")\n"
      ]
    },
    {
      "cell_type": "markdown",
      "metadata": {
        "id": "WWB_GvF2oqKZ"
      },
      "source": [
        "### 31. Extract the username from an email address string.\n"
      ]
    },
    {
      "cell_type": "code",
      "execution_count": null,
      "metadata": {
        "id": "lj_F1fduoqKZ",
        "outputId": "8baeaa53-cc2d-4a4d-af86-1cabc853ea08"
      },
      "outputs": [
        {
          "name": "stdout",
          "output_type": "stream",
          "text": [
            "Username: divyanshu\n"
          ]
        }
      ],
      "source": [
        "# Input an email address\n",
        "email = input(\"Enter an email address: \")\n",
        "\n",
        "# Split the email address at the \"@\" symbol and extract the username\n",
        "username = email.split('@')[0]\n",
        "\n",
        "print(\"Username:\", username)"
      ]
    },
    {
      "cell_type": "markdown",
      "metadata": {
        "id": "lNGSEr_UoqKa"
      },
      "source": [
        "### 32. Extract the domain name from an email address string.\n"
      ]
    },
    {
      "cell_type": "code",
      "execution_count": null,
      "metadata": {
        "id": "EhP7x4kRoqKa",
        "outputId": "17cab6d5-95a3-4d85-a931-aa57b337ff82"
      },
      "outputs": [
        {
          "name": "stdout",
          "output_type": "stream",
          "text": [
            "Domain: gmail.com\n"
          ]
        }
      ],
      "source": [
        "# Input an email address\n",
        "email = input(\"Enter an email address: \")\n",
        "\n",
        "# Split the email address at the \"@\" symbol and extract the domain name\n",
        "domain = email.split('@')[1]\n",
        "\n",
        "print(\"Domain:\", domain)\n"
      ]
    },
    {
      "cell_type": "markdown",
      "metadata": {
        "id": "cIo-7lJIoqKa"
      },
      "source": [
        "### 33. Replace multiple spaces in a string with a single space.\n"
      ]
    },
    {
      "cell_type": "code",
      "execution_count": null,
      "metadata": {
        "id": "6QqLZWv1oqKa",
        "outputId": "544b26c3-4c38-40d1-881c-d414f5874e9c"
      },
      "outputs": [
        {
          "name": "stdout",
          "output_type": "stream",
          "text": [
            "String with multiple spaces replaced: hello. world\n"
          ]
        }
      ],
      "source": [
        "# Input a string\n",
        "string = input(\"Enter a string: \")\n",
        "\n",
        "# Use regular expression to replace multiple spaces with a single space\n",
        "import re\n",
        "new_string = re.sub(' +', ' ', string)\n",
        "\n",
        "print(\"String with multiple spaces replaced:\", new_string)\n"
      ]
    },
    {
      "cell_type": "markdown",
      "metadata": {
        "id": "MrpK8sq8oqKa"
      },
      "source": [
        "### 34. Check if a string is a valid URL.\n"
      ]
    },
    {
      "cell_type": "code",
      "execution_count": null,
      "metadata": {
        "id": "iZ_FWSruoqKa",
        "outputId": "75fc6665-6dc1-429d-edae-0c7463409411"
      },
      "outputs": [
        {
          "name": "stdout",
          "output_type": "stream",
          "text": [
            "Invalid URL.\n"
          ]
        }
      ],
      "source": [
        "import re\n",
        "\n",
        "# Input a URL\n",
        "url = input(\"Enter a URL: \")\n",
        "\n",
        "# Define a regular expression pattern for URL validation\n",
        "pattern = r'^(http|https)://[a-zA-Z0-9.-]+\\.[a-zA-Z]{2,}'\n",
        "\n",
        "# Use the re.match() function to check if the URL matches the pattern\n",
        "if re.match(pattern, url):\n",
        "    print(\"Valid URL.\")\n",
        "else:\n",
        "    print(\"Invalid URL.\")\n"
      ]
    },
    {
      "cell_type": "markdown",
      "metadata": {
        "id": "hs7EBFVfoqKb"
      },
      "source": [
        "### 35. Extract the protocol (http or https) from a URL string.\n"
      ]
    },
    {
      "cell_type": "code",
      "execution_count": null,
      "metadata": {
        "id": "zPW17MeCoqKb",
        "outputId": "6b48e194-96d3-4749-dc92-7e8ec168247c"
      },
      "outputs": [
        {
          "name": "stdout",
          "output_type": "stream",
          "text": [
            "Protocol: https\n"
          ]
        }
      ],
      "source": [
        "# Input a URL\n",
        "url = input(\"Enter a URL: \")\n",
        "\n",
        "# Split the URL at \"://\" and extract the protocol\n",
        "protocol = url.split('://')[0]\n",
        "\n",
        "print(\"Protocol:\", protocol)\n"
      ]
    },
    {
      "cell_type": "markdown",
      "metadata": {
        "id": "_jRl6ebnoqKb"
      },
      "source": [
        "### 36. Find the frequency of each character in a string.\n"
      ]
    },
    {
      "cell_type": "code",
      "execution_count": null,
      "metadata": {
        "id": "82MsavvDoqKb",
        "outputId": "81e5c3b7-2846-4065-997d-e7c75fda818b"
      },
      "outputs": [
        {
          "name": "stdout",
          "output_type": "stream",
          "text": [
            "Character frequencies: {'h': 1, 'e': 1, 'l': 3, 'o': 2, ' ': 1, 'w': 1, 'r': 1, 'd': 1}\n"
          ]
        }
      ],
      "source": [
        "# Input a string\n",
        "string = input(\"Enter a string: \")\n",
        "\n",
        "# Initialize an empty dictionary to store character frequencies\n",
        "char_frequency = {}\n",
        "\n",
        "# Iterate through the characters in the string\n",
        "for char in string:\n",
        "    if char in char_frequency:\n",
        "        char_frequency[char] += 1\n",
        "    else:\n",
        "        char_frequency[char] = 1\n",
        "\n",
        "print(\"Character frequencies:\", char_frequency)\n"
      ]
    },
    {
      "cell_type": "markdown",
      "metadata": {
        "id": "RiGAMCKnoqKb"
      },
      "source": [
        "### 37. Remove all punctuation from a string.\n"
      ]
    },
    {
      "cell_type": "code",
      "execution_count": null,
      "metadata": {
        "id": "mpp1zjdtoqKc",
        "outputId": "a03370f5-24de-49e0-dabd-cff5ed777fef"
      },
      "outputs": [
        {
          "name": "stdout",
          "output_type": "stream",
          "text": [
            "String without punctuation: hi im divyanshu\n"
          ]
        }
      ],
      "source": [
        "import string\n",
        "\n",
        "# Input a string\n",
        "string_with_punctuation = input(\"Enter a string with punctuation: \")\n",
        "\n",
        "# Remove punctuation using string.punctuation\n",
        "string_without_punctuation = ''.join(char for char in string_with_punctuation if char not in string.punctuation)\n",
        "\n",
        "print(\"String without punctuation:\", string_without_punctuation)\n"
      ]
    },
    {
      "cell_type": "markdown",
      "metadata": {
        "id": "l8oeUSocoqKc"
      },
      "source": [
        "### 38. Check if a string contains only digits.\n"
      ]
    },
    {
      "cell_type": "code",
      "execution_count": null,
      "metadata": {
        "id": "76VYv0emoqKc",
        "outputId": "23354740-9aaf-4374-e108-ebd8574e71bb"
      },
      "outputs": [
        {
          "name": "stdout",
          "output_type": "stream",
          "text": [
            "String contains only digits.\n"
          ]
        }
      ],
      "source": [
        "# Input a string\n",
        "string = input(\"Enter a string: \")\n",
        "\n",
        "# Check if the string contains only digits\n",
        "if string.isdigit():\n",
        "    print(\"String contains only digits.\")\n",
        "else:\n",
        "    print(\"String does not contain only digits.\")\n"
      ]
    },
    {
      "cell_type": "markdown",
      "metadata": {
        "id": "8n4Obf75oqKc"
      },
      "source": [
        "### 39. Check if a string contains only alphabets.\n"
      ]
    },
    {
      "cell_type": "code",
      "execution_count": null,
      "metadata": {
        "id": "axFaD9qmoqKc",
        "outputId": "6b578ca8-3fbd-458a-a6ea-ae5b387a0336"
      },
      "outputs": [
        {
          "name": "stdout",
          "output_type": "stream",
          "text": [
            "String contains only alphabets.\n"
          ]
        }
      ],
      "source": [
        "# Input a string\n",
        "string = input(\"Enter a string: \")\n",
        "\n",
        "# Check if the string contains only alphabets\n",
        "if string.isalpha():\n",
        "    print(\"String contains only alphabets.\")\n",
        "else:\n",
        "    print(\"String does not contain only alphabets.\")\n"
      ]
    },
    {
      "cell_type": "markdown",
      "metadata": {
        "id": "pHjPK2ofoqKc"
      },
      "source": [
        "### 40. Convert a string to a list of characters.\n"
      ]
    },
    {
      "cell_type": "code",
      "execution_count": null,
      "metadata": {
        "id": "5T8hLnwuoqKd",
        "outputId": "be3c6682-f97d-4d99-a52b-345f48bc14bf"
      },
      "outputs": [
        {
          "name": "stdout",
          "output_type": "stream",
          "text": [
            "List of characters: ['h', 'e', 'l', 'l', 'o']\n"
          ]
        }
      ],
      "source": [
        "# Input a string\n",
        "string = input(\"Enter a string: \")\n",
        "\n",
        "# Convert the string to a list of characters\n",
        "char_list = list(string)\n",
        "\n",
        "print(\"List of characters:\", char_list)\n"
      ]
    },
    {
      "cell_type": "markdown",
      "metadata": {
        "id": "VeiS1YcdoqKd"
      },
      "source": [
        "### 41. Check if two strings are anagrams.\n"
      ]
    },
    {
      "cell_type": "code",
      "execution_count": null,
      "metadata": {
        "id": "zZdBq6mtoqKd",
        "outputId": "7b5f119b-9d4d-440d-ede5-9a0cfca0c12f"
      },
      "outputs": [
        {
          "name": "stdout",
          "output_type": "stream",
          "text": [
            "The strings are anagrams.\n"
          ]
        }
      ],
      "source": [
        "# Input two strings\n",
        "string1 = input(\"Enter the first string: \")\n",
        "string2 = input(\"Enter the second string: \")\n",
        "\n",
        "# Remove spaces and convert to lowercase for comparison\n",
        "string1 = string1.replace(\" \", \"\").lower()\n",
        "string2 = string2.replace(\" \", \"\").lower()\n",
        "\n",
        "# Check if the sorted characters of both strings are the same\n",
        "if sorted(string1) == sorted(string2):\n",
        "    print(\"The strings are anagrams.\")\n",
        "else:\n",
        "    print(\"The strings are not anagrams.\")\n"
      ]
    },
    {
      "cell_type": "markdown",
      "metadata": {
        "id": "9kd4r8RmoqKd"
      },
      "source": [
        "### 42. Encode a string using a Caesar cipher.\n"
      ]
    },
    {
      "cell_type": "code",
      "execution_count": null,
      "metadata": {
        "id": "vPG-H14yoqKd",
        "outputId": "f6bed72a-cf65-480b-dd0e-a80c1214fec2"
      },
      "outputs": [
        {
          "name": "stdout",
          "output_type": "stream",
          "text": [
            "Encoded string: jgnnq yqtnf\n"
          ]
        }
      ],
      "source": [
        "# Input a string and the shift value\n",
        "string = input(\"Enter a string: \")\n",
        "shift = int(input(\"Enter the shift value: \"))\n",
        "\n",
        "# Initialize an empty result string\n",
        "result = \"\"\n",
        "\n",
        "# Iterate through each character in the input string\n",
        "for char in string:\n",
        "    if char.isalpha():\n",
        "        # Determine whether the character is uppercase or lowercase\n",
        "        if char.isupper():\n",
        "            offset = ord('A')\n",
        "        else:\n",
        "            offset = ord('a')\n",
        "\n",
        "        # Apply Caesar cipher shift\n",
        "        encoded_char = chr(((ord(char) - offset + shift) % 26) + offset)\n",
        "        result += encoded_char\n",
        "    else:\n",
        "        result += char\n",
        "\n",
        "print(\"Encoded string:\", result)\n"
      ]
    },
    {
      "cell_type": "markdown",
      "metadata": {
        "id": "wxGS_56NoqKe"
      },
      "source": [
        "### 43. Decode a Caesar cipher encoded string.\n"
      ]
    },
    {
      "cell_type": "code",
      "execution_count": null,
      "metadata": {
        "id": "RF0hRvYeoqKe",
        "outputId": "98733d68-0ac8-489f-9e27-5382d2c2d23d"
      },
      "outputs": [
        {
          "name": "stdout",
          "output_type": "stream",
          "text": [
            "Decoded string: hello world\n"
          ]
        }
      ],
      "source": [
        "# Input an encoded string and the shift value\n",
        "encoded_string = input(\"Enter the encoded string: \")\n",
        "shift = int(input(\"Enter the shift value: \"))\n",
        "\n",
        "# Initialize an empty result string\n",
        "result = \"\"\n",
        "\n",
        "# Iterate through each character in the encoded string\n",
        "for char in encoded_string:\n",
        "    if char.isalpha():\n",
        "        # Determine whether the character is uppercase or lowercase\n",
        "        if char.isupper():\n",
        "            offset = ord('A')\n",
        "        else:\n",
        "            offset = ord('a')\n",
        "\n",
        "        # Apply Caesar cipher shift in reverse to decode\n",
        "        decoded_char = chr(((ord(char) - offset - shift) % 26) + offset)\n",
        "        result += decoded_char\n",
        "    else:\n",
        "        result += char\n",
        "\n",
        "print(\"Decoded string:\", result)\n"
      ]
    },
    {
      "cell_type": "markdown",
      "metadata": {
        "id": "BJOrQbivoqKe"
      },
      "source": [
        "### 44. Find the most frequent word in a string.\n"
      ]
    },
    {
      "cell_type": "code",
      "execution_count": null,
      "metadata": {
        "id": "z76_iIOCoqKe",
        "outputId": "278cd948-51cd-4619-e228-be2f07ace7e5"
      },
      "outputs": [
        {
          "name": "stdout",
          "output_type": "stream",
          "text": [
            "Most frequent word: hello\n"
          ]
        }
      ],
      "source": [
        "# Input a string\n",
        "string = input(\"Enter a string: \")\n",
        "\n",
        "# Split the string into words\n",
        "words = string.split()\n",
        "\n",
        "# Create a dictionary to store word frequencies\n",
        "word_freq = {}\n",
        "\n",
        "# Iterate through the words and count their frequencies\n",
        "for word in words:\n",
        "    word = word.lower()  # Convert to lowercase for case-insensitive comparison\n",
        "    if word in word_freq:\n",
        "        word_freq[word] += 1\n",
        "    else:\n",
        "        word_freq[word] = 1\n",
        "\n",
        "# Find the most frequent word\n",
        "most_frequent_word = max(word_freq, key=word_freq.get)\n",
        "\n",
        "print(\"Most frequent word:\", most_frequent_word)\n"
      ]
    },
    {
      "cell_type": "markdown",
      "metadata": {
        "id": "HsPit243oqKe"
      },
      "source": [
        "### 45. Find all unique words in a string.\n"
      ]
    },
    {
      "cell_type": "code",
      "execution_count": null,
      "metadata": {
        "id": "ix5R83PMoqKe",
        "outputId": "4b8da272-e4a3-468a-d120-3fa24ad9a010"
      },
      "outputs": [
        {
          "name": "stdout",
          "output_type": "stream",
          "text": [
            "Unique words: {'world', 'hello'}\n"
          ]
        }
      ],
      "source": [
        "# Input a string\n",
        "string = input(\"Enter a string: \")\n",
        "\n",
        "# Split the string into words\n",
        "words = string.split()\n",
        "\n",
        "# Create a set to store unique words\n",
        "unique_words = set(words)\n",
        "\n",
        "print(\"Unique words:\", unique_words)\n"
      ]
    },
    {
      "cell_type": "markdown",
      "metadata": {
        "id": "gpJ0UDbaoqKe"
      },
      "source": [
        "### 46. Count the number of syllables in a string.\n"
      ]
    },
    {
      "cell_type": "code",
      "execution_count": null,
      "metadata": {
        "id": "Bi1W3H6BoqKf",
        "outputId": "6b778711-85d4-4211-881b-6ffb43e3544e"
      },
      "outputs": [
        {
          "name": "stdout",
          "output_type": "stream",
          "text": [
            "Number of syllables: 3\n"
          ]
        }
      ],
      "source": [
        "# Input a string\n",
        "string = input(\"Enter a string: \")\n",
        "\n",
        "# Define a function to count syllables in a word\n",
        "def count_syllables(word):\n",
        "    vowels = \"AEIOUaeiou\"\n",
        "    count = 0\n",
        "    prev_char = None\n",
        "\n",
        "    for char in word:\n",
        "        if char in vowels and prev_char not in vowels:\n",
        "            count += 1\n",
        "        prev_char = char\n",
        "\n",
        "    return count\n",
        "\n",
        "# Split the string into words and count syllables in each word\n",
        "words = string.split()\n",
        "syllable_count = sum(count_syllables(word) for word in words)\n",
        "\n",
        "print(\"Number of syllables:\", syllable_count)\n"
      ]
    },
    {
      "cell_type": "markdown",
      "metadata": {
        "id": "HrOCwfggoqKf"
      },
      "source": [
        "### 47. Check if a string contains any special characters.\n"
      ]
    },
    {
      "cell_type": "code",
      "execution_count": null,
      "metadata": {
        "id": "CfitSo88oqKf",
        "outputId": "0f06fdb9-3d0e-4f92-890e-bc43eace9408"
      },
      "outputs": [
        {
          "name": "stdout",
          "output_type": "stream",
          "text": [
            "The string contains special characters.\n"
          ]
        }
      ],
      "source": [
        "import string\n",
        "\n",
        "# Input a string\n",
        "string_to_check = input(\"Enter a string: \")\n",
        "\n",
        "# Define a function to check for special characters\n",
        "def contains_special_characters(input_string):\n",
        "    special_characters = set(string.punctuation)\n",
        "    for char in input_string:\n",
        "        if char in special_characters:\n",
        "            return True\n",
        "    return False\n",
        "\n",
        "# Check if the string contains special characters\n",
        "if contains_special_characters(string_to_check):\n",
        "    print(\"The string contains special characters.\")\n",
        "else:\n",
        "    print(\"The string does not contain special characters.\")\n"
      ]
    },
    {
      "cell_type": "markdown",
      "metadata": {
        "id": "gHPmF28HoqKf"
      },
      "source": [
        "### 48. Remove the nth word from a string.\n"
      ]
    },
    {
      "cell_type": "code",
      "execution_count": null,
      "metadata": {
        "id": "Kf53xzYGoqKf",
        "outputId": "cdc92d54-e393-442b-a999-3a40ef7b2785"
      },
      "outputs": [
        {
          "name": "stdout",
          "output_type": "stream",
          "text": [
            "Invalid position. No word removed.\n"
          ]
        }
      ],
      "source": [
        "# Input a string\n",
        "string = input(\"Enter a string: \")\n",
        "\n",
        "# Input the position (n) of the word to remove\n",
        "n = int(input(\"Enter the position (1-based) of the word to remove: \"))\n",
        "\n",
        "# Split the string into words\n",
        "words = string.split()\n",
        "\n",
        "# Check if the given position is valid\n",
        "if 1 <= n <= len(words):\n",
        "    # Remove the nth word\n",
        "    del words[n - 1]\n",
        "    result = ' '.join(words)\n",
        "    print(\"String after removing the nth word:\", result)\n",
        "else:\n",
        "    print(\"Invalid position. No word removed.\")\n"
      ]
    },
    {
      "cell_type": "markdown",
      "metadata": {
        "id": "w2PAN8JGoqKf"
      },
      "source": [
        "### 49. Insert a word at the nth position in a string.\n"
      ]
    },
    {
      "cell_type": "code",
      "execution_count": null,
      "metadata": {
        "id": "cWiivjWZoqKg",
        "outputId": "d9c9eff3-4b37-4a0a-d4ac-4a95c8c7c9d1"
      },
      "outputs": [
        {
          "name": "stdout",
          "output_type": "stream",
          "text": [
            "Invalid position. Word not inserted.\n"
          ]
        }
      ],
      "source": [
        "# Input a string\n",
        "string = input(\"Enter a string: \")\n",
        "\n",
        "# Input the position (n) to insert the word\n",
        "n = int(input(\"Enter the position (1-based) to insert the word: \"))\n",
        "\n",
        "# Input the word to insert\n",
        "word_to_insert = input(\"Enter the word to insert: \")\n",
        "\n",
        "# Split the string into words\n",
        "words = string.split()\n",
        "\n",
        "# Check if the given position is valid\n",
        "if 1 <= n <= len(words) + 1:\n",
        "    # Insert the word at the nth position\n",
        "    words.insert(n - 1, word_to_insert)\n",
        "    result = ' '.join(words)\n",
        "    print(\"String after inserting the word:\", result)\n",
        "else:\n",
        "    print(\"Invalid position. Word not inserted.\")\n"
      ]
    },
    {
      "cell_type": "markdown",
      "metadata": {
        "id": "raDZORZLoqKg"
      },
      "source": [
        "### 50. Convert a CSV string to a list of lists.\n"
      ]
    },
    {
      "cell_type": "code",
      "execution_count": null,
      "metadata": {
        "id": "6V3q1er4oqKg",
        "outputId": "f97b05ae-7bad-4dfc-f54d-52f6d2e1d6c4"
      },
      "outputs": [
        {
          "name": "stdout",
          "output_type": "stream",
          "text": [
            "List of lists from CSV string:\n",
            "[\"{'hello'\", \" 'world'}\"]\n"
          ]
        }
      ],
      "source": [
        "# Input a CSV string\n",
        "csv_string = input(\"Enter a CSV string: \")\n",
        "\n",
        "# Split the CSV string into rows\n",
        "rows = csv_string.split('\\n')\n",
        "\n",
        "# Initialize an empty list to store the list of lists\n",
        "csv_list = []\n",
        "\n",
        "# Iterate through the rows and split each row into columns\n",
        "for row in rows:\n",
        "    columns = row.split(',')\n",
        "    csv_list.append(columns)\n",
        "\n",
        "print(\"List of lists from CSV string:\")\n",
        "for row in csv_list:\n",
        "    print(row)\n"
      ]
    },
    {
      "cell_type": "markdown",
      "metadata": {
        "id": "97ENZ7GyoqKg"
      },
      "source": [
        "## **List-Based Practice Problems:**"
      ]
    },
    {
      "cell_type": "markdown",
      "metadata": {
        "id": "9Dm4ZJtNoqKh"
      },
      "source": [
        "### 1. Create a list with integers from 1 to 10.\n"
      ]
    },
    {
      "cell_type": "code",
      "execution_count": null,
      "metadata": {
        "id": "n66lmfqEoqKh",
        "outputId": "98d6f794-142f-4fa7-955d-b1117ed47563"
      },
      "outputs": [
        {
          "name": "stdout",
          "output_type": "stream",
          "text": [
            "[1, 2, 3, 4, 5, 6, 7, 8, 9, 10]\n"
          ]
        }
      ],
      "source": [
        "# Create a list with integers from 1 to 10\n",
        "my_list = list(range(1, 11))\n",
        "print(my_list)\n"
      ]
    },
    {
      "cell_type": "markdown",
      "metadata": {
        "id": "zdKbez9ioqKh"
      },
      "source": [
        "### 2. Find the length of a list without using the `len()` function.\n"
      ]
    },
    {
      "cell_type": "code",
      "execution_count": null,
      "metadata": {
        "id": "s6xq1AfeoqKh",
        "outputId": "7d8a9e8f-3f8f-4a1c-a960-6e956571fe30"
      },
      "outputs": [
        {
          "name": "stdout",
          "output_type": "stream",
          "text": [
            "Length of the list: 5\n"
          ]
        }
      ],
      "source": [
        "# Create a list\n",
        "my_list = [1, 2, 3, 4, 5]\n",
        "\n",
        "# Initialize a count variable\n",
        "count = 0\n",
        "\n",
        "# Iterate through the list and count the elements\n",
        "for _ in my_list:\n",
        "    count += 1\n",
        "\n",
        "print(\"Length of the list:\", count)\n"
      ]
    },
    {
      "cell_type": "markdown",
      "metadata": {
        "id": "i_7c8Vt9oqKh"
      },
      "source": [
        "### 3. Append an element to the end of a list.\n"
      ]
    },
    {
      "cell_type": "code",
      "execution_count": null,
      "metadata": {
        "id": "Cr3W8hW2oqKi",
        "outputId": "103ca462-73cf-4638-a416-b6359cb30021"
      },
      "outputs": [
        {
          "name": "stdout",
          "output_type": "stream",
          "text": [
            "Updated list: [1, 2, 3, 4]\n"
          ]
        }
      ],
      "source": [
        "# Create a list\n",
        "my_list = [1, 2, 3]\n",
        "\n",
        "# Append an element to the end of the list\n",
        "my_list.append(4)\n",
        "\n",
        "print(\"Updated list:\", my_list)\n"
      ]
    },
    {
      "cell_type": "markdown",
      "metadata": {
        "id": "9m6mZKjboqKi"
      },
      "source": [
        "### 4. Insert an element at a specific index in a list.\n"
      ]
    },
    {
      "cell_type": "code",
      "execution_count": null,
      "metadata": {
        "id": "5jmvZQ_-oqKi",
        "outputId": "eabc84a0-69fc-471b-c467-138a5a0fa34a"
      },
      "outputs": [
        {
          "name": "stdout",
          "output_type": "stream",
          "text": [
            "Updated list: [1, 4, 2, 3]\n"
          ]
        }
      ],
      "source": [
        "# Create a list\n",
        "my_list = [1, 2, 3]\n",
        "\n",
        "# Insert an element at index 1\n",
        "my_list.insert(1, 4)\n",
        "\n",
        "print(\"Updated list:\", my_list)\n"
      ]
    },
    {
      "cell_type": "markdown",
      "metadata": {
        "id": "qFwEIJ70oqKi"
      },
      "source": [
        "### 5. Remove an element from a list by its value.\n"
      ]
    },
    {
      "cell_type": "code",
      "execution_count": null,
      "metadata": {
        "id": "PMAMyeh4oqKi",
        "outputId": "deb4b8a4-03ab-4c6d-af3a-b87fd3c35d91"
      },
      "outputs": [
        {
          "name": "stdout",
          "output_type": "stream",
          "text": [
            "Updated list: [1, 2, 4, 5]\n"
          ]
        }
      ],
      "source": [
        "# Create a list\n",
        "my_list = [1, 2, 3, 4, 5]\n",
        "\n",
        "# Remove the element with value 3\n",
        "my_list.remove(3)\n",
        "\n",
        "print(\"Updated list:\", my_list)\n"
      ]
    },
    {
      "cell_type": "markdown",
      "metadata": {
        "id": "8ZQmQU3boqKi"
      },
      "source": [
        "### 6. Remove an element from a list by its index.\n"
      ]
    },
    {
      "cell_type": "code",
      "execution_count": null,
      "metadata": {
        "id": "ZntsiU6WoqKj",
        "outputId": "d36d73fc-d3cf-4dfe-cbcc-e5628073dc30"
      },
      "outputs": [
        {
          "name": "stdout",
          "output_type": "stream",
          "text": [
            "Updated list: [1, 2, 4, 5]\n"
          ]
        }
      ],
      "source": [
        "# Create a list\n",
        "my_list = [1, 2, 3, 4, 5]\n",
        "\n",
        "# Remove the element at index 2\n",
        "del my_list[2]\n",
        "\n",
        "print(\"Updated list:\", my_list)\n"
      ]
    },
    {
      "cell_type": "markdown",
      "metadata": {
        "id": "UzeDRpuboqKj"
      },
      "source": [
        "### 7. Check if an element exists in a list.\n"
      ]
    },
    {
      "cell_type": "code",
      "execution_count": null,
      "metadata": {
        "id": "8RtAUCaPoqKj",
        "outputId": "e89ba620-9d61-484c-8399-193bfc0e43c2"
      },
      "outputs": [
        {
          "name": "stdout",
          "output_type": "stream",
          "text": [
            "3 exists in the list.\n"
          ]
        }
      ],
      "source": [
        "# Create a list\n",
        "my_list = [1, 2, 3, 4, 5]\n",
        "\n",
        "# Check if an element exists in the list\n",
        "element = 3\n",
        "if element in my_list:\n",
        "    print(f\"{element} exists in the list.\")\n",
        "else:\n",
        "    print(f\"{element} does not exist in the list.\")\n"
      ]
    },
    {
      "cell_type": "markdown",
      "metadata": {
        "id": "6gci_r8koqKj"
      },
      "source": [
        "### 8. Find the index of the first occurrence of an element in a list.\n"
      ]
    },
    {
      "cell_type": "code",
      "execution_count": null,
      "metadata": {
        "id": "HLT09MrooqKj",
        "outputId": "c2d271a1-b875-427b-eedd-ddf3b6ccc23b"
      },
      "outputs": [
        {
          "name": "stdout",
          "output_type": "stream",
          "text": [
            "The first occurrence of 3 is at index 2.\n"
          ]
        }
      ],
      "source": [
        "# Create a list\n",
        "my_list = [1, 2, 3, 4, 5, 3]\n",
        "\n",
        "# Find the index of the first occurrence of 3\n",
        "element = 3\n",
        "index = my_list.index(element)\n",
        "\n",
        "print(f\"The first occurrence of {element} is at index {index}.\")\n"
      ]
    },
    {
      "cell_type": "markdown",
      "metadata": {
        "id": "AHujAWwVoqKj"
      },
      "source": [
        "### 9. Count the occurrences of an element in a list.\n"
      ]
    },
    {
      "cell_type": "code",
      "execution_count": null,
      "metadata": {
        "id": "CiXdi3azoqKk",
        "outputId": "31328ce9-595f-4569-8059-f167cb3dfde1"
      },
      "outputs": [
        {
          "name": "stdout",
          "output_type": "stream",
          "text": [
            "3 appears 2 times in the list.\n"
          ]
        }
      ],
      "source": [
        "# Create a list\n",
        "my_list = [1, 2, 3, 4, 5, 3]\n",
        "\n",
        "# Count the occurrences of 3 in the list\n",
        "element = 3\n",
        "count = my_list.count(element)\n",
        "\n",
        "print(f\"{element} appears {count} times in the list.\")\n"
      ]
    },
    {
      "cell_type": "markdown",
      "metadata": {
        "id": "jrE-gTLCoqKk"
      },
      "source": [
        "### 10. Reverse the order of elements in a list.\n"
      ]
    },
    {
      "cell_type": "code",
      "execution_count": null,
      "metadata": {
        "id": "pF6mKNItoqKk",
        "outputId": "30cb721a-9447-475b-f9ca-2d17f35ca4cc"
      },
      "outputs": [
        {
          "name": "stdout",
          "output_type": "stream",
          "text": [
            "Reversed list: [5, 4, 3, 2, 1]\n"
          ]
        }
      ],
      "source": [
        "# Create a list\n",
        "my_list = [1, 2, 3, 4, 5]\n",
        "\n",
        "# Reverse the list in-place\n",
        "my_list.reverse()\n",
        "\n",
        "print(\"Reversed list:\", my_list)\n"
      ]
    },
    {
      "cell_type": "markdown",
      "metadata": {
        "id": "fE1gRzKioqKk"
      },
      "source": [
        "### 11. Sort a list in ascending order.\n"
      ]
    },
    {
      "cell_type": "code",
      "execution_count": null,
      "metadata": {
        "id": "O1j7VuNNoqKk",
        "outputId": "587429b1-c250-44b6-d718-51f6f3a1bfa8"
      },
      "outputs": [
        {
          "name": "stdout",
          "output_type": "stream",
          "text": [
            "Sorted list in ascending order: [1, 2, 3, 4, 5]\n"
          ]
        }
      ],
      "source": [
        "# Create a list\n",
        "my_list = [5, 1, 3, 2, 4]\n",
        "\n",
        "# Sort the list in ascending order\n",
        "my_list.sort()\n",
        "\n",
        "print(\"Sorted list in ascending order:\", my_list)\n"
      ]
    },
    {
      "cell_type": "markdown",
      "metadata": {
        "id": "LQFBtSNOoqKk"
      },
      "source": [
        "### 12. Sort a list in descending order.\n"
      ]
    },
    {
      "cell_type": "code",
      "execution_count": null,
      "metadata": {
        "id": "LPYD77lCoqKl",
        "outputId": "5d1f0443-f33d-422c-ab80-69036901be90"
      },
      "outputs": [
        {
          "name": "stdout",
          "output_type": "stream",
          "text": [
            "Sorted list in descending order: [5, 4, 3, 2, 1]\n"
          ]
        }
      ],
      "source": [
        "# Create a list\n",
        "my_list = [5, 1, 3, 2, 4]\n",
        "\n",
        "# Sort the list in descending order\n",
        "my_list.sort(reverse=True)\n",
        "\n",
        "print(\"Sorted list in descending order:\", my_list)\n"
      ]
    },
    {
      "cell_type": "markdown",
      "metadata": {
        "id": "XkNaE5pEoqKl"
      },
      "source": [
        "### 13. Create a list of even numbers from 1 to 20.\n"
      ]
    },
    {
      "cell_type": "code",
      "execution_count": null,
      "metadata": {
        "id": "VBQJLva_oqKl",
        "outputId": "42966a2c-2a7c-4832-d766-ef48e99806cb"
      },
      "outputs": [
        {
          "name": "stdout",
          "output_type": "stream",
          "text": [
            "List of even numbers: [2, 4, 6, 8, 10, 12, 14, 16, 18, 20]\n"
          ]
        }
      ],
      "source": [
        "# Create a list of even numbers from 1 to 20\n",
        "even_numbers = [num for num in range(1, 21) if num % 2 == 0]\n",
        "print(\"List of even numbers:\", even_numbers)\n"
      ]
    },
    {
      "cell_type": "markdown",
      "metadata": {
        "id": "lfsIqBBEoqKl"
      },
      "source": [
        "### 14. Create a list of odd numbers from 1 to 20.\n"
      ]
    },
    {
      "cell_type": "code",
      "execution_count": null,
      "metadata": {
        "id": "1z2VdIyYoqKl",
        "outputId": "d5a3aeec-bf2c-4417-cda7-12835b71fb46"
      },
      "outputs": [
        {
          "name": "stdout",
          "output_type": "stream",
          "text": [
            "List of odd numbers: [1, 3, 5, 7, 9, 11, 13, 15, 17, 19]\n"
          ]
        }
      ],
      "source": [
        "# Create a list of odd numbers from 1 to 20\n",
        "odd_numbers = [num for num in range(1, 21) if num % 2 != 0]\n",
        "print(\"List of odd numbers:\", odd_numbers)\n"
      ]
    },
    {
      "cell_type": "markdown",
      "metadata": {
        "id": "YkdikmEYoqKm"
      },
      "source": [
        "### 15. Find the sum of all elements in a list.\n"
      ]
    },
    {
      "cell_type": "code",
      "execution_count": null,
      "metadata": {
        "id": "oaIHZCqpoqKm",
        "outputId": "ac4b5b36-24b1-4851-d357-1010bc148056"
      },
      "outputs": [
        {
          "name": "stdout",
          "output_type": "stream",
          "text": [
            "Sum of elements in the list: 15\n"
          ]
        }
      ],
      "source": [
        "# Create a list\n",
        "my_list = [1, 2, 3, 4, 5]\n",
        "\n",
        "# Calculate the sum of elements in the list\n",
        "sum_of_elements = sum(my_list)\n",
        "\n",
        "print(\"Sum of elements in the list:\", sum_of_elements)\n"
      ]
    },
    {
      "cell_type": "markdown",
      "metadata": {
        "id": "lbmC-dKLoqKm"
      },
      "source": [
        "### 16. Find the maximum value in a list.\n"
      ]
    },
    {
      "cell_type": "code",
      "execution_count": null,
      "metadata": {
        "id": "R47kVe7PoqKm",
        "outputId": "61b40f6b-c2ca-423d-a3d5-3451bef0b747"
      },
      "outputs": [
        {
          "name": "stdout",
          "output_type": "stream",
          "text": [
            "Maximum value in the list: 5\n"
          ]
        }
      ],
      "source": [
        "# Create a list\n",
        "my_list = [1, 3, 5, 2, 4]\n",
        "\n",
        "# Find the maximum value in the list\n",
        "max_value = max(my_list)\n",
        "\n",
        "print(\"Maximum value in the list:\", max_value)\n"
      ]
    },
    {
      "cell_type": "markdown",
      "metadata": {
        "id": "3UsdJO0ioqKm"
      },
      "source": [
        "### 17. Find the minimum value in a list.\n"
      ]
    },
    {
      "cell_type": "code",
      "execution_count": null,
      "metadata": {
        "id": "kVadRwgeoqKm",
        "outputId": "59b0977c-b549-403f-fd9f-f789754b98b6"
      },
      "outputs": [
        {
          "name": "stdout",
          "output_type": "stream",
          "text": [
            "Minimum value in the list: 1\n"
          ]
        }
      ],
      "source": [
        "# Create a list\n",
        "my_list = [1, 3, 5, 2, 4]\n",
        "\n",
        "# Find the minimum value in the list\n",
        "min_value = min(my_list)\n",
        "\n",
        "print(\"Minimum value in the list:\", min_value)\n"
      ]
    },
    {
      "cell_type": "markdown",
      "metadata": {
        "id": "zpoiCj7eoqKm"
      },
      "source": [
        "### 18. Create a list of squares of numbers from 1 to 10.\n"
      ]
    },
    {
      "cell_type": "code",
      "execution_count": null,
      "metadata": {
        "id": "dT9XSlF5oqKn",
        "outputId": "7660e8a5-74e2-4f19-86d1-c3eb86ab2c4b"
      },
      "outputs": [
        {
          "name": "stdout",
          "output_type": "stream",
          "text": [
            "List of squares: [1, 4, 9, 16, 25, 36, 49, 64, 81, 100]\n"
          ]
        }
      ],
      "source": [
        "# Create a list of squares of numbers from 1 to 10\n",
        "squares = [num ** 2 for num in range(1, 11)]\n",
        "print(\"List of squares:\", squares)\n"
      ]
    },
    {
      "cell_type": "markdown",
      "metadata": {
        "id": "T0Mg5IDZoqKn"
      },
      "source": [
        "### 19. Create a list of random numbers.\n"
      ]
    },
    {
      "cell_type": "code",
      "execution_count": null,
      "metadata": {
        "id": "Dn67RAznoqKn",
        "outputId": "d181958a-76d9-4ebe-c3bf-cf34b5dc19d9"
      },
      "outputs": [
        {
          "name": "stdout",
          "output_type": "stream",
          "text": [
            "List of random numbers: [53, 60, 23, 72, 15]\n"
          ]
        }
      ],
      "source": [
        "import random\n",
        "\n",
        "# Create a list of 5 random numbers between 1 and 100\n",
        "random_numbers = [random.randint(1, 100) for _ in range(5)]\n",
        "print(\"List of random numbers:\", random_numbers)\n"
      ]
    },
    {
      "cell_type": "markdown",
      "metadata": {
        "id": "1I6KWtnIoqKn"
      },
      "source": [
        "### 20. Remove duplicates from a list.\n"
      ]
    },
    {
      "cell_type": "code",
      "execution_count": null,
      "metadata": {
        "id": "WUAy5s-FoqKn",
        "outputId": "892395ac-922f-49a5-db70-159eb02f11db"
      },
      "outputs": [
        {
          "name": "stdout",
          "output_type": "stream",
          "text": [
            "List with duplicates removed: [1, 2, 3, 4, 5]\n"
          ]
        }
      ],
      "source": [
        "# Create a list with duplicates\n",
        "my_list = [1, 2, 2, 3, 4, 4, 5]\n",
        "\n",
        "# Remove duplicates while preserving the order\n",
        "unique_list = list(set(my_list))\n",
        "\n",
        "print(\"List with duplicates removed:\", unique_list)\n"
      ]
    },
    {
      "cell_type": "markdown",
      "metadata": {
        "id": "-xg-MQX3oqKn"
      },
      "source": [
        "### 21. Find the common elements between two lists.\n"
      ]
    },
    {
      "cell_type": "code",
      "execution_count": null,
      "metadata": {
        "id": "N4TFyCj7oqKo",
        "outputId": "52afe36f-8ed2-4379-c71b-cb6cdff87620"
      },
      "outputs": [
        {
          "name": "stdout",
          "output_type": "stream",
          "text": [
            "Common elements between the two lists: [3, 4, 5]\n"
          ]
        }
      ],
      "source": [
        "# Create two lists\n",
        "list1 = [1, 2, 3, 4, 5]\n",
        "list2 = [3, 4, 5, 6, 7]\n",
        "\n",
        "# Find the common elements between the two lists\n",
        "common_elements = list(set(list1) & set(list2))\n",
        "\n",
        "print(\"Common elements between the two lists:\", common_elements)\n"
      ]
    },
    {
      "cell_type": "markdown",
      "metadata": {
        "id": "rqL6hQmQoqKo"
      },
      "source": [
        "### 22. Find the difference between two lists.\n"
      ]
    },
    {
      "cell_type": "code",
      "execution_count": null,
      "metadata": {
        "id": "nn-qwwQzoqKo",
        "outputId": "a1df8cae-7052-4c02-c37c-7f570859817b"
      },
      "outputs": [
        {
          "name": "stdout",
          "output_type": "stream",
          "text": [
            "Difference between list1 and list2: [1, 2]\n"
          ]
        }
      ],
      "source": [
        "# Create two lists\n",
        "list1 = [1, 2, 3, 4, 5]\n",
        "list2 = [3, 4, 5, 6, 7]\n",
        "\n",
        "# Find the difference between list1 and list2\n",
        "difference = list(set(list1) - set(list2))\n",
        "\n",
        "print(\"Difference between list1 and list2:\", difference)\n"
      ]
    },
    {
      "cell_type": "markdown",
      "metadata": {
        "id": "vNoC43WjoqKo"
      },
      "source": [
        "### 23. Merge two lists.\n"
      ]
    },
    {
      "cell_type": "code",
      "execution_count": null,
      "metadata": {
        "id": "x4ulEXN4oqKo",
        "outputId": "750729ab-ab6a-4f81-b237-b7da1f715cea"
      },
      "outputs": [
        {
          "name": "stdout",
          "output_type": "stream",
          "text": [
            "Merged list: [1, 2, 3, 4, 5, 6]\n"
          ]
        }
      ],
      "source": [
        "# Create two lists\n",
        "list1 = [1, 2, 3]\n",
        "list2 = [4, 5, 6]\n",
        "\n",
        "# Merge the two lists\n",
        "merged_list = list1 + list2\n",
        "\n",
        "print(\"Merged list:\", merged_list)\n"
      ]
    },
    {
      "cell_type": "markdown",
      "metadata": {
        "id": "FyOxXJagoqKo"
      },
      "source": [
        "### 24. Multiply all elements in a list by 2.\n"
      ]
    },
    {
      "cell_type": "code",
      "execution_count": null,
      "metadata": {
        "id": "Masjr9lNoqKp",
        "outputId": "c6f54887-4d12-47a9-d8d9-59682b7b5d39"
      },
      "outputs": [
        {
          "name": "stdout",
          "output_type": "stream",
          "text": [
            "List with elements multiplied by 2: [2, 4, 6, 8, 10]\n"
          ]
        }
      ],
      "source": [
        "# Create a list\n",
        "my_list = [1, 2, 3, 4, 5]\n",
        "\n",
        "# Multiply all elements by 2 using list comprehension\n",
        "multiplied_list = [x * 2 for x in my_list]\n",
        "\n",
        "print(\"List with elements multiplied by 2:\", multiplied_list)\n"
      ]
    },
    {
      "cell_type": "markdown",
      "metadata": {
        "id": "O3QrOoTxoqKp"
      },
      "source": [
        "### 25. Filter out all even numbers from a list.\n"
      ]
    },
    {
      "cell_type": "code",
      "execution_count": null,
      "metadata": {
        "id": "EBBIaVK5oqKp",
        "outputId": "730d77db-db22-46b5-c50b-9c28198c2615"
      },
      "outputs": [
        {
          "name": "stdout",
          "output_type": "stream",
          "text": [
            "List with even numbers filtered out: [1, 3, 5]\n"
          ]
        }
      ],
      "source": [
        "# Create a list\n",
        "my_list = [1, 2, 3, 4, 5, 6]\n",
        "\n",
        "# Filter out even numbers using list comprehension\n",
        "filtered_list = [x for x in my_list if x % 2 != 0]\n",
        "\n",
        "print(\"List with even numbers filtered out:\", filtered_list)\n"
      ]
    },
    {
      "cell_type": "markdown",
      "metadata": {
        "id": "XTUK85_UoqKp"
      },
      "source": [
        "### 26. Convert a list of strings to a list of integers.\n"
      ]
    },
    {
      "cell_type": "code",
      "execution_count": null,
      "metadata": {
        "id": "SqYOXuopoqKp",
        "outputId": "9cb185fe-5957-4605-9679-2aca40d88cbc"
      },
      "outputs": [
        {
          "name": "stdout",
          "output_type": "stream",
          "text": [
            "List of integers: [1, 2, 3, 4, 5]\n"
          ]
        }
      ],
      "source": [
        "# Create a list of strings\n",
        "string_list = [\"1\", \"2\", \"3\", \"4\", \"5\"]\n",
        "\n",
        "# Convert the list of strings to a list of integers\n",
        "int_list = [int(x) for x in string_list]\n",
        "\n",
        "print(\"List of integers:\", int_list)\n"
      ]
    },
    {
      "cell_type": "markdown",
      "metadata": {
        "id": "Li87axU0oqKp"
      },
      "source": [
        "### 27. Convert a list of integers to a list of strings.\n"
      ]
    },
    {
      "cell_type": "code",
      "execution_count": null,
      "metadata": {
        "id": "oJDLFwcDoqKq",
        "outputId": "8b47ecde-9a55-40b6-e9d6-c504ee3cf07b"
      },
      "outputs": [
        {
          "name": "stdout",
          "output_type": "stream",
          "text": [
            "List of strings: ['1', '2', '3', '4', '5']\n"
          ]
        }
      ],
      "source": [
        "# Create a list of integers\n",
        "int_list = [1, 2, 3, 4, 5]\n",
        "\n",
        "# Convert the list of integers to a list of strings\n",
        "string_list = [str(x) for x in int_list]\n",
        "\n",
        "print(\"List of strings:\", string_list)\n"
      ]
    },
    {
      "cell_type": "markdown",
      "metadata": {
        "id": "b5jIk_M3oqKq"
      },
      "source": [
        "### 28. Flatten a nested list.\n"
      ]
    },
    {
      "cell_type": "code",
      "execution_count": null,
      "metadata": {
        "id": "4LeRr8VwoqKq",
        "outputId": "e0652e17-1dbc-462b-b5cc-8634a634dee8"
      },
      "outputs": [
        {
          "name": "stdout",
          "output_type": "stream",
          "text": [
            "Flattened list: [1, 2, 3, 4, 5, 6]\n"
          ]
        }
      ],
      "source": [
        "# Create a nested list\n",
        "nested_list = [[1, 2], [3, 4], [5, 6]]\n",
        "\n",
        "# Flatten the nested list using list comprehension\n",
        "flattened_list = [x for sublist in nested_list for x in sublist]\n",
        "\n",
        "print(\"Flattened list:\", flattened_list)\n"
      ]
    },
    {
      "cell_type": "markdown",
      "metadata": {
        "id": "au0ousHnoqKq"
      },
      "source": [
        "### 29. Create a list of the first 10 Fibonacci numbers.\n"
      ]
    },
    {
      "cell_type": "code",
      "execution_count": null,
      "metadata": {
        "id": "zYc7WxQ_oqKq",
        "outputId": "501977a3-135d-43ff-f0bc-3c9cee62985f"
      },
      "outputs": [
        {
          "name": "stdout",
          "output_type": "stream",
          "text": [
            "List of the first 10 Fibonacci numbers: [0, 1, 1, 2, 3, 5, 8, 13, 21, 34]\n"
          ]
        }
      ],
      "source": [
        "# Initialize a list with the first two Fibonacci numbers\n",
        "fibonacci_list = [0, 1]\n",
        "\n",
        "# Generate the next 8 Fibonacci numbers\n",
        "for i in range(2, 10):\n",
        "    next_fibonacci = fibonacci_list[i-1] + fibonacci_list[i-2]\n",
        "    fibonacci_list.append(next_fibonacci)\n",
        "\n",
        "print(\"List of the first 10 Fibonacci numbers:\", fibonacci_list)\n"
      ]
    },
    {
      "cell_type": "markdown",
      "metadata": {
        "id": "msXp2AXNoqKq"
      },
      "source": [
        "### 30. Check if a list is sorted.\n"
      ]
    },
    {
      "cell_type": "code",
      "execution_count": null,
      "metadata": {
        "id": "t7BxTT4moqKq",
        "outputId": "11b17815-bba3-4d29-d171-a515f74ba62d"
      },
      "outputs": [
        {
          "name": "stdout",
          "output_type": "stream",
          "text": [
            "The list is sorted.\n"
          ]
        }
      ],
      "source": [
        "# Create a list\n",
        "my_list = [1, 2, 3, 4, 5]\n",
        "\n",
        "# Check if the list is sorted in ascending order\n",
        "is_sorted = all(my_list[i] <= my_list[i + 1] for i in range(len(my_list) - 1))\n",
        "\n",
        "if is_sorted:\n",
        "    print(\"The list is sorted.\")\n",
        "else:\n",
        "    print(\"The list is not sorted.\")\n"
      ]
    },
    {
      "cell_type": "markdown",
      "metadata": {
        "id": "veL9PsmnoqKr"
      },
      "source": [
        "### 31. Rotate a list to the left by `n` positions.\n"
      ]
    },
    {
      "cell_type": "code",
      "execution_count": null,
      "metadata": {
        "id": "giT_JsdyoqKr",
        "outputId": "e5f78adf-b91a-4ba8-8164-8817978bc5b4"
      },
      "outputs": [
        {
          "name": "stdout",
          "output_type": "stream",
          "text": [
            "Rotated list to the left by 2 positions: [3, 4, 5, 1, 2]\n"
          ]
        }
      ],
      "source": [
        "# Create a list\n",
        "my_list = [1, 2, 3, 4, 5]\n",
        "\n",
        "# Rotate the list to the left by 2 positions\n",
        "n = 2\n",
        "rotated_list = my_list[n:] + my_list[:n]\n",
        "\n",
        "print(\"Rotated list to the left by\", n, \"positions:\", rotated_list)\n"
      ]
    },
    {
      "cell_type": "markdown",
      "metadata": {
        "id": "qOzv5wrmoqKr"
      },
      "source": [
        "### 32. Rotate a list to the right by `n` positions.\n"
      ]
    },
    {
      "cell_type": "code",
      "execution_count": null,
      "metadata": {
        "id": "y9WC12MUoqKs",
        "outputId": "d46e26cd-5fa5-4303-d99f-e881978e447f"
      },
      "outputs": [
        {
          "name": "stdout",
          "output_type": "stream",
          "text": [
            "Rotated list to the right by 2 positions: [4, 5, 1, 2, 3]\n"
          ]
        }
      ],
      "source": [
        "# Create a list\n",
        "my_list = [1, 2, 3, 4, 5]\n",
        "\n",
        "# Rotate the list to the right by 2 positions\n",
        "n = 2\n",
        "rotated_list = my_list[-n:] + my_list[:-n]\n",
        "\n",
        "print(\"Rotated list to the right by\", n, \"positions:\", rotated_list)\n"
      ]
    },
    {
      "cell_type": "markdown",
      "metadata": {
        "id": "13xxhOSboqKt"
      },
      "source": [
        "### 33. Create a list of prime numbers up to 50.\n"
      ]
    },
    {
      "cell_type": "code",
      "execution_count": null,
      "metadata": {
        "id": "8juTsayHoqKt",
        "outputId": "de64c9ec-46d9-44af-848a-c37d9d313878"
      },
      "outputs": [
        {
          "name": "stdout",
          "output_type": "stream",
          "text": [
            "List of prime numbers up to 50: [2, 3, 5, 7, 11, 13, 17, 19, 23, 29, 31, 37, 41, 43, 47]\n"
          ]
        }
      ],
      "source": [
        "def is_prime(num):\n",
        "    if num < 2:\n",
        "        return False\n",
        "    for i in range(2, int(num**0.5) + 1):\n",
        "        if num % i == 0:\n",
        "            return False\n",
        "    return True\n",
        "\n",
        "# Create a list of prime numbers up to 50\n",
        "prime_list = [num for num in range(2, 51) if is_prime(num)]\n",
        "print(\"List of prime numbers up to 50:\", prime_list)\n"
      ]
    },
    {
      "cell_type": "markdown",
      "metadata": {
        "id": "p43mhYUJoqKt"
      },
      "source": [
        "### 34. Split a list into chunks of size `n`.\n"
      ]
    },
    {
      "cell_type": "code",
      "execution_count": null,
      "metadata": {
        "id": "MTEzerJtoqKu",
        "outputId": "9cb3ab35-812c-4a75-cc3d-67d0861ba303"
      },
      "outputs": [
        {
          "name": "stdout",
          "output_type": "stream",
          "text": [
            "List split into chunks: [[1, 2, 3], [4, 5, 6], [7, 8, 9]]\n"
          ]
        }
      ],
      "source": [
        "def chunk_list(input_list, chunk_size):\n",
        "    return [input_list[i:i+chunk_size] for i in range(0, len(input_list), chunk_size)]\n",
        "\n",
        "# Create a list\n",
        "my_list = [1, 2, 3, 4, 5, 6, 7, 8, 9]\n",
        "\n",
        "# Split the list into chunks of size 3\n",
        "chunked_list = chunk_list(my_list, 3)\n",
        "\n",
        "print(\"List split into chunks:\", chunked_list)\n"
      ]
    },
    {
      "cell_type": "markdown",
      "metadata": {
        "id": "iuZl1kYhoqKu"
      },
      "source": [
        "### 35. Find the second largest number in a list.\n"
      ]
    },
    {
      "cell_type": "code",
      "execution_count": null,
      "metadata": {
        "id": "0g39ZYsYoqKu",
        "outputId": "e9beaabd-fa67-4c57-f0de-4bb8fec4eb5b"
      },
      "outputs": [
        {
          "name": "stdout",
          "output_type": "stream",
          "text": [
            "Second largest number in the list: 8\n"
          ]
        }
      ],
      "source": [
        "# Create a list\n",
        "my_list = [5, 2, 8, 1, 9, 6]\n",
        "\n",
        "# Find the second largest number\n",
        "sorted_list = sorted(my_list)\n",
        "second_largest = sorted_list[-2]\n",
        "\n",
        "print(\"Second largest number in the list:\", second_largest)\n"
      ]
    },
    {
      "cell_type": "markdown",
      "metadata": {
        "id": "gLz16C1SoqKu"
      },
      "source": [
        "### 36. Replace every element in a list with its square.\n"
      ]
    },
    {
      "cell_type": "code",
      "execution_count": null,
      "metadata": {
        "id": "l89HrWzvoqKv",
        "outputId": "dca91750-adbe-47f2-a43f-9e6cb8f2923f"
      },
      "outputs": [
        {
          "name": "stdout",
          "output_type": "stream",
          "text": [
            "List with elements squared: [1, 4, 9, 16, 25]\n"
          ]
        }
      ],
      "source": [
        "# Create a list\n",
        "my_list = [1, 2, 3, 4, 5]\n",
        "\n",
        "# Replace every element with its square using list comprehension\n",
        "squared_list = [x**2 for x in my_list]\n",
        "\n",
        "print(\"List with elements squared:\", squared_list)\n"
      ]
    },
    {
      "cell_type": "markdown",
      "metadata": {
        "id": "ey2kcie4oqKv"
      },
      "source": [
        "### 37. Convert a list to a dictionary where list elements become keys and their indices become values.\n"
      ]
    },
    {
      "cell_type": "code",
      "execution_count": null,
      "metadata": {
        "id": "EcTwMSSLoqKv",
        "outputId": "7695107c-f942-4057-c54b-558861604cea"
      },
      "outputs": [
        {
          "name": "stdout",
          "output_type": "stream",
          "text": [
            "Dictionary from the list: {'apple': 0, 'banana': 1, 'cherry': 2}\n"
          ]
        }
      ],
      "source": [
        "# Create a list\n",
        "my_list = [\"apple\", \"banana\", \"cherry\"]\n",
        "\n",
        "# Convert the list to a dictionary\n",
        "my_dict = {element: index for index, element in enumerate(my_list)}\n",
        "\n",
        "print(\"Dictionary from the list:\", my_dict)\n"
      ]
    },
    {
      "cell_type": "markdown",
      "metadata": {
        "id": "U_GNfS0qoqKv"
      },
      "source": [
        "### 38. Shuffle the elements of a list randomly.\n"
      ]
    },
    {
      "cell_type": "code",
      "execution_count": null,
      "metadata": {
        "id": "N947FYf9oqKv",
        "outputId": "1856db1c-1c61-44dd-a3cc-0e6719b784dc"
      },
      "outputs": [
        {
          "name": "stdout",
          "output_type": "stream",
          "text": [
            "Shuffled list: [4, 3, 5, 1, 2]\n"
          ]
        }
      ],
      "source": [
        "import random\n",
        "\n",
        "# Create a list\n",
        "my_list = [1, 2, 3, 4, 5]\n",
        "\n",
        "# Shuffle the list randomly\n",
        "random.shuffle(my_list)\n",
        "\n",
        "print(\"Shuffled list:\", my_list)\n"
      ]
    },
    {
      "cell_type": "markdown",
      "metadata": {
        "id": "_BGN5I26oqKv"
      },
      "source": [
        "### 39. Create a list of the first 10 factorial numbers.\n"
      ]
    },
    {
      "cell_type": "code",
      "execution_count": null,
      "metadata": {
        "id": "B3ffhU3QoqKv",
        "outputId": "97ab65ec-b0fe-46be-df1e-2f3b7ba7d788"
      },
      "outputs": [
        {
          "name": "stdout",
          "output_type": "stream",
          "text": [
            "List of the first 10 factorial numbers: [1, 1, 2, 6, 24, 120, 720, 5040, 40320, 362880]\n"
          ]
        }
      ],
      "source": [
        "import math\n",
        "\n",
        "# Create a list of the first 10 factorial numbers\n",
        "factorial_list = [math.factorial(n) for n in range(10)]\n",
        "print(\"List of the first 10 factorial numbers:\", factorial_list)\n"
      ]
    },
    {
      "cell_type": "markdown",
      "metadata": {
        "id": "VtzOWr_hoqKw"
      },
      "source": [
        "### 40. Check if two lists have at least one element in common.\n"
      ]
    },
    {
      "cell_type": "code",
      "execution_count": null,
      "metadata": {
        "id": "Hk-c0hZdoqKw",
        "outputId": "5f783e9a-9774-4e83-a1b7-0e82d8a34f25"
      },
      "outputs": [
        {
          "name": "stdout",
          "output_type": "stream",
          "text": [
            "The two lists have at least one common element.\n"
          ]
        }
      ],
      "source": [
        "# Create two lists\n",
        "list1 = [1, 2, 3, 4, 5]\n",
        "list2 = [4, 5, 6, 7, 8]\n",
        "\n",
        "# Check if the two lists have at least one element in common\n",
        "have_common_elements = any(item in list1 for item in list2)\n",
        "\n",
        "if have_common_elements:\n",
        "    print(\"The two lists have at least one common element.\")\n",
        "else:\n",
        "    print(\"The two lists do not have any common elements.\")\n"
      ]
    },
    {
      "cell_type": "markdown",
      "metadata": {
        "id": "grjwsyJqoqKw"
      },
      "source": [
        "### 41. Remove all elements from a list.\n"
      ]
    },
    {
      "cell_type": "code",
      "execution_count": null,
      "metadata": {
        "id": "h2bolg7ioqKw",
        "outputId": "71f4ecf3-5706-4771-ab27-2cf2b963f3cf"
      },
      "outputs": [
        {
          "name": "stdout",
          "output_type": "stream",
          "text": [
            "List after removing all elements: []\n"
          ]
        }
      ],
      "source": [
        "# Create a list\n",
        "my_list = [1, 2, 3, 4, 5]\n",
        "\n",
        "# Remove all elements from the list\n",
        "my_list.clear()\n",
        "\n",
        "print(\"List after removing all elements:\", my_list)\n"
      ]
    },
    {
      "cell_type": "markdown",
      "metadata": {
        "id": "Az68yr18oqKw"
      },
      "source": [
        "### 42. Replace negative numbers in a list with 0.\n"
      ]
    },
    {
      "cell_type": "code",
      "execution_count": null,
      "metadata": {
        "id": "Bq-31SDeoqKw",
        "outputId": "51498c27-6fc2-4738-df17-9e5760381626"
      },
      "outputs": [
        {
          "name": "stdout",
          "output_type": "stream",
          "text": [
            "List with negative numbers replaced: [1, 0, 3, 0, 5]\n"
          ]
        }
      ],
      "source": [
        "# Create a list with negative numbers\n",
        "my_list = [1, -2, 3, -4, 5]\n",
        "\n",
        "# Replace negative numbers with 0 using list comprehension\n",
        "updated_list = [x if x >= 0 else 0 for x in my_list]\n",
        "\n",
        "print(\"List with negative numbers replaced:\", updated_list)\n"
      ]
    },
    {
      "cell_type": "markdown",
      "metadata": {
        "id": "H7P-kiZNoqKw"
      },
      "source": [
        "### 43. Convert a string into a list of words.\n"
      ]
    },
    {
      "cell_type": "code",
      "execution_count": null,
      "metadata": {
        "id": "HCIWdoemoqKx",
        "outputId": "e0efa9ae-a2ff-47b0-c255-943375b36b96"
      },
      "outputs": [
        {
          "name": "stdout",
          "output_type": "stream",
          "text": [
            "List of words from the string: ['Hello,', 'world!', 'This', 'is', 'a', 'sample', 'string.']\n"
          ]
        }
      ],
      "source": [
        "# Create a string\n",
        "my_string = \"Hello, world! This is a sample string.\"\n",
        "\n",
        "# Convert the string into a list of words\n",
        "word_list = my_string.split()\n",
        "\n",
        "print(\"List of words from the string:\", word_list)\n"
      ]
    },
    {
      "cell_type": "markdown",
      "metadata": {
        "id": "9I9VKE8koqKx"
      },
      "source": [
        "### 44. Convert a list of words into a string.\n"
      ]
    },
    {
      "cell_type": "code",
      "execution_count": null,
      "metadata": {
        "id": "2qD3_9B1oqKx",
        "outputId": "36bdd445-8307-4c63-f25b-d60f30e1aecd"
      },
      "outputs": [
        {
          "name": "stdout",
          "output_type": "stream",
          "text": [
            "String from the list of words: Hello, world! This is a sample string.\n"
          ]
        }
      ],
      "source": [
        "# Create a list of words\n",
        "word_list = [\"Hello,\", \"world!\", \"This\", \"is\", \"a\", \"sample\", \"string.\"]\n",
        "\n",
        "# Convert the list of words into a string\n",
        "my_string = \" \".join(word_list)\n",
        "\n",
        "print(\"String from the list of words:\", my_string)\n"
      ]
    },
    {
      "cell_type": "markdown",
      "metadata": {
        "id": "cb0ZvLpQoqKx"
      },
      "source": [
        "### 45. Create a list of the first `n` powers of 2.\n"
      ]
    },
    {
      "cell_type": "code",
      "execution_count": null,
      "metadata": {
        "id": "7DroU_0goqKx",
        "outputId": "507db357-9a36-4ca1-c5bb-62ecbf179a7d"
      },
      "outputs": [
        {
          "name": "stdout",
          "output_type": "stream",
          "text": [
            "List of the first 5 powers of 2: [1, 2, 4, 8, 16]\n"
          ]
        }
      ],
      "source": [
        "# Create a list of the first 5 powers of 2\n",
        "n = 5\n",
        "power_of_2_list = [2**i for i in range(n)]\n",
        "\n",
        "print(\"List of the first\", n, \"powers of 2:\", power_of_2_list)\n"
      ]
    },
    {
      "cell_type": "markdown",
      "metadata": {
        "id": "YHvbWeMPoqKx"
      },
      "source": [
        "### 46. Find the longest string in a list of strings.\n"
      ]
    },
    {
      "cell_type": "code",
      "execution_count": null,
      "metadata": {
        "id": "hZeWsBnIoqKy",
        "outputId": "3903b13e-5117-4f2f-9287-7499dbd5a84e"
      },
      "outputs": [
        {
          "name": "stdout",
          "output_type": "stream",
          "text": [
            "Longest string in the list: banana\n"
          ]
        }
      ],
      "source": [
        "# Create a list of strings\n",
        "string_list = [\"apple\", \"banana\", \"cherry\", \"date\", \"fig\"]\n",
        "\n",
        "# Find the longest string\n",
        "longest_string = max(string_list, key=len)\n",
        "\n",
        "print(\"Longest string in the list:\", longest_string)\n"
      ]
    },
    {
      "cell_type": "markdown",
      "metadata": {
        "id": "1flx3eKSoqKy"
      },
      "source": [
        "### 47. Find the shortest string in a list of strings.\n"
      ]
    },
    {
      "cell_type": "code",
      "execution_count": null,
      "metadata": {
        "id": "HeYTsTsToqKy",
        "outputId": "1f52d04a-226f-483f-e7ef-286618de2b48"
      },
      "outputs": [
        {
          "name": "stdout",
          "output_type": "stream",
          "text": [
            "Shortest string in the list: fig\n"
          ]
        }
      ],
      "source": [
        "# Create a list of strings\n",
        "string_list = [\"apple\", \"banana\", \"cherry\", \"date\", \"fig\"]\n",
        "\n",
        "# Find the shortest string\n",
        "shortest_string = min(string_list, key=len)\n",
        "\n",
        "print(\"Shortest string in the list:\", shortest_string)\n"
      ]
    },
    {
      "cell_type": "markdown",
      "metadata": {
        "id": "vKb17ouvoqKy"
      },
      "source": [
        "### 48. Create a list of the first `n` triangular numbers.\n"
      ]
    },
    {
      "cell_type": "code",
      "execution_count": null,
      "metadata": {
        "id": "VR_NO2J7oqKy",
        "outputId": "35e5b4e3-66ee-4197-83b5-e6c9d363461b"
      },
      "outputs": [
        {
          "name": "stdout",
          "output_type": "stream",
          "text": [
            "List of the first 5 triangular numbers: [1, 3, 6, 10, 15]\n"
          ]
        }
      ],
      "source": [
        "# Create a list of the first 5 triangular numbers\n",
        "n = 5\n",
        "triangular_numbers = [n * (n + 1) // 2 for n in range(1, n + 1)]\n",
        "\n",
        "print(\"List of the first\", n, \"triangular numbers:\", triangular_numbers)\n"
      ]
    },
    {
      "cell_type": "markdown",
      "metadata": {
        "id": "2YZw75sDoqKz"
      },
      "source": [
        "### 49. Check if a list contains another list as a subsequence.\n"
      ]
    },
    {
      "cell_type": "code",
      "execution_count": null,
      "metadata": {
        "id": "A5QL-TnIoqK0",
        "outputId": "718913d6-09d2-44b3-c35d-fa1e31e49d25"
      },
      "outputs": [
        {
          "name": "stdout",
          "output_type": "stream",
          "text": [
            "list2 is a subsequence of list1.\n"
          ]
        }
      ],
      "source": [
        "# Create two lists\n",
        "list1 = [1, 2, 3, 4, 5]\n",
        "list2 = [2, 3, 4]\n",
        "\n",
        "# Check if list2 is a subsequence of list1\n",
        "is_subsequence = all(item in list1 for item in list2)\n",
        "\n",
        "if is_subsequence:\n",
        "    print(\"list2 is a subsequence of list1.\")\n",
        "else:\n",
        "    print(\"list2 is not a subsequence of list1.\")\n"
      ]
    },
    {
      "cell_type": "markdown",
      "metadata": {
        "id": "W06ixHk5oqK0"
      },
      "source": [
        "### 50. Swap two elements in a list by their indices.\n"
      ]
    },
    {
      "cell_type": "code",
      "execution_count": null,
      "metadata": {
        "id": "1Ki5Yf1eoqK0",
        "outputId": "cf8202b2-e8f9-41bd-e8a4-6bf1a1391c59"
      },
      "outputs": [
        {
          "name": "stdout",
          "output_type": "stream",
          "text": [
            "List after swapping elements: [1, 4, 3, 2, 5]\n"
          ]
        }
      ],
      "source": [
        "# Create a list\n",
        "my_list = [1, 2, 3, 4, 5]\n",
        "\n",
        "# Swap elements at indices 1 and 3\n",
        "index1, index2 = 1, 3\n",
        "my_list[index1], my_list[index2] = my_list[index2], my_list[index1]\n",
        "\n",
        "print(\"List after swapping elements:\", my_list)\n"
      ]
    },
    {
      "cell_type": "markdown",
      "metadata": {
        "id": "uhgX0vnboqK0"
      },
      "source": [
        "## **Tuple-Based Practice Problems:**"
      ]
    },
    {
      "cell_type": "markdown",
      "metadata": {
        "id": "yuMWoLvSoqK0"
      },
      "source": [
        "### 1. Create a tuple with integers from 1 to 5.\n"
      ]
    },
    {
      "cell_type": "code",
      "execution_count": null,
      "metadata": {
        "id": "HeQKpPnToqK1",
        "outputId": "3d58fa7e-7fbb-45e5-927b-0533d06fddcf"
      },
      "outputs": [
        {
          "name": "stdout",
          "output_type": "stream",
          "text": [
            "Tuple: (1, 2, 3, 4, 5)\n"
          ]
        }
      ],
      "source": [
        "# Create a tuple with integers from 1 to 5\n",
        "my_tuple = (1, 2, 3, 4, 5)\n",
        "\n",
        "print(\"Tuple:\", my_tuple)\n"
      ]
    },
    {
      "cell_type": "markdown",
      "metadata": {
        "id": "vLFkyXK_oqK1"
      },
      "source": [
        "### 2. Access the third element of a tuple.\n"
      ]
    },
    {
      "cell_type": "code",
      "execution_count": null,
      "metadata": {
        "id": "JNCbutRUoqK1",
        "outputId": "47071ca7-4279-499c-b020-6ab0f424766d"
      },
      "outputs": [
        {
          "name": "stdout",
          "output_type": "stream",
          "text": [
            "Third element of the tuple: 3\n"
          ]
        }
      ],
      "source": [
        "# Access the third element (index 2) of a tuple\n",
        "my_tuple = (1, 2, 3, 4, 5)\n",
        "third_element = my_tuple[2]\n",
        "\n",
        "print(\"Third element of the tuple:\", third_element)\n"
      ]
    },
    {
      "cell_type": "markdown",
      "metadata": {
        "id": "DvC1RKE3oqK1"
      },
      "source": [
        "### 3. Find the length of a tuple without using the `len()` function.\n"
      ]
    },
    {
      "cell_type": "code",
      "execution_count": null,
      "metadata": {
        "id": "0uSE_XljoqK1",
        "outputId": "c130f6f2-bb6d-4c83-94f0-e319efd5ec36"
      },
      "outputs": [
        {
          "name": "stdout",
          "output_type": "stream",
          "text": [
            "Length of the tuple: 5\n"
          ]
        }
      ],
      "source": [
        "# Find the length of a tuple without using len()\n",
        "my_tuple = (1, 2, 3, 4, 5)\n",
        "length = sum(1 for _ in my_tuple)\n",
        "\n",
        "print(\"Length of the tuple:\", length)\n"
      ]
    },
    {
      "cell_type": "markdown",
      "metadata": {
        "id": "KRZGrb5ToqK1"
      },
      "source": [
        "### 4. Count the occurrences of an element in a tuple.\n"
      ]
    },
    {
      "cell_type": "code",
      "execution_count": null,
      "metadata": {
        "id": "dhoQWucHoqK2",
        "outputId": "cf571ba5-8d12-47c5-8d64-e154529b08cb"
      },
      "outputs": [
        {
          "name": "stdout",
          "output_type": "stream",
          "text": [
            "Occurrences of 2 in the tuple: 3\n"
          ]
        }
      ],
      "source": [
        "# Count the occurrences of an element in a tuple\n",
        "my_tuple = (1, 2, 2, 3, 2, 4, 5)\n",
        "element_to_count = 2\n",
        "count = my_tuple.count(element_to_count)\n",
        "\n",
        "print(\"Occurrences of\", element_to_count, \"in the tuple:\", count)\n"
      ]
    },
    {
      "cell_type": "markdown",
      "metadata": {
        "id": "AKlrPw6noqK2"
      },
      "source": [
        "### 5. Find the index of the first occurrence of an element in a tuple.\n"
      ]
    },
    {
      "cell_type": "code",
      "execution_count": null,
      "metadata": {
        "id": "aqJ-JwcioqK2",
        "outputId": "105b2352-ba15-46a5-a1d2-d76b37fa498d"
      },
      "outputs": [
        {
          "name": "stdout",
          "output_type": "stream",
          "text": [
            "Index of the first occurrence of 2 in the tuple: 1\n"
          ]
        }
      ],
      "source": [
        "# Find the index of the first occurrence of an element in a tuple\n",
        "my_tuple = (1, 2, 2, 3, 2, 4, 5)\n",
        "element_to_find = 2\n",
        "index = my_tuple.index(element_to_find)\n",
        "\n",
        "print(\"Index of the first occurrence of\", element_to_find, \"in the tuple:\", index)\n"
      ]
    },
    {
      "cell_type": "markdown",
      "metadata": {
        "id": "jSTs0FwhoqK2"
      },
      "source": [
        "### 6. Check if an element exists in a tuple.\n"
      ]
    },
    {
      "cell_type": "code",
      "execution_count": null,
      "metadata": {
        "id": "gG28OWO7oqK2",
        "outputId": "f47df1f7-e41d-4c20-9112-19d5119c554c"
      },
      "outputs": [
        {
          "name": "stdout",
          "output_type": "stream",
          "text": [
            "3 exists in the tuple.\n"
          ]
        }
      ],
      "source": [
        "# Check if an element exists in a tuple\n",
        "my_tuple = (1, 2, 3, 4, 5)\n",
        "element_to_check = 3\n",
        "exists = element_to_check in my_tuple\n",
        "\n",
        "if exists:\n",
        "    print(element_to_check, \"exists in the tuple.\")\n",
        "else:\n",
        "    print(element_to_check, \"does not exist in the tuple.\")\n"
      ]
    },
    {
      "cell_type": "markdown",
      "metadata": {
        "id": "jpzSF6VcoqK2"
      },
      "source": [
        "### 7. Convert a tuple to a list.\n"
      ]
    },
    {
      "cell_type": "code",
      "execution_count": null,
      "metadata": {
        "id": "Y1YoVucwoqK2",
        "outputId": "6d018cc1-9598-4f0a-9b06-00d8cce198b0"
      },
      "outputs": [
        {
          "name": "stdout",
          "output_type": "stream",
          "text": [
            "Converted list: [1, 2, 3, 4, 5]\n"
          ]
        }
      ],
      "source": [
        "# Convert a tuple to a list\n",
        "my_tuple = (1, 2, 3, 4, 5)\n",
        "my_list = list(my_tuple)\n",
        "\n",
        "print(\"Converted list:\", my_list)\n"
      ]
    },
    {
      "cell_type": "markdown",
      "metadata": {
        "id": "rVEmmaJ_oqK3"
      },
      "source": [
        "### 8. Convert a list to a tuple.\n"
      ]
    },
    {
      "cell_type": "code",
      "execution_count": null,
      "metadata": {
        "id": "KBL51fJWoqK3",
        "outputId": "ebd02578-4d9c-4c6f-f11b-3702fb325d37"
      },
      "outputs": [
        {
          "name": "stdout",
          "output_type": "stream",
          "text": [
            "Converted tuple: (1, 2, 3, 4, 5)\n"
          ]
        }
      ],
      "source": [
        "# Convert a list to a tuple\n",
        "my_list = [1, 2, 3, 4, 5]\n",
        "my_tuple = tuple(my_list)\n",
        "\n",
        "print(\"Converted tuple:\", my_tuple)\n"
      ]
    },
    {
      "cell_type": "markdown",
      "metadata": {
        "id": "0v3_3cnUoqK3"
      },
      "source": [
        "### 9. Unpack the elements of a tuple into variables.\n"
      ]
    },
    {
      "cell_type": "code",
      "execution_count": null,
      "metadata": {
        "id": "9ZaIPttxoqK3",
        "outputId": "0c845d6f-cfa2-4e3d-8b61-27e7de96d972"
      },
      "outputs": [
        {
          "name": "stdout",
          "output_type": "stream",
          "text": [
            "Unpacked variables: 1 2 3\n"
          ]
        }
      ],
      "source": [
        "# Unpack the elements of a tuple into variables\n",
        "my_tuple = (1, 2, 3)\n",
        "a, b, c = my_tuple\n",
        "\n",
        "print(\"Unpacked variables:\", a, b, c)\n"
      ]
    },
    {
      "cell_type": "markdown",
      "metadata": {
        "id": "7xwOn4PpoqK3"
      },
      "source": [
        "### 10. Create a tuple of even numbers from 1 to 10.\n"
      ]
    },
    {
      "cell_type": "code",
      "execution_count": null,
      "metadata": {
        "id": "dfrkG1v1oqK3",
        "outputId": "2d078a77-2d7b-48d2-872e-4219e62e476d"
      },
      "outputs": [
        {
          "name": "stdout",
          "output_type": "stream",
          "text": [
            "Tuple of even numbers: (2, 4, 6, 8, 10)\n"
          ]
        }
      ],
      "source": [
        "# Create a tuple of even numbers from 1 to 10\n",
        "even_numbers = tuple(range(2, 11, 2))\n",
        "\n",
        "print(\"Tuple of even numbers:\", even_numbers)\n"
      ]
    },
    {
      "cell_type": "markdown",
      "metadata": {
        "id": "NLm1vsQ5oqK3"
      },
      "source": [
        "### 11. Create a tuple of odd numbers from 1 to 10.\n"
      ]
    },
    {
      "cell_type": "code",
      "execution_count": null,
      "metadata": {
        "id": "b-zLdPlcoqK3",
        "outputId": "e7696363-4ac4-417e-9aa0-4bca14face88"
      },
      "outputs": [
        {
          "name": "stdout",
          "output_type": "stream",
          "text": [
            "Tuple of odd numbers: (1, 3, 5, 7, 9)\n"
          ]
        }
      ],
      "source": [
        "# Create a tuple of odd numbers from 1 to 10\n",
        "odd_numbers = tuple(range(1, 11, 2))\n",
        "\n",
        "print(\"Tuple of odd numbers:\", odd_numbers)"
      ]
    },
    {
      "cell_type": "markdown",
      "metadata": {
        "id": "aMLcoFDmoqK4"
      },
      "source": [
        "### 12. Concatenate two tuples.\n"
      ]
    },
    {
      "cell_type": "code",
      "execution_count": null,
      "metadata": {
        "id": "cFy0uBbAoqK4",
        "outputId": "f05655c1-e983-4af0-dc6d-cefea4ef7570"
      },
      "outputs": [
        {
          "name": "stdout",
          "output_type": "stream",
          "text": [
            "Concatenated tuple: (1, 2, 3, 4, 5, 6)\n"
          ]
        }
      ],
      "source": [
        "# Concatenate two tuples\n",
        "tuple1 = (1, 2, 3)\n",
        "tuple2 = (4, 5, 6)\n",
        "concatenated_tuple = tuple1 + tuple2\n",
        "\n",
        "print(\"Concatenated tuple:\", concatenated_tuple)"
      ]
    },
    {
      "cell_type": "markdown",
      "metadata": {
        "id": "jnrXgLRboqK4"
      },
      "source": [
        "### 13. Repeat a tuple three times.\n"
      ]
    },
    {
      "cell_type": "code",
      "execution_count": null,
      "metadata": {
        "id": "9y0FIg1hoqK4",
        "outputId": "84d0714b-d9e6-42d2-e2d8-e0277fcda002"
      },
      "outputs": [
        {
          "name": "stdout",
          "output_type": "stream",
          "text": [
            "Repeated tuple: (1, 2, 3, 1, 2, 3, 1, 2, 3)\n"
          ]
        }
      ],
      "source": [
        "# Repeat a tuple three times\n",
        "my_tuple = (1, 2, 3)\n",
        "repeated_tuple = my_tuple * 3\n",
        "\n",
        "print(\"Repeated tuple:\", repeated_tuple)"
      ]
    },
    {
      "cell_type": "markdown",
      "metadata": {
        "id": "Tatm2NPCoqK4"
      },
      "source": [
        "### 14. Check if a tuple is empty.\n"
      ]
    },
    {
      "cell_type": "code",
      "execution_count": null,
      "metadata": {
        "id": "AqLxr1DFoqK4",
        "outputId": "e373d6b3-5d31-40c8-c74d-632041835558"
      },
      "outputs": [
        {
          "name": "stdout",
          "output_type": "stream",
          "text": [
            "The tuple is empty.\n"
          ]
        }
      ],
      "source": [
        "# Check if a tuple is empty\n",
        "empty_tuple = ()\n",
        "if not empty_tuple:\n",
        "    print(\"The tuple is empty.\")\n",
        "else:\n",
        "    print(\"The tuple is not empty.\")"
      ]
    },
    {
      "cell_type": "markdown",
      "metadata": {
        "id": "-2cASrY6oqK5"
      },
      "source": [
        "### 15. Create a nested tuple.\n"
      ]
    },
    {
      "cell_type": "code",
      "execution_count": null,
      "metadata": {
        "id": "Beg68RsYoqK5",
        "outputId": "8e5f07c1-a0b2-4563-df68-7d0a1e8e7fc5"
      },
      "outputs": [
        {
          "name": "stdout",
          "output_type": "stream",
          "text": [
            "Nested tuple: ((1, 2), (3, 4), (5, 6))\n"
          ]
        }
      ],
      "source": [
        "# Create a nested tuple\n",
        "nested_tuple = ((1, 2), (3, 4), (5, 6))\n",
        "\n",
        "print(\"Nested tuple:\", nested_tuple)"
      ]
    },
    {
      "cell_type": "markdown",
      "metadata": {
        "id": "h3kOEPm9oqK5"
      },
      "source": [
        "### 16. Access the first element of a nested tuple.\n"
      ]
    },
    {
      "cell_type": "code",
      "execution_count": null,
      "metadata": {
        "id": "EFYeeQn6oqK5",
        "outputId": "83898014-1387-41fe-f283-e32de1863316"
      },
      "outputs": [
        {
          "name": "stdout",
          "output_type": "stream",
          "text": [
            "First element of the nested tuple: (1, 2)\n"
          ]
        }
      ],
      "source": [
        "# Access the first element of a nested tuple\n",
        "nested_tuple = ((1, 2), (3, 4), (5, 6))\n",
        "first_element = nested_tuple[0]\n",
        "\n",
        "print(\"First element of the nested tuple:\", first_element)"
      ]
    },
    {
      "cell_type": "markdown",
      "metadata": {
        "id": "guc77FE1oqK5"
      },
      "source": [
        "### 17. Create a tuple with a single element.\n"
      ]
    },
    {
      "cell_type": "code",
      "execution_count": null,
      "metadata": {
        "id": "PIodTz0koqK5",
        "outputId": "62428419-18a3-4d8b-b277-911b809b9c04"
      },
      "outputs": [
        {
          "name": "stdout",
          "output_type": "stream",
          "text": [
            "Tuple with a single element: (42,)\n"
          ]
        }
      ],
      "source": [
        "# Create a tuple with a single element\n",
        "single_element_tuple = (42,)\n",
        "\n",
        "print(\"Tuple with a single element:\", single_element_tuple)"
      ]
    },
    {
      "cell_type": "markdown",
      "metadata": {
        "id": "EA0ReCxwoqK5"
      },
      "source": [
        "### 18. Compare two tuples.\n"
      ]
    },
    {
      "cell_type": "code",
      "execution_count": null,
      "metadata": {
        "id": "5bmoqTSioqK6",
        "outputId": "e502b945-6030-402c-df12-2fd2dff76ddf"
      },
      "outputs": [
        {
          "name": "stdout",
          "output_type": "stream",
          "text": [
            "The tuples are equal.\n"
          ]
        }
      ],
      "source": [
        "# Compare two tuples\n",
        "tuple1 = (1, 2, 3)\n",
        "tuple2 = (1, 2, 3)\n",
        "\n",
        "if tuple1 == tuple2:\n",
        "    print(\"The tuples are equal.\")\n",
        "else:\n",
        "    print(\"The tuples are not equal.\")"
      ]
    },
    {
      "cell_type": "markdown",
      "metadata": {
        "id": "xJ7j-FbloqK6"
      },
      "source": [
        "### 19. Delete a tuple.\n"
      ]
    },
    {
      "cell_type": "code",
      "execution_count": null,
      "metadata": {
        "id": "vcPrB4gGoqK6"
      },
      "outputs": [],
      "source": [
        "# Delete a tuple\n",
        "my_tuple = (1, 2, 3)\n",
        "del my_tuple\n",
        "\n",
        "# Attempting to access the tuple after deletion will result in an error"
      ]
    },
    {
      "cell_type": "markdown",
      "metadata": {
        "id": "oWaihu8foqK6"
      },
      "source": [
        "### 20. Slice a tuple.\n"
      ]
    },
    {
      "cell_type": "code",
      "execution_count": null,
      "metadata": {
        "id": "wrWZ9HNboqK_",
        "outputId": "dfb211e3-89e8-453a-bce5-ad97887eb4bb"
      },
      "outputs": [
        {
          "name": "stdout",
          "output_type": "stream",
          "text": [
            "Sliced tuple: (2, 3, 4)\n"
          ]
        }
      ],
      "source": [
        "# Slice a tuple\n",
        "my_tuple = (1, 2, 3, 4, 5)\n",
        "sliced_tuple = my_tuple[1:4]\n",
        "\n",
        "print(\"Sliced tuple:\", sliced_tuple)\n"
      ]
    },
    {
      "cell_type": "markdown",
      "metadata": {
        "id": "kfLAyrn9oqK_"
      },
      "source": [
        "### 21. Find the maximum value in a tuple.\n"
      ]
    },
    {
      "cell_type": "code",
      "execution_count": null,
      "metadata": {
        "id": "EF0Hp3ODoqLA",
        "outputId": "b3f32887-b178-45fd-f7ab-73f162adec4a"
      },
      "outputs": [
        {
          "name": "stdout",
          "output_type": "stream",
          "text": [
            "Maximum value in the tuple: 9\n"
          ]
        }
      ],
      "source": [
        "# Find the maximum value in a tuple\n",
        "my_tuple = (4, 7, 2, 9, 1)\n",
        "max_value = max(my_tuple)\n",
        "\n",
        "print(\"Maximum value in the tuple:\", max_value)"
      ]
    },
    {
      "cell_type": "markdown",
      "metadata": {
        "id": "CZH8VrYJoqLA"
      },
      "source": [
        "### 22. Find the minimum value in a tuple.\n"
      ]
    },
    {
      "cell_type": "code",
      "execution_count": null,
      "metadata": {
        "id": "77IYRKeIoqLA",
        "outputId": "a66cd8e3-c68d-44fe-a3d0-267e8cc93500"
      },
      "outputs": [
        {
          "name": "stdout",
          "output_type": "stream",
          "text": [
            "Minimum value in the tuple: 1\n"
          ]
        }
      ],
      "source": [
        "# Find the minimum value in a tuple\n",
        "my_tuple = (4, 7, 2, 9, 1)\n",
        "min_value = min(my_tuple)\n",
        "\n",
        "print(\"Minimum value in the tuple:\", min_value)"
      ]
    },
    {
      "cell_type": "markdown",
      "metadata": {
        "id": "q8LAUSz-oqLA"
      },
      "source": [
        "### 23. Convert a string to a tuple of characters.\n"
      ]
    },
    {
      "cell_type": "code",
      "execution_count": null,
      "metadata": {
        "id": "t5lZzv6loqLA",
        "outputId": "3bb1c465-5f82-4326-ad9d-5b92b00cca96"
      },
      "outputs": [
        {
          "name": "stdout",
          "output_type": "stream",
          "text": [
            "Tuple of characters: ('P', 'y', 't', 'h', 'o', 'n')\n"
          ]
        }
      ],
      "source": [
        "# Convert a string to a tuple of characters\n",
        "my_string = \"Python\"\n",
        "char_tuple = tuple(my_string)\n",
        "\n",
        "print(\"Tuple of characters:\", char_tuple)"
      ]
    },
    {
      "cell_type": "markdown",
      "metadata": {
        "id": "ONqhSmG4oqLB"
      },
      "source": [
        "### 24. Convert a tuple of characters to a string.\n"
      ]
    },
    {
      "cell_type": "code",
      "execution_count": null,
      "metadata": {
        "id": "dT7TUUBQoqLB",
        "outputId": "7f55b252-c31f-4ff0-e51d-2a3ec796673b"
      },
      "outputs": [
        {
          "name": "stdout",
          "output_type": "stream",
          "text": [
            "String: Python\n"
          ]
        }
      ],
      "source": [
        "# Convert a tuple of characters to a string\n",
        "char_tuple = ('P', 'y', 't', 'h', 'o', 'n')\n",
        "my_string = ''.join(char_tuple)\n",
        "\n",
        "print(\"String:\", my_string)"
      ]
    },
    {
      "cell_type": "markdown",
      "metadata": {
        "id": "ouIVNLW7oqLC"
      },
      "source": [
        "### 25. Create a tuple from multiple data types.\n"
      ]
    },
    {
      "cell_type": "code",
      "execution_count": null,
      "metadata": {
        "id": "9BEstSeUoqLD",
        "outputId": "3af20852-3285-4e7c-dc02-3bf9cfa02a45"
      },
      "outputs": [
        {
          "name": "stdout",
          "output_type": "stream",
          "text": [
            "Mixed tuple: (42, 'hello', 3.14, True)\n"
          ]
        }
      ],
      "source": [
        "# Create a tuple with elements of different data types\n",
        "mixed_tuple = (42, \"hello\", 3.14, True)\n",
        "\n",
        "print(\"Mixed tuple:\", mixed_tuple)"
      ]
    },
    {
      "cell_type": "markdown",
      "metadata": {
        "id": "AWOFoMx6oqLD"
      },
      "source": [
        "### 26. Check if two tuples are identical.\n"
      ]
    },
    {
      "cell_type": "code",
      "execution_count": null,
      "metadata": {
        "id": "QWqh06DVoqLD",
        "outputId": "bd57365e-6f3f-46e0-9f99-b8f752038352"
      },
      "outputs": [
        {
          "name": "stdout",
          "output_type": "stream",
          "text": [
            "The tuples are identical.\n"
          ]
        }
      ],
      "source": [
        "# Check if two tuples are identical\n",
        "tuple1 = (1, 2, 3)\n",
        "tuple2 = (1, 2, 3)\n",
        "\n",
        "if tuple1 == tuple2:\n",
        "    print(\"The tuples are identical.\")\n",
        "else:\n",
        "    print(\"The tuples are not identical.\")"
      ]
    },
    {
      "cell_type": "markdown",
      "metadata": {
        "id": "cfwIaddJoqLE"
      },
      "source": [
        "### 27. Sort the elements of a tuple.\n"
      ]
    },
    {
      "cell_type": "code",
      "execution_count": null,
      "metadata": {
        "id": "-vBGfgEXoqLE",
        "outputId": "eedd907e-4703-4d6f-d1bf-7c13f00f9436"
      },
      "outputs": [
        {
          "name": "stdout",
          "output_type": "stream",
          "text": [
            "Sorted tuple: (1, 2, 3, 4, 9)\n"
          ]
        }
      ],
      "source": [
        "# Sort the elements of a tuple\n",
        "my_tuple = (4, 1, 3, 9, 2)\n",
        "sorted_tuple = tuple(sorted(my_tuple))\n",
        "\n",
        "print(\"Sorted tuple:\", sorted_tuple)"
      ]
    },
    {
      "cell_type": "markdown",
      "metadata": {
        "id": "J8wwGCEWoqLE"
      },
      "source": [
        "### 28. Convert a tuple of integers to a tuple of strings.\n"
      ]
    },
    {
      "cell_type": "code",
      "execution_count": null,
      "metadata": {
        "id": "-MX4RGSJoqLE",
        "outputId": "5b492032-aeba-44d9-d971-6e0660198b9a"
      },
      "outputs": [
        {
          "name": "stdout",
          "output_type": "stream",
          "text": [
            "Tuple of strings: ('1', '2', '3', '4', '5')\n"
          ]
        }
      ],
      "source": [
        "# Convert a tuple of integers to a tuple of strings\n",
        "int_tuple = (1, 2, 3, 4, 5)\n",
        "str_tuple = tuple(map(str, int_tuple))\n",
        "\n",
        "print(\"Tuple of strings:\", str_tuple)"
      ]
    },
    {
      "cell_type": "markdown",
      "metadata": {
        "id": "NiOpUzGKoqLE"
      },
      "source": [
        "### 29. Convert a tuple of strings to a tuple of integers.\n"
      ]
    },
    {
      "cell_type": "code",
      "execution_count": null,
      "metadata": {
        "id": "nb-XS7y7oqLE",
        "outputId": "0ec97f6b-75ad-4114-c350-58a68c318b6e"
      },
      "outputs": [
        {
          "name": "stdout",
          "output_type": "stream",
          "text": [
            "Tuple of integers: (1, 2, 3, 4, 5)\n"
          ]
        }
      ],
      "source": [
        "# Convert a tuple of strings to a tuple of integers\n",
        "str_tuple = (\"1\", \"2\", \"3\", \"4\", \"5\")\n",
        "int_tuple = tuple(map(int, str_tuple))\n",
        "\n",
        "print(\"Tuple of integers:\", int_tuple)"
      ]
    },
    {
      "cell_type": "markdown",
      "metadata": {
        "id": "XPpiGfgtoqLF"
      },
      "source": [
        "### 30. Merge two tuples.\n"
      ]
    },
    {
      "cell_type": "code",
      "execution_count": null,
      "metadata": {
        "id": "cYOitAfUoqLF",
        "outputId": "137a34ff-f1d2-4361-8c7a-406ae5c7ec9a"
      },
      "outputs": [
        {
          "name": "stdout",
          "output_type": "stream",
          "text": [
            "Merged tuple: (1, 2, 3, 4, 5, 6)\n"
          ]
        }
      ],
      "source": [
        "# Merge two tuples\n",
        "tuple1 = (1, 2, 3)\n",
        "tuple2 = (4, 5, 6)\n",
        "merged_tuple = tuple1 + tuple2\n",
        "\n",
        "print(\"Merged tuple:\", merged_tuple)"
      ]
    },
    {
      "cell_type": "markdown",
      "metadata": {
        "id": "cl5GPZhIoqLF"
      },
      "source": [
        "### 31. Flatten a nested tuple.\n"
      ]
    },
    {
      "cell_type": "code",
      "execution_count": null,
      "metadata": {
        "id": "QSXxYKHToqLF",
        "outputId": "a13baaed-9115-4b6f-d0c5-57108b5bf661"
      },
      "outputs": [
        {
          "name": "stdout",
          "output_type": "stream",
          "text": [
            "Flattened tuple: (1, 2, 3, 4, 5, 6)\n"
          ]
        }
      ],
      "source": [
        "# Flatten a nested tuple\n",
        "nested_tuple = ((1, 2), (3, 4), (5, 6))\n",
        "flattened_tuple = tuple(item for sublist in nested_tuple for item in sublist)\n",
        "\n",
        "print(\"Flattened tuple:\", flattened_tuple)"
      ]
    },
    {
      "cell_type": "markdown",
      "metadata": {
        "id": "HwAl8RxtoqLF"
      },
      "source": [
        "### 32. Create a tuple of the first 5 prime numbers.\n"
      ]
    },
    {
      "cell_type": "code",
      "execution_count": null,
      "metadata": {
        "id": "KcBhyxxLoqLF",
        "outputId": "5d368493-f7c7-4cae-a40a-f24067a1913d"
      },
      "outputs": [
        {
          "name": "stdout",
          "output_type": "stream",
          "text": [
            "Tuple of prime numbers: (2, 3, 5, 7, 11)\n"
          ]
        }
      ],
      "source": [
        "# Create a tuple of the first 5 prime numbers\n",
        "prime_numbers = (2, 3, 5, 7, 11)\n",
        "\n",
        "print(\"Tuple of prime numbers:\", prime_numbers)"
      ]
    },
    {
      "cell_type": "markdown",
      "metadata": {
        "id": "g_bK60ZuoqLG"
      },
      "source": [
        "### 33. Check if a tuple is a palindrome.\n"
      ]
    },
    {
      "cell_type": "code",
      "execution_count": null,
      "metadata": {
        "id": "18KHLNsjoqLG",
        "outputId": "434970a0-555f-46c8-eaef-12a00e98867c"
      },
      "outputs": [
        {
          "name": "stdout",
          "output_type": "stream",
          "text": [
            "Is the tuple a palindrome? True\n"
          ]
        }
      ],
      "source": [
        "# Check if a tuple is a palindrome\n",
        "my_tuple = (1, 2, 3, 2, 1)\n",
        "is_palindrome = my_tuple == my_tuple[::-1]\n",
        "\n",
        "print(\"Is the tuple a palindrome?\", is_palindrome)"
      ]
    },
    {
      "cell_type": "markdown",
      "metadata": {
        "id": "wvalTfqcoqLG"
      },
      "source": [
        "### 34. Create a tuple of squares of numbers from 1 to 5.\n"
      ]
    },
    {
      "cell_type": "code",
      "execution_count": null,
      "metadata": {
        "id": "4emgShT3oqLG",
        "outputId": "eed7edad-2987-498e-ce9b-f931058ca37e"
      },
      "outputs": [
        {
          "name": "stdout",
          "output_type": "stream",
          "text": [
            "Tuple of squares: (1, 4, 9, 16, 25)\n"
          ]
        }
      ],
      "source": [
        "# Create a tuple of squares of numbers from 1 to 5\n",
        "squares_tuple = tuple(x ** 2 for x in range(1, 6))\n",
        "\n",
        "print(\"Tuple of squares:\", squares_tuple)"
      ]
    },
    {
      "cell_type": "markdown",
      "metadata": {
        "id": "2SksupDboqLG"
      },
      "source": [
        "### 35. Filter out all even numbers from a tuple.\n"
      ]
    },
    {
      "cell_type": "code",
      "execution_count": null,
      "metadata": {
        "id": "F1PoRxMGoqLG",
        "outputId": "c33782fa-5b51-4937-c7f1-8e62ca808c90"
      },
      "outputs": [
        {
          "name": "stdout",
          "output_type": "stream",
          "text": [
            "Tuple without even numbers: (1, 3, 5, 7, 9)\n"
          ]
        }
      ],
      "source": [
        "# Filter out even numbers from a tuple\n",
        "my_tuple = (1, 2, 3, 4, 5, 6, 7, 8, 9)\n",
        "filtered_tuple = tuple(x for x in my_tuple if x % 2 != 0)\n",
        "\n",
        "print(\"Tuple without even numbers:\", filtered_tuple)"
      ]
    },
    {
      "cell_type": "markdown",
      "metadata": {
        "id": "eOJrVqPeoqLG"
      },
      "source": [
        "### 36. Multiply all elements in a tuple by 2.\n"
      ]
    },
    {
      "cell_type": "code",
      "execution_count": null,
      "metadata": {
        "id": "2mbRGAbfoqLH",
        "outputId": "0e988f52-965e-4899-aab2-28f7bcd8d839"
      },
      "outputs": [
        {
          "name": "stdout",
          "output_type": "stream",
          "text": [
            "Tuple with elements doubled: (2, 4, 6, 8, 10)\n"
          ]
        }
      ],
      "source": [
        "# Multiply all elements in a tuple by 2\n",
        "my_tuple = (1, 2, 3, 4, 5)\n",
        "doubled_tuple = tuple(x * 2 for x in my_tuple)\n",
        "\n",
        "print(\"Tuple with elements doubled:\", doubled_tuple)"
      ]
    },
    {
      "cell_type": "markdown",
      "metadata": {
        "id": "USPgaErPoqLH"
      },
      "source": [
        "### 37. Create a tuple of random numbers.\n"
      ]
    },
    {
      "cell_type": "code",
      "execution_count": null,
      "metadata": {
        "id": "Xbz_9_xMoqLH",
        "outputId": "3963103f-8bd1-4499-bd85-4e951465aa13"
      },
      "outputs": [
        {
          "name": "stdout",
          "output_type": "stream",
          "text": [
            "Tuple of random numbers: (99, 97, 32, 98, 66)\n"
          ]
        }
      ],
      "source": [
        "import random\n",
        "\n",
        "# Create a tuple of 5 random numbers between 1 and 100\n",
        "random_numbers = tuple(random.randint(1, 100) for _ in range(5))\n",
        "\n",
        "print(\"Tuple of random numbers:\", random_numbers)"
      ]
    },
    {
      "cell_type": "markdown",
      "metadata": {
        "id": "pabsEZwloqLH"
      },
      "source": [
        "### 38. Check if a tuple is sorted.\n"
      ]
    },
    {
      "cell_type": "code",
      "execution_count": null,
      "metadata": {
        "id": "HzzVFmARoqLH",
        "outputId": "8acd99ac-ba5e-481d-d7c1-989fa035e04c"
      },
      "outputs": [
        {
          "name": "stdout",
          "output_type": "stream",
          "text": [
            "Is the tuple sorted? True\n"
          ]
        }
      ],
      "source": [
        "# Check if a tuple is sorted\n",
        "my_tuple = (1, 2, 3, 4, 5)\n",
        "is_sorted = my_tuple == tuple(sorted(my_tuple))\n",
        "\n",
        "print(\"Is the tuple sorted?\", is_sorted)"
      ]
    },
    {
      "cell_type": "markdown",
      "metadata": {
        "id": "bFVeWT1VoqLH"
      },
      "source": [
        "### 39. Rotate a tuple to the left by `n` positions.\n"
      ]
    },
    {
      "cell_type": "code",
      "execution_count": null,
      "metadata": {
        "id": "42mQ-WFeoqLH",
        "outputId": "d722a250-5774-4b39-9707-038e4b1f434c"
      },
      "outputs": [
        {
          "name": "stdout",
          "output_type": "stream",
          "text": [
            "Tuple rotated to the left by 2 positions: (3, 4, 5, 1, 2)\n"
          ]
        }
      ],
      "source": [
        "# Rotate a tuple to the left by n positions\n",
        "my_tuple = (1, 2, 3, 4, 5)\n",
        "n = 2\n",
        "rotated_tuple = my_tuple[n:] + my_tuple[:n]\n",
        "\n",
        "print(f\"Tuple rotated to the left by {n} positions:\", rotated_tuple)"
      ]
    },
    {
      "cell_type": "markdown",
      "metadata": {
        "id": "YvwfiuHMoqLI"
      },
      "source": [
        "### 40. Rotate a tuple to the right by `n` positions.\n"
      ]
    },
    {
      "cell_type": "code",
      "execution_count": null,
      "metadata": {
        "id": "hGaXiDmNoqLI",
        "outputId": "cc6bc36a-7ead-4c0b-fb45-6ad07e31acc4"
      },
      "outputs": [
        {
          "name": "stdout",
          "output_type": "stream",
          "text": [
            "Tuple rotated to the right by 2 positions: (4, 5, 1, 2, 3)\n"
          ]
        }
      ],
      "source": [
        "# Rotate a tuple to the right by n positions\n",
        "my_tuple = (1, 2, 3, 4, 5)\n",
        "n = 2\n",
        "rotated_tuple = my_tuple[-n:] + my_tuple[:-n]\n",
        "\n",
        "print(f\"Tuple rotated to the right by {n} positions:\", rotated_tuple)"
      ]
    },
    {
      "cell_type": "markdown",
      "metadata": {
        "id": "TP4_18etoqLI"
      },
      "source": [
        "### 41. Create a tuple of the first 5 Fibonacci numbers.\n"
      ]
    },
    {
      "cell_type": "code",
      "execution_count": null,
      "metadata": {
        "id": "FcDmaxNToqLI",
        "outputId": "4864c03d-a550-430c-d036-f64b7649d795"
      },
      "outputs": [
        {
          "name": "stdout",
          "output_type": "stream",
          "text": [
            "Tuple of the first 5 Fibonacci numbers: (0, 1, 1, 2, 3)\n"
          ]
        }
      ],
      "source": [
        "# Create a tuple of the first 5 Fibonacci numbers\n",
        "def fibonacci(n):\n",
        "    fib = [0, 1]\n",
        "    while len(fib) < n:\n",
        "        fib.append(fib[-1] + fib[-2])\n",
        "    return tuple(fib)\n",
        "\n",
        "fibonacci_numbers = fibonacci(5)\n",
        "print(\"Tuple of the first 5 Fibonacci numbers:\", fibonacci_numbers)"
      ]
    },
    {
      "cell_type": "markdown",
      "metadata": {
        "id": "Rp7i6NqPoqLI"
      },
      "source": [
        "### 42. Create a tuple from user input.\n"
      ]
    },
    {
      "cell_type": "code",
      "execution_count": null,
      "metadata": {
        "id": "MA0EEveuoqLI",
        "outputId": "265aa5b7-bc12-464a-b4a2-373502ca215a"
      },
      "outputs": [
        {
          "name": "stdout",
          "output_type": "stream",
          "text": [
            "User input tuple: ('2', '3', '4', '5', '6', '7')\n"
          ]
        }
      ],
      "source": [
        "# Create a tuple from user input\n",
        "elements = input(\"Enter elements separated by spaces: \").split()\n",
        "user_tuple = tuple(elements)\n",
        "\n",
        "print(\"User input tuple:\", user_tuple)"
      ]
    },
    {
      "cell_type": "markdown",
      "metadata": {
        "id": "rwsT_EnFoqLI"
      },
      "source": [
        "### 43. Swap two elements in a tuple.\n"
      ]
    },
    {
      "cell_type": "code",
      "execution_count": null,
      "metadata": {
        "id": "dM_iYzDjoqLI",
        "outputId": "6d03d44a-8d6f-4fae-bdf8-859a6e619078"
      },
      "outputs": [
        {
          "name": "stdout",
          "output_type": "stream",
          "text": [
            "Tuple after swapping elements: (1, 4, 3, 2, 5)\n"
          ]
        }
      ],
      "source": [
        "# Swap two elements in a tuple\n",
        "my_tuple = (1, 2, 3, 4, 5)\n",
        "index1, index2 = 1, 3\n",
        "tuple_list = list(my_tuple)\n",
        "tuple_list[index1], tuple_list[index2] = tuple_list[index2], tuple_list[index1]\n",
        "swapped_tuple = tuple(tuple_list)\n",
        "\n",
        "print(\"Tuple after swapping elements:\", swapped_tuple)"
      ]
    },
    {
      "cell_type": "markdown",
      "metadata": {
        "id": "l5VmuJkQoqLJ"
      },
      "source": [
        "### 44. Reverse the elements of a tuple.\n"
      ]
    },
    {
      "cell_type": "code",
      "execution_count": null,
      "metadata": {
        "id": "vaewYJSHoqLJ",
        "outputId": "bd02a94f-86aa-42fd-dc1f-7d28abdbe9f8"
      },
      "outputs": [
        {
          "name": "stdout",
          "output_type": "stream",
          "text": [
            "Reversed tuple: (5, 4, 3, 2, 1)\n"
          ]
        }
      ],
      "source": [
        "# Reverse the elements of a tuple\n",
        "my_tuple = (1, 2, 3, 4, 5)\n",
        "reversed_tuple = my_tuple[::-1]\n",
        "\n",
        "print(\"Reversed tuple:\", reversed_tuple)"
      ]
    },
    {
      "cell_type": "markdown",
      "metadata": {
        "id": "HhMQJqJioqLJ"
      },
      "source": [
        "### 45. Create a tuple of the first `n` powers of 2.\n"
      ]
    },
    {
      "cell_type": "code",
      "execution_count": null,
      "metadata": {
        "id": "ERkwInikoqLJ",
        "outputId": "a4c31127-40c2-410d-f91f-ecacd0a80fed"
      },
      "outputs": [
        {
          "name": "stdout",
          "output_type": "stream",
          "text": [
            "Tuple of the first 5 powers of 2: (1, 2, 4, 8, 16)\n"
          ]
        }
      ],
      "source": [
        "# Create a tuple of the first n powers of 2\n",
        "n = 5\n",
        "powers_of_2 = tuple(2 ** i for i in range(n))\n",
        "\n",
        "print(f\"Tuple of the first {n} powers of 2:\", powers_of_2)"
      ]
    },
    {
      "cell_type": "markdown",
      "metadata": {
        "id": "8BV9UkM9oqLJ"
      },
      "source": [
        "### 46. Find the longest string in a tuple of strings.\n"
      ]
    },
    {
      "cell_type": "code",
      "execution_count": null,
      "metadata": {
        "id": "sypimLnUoqLJ",
        "outputId": "b5310547-6c78-4c72-995c-24261d1fc0a3"
      },
      "outputs": [
        {
          "name": "stdout",
          "output_type": "stream",
          "text": [
            "Longest string: banana\n"
          ]
        }
      ],
      "source": [
        "# Find the longest string in a tuple of strings\n",
        "string_tuple = (\"apple\", \"banana\", \"cherry\", \"date\")\n",
        "longest_string = max(string_tuple, key=len)\n",
        "\n",
        "print(\"Longest string:\", longest_string)"
      ]
    },
    {
      "cell_type": "markdown",
      "metadata": {
        "id": "Nej-KKiUoqLK"
      },
      "source": [
        "### 47. Find the shortest string in a tuple of strings.\n"
      ]
    },
    {
      "cell_type": "code",
      "execution_count": null,
      "metadata": {
        "id": "rv6CkQ5zoqLK",
        "outputId": "8bc30489-8764-48be-cf2b-4c79824e8f34"
      },
      "outputs": [
        {
          "name": "stdout",
          "output_type": "stream",
          "text": [
            "Shortest string: date\n"
          ]
        }
      ],
      "source": [
        "# Find the shortest string in a tuple of strings\n",
        "string_tuple = (\"apple\", \"banana\", \"cherry\", \"date\")\n",
        "shortest_string = min(string_tuple, key=len)\n",
        "\n",
        "print(\"Shortest string:\", shortest_string)"
      ]
    },
    {
      "cell_type": "markdown",
      "metadata": {
        "id": "Xo3NP0RWoqLK"
      },
      "source": [
        "### 48. Create a tuple of the first `n` triangular numbers.\n"
      ]
    },
    {
      "cell_type": "code",
      "execution_count": null,
      "metadata": {
        "id": "b5PGrnM0oqLK",
        "outputId": "9ab1abd7-1d64-4929-cfac-dd05043d7768"
      },
      "outputs": [
        {
          "name": "stdout",
          "output_type": "stream",
          "text": [
            "Tuple of the first 5 triangular numbers: (1, 3, 6, 10, 15)\n"
          ]
        }
      ],
      "source": [
        "# Create a tuple of the first n triangular numbers\n",
        "def triangular_number(n):\n",
        "    return n * (n + 1) // 2\n",
        "\n",
        "n = 5\n",
        "triangular_numbers = tuple(triangular_number(i) for i in range(1, n + 1))\n",
        "\n",
        "print(f\"Tuple of the first {n} triangular numbers:\", triangular_numbers)"
      ]
    },
    {
      "cell_type": "markdown",
      "metadata": {
        "id": "F5qtdZiMoqLK"
      },
      "source": [
        "### 49. Check if a tuple contains another tuple as a subsequence.\n"
      ]
    },
    {
      "cell_type": "code",
      "execution_count": null,
      "metadata": {
        "id": "g--vQPv9oqLK",
        "outputId": "ac2204f8-5d3d-413e-bf90-88d631662073"
      },
      "outputs": [
        {
          "name": "stdout",
          "output_type": "stream",
          "text": [
            "Does the tuple contain the subsequence? False\n"
          ]
        }
      ],
      "source": [
        "# Check if a tuple contains another tuple as a subsequence\n",
        "my_tuple = (1, 2, (3, 4), 5, 6)\n",
        "sub_tuple = (3, 4)\n",
        "\n",
        "contains_subsequence = any(sub_tuple == my_tuple[i:i+len(sub_tuple)] for i in range(len(my_tuple) - len(sub_tuple) + 1))\n",
        "\n",
        "print(\"Does the tuple contain the subsequence?\", contains_subsequence)"
      ]
    },
    {
      "cell_type": "markdown",
      "metadata": {
        "id": "IobZcEOKoqLL"
      },
      "source": [
        "### 50. Create a tuple of alternating 1s and 0s of length `n`.\n"
      ]
    },
    {
      "cell_type": "code",
      "execution_count": null,
      "metadata": {
        "id": "x_dKGE8ooqLL",
        "outputId": "5287b0f3-4d9d-4510-a5dd-65cdf9b63750"
      },
      "outputs": [
        {
          "name": "stdout",
          "output_type": "stream",
          "text": [
            "Tuple of alternating 1s and 0s of length 8: (1, 0, 1, 0, 1, 0, 1, 0)\n"
          ]
        }
      ],
      "source": [
        "# Create a tuple of alternating 1s and 0s of length n\n",
        "n = 8\n",
        "alternating_tuple = tuple(1 if i % 2 == 0 else 0 for i in range(n))\n",
        "\n",
        "print(f\"Tuple of alternating 1s and 0s of length {n}:\", alternating_tuple)"
      ]
    },
    {
      "cell_type": "markdown",
      "metadata": {
        "id": "A727g2PZoqLL"
      },
      "source": [
        "## **Set-Based Practice Problems:**"
      ]
    },
    {
      "cell_type": "markdown",
      "metadata": {
        "id": "2DzaFW6woqLL"
      },
      "source": [
        "### 1. Create a set with integers from 1 to 5.\n"
      ]
    },
    {
      "cell_type": "code",
      "execution_count": null,
      "metadata": {
        "id": "RBA1jinToqLL",
        "outputId": "0bc2a1f3-b79c-43ab-af87-76e22afa108a"
      },
      "outputs": [
        {
          "name": "stdout",
          "output_type": "stream",
          "text": [
            "Set: {1, 2, 3, 4, 5}\n"
          ]
        }
      ],
      "source": [
        "# Create a set with integers from 1 to 5\n",
        "my_set = set(range(1, 6))\n",
        "\n",
        "print(\"Set:\", my_set)"
      ]
    },
    {
      "cell_type": "markdown",
      "metadata": {
        "id": "NQkeqJGZoqLL"
      },
      "source": [
        "### 2. Add an element to a set.\n"
      ]
    },
    {
      "cell_type": "code",
      "execution_count": null,
      "metadata": {
        "id": "Wl-fo2A9oqLL",
        "outputId": "67618461-f178-44d5-85fb-9326cbf16053"
      },
      "outputs": [
        {
          "name": "stdout",
          "output_type": "stream",
          "text": [
            "Set after adding an element: {1, 2, 3, 4}\n"
          ]
        }
      ],
      "source": [
        "# Add an element to a set\n",
        "my_set = {1, 2, 3}\n",
        "my_set.add(4)\n",
        "\n",
        "print(\"Set after adding an element:\", my_set)"
      ]
    },
    {
      "cell_type": "markdown",
      "metadata": {
        "id": "NjQ7uK-joqLL"
      },
      "source": [
        "### 3. Remove an element from a set.\n"
      ]
    },
    {
      "cell_type": "code",
      "execution_count": null,
      "metadata": {
        "id": "ewdxzSb9oqLM",
        "outputId": "7e4d937f-05ec-4be5-9b52-0be5b504dac0"
      },
      "outputs": [
        {
          "name": "stdout",
          "output_type": "stream",
          "text": [
            "Set after removing an element: {1, 3}\n"
          ]
        }
      ],
      "source": [
        "# Remove an element from a set\n",
        "my_set = {1, 2, 3}\n",
        "my_set.remove(2)\n",
        "\n",
        "print(\"Set after removing an element:\", my_set)"
      ]
    },
    {
      "cell_type": "markdown",
      "metadata": {
        "id": "LfVjWmPooqLM"
      },
      "source": [
        "### 4. Check if an element exists in a set.\n"
      ]
    },
    {
      "cell_type": "code",
      "execution_count": null,
      "metadata": {
        "id": "3uzvjO2AoqLM",
        "outputId": "d86dfa23-fd0e-4f74-f5f3-2923a9776b38"
      },
      "outputs": [
        {
          "name": "stdout",
          "output_type": "stream",
          "text": [
            "Does 2 exist in the set? True\n"
          ]
        }
      ],
      "source": [
        "# Check if an element exists in a set\n",
        "my_set = {1, 2, 3}\n",
        "element_to_check = 2\n",
        "exists = element_to_check in my_set\n",
        "\n",
        "print(f\"Does {element_to_check} exist in the set? {exists}\")"
      ]
    },
    {
      "cell_type": "markdown",
      "metadata": {
        "id": "Awia_HUqoqLM"
      },
      "source": [
        "### 5. Find the length of a set without using the `len()` function.\n"
      ]
    },
    {
      "cell_type": "code",
      "execution_count": null,
      "metadata": {
        "id": "M2fbYEiLoqLM",
        "outputId": "c5ce4943-9227-4a16-ea8e-e26b5ea42653"
      },
      "outputs": [
        {
          "name": "stdout",
          "output_type": "stream",
          "text": [
            "Length of the set: 3\n"
          ]
        }
      ],
      "source": [
        "# Find the length of a set without using len()\n",
        "my_set = {1, 2, 3}\n",
        "count = sum(1 for _ in my_set)\n",
        "\n",
        "print(\"Length of the set:\", count)"
      ]
    },
    {
      "cell_type": "markdown",
      "metadata": {
        "id": "zElR7AscoqLM"
      },
      "source": [
        "### 6. Clear all elements from a set.\n"
      ]
    },
    {
      "cell_type": "code",
      "execution_count": null,
      "metadata": {
        "id": "Neamoqu9oqLM",
        "outputId": "46128217-0a83-4de3-c835-cd5ea02ca011"
      },
      "outputs": [
        {
          "name": "stdout",
          "output_type": "stream",
          "text": [
            "Set after clearing: set()\n"
          ]
        }
      ],
      "source": [
        "# Clear all elements from a set\n",
        "my_set = {1, 2, 3}\n",
        "my_set.clear()\n",
        "\n",
        "print(\"Set after clearing:\", my_set)"
      ]
    },
    {
      "cell_type": "markdown",
      "metadata": {
        "id": "KtmHsaCNoqLN"
      },
      "source": [
        "### 7. Create a set of even numbers from 1 to 10.\n"
      ]
    },
    {
      "cell_type": "code",
      "execution_count": null,
      "metadata": {
        "id": "4MzV37UyoqLN",
        "outputId": "c843baf9-72d7-477f-866c-160722eb3151"
      },
      "outputs": [
        {
          "name": "stdout",
          "output_type": "stream",
          "text": [
            "Set of even numbers: {2, 4, 6, 8, 10}\n"
          ]
        }
      ],
      "source": [
        "# Create a set of even numbers from 1 to 10\n",
        "even_set = set(range(2, 11, 2))\n",
        "\n",
        "print(\"Set of even numbers:\", even_set)"
      ]
    },
    {
      "cell_type": "markdown",
      "metadata": {
        "id": "GDO_9fDhoqLN"
      },
      "source": [
        "### 8. Create a set of odd numbers from 1 to 10.\n"
      ]
    },
    {
      "cell_type": "code",
      "execution_count": null,
      "metadata": {
        "id": "ei_6G6v8oqLN",
        "outputId": "e283e1ac-4503-4811-e95a-4f0afe452635"
      },
      "outputs": [
        {
          "name": "stdout",
          "output_type": "stream",
          "text": [
            "Set of odd numbers: {1, 3, 5, 7, 9}\n"
          ]
        }
      ],
      "source": [
        "# Create a set of odd numbers from 1 to 10\n",
        "odd_set = set(range(1, 11, 2))\n",
        "\n",
        "print(\"Set of odd numbers:\", odd_set)"
      ]
    },
    {
      "cell_type": "markdown",
      "metadata": {
        "id": "hSNWjg44oqLN"
      },
      "source": [
        "### 9. Find the union of two sets.\n"
      ]
    },
    {
      "cell_type": "code",
      "execution_count": null,
      "metadata": {
        "id": "eT7ox3I-oqLN",
        "outputId": "e88b7f01-b457-48fa-ba69-8f2e53bfbf19"
      },
      "outputs": [
        {
          "name": "stdout",
          "output_type": "stream",
          "text": [
            "Union of two sets: {1, 2, 3, 4, 5}\n"
          ]
        }
      ],
      "source": [
        "# Find the union of two sets\n",
        "set1 = {1, 2, 3}\n",
        "set2 = {3, 4, 5}\n",
        "union_set = set1.union(set2)\n",
        "\n",
        "print(\"Union of two sets:\", union_set)"
      ]
    },
    {
      "cell_type": "markdown",
      "metadata": {
        "id": "cSeN0Z65oqLN"
      },
      "source": [
        "### 10. Find the intersection of two sets.\n"
      ]
    },
    {
      "cell_type": "code",
      "execution_count": null,
      "metadata": {
        "id": "wnHba1-boqLN",
        "outputId": "ac22fa04-a408-4883-81b0-d923fb052a4d"
      },
      "outputs": [
        {
          "name": "stdout",
          "output_type": "stream",
          "text": [
            "Intersection of two sets: {3}\n"
          ]
        }
      ],
      "source": [
        "# Find the intersection of two sets\n",
        "set1 = {1, 2, 3}\n",
        "set2 = {3, 4, 5}\n",
        "intersection_set = set1.intersection(set2)\n",
        "\n",
        "print(\"Intersection of two sets:\", intersection_set)"
      ]
    },
    {
      "cell_type": "markdown",
      "metadata": {
        "id": "nQvlpKRBoqLO"
      },
      "source": [
        "### 11. Find the difference between two sets.\n"
      ]
    },
    {
      "cell_type": "code",
      "execution_count": null,
      "metadata": {
        "id": "sITpT98EoqLO",
        "outputId": "7555afca-5d9d-44bf-cca7-5c513d16411b"
      },
      "outputs": [
        {
          "name": "stdout",
          "output_type": "stream",
          "text": [
            "Difference between two sets: {1, 2}\n"
          ]
        }
      ],
      "source": [
        "# Find the difference between two sets\n",
        "set1 = {1, 2, 3, 4, 5}\n",
        "set2 = {3, 4, 5, 6, 7}\n",
        "difference_set = set1 - set2\n",
        "\n",
        "print(\"Difference between two sets:\", difference_set)"
      ]
    },
    {
      "cell_type": "markdown",
      "metadata": {
        "id": "H1qVxgqkoqLO"
      },
      "source": [
        "### 12. Check if a set is a subset of another set.\n"
      ]
    },
    {
      "cell_type": "code",
      "execution_count": null,
      "metadata": {
        "id": "-yfqT_PdoqLO",
        "outputId": "482e35f4-b6e7-47c6-ea4b-c3bd7d25557c"
      },
      "outputs": [
        {
          "name": "stdout",
          "output_type": "stream",
          "text": [
            "Is set1 a subset of set2? True\n"
          ]
        }
      ],
      "source": [
        "# Check if a set is a subset of another set\n",
        "set1 = {1, 2, 3}\n",
        "set2 = {1, 2, 3, 4, 5}\n",
        "is_subset = set1.issubset(set2)\n",
        "\n",
        "print(\"Is set1 a subset of set2?\", is_subset)"
      ]
    },
    {
      "cell_type": "markdown",
      "metadata": {
        "id": "BGvCPOKqoqLO"
      },
      "source": [
        "### 13. Check if a set is a superset of another set.\n"
      ]
    },
    {
      "cell_type": "code",
      "execution_count": null,
      "metadata": {
        "id": "tJntxecgoqLO",
        "outputId": "58005001-9fc4-4dd5-e8ac-b1fb572b032e"
      },
      "outputs": [
        {
          "name": "stdout",
          "output_type": "stream",
          "text": [
            "Is set1 a superset of set2? True\n"
          ]
        }
      ],
      "source": [
        "# Check if a set is a superset of another set\n",
        "set1 = {1, 2, 3, 4, 5}\n",
        "set2 = {1, 2, 3}\n",
        "is_superset = set1.issuperset(set2)\n",
        "\n",
        "print(\"Is set1 a superset of set2?\", is_superset)"
      ]
    },
    {
      "cell_type": "markdown",
      "metadata": {
        "id": "vbzG4_6DoqLP"
      },
      "source": [
        "### 14. Create a set from a list.\n"
      ]
    },
    {
      "cell_type": "code",
      "execution_count": null,
      "metadata": {
        "id": "mZ7OVNg4oqLP",
        "outputId": "d5c2f0b0-454e-4296-d186-0f6c1626df3a"
      },
      "outputs": [
        {
          "name": "stdout",
          "output_type": "stream",
          "text": [
            "Set from a list: {1, 2, 3, 4, 5}\n"
          ]
        }
      ],
      "source": [
        "# Create a set from a list\n",
        "my_list = [1, 2, 3, 4, 5]\n",
        "my_set = set(my_list)\n",
        "\n",
        "print(\"Set from a list:\", my_set)"
      ]
    },
    {
      "cell_type": "markdown",
      "metadata": {
        "id": "I8VTBa1uoqLP"
      },
      "source": [
        "### 15. Convert a set to a list.\n"
      ]
    },
    {
      "cell_type": "code",
      "execution_count": null,
      "metadata": {
        "id": "uNQRo05qoqLP",
        "outputId": "8882dbe5-4bce-4b90-d455-f757758b84f2"
      },
      "outputs": [
        {
          "name": "stdout",
          "output_type": "stream",
          "text": [
            "List from a set: [1, 2, 3, 4, 5]\n"
          ]
        }
      ],
      "source": [
        "# Convert a set to a list\n",
        "my_set = {1, 2, 3, 4, 5}\n",
        "my_list = list(my_set)\n",
        "\n",
        "print(\"List from a set:\", my_list)"
      ]
    },
    {
      "cell_type": "markdown",
      "metadata": {
        "id": "fMtHWp3goqLP"
      },
      "source": [
        "### 16. Remove a random element from a set.\n"
      ]
    },
    {
      "cell_type": "code",
      "execution_count": null,
      "metadata": {
        "id": "L7N95S-doqLP",
        "outputId": "694682ee-8cbe-4bc4-ed1e-da078fdcb3ef"
      },
      "outputs": [
        {
          "name": "stdout",
          "output_type": "stream",
          "text": [
            "Set after removing a random element: {2, 3, 4, 5}\n"
          ]
        }
      ],
      "source": [
        "# Remove a random element from a set\n",
        "import random\n",
        "\n",
        "my_set = {1, 2, 3, 4, 5}\n",
        "random_element = random.choice(tuple(my_set))\n",
        "my_set.remove(random_element)\n",
        "\n",
        "print(\"Set after removing a random element:\", my_set)"
      ]
    },
    {
      "cell_type": "markdown",
      "metadata": {
        "id": "-X_-fAAZoqLQ"
      },
      "source": [
        "### 17. Pop an element from a set.\n"
      ]
    },
    {
      "cell_type": "code",
      "execution_count": null,
      "metadata": {
        "id": "2I1EE6N6oqLQ",
        "outputId": "a538753f-2b47-4047-9810-0f44344033ed"
      },
      "outputs": [
        {
          "name": "stdout",
          "output_type": "stream",
          "text": [
            "Popped element: 1\n",
            "Set after popping: {2, 3, 4, 5}\n"
          ]
        }
      ],
      "source": [
        "# Pop an element from a set\n",
        "my_set = {1, 2, 3, 4, 5}\n",
        "popped_element = my_set.pop()\n",
        "\n",
        "print(\"Popped element:\", popped_element)\n",
        "print(\"Set after popping:\", my_set)"
      ]
    },
    {
      "cell_type": "markdown",
      "metadata": {
        "id": "KKJEMdA6oqLQ"
      },
      "source": [
        "### 18. Check if two sets have no elements in common.\n"
      ]
    },
    {
      "cell_type": "code",
      "execution_count": null,
      "metadata": {
        "id": "zH3n5XdMoqLQ",
        "outputId": "cc236ff9-2831-44b1-f9a3-219ebb0a9670"
      },
      "outputs": [
        {
          "name": "stdout",
          "output_type": "stream",
          "text": [
            "Do the sets have no common elements? False\n"
          ]
        }
      ],
      "source": [
        "# Check if two sets have no elements in common\n",
        "set1 = {1, 2, 3}\n",
        "set2 = {4, 5, 6}\n",
        "no_common_elements = not set1.isdisjoint(set2)\n",
        "\n",
        "print(\"Do the sets have no common elements?\", no_common_elements)"
      ]
    },
    {
      "cell_type": "markdown",
      "metadata": {
        "id": "dJZiw_1hoqLQ"
      },
      "source": [
        "### 19. Find the symmetric difference between two sets.\n"
      ]
    },
    {
      "cell_type": "code",
      "execution_count": null,
      "metadata": {
        "id": "Md0rhTG4oqLQ",
        "outputId": "1bb647b6-342e-41aa-af96-b7ee23505b65"
      },
      "outputs": [
        {
          "name": "stdout",
          "output_type": "stream",
          "text": [
            "Symmetric difference between two sets: {1, 2, 6, 7}\n"
          ]
        }
      ],
      "source": [
        "# Find the symmetric difference between two sets\n",
        "set1 = {1, 2, 3, 4, 5}\n",
        "set2 = {3, 4, 5, 6, 7}\n",
        "symmetric_difference_set = set1.symmetric_difference(set2)\n",
        "\n",
        "print(\"Symmetric difference between two sets:\", symmetric_difference_set)"
      ]
    },
    {
      "cell_type": "markdown",
      "metadata": {
        "id": "X0uxZyPGoqLR"
      },
      "source": [
        "### 20. Update a set with elements from another set.\n"
      ]
    },
    {
      "cell_type": "code",
      "execution_count": null,
      "metadata": {
        "id": "T72Z3z6ioqLR",
        "outputId": "35dd5394-3c94-46e3-cf20-c9db7ee84a66"
      },
      "outputs": [
        {
          "name": "stdout",
          "output_type": "stream",
          "text": [
            "Set1 after updating with elements from set2: {1, 2, 3, 4, 5}\n"
          ]
        }
      ],
      "source": [
        "# Update a set with elements from another set\n",
        "set1 = {1, 2, 3}\n",
        "set2 = {3, 4, 5}\n",
        "set1.update(set2)\n",
        "\n",
        "print(\"Set1 after updating with elements from set2:\", set1)"
      ]
    },
    {
      "cell_type": "markdown",
      "metadata": {
        "id": "42oyaRGsoqLR"
      },
      "source": [
        "### 21. Create a set of the first 5 prime numbers.\n"
      ]
    },
    {
      "cell_type": "code",
      "execution_count": null,
      "metadata": {
        "id": "gUG_jKyzoqLR",
        "outputId": "e3d945da-24f3-411e-d491-a33e83125e2f"
      },
      "outputs": [
        {
          "name": "stdout",
          "output_type": "stream",
          "text": [
            "Set of the first 5 prime numbers: {2, 3, 5, 7, 11}\n"
          ]
        }
      ],
      "source": [
        "# Create a set of the first 5 prime numbers\n",
        "prime_set = {2, 3, 5, 7, 11}\n",
        "\n",
        "print(\"Set of the first 5 prime numbers:\", prime_set)\n"
      ]
    },
    {
      "cell_type": "markdown",
      "metadata": {
        "id": "Kc5fupJeoqLR"
      },
      "source": [
        "### 22. Check if two sets are identical.\n"
      ]
    },
    {
      "cell_type": "code",
      "execution_count": null,
      "metadata": {
        "id": "s2oToScnoqLR",
        "outputId": "41eaf153-566f-47f6-d184-f9a465234f2d"
      },
      "outputs": [
        {
          "name": "stdout",
          "output_type": "stream",
          "text": [
            "Are the sets identical? True\n"
          ]
        }
      ],
      "source": [
        "# Check if two sets are identical\n",
        "set1 = {1, 2, 3}\n",
        "set2 = {3, 2, 1}\n",
        "are_identical = set1 == set2\n",
        "\n",
        "print(\"Are the sets identical?\", are_identical)\n"
      ]
    },
    {
      "cell_type": "markdown",
      "metadata": {
        "id": "wBa1WyPmoqLR"
      },
      "source": [
        "### 23. Create a frozen set.\n"
      ]
    },
    {
      "cell_type": "code",
      "execution_count": null,
      "metadata": {
        "id": "C3-oFSrXoqLS",
        "outputId": "b7633cc4-a877-4a29-a3f6-d4c8a8e30a86"
      },
      "outputs": [
        {
          "name": "stdout",
          "output_type": "stream",
          "text": [
            "Frozen set: frozenset({1, 2, 3})\n"
          ]
        }
      ],
      "source": [
        "# Create a frozen set\n",
        "my_set = {1, 2, 3}\n",
        "frozen_set = frozenset(my_set)\n",
        "\n",
        "print(\"Frozen set:\", frozen_set)\n"
      ]
    },
    {
      "cell_type": "markdown",
      "metadata": {
        "id": "H-kvHZqQoqLS"
      },
      "source": [
        "### 24. Check if a set is disjoint with another set.\n"
      ]
    },
    {
      "cell_type": "code",
      "execution_count": null,
      "metadata": {
        "id": "cGs-s7fqoqLS",
        "outputId": "4c77a338-f03b-4189-da2a-ea7acb9c8c51"
      },
      "outputs": [
        {
          "name": "stdout",
          "output_type": "stream",
          "text": [
            "Are the sets disjoint? True\n"
          ]
        }
      ],
      "source": [
        "# Check if a set is disjoint with another set\n",
        "set1 = {1, 2, 3}\n",
        "set2 = {4, 5, 6}\n",
        "is_disjoint = set1.isdisjoint(set2)\n",
        "\n",
        "print(\"Are the sets disjoint?\", is_disjoint)"
      ]
    },
    {
      "cell_type": "markdown",
      "metadata": {
        "id": "nOEaf7EOoqLS"
      },
      "source": [
        "### 25. Create a set of squares of numbers from 1 to 5.\n"
      ]
    },
    {
      "cell_type": "code",
      "execution_count": null,
      "metadata": {
        "id": "AE-6aSR3oqLT",
        "outputId": "e3848aa1-2519-4ea8-c6a8-c06a693d660e"
      },
      "outputs": [
        {
          "name": "stdout",
          "output_type": "stream",
          "text": [
            "Set of squares: {1, 4, 9, 16, 25}\n"
          ]
        }
      ],
      "source": [
        "# Create a set of squares of numbers from 1 to 5\n",
        "square_set = {x ** 2 for x in range(1, 6)}\n",
        "\n",
        "print(\"Set of squares:\", square_set)"
      ]
    },
    {
      "cell_type": "markdown",
      "metadata": {
        "id": "MTX3RJ95oqLT"
      },
      "source": [
        "### 26. Filter out all even numbers from a set.\n"
      ]
    },
    {
      "cell_type": "code",
      "execution_count": null,
      "metadata": {
        "id": "KCb3wpvjoqLT",
        "outputId": "5a7f6f93-07d7-4ec9-fd40-8b1216dd1c7a"
      },
      "outputs": [
        {
          "name": "stdout",
          "output_type": "stream",
          "text": [
            "Set after filtering out even numbers: {1, 3, 5}\n"
          ]
        }
      ],
      "source": [
        "# Filter out all even numbers from a set\n",
        "my_set = {1, 2, 3, 4, 5}\n",
        "filtered_set = {x for x in my_set if x % 2 != 0}\n",
        "\n",
        "print(\"Set after filtering out even numbers:\", filtered_set)"
      ]
    },
    {
      "cell_type": "markdown",
      "metadata": {
        "id": "aOOgVJmtoqLT"
      },
      "source": [
        "### 27. Multiply all elements in a set by 2.\n"
      ]
    },
    {
      "cell_type": "code",
      "execution_count": null,
      "metadata": {
        "id": "NlcnohhIoqLT",
        "outputId": "90914c04-fd0a-4a2d-b085-7fcdead3de89"
      },
      "outputs": [
        {
          "name": "stdout",
          "output_type": "stream",
          "text": [
            "Set after multiplying by 2: {2, 4, 6, 8, 10}\n"
          ]
        }
      ],
      "source": [
        "# Multiply all elements in a set by 2\n",
        "my_set = {1, 2, 3, 4, 5}\n",
        "doubled_set = {x * 2 for x in my_set}\n",
        "\n",
        "print(\"Set after multiplying by 2:\", doubled_set)"
      ]
    },
    {
      "cell_type": "markdown",
      "metadata": {
        "id": "A8PIq9IsoqLT"
      },
      "source": [
        "### 28. Create a set of random numbers.\n"
      ]
    },
    {
      "cell_type": "code",
      "execution_count": null,
      "metadata": {
        "id": "fP0Bm04KoqLT",
        "outputId": "d8f15153-7c70-4a32-8c21-0385ef33f41e"
      },
      "outputs": [
        {
          "name": "stdout",
          "output_type": "stream",
          "text": [
            "Set of random numbers: {2, 3, 4, 5, 10}\n"
          ]
        }
      ],
      "source": [
        "# Create a set of random numbers\n",
        "import random\n",
        "\n",
        "random_set = {random.randint(1, 10) for _ in range(5)}\n",
        "\n",
        "print(\"Set of random numbers:\", random_set)"
      ]
    },
    {
      "cell_type": "markdown",
      "metadata": {
        "id": "2uWV9CkwoqLU"
      },
      "source": [
        "### 29. Check if a set is empty.\n"
      ]
    },
    {
      "cell_type": "code",
      "execution_count": null,
      "metadata": {
        "id": "cJthB4LDoqLU",
        "outputId": "6ff45bcf-0a89-4efe-b3f0-ec2c4d09d642"
      },
      "outputs": [
        {
          "name": "stdout",
          "output_type": "stream",
          "text": [
            "Is the set empty? True\n"
          ]
        }
      ],
      "source": [
        "# Check if a set is empty\n",
        "my_set = set()\n",
        "is_empty = not bool(my_set)\n",
        "\n",
        "print(\"Is the set empty?\", is_empty)"
      ]
    },
    {
      "cell_type": "markdown",
      "metadata": {
        "id": "5EnDlQvwoqLU"
      },
      "source": [
        "### 30. Create a nested set (hint: use frozenset).\n"
      ]
    },
    {
      "cell_type": "code",
      "execution_count": null,
      "metadata": {
        "id": "sbcakkqeoqLU",
        "outputId": "a67700f8-6632-439b-db16-2c29781c20b3"
      },
      "outputs": [
        {
          "name": "stdout",
          "output_type": "stream",
          "text": [
            "frozenset({frozenset({1, 2, 3}), frozenset({4, 5, 6})})\n"
          ]
        }
      ],
      "source": [
        "# Create inner frozensets\n",
        "set1 = frozenset({1, 2, 3})\n",
        "set2 = frozenset({4, 5, 6})\n",
        "\n",
        "# Create a nested frozenset\n",
        "nested_set = frozenset({set1, set2})\n",
        "\n",
        "print(nested_set)\n"
      ]
    },
    {
      "cell_type": "markdown",
      "metadata": {
        "id": "1sSmmee8oqLU"
      },
      "source": [
        "### 31. Remove an element from a set using the discard method.\n"
      ]
    },
    {
      "cell_type": "code",
      "execution_count": null,
      "metadata": {
        "id": "Ns6uBMN-oqLU",
        "outputId": "918941b9-4fd6-4094-dc9c-6d08fe3c98e3"
      },
      "outputs": [
        {
          "name": "stdout",
          "output_type": "stream",
          "text": [
            "Set after removing 3: {1, 2, 4, 5}\n"
          ]
        }
      ],
      "source": [
        "# Remove an element from a set using the discard method\n",
        "my_set = {1, 2, 3, 4, 5}\n",
        "my_set.discard(3)  # Remove the element 3 if it exists\n",
        "\n",
        "print(\"Set after removing 3:\", my_set)"
      ]
    },
    {
      "cell_type": "markdown",
      "metadata": {
        "id": "oI2U7MQUoqLU"
      },
      "source": [
        "### 32. Compare two sets.\n"
      ]
    },
    {
      "cell_type": "code",
      "execution_count": null,
      "metadata": {
        "id": "kUek7-4loqLV",
        "outputId": "127f764a-07e7-4615-87e3-3dcbf0eb32b4"
      },
      "outputs": [
        {
          "name": "stdout",
          "output_type": "stream",
          "text": [
            "Is set1 a subset of set2? False\n",
            "Is set1 a superset of set2? False\n",
            "Do the sets have common elements? True\n"
          ]
        }
      ],
      "source": [
        "# Compare two sets\n",
        "set1 = {1, 2, 3}\n",
        "set2 = {2, 3, 4}\n",
        "\n",
        "# Check if set1 is a subset of set2\n",
        "is_subset = set1.issubset(set2)\n",
        "\n",
        "# Check if set1 is a superset of set2\n",
        "is_superset = set1.issuperset(set2)\n",
        "\n",
        "# Check if two sets have any common elements\n",
        "have_common_elements = not set1.isdisjoint(set2)\n",
        "\n",
        "print(\"Is set1 a subset of set2?\", is_subset)\n",
        "print(\"Is set1 a superset of set2?\", is_superset)\n",
        "print(\"Do the sets have common elements?\", have_common_elements)"
      ]
    },
    {
      "cell_type": "markdown",
      "metadata": {
        "id": "CrQD_B69oqLV"
      },
      "source": [
        "### 33. Create a set from a string.\n"
      ]
    },
    {
      "cell_type": "code",
      "execution_count": null,
      "metadata": {
        "id": "TEpdsjMZoqLV",
        "outputId": "ba8c99ef-56ec-41b0-c80a-4e2bdcc1f64b"
      },
      "outputs": [
        {
          "name": "stdout",
          "output_type": "stream",
          "text": [
            "Set from string: {'l', 'o', 'h', 'e'}\n"
          ]
        }
      ],
      "source": [
        "# Create a set from a string\n",
        "my_string = \"hello\"\n",
        "char_set = set(my_string)\n",
        "\n",
        "print(\"Set from string:\", char_set)"
      ]
    },
    {
      "cell_type": "markdown",
      "metadata": {
        "id": "5uNn6uksoqLV"
      },
      "source": [
        "### 34. Convert a set of strings to a set of integers.\n"
      ]
    },
    {
      "cell_type": "code",
      "execution_count": null,
      "metadata": {
        "id": "8_3dyJ8WoqLV",
        "outputId": "c17c43fb-1d91-4a73-9042-61c9dc89909a"
      },
      "outputs": [
        {
          "name": "stdout",
          "output_type": "stream",
          "text": [
            "Set of integers: {1, 2, 3}\n"
          ]
        }
      ],
      "source": [
        "# Convert a set of strings to a set of integers\n",
        "string_set = {\"1\", \"2\", \"3\"}\n",
        "int_set = {int(x) for x in string_set}\n",
        "\n",
        "print(\"Set of integers:\", int_set)"
      ]
    },
    {
      "cell_type": "markdown",
      "metadata": {
        "id": "WPqjpE0AoqLV"
      },
      "source": [
        "### 35. Convert a set of integers to a set of strings.\n"
      ]
    },
    {
      "cell_type": "code",
      "execution_count": null,
      "metadata": {
        "id": "ZGwrT6BIoqLV",
        "outputId": "f0c01bde-14b4-44f8-cf4e-524ab3115882"
      },
      "outputs": [
        {
          "name": "stdout",
          "output_type": "stream",
          "text": [
            "Set of strings: {'2', '1', '3'}\n"
          ]
        }
      ],
      "source": [
        "# Convert a set of integers to a set of strings\n",
        "int_set = {1, 2, 3}\n",
        "string_set = {str(x) for x in int_set}\n",
        "\n",
        "print(\"Set of strings:\", string_set)"
      ]
    },
    {
      "cell_type": "markdown",
      "metadata": {
        "id": "L4RbQ9ZcoqLV"
      },
      "source": [
        "### 36. Create a set from a tuple.\n"
      ]
    },
    {
      "cell_type": "code",
      "execution_count": null,
      "metadata": {
        "id": "73ZjAALeoqLW",
        "outputId": "5ae8acf1-141c-4e3d-a384-171ea58ad969"
      },
      "outputs": [
        {
          "name": "stdout",
          "output_type": "stream",
          "text": [
            "Set from tuple: {1, 2, 3, 4, 5}\n"
          ]
        }
      ],
      "source": [
        "# Create a set from a tuple\n",
        "my_tuple = (1, 2, 3, 4, 5)\n",
        "tuple_set = set(my_tuple)\n",
        "\n",
        "print(\"Set from tuple:\", tuple_set)"
      ]
    },
    {
      "cell_type": "markdown",
      "metadata": {
        "id": "4tr7achqoqLW"
      },
      "source": [
        "### 37. Convert a set to a tuple.\n"
      ]
    },
    {
      "cell_type": "code",
      "execution_count": null,
      "metadata": {
        "id": "tNR0EOKjoqLW",
        "outputId": "17e25722-b90b-400f-de07-0b46ba100fb5"
      },
      "outputs": [
        {
          "name": "stdout",
          "output_type": "stream",
          "text": [
            "Tuple from set: (1, 2, 3, 4, 5)\n"
          ]
        }
      ],
      "source": [
        "# Convert a set to a tuple\n",
        "my_set = {1, 2, 3, 4, 5}\n",
        "set_tuple = tuple(my_set)\n",
        "\n",
        "print(\"Tuple from set:\", set_tuple)"
      ]
    },
    {
      "cell_type": "markdown",
      "metadata": {
        "id": "LTP5XC7zoqLW"
      },
      "source": [
        "### 38. Find the maximum value in a set.\n"
      ]
    },
    {
      "cell_type": "code",
      "execution_count": null,
      "metadata": {
        "id": "tB2lNZyloqLW",
        "outputId": "d6023a2d-672f-413d-e930-4003429acdff"
      },
      "outputs": [
        {
          "name": "stdout",
          "output_type": "stream",
          "text": [
            "Maximum value in set: 9\n"
          ]
        }
      ],
      "source": [
        "# Find the maximum value in a set\n",
        "my_set = {4, 2, 8, 1, 9}\n",
        "max_value = max(my_set)\n",
        "\n",
        "print(\"Maximum value in set:\", max_value)"
      ]
    },
    {
      "cell_type": "markdown",
      "metadata": {
        "id": "qYdKG9IJoqLW"
      },
      "source": [
        "### 39. Find the minimum value in a set.\n"
      ]
    },
    {
      "cell_type": "code",
      "execution_count": null,
      "metadata": {
        "id": "ZiQqGBH-oqLW",
        "outputId": "e90bca26-e47b-48dc-e091-d117e6b33ef9"
      },
      "outputs": [
        {
          "name": "stdout",
          "output_type": "stream",
          "text": [
            "Minimum value in set: 1\n"
          ]
        }
      ],
      "source": [
        "# Find the minimum value in a set\n",
        "my_set = {4, 2, 8, 1, 9}\n",
        "min_value = min(my_set)\n",
        "\n",
        "print(\"Minimum value in set:\", min_value)"
      ]
    },
    {
      "cell_type": "markdown",
      "metadata": {
        "id": "0k6-dLEsoqLX"
      },
      "source": [
        "### 40. Create a set from user input.\n"
      ]
    },
    {
      "cell_type": "code",
      "execution_count": null,
      "metadata": {
        "id": "YyrMdHu9oqLX",
        "outputId": "a25612a8-427e-4801-bd5d-c8e7b432e9c7"
      },
      "outputs": [
        {
          "name": "stdout",
          "output_type": "stream",
          "text": [
            "Set from user input: {'4', '2', '6', '3'}\n"
          ]
        }
      ],
      "source": [
        "# Create a set from user input\n",
        "user_input = input(\"Enter elements separated by spaces: \")\n",
        "user_list = user_input.split()\n",
        "user_set = set(user_list)\n",
        "\n",
        "print(\"Set from user input:\", user_set)"
      ]
    },
    {
      "cell_type": "markdown",
      "metadata": {
        "id": "aC4RX0CLoqLX"
      },
      "source": [
        "### 41. Check if the intersection of two sets is empty.\n"
      ]
    },
    {
      "cell_type": "code",
      "execution_count": null,
      "metadata": {
        "id": "aglEWVv3oqLX",
        "outputId": "bf690af0-3571-4547-8c33-38196e811f1c"
      },
      "outputs": [
        {
          "name": "stdout",
          "output_type": "stream",
          "text": [
            "Is the intersection empty? True\n"
          ]
        }
      ],
      "source": [
        "# Check if the intersection of two sets is empty\n",
        "set1 = {1, 2, 3}\n",
        "set2 = {4, 5, 6}\n",
        "\n",
        "is_intersection_empty = len(set1.intersection(set2)) == 0\n",
        "\n",
        "print(\"Is the intersection empty?\", is_intersection_empty)\n"
      ]
    },
    {
      "cell_type": "markdown",
      "metadata": {
        "id": "89wED9asoqLX"
      },
      "source": [
        "### 42. Create a set of the first 5 Fibonacci numbers.\n"
      ]
    },
    {
      "cell_type": "code",
      "execution_count": null,
      "metadata": {
        "id": "mxZCGhbVoqLX",
        "outputId": "ba6d5a61-b249-4425-ec14-6cb81a9461b4"
      },
      "outputs": [
        {
          "name": "stdout",
          "output_type": "stream",
          "text": [
            "{0, 1, 2, 3}\n"
          ]
        }
      ],
      "source": [
        "# Function to generate the first n Fibonacci numbers\n",
        "def generate_fibonacci(n):\n",
        "    fibonacci_set = set()\n",
        "    a, b = 0, 1\n",
        "    for _ in range(n):\n",
        "        fibonacci_set.add(a)\n",
        "        a, b = b, a + b\n",
        "    return fibonacci_set\n",
        "\n",
        "# Generate the first 5 Fibonacci numbers\n",
        "first_5_fibonacci = generate_fibonacci(5)\n",
        "\n",
        "# Print the set\n",
        "print(first_5_fibonacci)\n"
      ]
    },
    {
      "cell_type": "markdown",
      "metadata": {
        "id": "E0pjX5DAoqLX"
      },
      "source": [
        "### 43. Remove duplicates from a list using sets.\n"
      ]
    },
    {
      "cell_type": "code",
      "execution_count": null,
      "metadata": {
        "id": "qNLYyQftoqLY",
        "outputId": "571275ff-67ad-4026-d52b-6a24cbef910f"
      },
      "outputs": [
        {
          "name": "stdout",
          "output_type": "stream",
          "text": [
            "List with duplicates removed: [1, 2, 3, 4, 5]\n"
          ]
        }
      ],
      "source": [
        "# Remove duplicates from a list using sets\n",
        "my_list = [1, 2, 2, 3, 4, 4, 5]\n",
        "unique_list = list(set(my_list))\n",
        "\n",
        "print(\"List with duplicates removed:\", unique_list)\n"
      ]
    },
    {
      "cell_type": "markdown",
      "metadata": {
        "id": "DnzPBMyXoqLY"
      },
      "source": [
        "### 44. Check if two sets have the same elements, regardless of their count.\n"
      ]
    },
    {
      "cell_type": "code",
      "execution_count": null,
      "metadata": {
        "id": "pLWkFgW1oqLY",
        "outputId": "52659f72-9e5d-43cb-bbaf-c4becdb2d265"
      },
      "outputs": [
        {
          "name": "stdout",
          "output_type": "stream",
          "text": [
            "Are the sets equal? True\n"
          ]
        }
      ],
      "source": [
        "# Check if two sets have the same elements, regardless of their count\n",
        "set1 = {1, 2, 3}\n",
        "set2 = {3, 2, 1, 1}\n",
        "\n",
        "are_equal_sets = set1 == set2\n",
        "\n",
        "print(\"Are the sets equal?\", are_equal_sets)\n"
      ]
    },
    {
      "cell_type": "markdown",
      "metadata": {
        "id": "R19Jj3FCoqLY"
      },
      "source": [
        "### 45. Create a set of the first `n` powers of 2.\n"
      ]
    },
    {
      "cell_type": "code",
      "execution_count": null,
      "metadata": {
        "id": "wfLk9TbdoqLY",
        "outputId": "b03038a3-3f0a-4be5-a6d1-ccce0684bb6d"
      },
      "outputs": [
        {
          "name": "stdout",
          "output_type": "stream",
          "text": [
            "Set of the first 5 powers of 2: {1, 2, 4, 8, 16}\n"
          ]
        }
      ],
      "source": [
        "# Create a set of the first n powers of 2\n",
        "n = 5\n",
        "powers_of_2_set = {2**i for i in range(n)}\n",
        "\n",
        "print(\"Set of the first\", n, \"powers of 2:\", powers_of_2_set)\n"
      ]
    },
    {
      "cell_type": "markdown",
      "metadata": {
        "id": "sdwiQaY5oqLY"
      },
      "source": [
        "### 46. Find the common elements between a set and a list.\n"
      ]
    },
    {
      "cell_type": "code",
      "execution_count": null,
      "metadata": {
        "id": "Ptw87dWGoqLY",
        "outputId": "a4212c81-64c7-4bf8-a745-f7c89bfb0a85"
      },
      "outputs": [
        {
          "name": "stdout",
          "output_type": "stream",
          "text": [
            "Common elements: {3, 4, 5}\n"
          ]
        }
      ],
      "source": [
        "# Find the common elements between a set and a list\n",
        "set1 = {1, 2, 3, 4, 5}\n",
        "list1 = [3, 4, 5, 6, 7]\n",
        "\n",
        "common_elements = set1.intersection(list1)\n",
        "\n",
        "print(\"Common elements:\", common_elements)\n"
      ]
    },
    {
      "cell_type": "markdown",
      "metadata": {
        "id": "zbQoz7Y0oqLY"
      },
      "source": [
        "### 47. Create a set of the first `n` triangular numbers.\n"
      ]
    },
    {
      "cell_type": "code",
      "execution_count": null,
      "metadata": {
        "id": "hTfP2X52oqLZ",
        "outputId": "b79465dd-e995-42b8-a443-385da9996b8c"
      },
      "outputs": [
        {
          "name": "stdout",
          "output_type": "stream",
          "text": [
            "Set of the first 5 triangular numbers: {1, 3, 6, 10, 15}\n"
          ]
        }
      ],
      "source": [
        "# Create a set of the first n triangular numbers\n",
        "n = 5\n",
        "triangular_numbers_set = {i * (i + 1) // 2 for i in range(1, n + 1)}\n",
        "\n",
        "print(\"Set of the first\", n, \"triangular numbers:\", triangular_numbers_set)\n"
      ]
    },
    {
      "cell_type": "markdown",
      "metadata": {
        "id": "Nt6QSyN-oqLZ"
      },
      "source": [
        "### 48. Check if a set contains another set as a subset.\n"
      ]
    },
    {
      "cell_type": "code",
      "execution_count": null,
      "metadata": {
        "id": "brukk7fzoqLZ",
        "outputId": "61714ba8-f527-4770-fae4-3e6dc705ac16"
      },
      "outputs": [
        {
          "name": "stdout",
          "output_type": "stream",
          "text": [
            "Is subset a subset of set1? True\n"
          ]
        }
      ],
      "source": [
        "# Check if a set contains another set as a subset\n",
        "set1 = {1, 2, 3, 4, 5}\n",
        "subset = {3, 4, 5}\n",
        "\n",
        "is_subset = subset.issubset(set1)\n",
        "\n",
        "print(\"Is subset a subset of set1?\", is_subset)\n"
      ]
    },
    {
      "cell_type": "markdown",
      "metadata": {
        "id": "0C1I7RlzoqLZ"
      },
      "source": [
        "### 49. Create a set of alternating 1s and 0s of length `n`.\n"
      ]
    },
    {
      "cell_type": "code",
      "execution_count": null,
      "metadata": {
        "id": "IqxqbcIroqLZ",
        "outputId": "fbba4940-233a-41b8-ecbe-177644dd2453"
      },
      "outputs": [
        {
          "name": "stdout",
          "output_type": "stream",
          "text": [
            "Set of alternating 1s and 0s: {0, 1}\n"
          ]
        }
      ],
      "source": [
        "# Create a set of alternating 1s and 0s of length n\n",
        "n = 6\n",
        "alternating_set = {1 if i % 2 == 0 else 0 for i in range(n)}\n",
        "\n",
        "print(\"Set of alternating 1s and 0s:\", alternating_set)\n"
      ]
    },
    {
      "cell_type": "markdown",
      "metadata": {
        "id": "Q2pbIOuKoqLa"
      },
      "source": [
        "### 50. Merge multiple sets into one.\n"
      ]
    },
    {
      "cell_type": "code",
      "execution_count": null,
      "metadata": {
        "id": "SQ4VpFrooqLa",
        "outputId": "69f64e4a-93a1-4076-aa0d-f59133441828"
      },
      "outputs": [
        {
          "name": "stdout",
          "output_type": "stream",
          "text": [
            "Merged set: {1, 2, 3, 4, 5, 6, 7}\n"
          ]
        }
      ],
      "source": [
        "# Merge multiple sets into one\n",
        "set1 = {1, 2, 3}\n",
        "set2 = {3, 4, 5}\n",
        "set3 = {5, 6, 7}\n",
        "\n",
        "merged_set = set1.union(set2, set3)\n",
        "\n",
        "print(\"Merged set:\", merged_set)\n"
      ]
    }
  ],
  "metadata": {
    "kernelspec": {
      "display_name": "Python 3",
      "language": "python",
      "name": "python3"
    },
    "language_info": {
      "codemirror_mode": {
        "name": "ipython",
        "version": 3
      },
      "file_extension": ".py",
      "mimetype": "text/x-python",
      "name": "python",
      "nbconvert_exporter": "python",
      "pygments_lexer": "ipython3",
      "version": "3.11.3"
    },
    "orig_nbformat": 4,
    "colab": {
      "provenance": []
    }
  },
  "nbformat": 4,
  "nbformat_minor": 0
}