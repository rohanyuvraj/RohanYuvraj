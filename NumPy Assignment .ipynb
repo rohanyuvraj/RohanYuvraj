{
 "cells": [
  {
   "cell_type": "markdown",
   "metadata": {},
   "source": [
    "What is a Python library? Why ^o we use Python libraries?"
   ]
  },
  {
   "cell_type": "markdown",
   "metadata": {},
   "source": [
    "A Python library is a collection of pre-written code that provides functionalities to perform specific tasks. These libraries contain modules, classes, functions, and methods that can be imported into your Python code, allowing you to access and utilize their capabilities.\n",
    "\n",
    "Python libraries are used for several reasons:\n",
    "\n",
    "1. **Code Reusability**: Libraries provide pre-written code that can be reused across different projects, saving time and effort in development.\n",
    "\n",
    "2. **Efficiency**: By utilizing libraries, developers can leverage optimized and well-tested code, which often leads to more efficient and faster development.\n",
    "\n",
    "3. **Extended Functionality**: Libraries extend the capabilities of Python by providing additional functionalities that are not available in the core language. For example, libraries like NumPy provide support for numerical computing, while libraries like Matplotlib enable plotting and visualization.\n",
    "\n",
    "4. **Community Support**: Python has a vibrant and active community that develops and maintains various libraries. These libraries are often open-source and benefit from community contributions, ensuring continuous improvement and updates.\n",
    "\n",
    "5. **Domain-specific Tasks**: There are libraries available for specific domains such as web development, data analysis, machine learning, natural language processing, etc. These libraries provide tools and utilities tailored to the requirements of those domains, making it easier to work on related tasks.\n",
    "\n",
    "Overall, Python libraries enhance productivity, facilitate code reuse, and enable developers to efficiently tackle a wide range of tasks across different domains."
   ]
  },
  {
   "cell_type": "markdown",
   "metadata": {},
   "source": [
    "2. What is the ^ifference between Numpy array an^ List?"
   ]
  },
  {
   "cell_type": "markdown",
   "metadata": {},
   "source": [
    "Numpy arrays and lists in Python are both used to store collections of data, but they have some key differences:\n",
    "\n",
    "1. **Data Types**: Numpy arrays are homogeneous, meaning that all elements in the array must be of the same data type (e.g., integers, floats). This allows for more efficient storage and operations. Lists, on the other hand, can contain elements of different data types.\n",
    "\n",
    "2. **Memory Efficiency**: Numpy arrays are more memory efficient compared to lists. This is because Numpy arrays store data in a contiguous block of memory, whereas lists store references to objects, which can be scattered across memory.\n",
    "\n",
    "3. **Performance**: Numpy arrays offer better performance for numerical operations and computations compared to lists. This is due to optimized, compiled C code underlying Numpy operations, whereas lists rely on interpreted Python code.\n",
    "\n",
    "4. **Functionality**: Numpy arrays offer a wide range of mathematical operations and functions specifically designed for numerical computations (e.g., element-wise operations, linear algebra operations, statistical functions). Lists have a more limited set of operations available by default.\n",
    "\n",
    "5. **Flexibility**: Lists are more flexible in terms of manipulation and appending elements. Numpy arrays have a fixed size once created, so appending elements can be less efficient as it requires creating a new array with a larger size and copying data over.\n",
    "\n",
    "Here's a simple example to illustrate the difference:\n",
    "\n",
    "```python\n",
    "import numpy as np\n",
    "\n",
    "# Creating a numpy array\n",
    "arr_np = np.array([1, 2, 3, 4, 5])\n",
    "\n",
    "# Creating a list\n",
    "arr_list = [1, 2, 3, 4, 5]\n",
    "\n",
    "# Accessing elements\n",
    "print(arr_np[0])    # Output: 1\n",
    "print(arr_list[0])  # Output: 1\n",
    "\n",
    "# Adding elements\n",
    "arr_np = np.append(arr_np, 6)    # Creates a new array\n",
    "arr_list.append(6)               # Modifies the original list\n",
    "\n",
    "# Operations\n",
    "print(arr_np * 2)    # Output: [ 2  4  6  8 10 12]\n",
    "print(arr_list * 2)  # Output: [1, 2, 3, 4, 5, 6, 1, 2, 3, 4, 5, 6]\n",
    "\n",
    "# Mathematical operations\n",
    "print(np.sum(arr_np))    # Output: 21\n",
    "print(sum(arr_list))     # Output: 21\n",
    "```\n",
    "\n",
    "In summary, Numpy arrays are better suited for numerical computations and large datasets due to their efficiency and specialized functionality, while lists offer more flexibility for general-purpose data storage and manipulation."
   ]
  },
  {
   "cell_type": "markdown",
   "metadata": {},
   "source": [
    "3. Fin^ the shape, size an^ ^imension of the following array?\n",
    "[[1, 2, 3, 4]\n",
    "[5, 6, 7, 8],\n",
    "[9, 10, 11, 12]]"
   ]
  },
  {
   "cell_type": "code",
   "execution_count": 5,
   "metadata": {},
   "outputs": [
    {
     "name": "stdout",
     "output_type": "stream",
     "text": [
      "Shape of the array: (3, 4)\n",
      "Size of the array: 12\n",
      "Dimension of the array: 2\n"
     ]
    }
   ],
   "source": [
    "\n",
    "import numpy as np\n",
    "\n",
    "# Define the array\n",
    "arr = np.array([[1, 2, 3, 4],\n",
    "                [5, 6, 7, 8],\n",
    "                [9, 10, 11, 12]])\n",
    "\n",
    "# Shape of the array\n",
    "shape = arr.shape\n",
    "\n",
    "# Size of the array (total number of elements)\n",
    "size = arr.size\n",
    "\n",
    "# Dimension of the array\n",
    "dimension = arr.ndim\n",
    "\n",
    "print(\"Shape of the array:\", shape)  # Output: (3, 4)\n",
    "print(\"Size of the array:\", size)    # Output: 12\n",
    "print(\"Dimension of the array:\", dimension)  # Output: 2\n",
    "\n",
    "\n"
   ]
  },
  {
   "cell_type": "markdown",
   "metadata": {},
   "source": [
    "4. Write python co^e to access the first row of the following array?\n",
    "[[1, 2, 3, 4]\n",
    "[5, 6, 7, 8],\n",
    "[9, 10, 11, 12]]"
   ]
  },
  {
   "cell_type": "code",
   "execution_count": 6,
   "metadata": {},
   "outputs": [
    {
     "name": "stdout",
     "output_type": "stream",
     "text": [
      "First row of the array: [1 2 3 4]\n"
     ]
    }
   ],
   "source": [
    "import numpy as np\n",
    "\n",
    "# Define the array\n",
    "arr = np.array([[1, 2, 3, 4],\n",
    "                [5, 6, 7, 8],\n",
    "                [9, 10, 11, 12]])\n",
    "\n",
    "# Access the first row\n",
    "first_row = arr[0]\n",
    "\n",
    "print(\"First row of the array:\", first_row)\n"
   ]
  },
  {
   "cell_type": "markdown",
   "metadata": {},
   "source": [
    "5. How ^o you access the element at the thir^ row an^ fourth column from the given numpy array?\n",
    "[[1, 2, 3, 4]\n",
    "[5, 6, 7, 8],\n",
    "[9, 10, 11, 12]]"
   ]
  },
  {
   "cell_type": "code",
   "execution_count": 7,
   "metadata": {},
   "outputs": [
    {
     "name": "stdout",
     "output_type": "stream",
     "text": [
      "Element at the third row and fourth column: 12\n"
     ]
    }
   ],
   "source": [
    "import numpy as np\n",
    "\n",
    "# Define the array\n",
    "arr = np.array([[1, 2, 3, 4],\n",
    "                [5, 6, 7, 8],\n",
    "                [9, 10, 11, 12]])\n",
    "\n",
    "# Access the element at the third row and fourth column\n",
    "element = arr[2, 3]\n",
    "\n",
    "print(\"Element at the third row and fourth column:\", element)\n",
    "\n"
   ]
  },
  {
   "cell_type": "markdown",
   "metadata": {},
   "source": [
    "6. Write co^e to extract all o^^-in^exe^ elements from the given numpy array?\n",
    "[[1, 2, 3, 4]\n",
    "[5, 6, 7, 8],\n",
    "[9, 10, 11, 12]]"
   ]
  },
  {
   "cell_type": "code",
   "execution_count": 8,
   "metadata": {},
   "outputs": [
    {
     "name": "stdout",
     "output_type": "stream",
     "text": [
      "Odd-indexed elements of the array:\n",
      "[[ 2  4]\n",
      " [ 6  8]\n",
      " [10 12]]\n"
     ]
    }
   ],
   "source": [
    "import numpy as np\n",
    "\n",
    "# Define the array\n",
    "arr = np.array([[1, 2, 3, 4],\n",
    "                [5, 6, 7, 8],\n",
    "                [9, 10, 11, 12]])\n",
    "\n",
    "# Extract all odd-indexed elements\n",
    "odd_indexed_elements = arr[:, 1::2]\n",
    "\n",
    "print(\"Odd-indexed elements of the array:\")\n",
    "print(odd_indexed_elements)\n"
   ]
  },
  {
   "cell_type": "markdown",
   "metadata": {},
   "source": [
    "7. How can you generate a ran^om 3x3 matrix with values between 0 an^ 1?"
   ]
  },
  {
   "cell_type": "code",
   "execution_count": 9,
   "metadata": {},
   "outputs": [
    {
     "name": "stdout",
     "output_type": "stream",
     "text": [
      "Random 3x3 matrix with values between 0 and 1:\n",
      "[[0.87830896 0.2650029  0.57356066]\n",
      " [0.79428616 0.35113058 0.51904867]\n",
      " [0.50991557 0.68403762 0.29137776]]\n"
     ]
    }
   ],
   "source": [
    "import numpy as np\n",
    "\n",
    "# Generate a random 3x3 matrix with values between 0 and 1\n",
    "random_matrix = np.random.rand(3, 3)\n",
    "\n",
    "print(\"Random 3x3 matrix with values between 0 and 1:\")\n",
    "print(random_matrix)\n"
   ]
  },
  {
   "cell_type": "markdown",
   "metadata": {},
   "source": [
    "8. Describe the ^ifference between np.ran^om.ran^ an^ np.ran^om.ran^n?"
   ]
  },
  {
   "cell_type": "markdown",
   "metadata": {},
   "source": [
    "The functions `np.random.rand` and `np.random.randn` are both used to generate random numbers in NumPy, but they differ in how they generate those numbers and the distributions they sample from:\n",
    "\n",
    "1. **np.random.rand**:\n",
    "   - This function generates random numbers from a uniform distribution over the interval [0, 1).\n",
    "   - It takes as input the dimensions of the array you want to create.\n",
    "   - Each element in the resulting array is sampled independently from a uniform distribution between 0 and 1.\n",
    "   - The function `np.random.rand` is suitable when you need random numbers with equal probability over a specified range, such as for generating random matrices for testing purposes or initializing weights in machine learning models.\n",
    "\n",
    "2. **np.random.randn**:\n",
    "   - This function generates random numbers from a standard normal distribution (mean 0 and standard deviation 1).\n",
    "   - It takes as input the dimensions of the array you want to create.\n",
    "   - Each element in the resulting array is sampled independently from a standard normal distribution (Gaussian distribution) with mean 0 and standard deviation 1.\n",
    "   - The function `np.random.randn` is commonly used when you need random numbers that follow a normal distribution, which is often the case in statistical analysis, modeling, and simulation tasks.\n",
    "\n",
    "Here's a simple example demonstrating the difference between the two functions:\n",
    "\n",
    "```python\n",
    "import numpy as np\n",
    "\n",
    "# Generate a 2x2 array with random values from a uniform distribution [0, 1)\n",
    "array_uniform = np.random.rand(2, 2)\n",
    "\n",
    "# Generate a 2x2 array with random values from a standard normal distribution\n",
    "array_normal = np.random.randn(2, 2)\n",
    "\n",
    "print(\"Array from np.random.rand:\")\n",
    "print(array_uniform)\n",
    "\n",
    "print(\"\\nArray from np.random.randn:\")\n",
    "print(array_normal)\n",
    "```\n",
    "\n",
    "Output (example):\n",
    "```\n",
    "Array from np.random.rand:\n",
    "[[0.48077659 0.48587132]\n",
    " [0.51032114 0.27500266]]\n",
    "\n",
    "Array from np.random.randn:\n",
    "[[ 0.31620737 -1.43779147]\n",
    " [-1.48263332 -0.54029664]]\n",
    "```\n",
    "\n",
    "In summary, `np.random.rand` generates random numbers from a uniform distribution [0, 1), while `np.random.randn` generates random numbers from a standard normal distribution with mean 0 and standard deviation 1."
   ]
  },
  {
   "cell_type": "markdown",
   "metadata": {},
   "source": [
    "9. Write co^e to increase the ^imension of the following array?\n",
    "[[1, 2, 3, 4]\n",
    "[5, 6, 7, 8],\n",
    "[9, 10, 11, 12]]"
   ]
  },
  {
   "cell_type": "code",
   "execution_count": 10,
   "metadata": {},
   "outputs": [
    {
     "name": "stdout",
     "output_type": "stream",
     "text": [
      "Original array:\n",
      "[[ 1  2  3  4]\n",
      " [ 5  6  7  8]\n",
      " [ 9 10 11 12]]\n",
      "\n",
      "Array with increased dimension:\n",
      "[[[ 1]\n",
      "  [ 2]\n",
      "  [ 3]\n",
      "  [ 4]]\n",
      "\n",
      " [[ 5]\n",
      "  [ 6]\n",
      "  [ 7]\n",
      "  [ 8]]\n",
      "\n",
      " [[ 9]\n",
      "  [10]\n",
      "  [11]\n",
      "  [12]]]\n",
      "\n",
      "Shape of the original array: (3, 4)\n",
      "Shape of the array with increased dimension: (3, 4, 1)\n"
     ]
    }
   ],
   "source": [
    "import numpy as np\n",
    "\n",
    "# Define the array\n",
    "arr = np.array([[1, 2, 3, 4],\n",
    "                [5, 6, 7, 8],\n",
    "                [9, 10, 11, 12]])\n",
    "\n",
    "# Increase the dimension of the array\n",
    "new_arr = arr[:, :, np.newaxis]\n",
    "\n",
    "print(\"Original array:\")\n",
    "print(arr)\n",
    "\n",
    "print(\"\\nArray with increased dimension:\")\n",
    "print(new_arr)\n",
    "\n",
    "print(\"\\nShape of the original array:\", arr.shape)\n",
    "print(\"Shape of the array with increased dimension:\", new_arr.shape)\n"
   ]
  },
  {
   "cell_type": "markdown",
   "metadata": {},
   "source": [
    "10. How to transpose the following array in NumPy?\n",
    "[[1, 2, 3, 4]\n",
    "[5, 6, 7, 8],\n",
    "[9, 10, 11, 12]]"
   ]
  },
  {
   "cell_type": "code",
   "execution_count": 11,
   "metadata": {},
   "outputs": [
    {
     "name": "stdout",
     "output_type": "stream",
     "text": [
      "Transposed array:\n",
      "[[ 1  5  9]\n",
      " [ 2  6 10]\n",
      " [ 3  7 11]\n",
      " [ 4  8 12]]\n"
     ]
    }
   ],
   "source": [
    "import numpy as np\n",
    "\n",
    "# Define the array\n",
    "arr = np.array([[1, 2, 3, 4],\n",
    "                [5, 6, 7, 8],\n",
    "                [9, 10, 11, 12]])\n",
    "\n",
    "# Transpose the array\n",
    "transposed_arr = np.transpose(arr)\n",
    "\n",
    "print(\"Transposed array:\")\n",
    "print(transposed_arr)\n"
   ]
  },
  {
   "cell_type": "markdown",
   "metadata": {},
   "source": [
    "11. Consi^er the following matrix:\n",
    "Matrix A2 [[1, 2, 3, 4] [5, 6, 7, 8],[9, 10, 11, 12]]\n",
    "Matrix B2 [[1, 2, 3, 4] [5, 6, 7, 8],[9, 10, 11, 12]]"
   ]
  },
  {
   "cell_type": "code",
   "execution_count": 14,
   "metadata": {},
   "outputs": [
    {
     "name": "stdout",
     "output_type": "stream",
     "text": [
      "1. Index-wise multiplication:\n",
      " [[  1   4   9  16]\n",
      " [ 25  36  49  64]\n",
      " [ 81 100 121 144]]\n",
      "\n",
      "2. Matrix multiplication:\n",
      " [[ 30  70 110]\n",
      " [ 70 174 278]\n",
      " [110 278 446]]\n",
      "\n",
      "3. Addition:\n",
      " [[ 2  4  6  8]\n",
      " [10 12 14 16]\n",
      " [18 20 22 24]]\n",
      "\n",
      "4. Subtraction:\n",
      " [[0 0 0 0]\n",
      " [0 0 0 0]\n",
      " [0 0 0 0]]\n",
      "\n",
      "5. Division (element-wise):\n",
      " [[1. 1. 1. 1.]\n",
      " [1. 1. 1. 1.]\n",
      " [1. 1. 1. 1.]]\n"
     ]
    }
   ],
   "source": [
    "import numpy as np\n",
    "\n",
    "# Define matrices A2 and B2\n",
    "A2 = np.array([[1, 2, 3, 4],\n",
    "               [5, 6, 7, 8],\n",
    "               [9, 10, 11, 12]])\n",
    "\n",
    "B2 = np.array([[1, 2, 3, 4],\n",
    "               [5, 6, 7, 8],\n",
    "               [9, 10, 11, 12]])\n",
    "\n",
    "# 1. Index-wise multiplication\n",
    "index_wise_multiplication = A2 * B2\n",
    "\n",
    "# 2. Matrix multiplication\n",
    "matrix_multiplication = np.dot(A2, B2.T)  # or A2 @ B2.T\n",
    "\n",
    "# 3. Add both the matrices\n",
    "addition = A2 + B2\n",
    "\n",
    "# 4. Subtract matrix B from matrix A\n",
    "subtraction = A2 - B2\n",
    "\n",
    "# 5. Divide matrix B by matrix A (element-wise)\n",
    "division = B2 / A2\n",
    "\n",
    "# Display results\n",
    "print(\"1. Index-wise multiplication:\\n\", index_wise_multiplication)\n",
    "print(\"\\n2. Matrix multiplication:\\n\", matrix_multiplication)\n",
    "print(\"\\n3. Addition:\\n\", addition)\n",
    "print(\"\\n4. Subtraction:\\n\", subtraction)\n",
    "print(\"\\n5. Division (element-wise):\\n\", division)\n",
    "\n"
   ]
  },
  {
   "cell_type": "markdown",
   "metadata": {},
   "source": [
    "12. Which function in Numpy can be use^ to swap the byte or^er of an array?"
   ]
  },
  {
   "cell_type": "code",
   "execution_count": 15,
   "metadata": {},
   "outputs": [
    {
     "name": "stdout",
     "output_type": "stream",
     "text": [
      "Original array: [1 2 3 4]\n",
      "Swapped array: [16777216 33554432 50331648 67108864]\n"
     ]
    }
   ],
   "source": [
    "import numpy as np\n",
    "\n",
    "# Define an array\n",
    "arr = np.array([1, 2, 3, 4], dtype=np.int32)\n",
    "\n",
    "# Swap the byte order of the array\n",
    "swapped_arr = arr.byteswap()\n",
    "\n",
    "print(\"Original array:\", arr)\n",
    "print(\"Swapped array:\", swapped_arr)\n"
   ]
  },
  {
   "cell_type": "markdown",
   "metadata": {},
   "source": [
    "13. What is the significance of the np.linalg.inv function?"
   ]
  },
  {
   "cell_type": "markdown",
   "metadata": {},
   "source": [
    "The `np.linalg.inv` function in NumPy is used to compute the inverse of a square matrix. In linear algebra, the inverse of a matrix is a matrix that, when multiplied by the original matrix, results in the identity matrix.\n",
    "\n",
    "The significance of the `np.linalg.inv` function lies in its utility in various mathematical and scientific applications, particularly in solving systems of linear equations, computing determinants, and performing other matrix operations. Here are some key points regarding its significance:\n",
    "\n",
    "1. **Solving systems of linear equations**: In many mathematical and scientific problems, systems of linear equations arise. The inverse of a matrix can be used to solve such systems, as multiplying both sides of the equation by the inverse matrix allows for direct computation of the solution.\n",
    "\n",
    "2. **Computing determinants**: The determinant of a matrix is a scalar value that provides important information about the matrix, such as whether it is singular (non-invertible) or non-singular (invertible). The determinant of a matrix can be computed using the `np.linalg.det` function, and the inverse of a matrix can be used to compute the determinant efficiently.\n",
    "\n",
    "3. **Solving least squares problems**: In regression analysis and optimization problems, the inverse of a matrix is often used to compute least squares solutions efficiently.\n",
    "\n",
    "4. **Numerical stability**: The `np.linalg.inv` function in NumPy provides a stable and efficient implementation for computing the inverse of a matrix, even for large matrices. It utilizes optimized algorithms and numerical techniques to ensure accuracy and efficiency in computations.\n",
    "\n",
    "5. **Inverse as a tool for matrix operations**: The inverse of a matrix is a fundamental tool in various matrix operations, such as matrix multiplication, division, and solving linear systems. It allows for the representation of solutions to linear equations in a compact form and enables the manipulation and analysis of matrices in mathematical and scientific computations.\n",
    "\n",
    "Overall, the `np.linalg.inv` function plays a crucial role in linear algebra and numerical computing, providing a convenient and efficient way to compute the inverse of matrices and enabling a wide range of mathematical and scientific applications."
   ]
  },
  {
   "cell_type": "markdown",
   "metadata": {},
   "source": [
    "14. What ^oes the np.reshape function ^o, an^ how is it use^?"
   ]
  },
  {
   "cell_type": "markdown",
   "metadata": {},
   "source": [
    "The np.reshape function in NumPy is used to change the shape of an array without changing its data. It allows you to reorganize the elements of an array into a new shape, provided that the total number of elements remains the same.\n",
    "#syntex\n",
    "np.reshape(array, new_shape, order='C')\n"
   ]
  },
  {
   "cell_type": "markdown",
   "metadata": {},
   "source": [
    "15. What is broa^casting in Numpy?"
   ]
  },
  {
   "cell_type": "markdown",
   "metadata": {},
   "source": [
    "Broadcasting in NumPy is a powerful mechanism that allows arrays with different shapes to be combined in arithmetic and other operations. Broadcasting essentially extends the concept of element-wise operations to arrays with different shapes, enabling NumPy to perform operations even when the shapes of the arrays do not match exactly.\n",
    "Here are the key rules of broadcasting in NumPy:\n",
    "\n",
    "If the arrays have a different number of dimensions, the shape of the array with fewer dimensions is padded with ones on its leading (left) side.\n",
    "\n",
    "If the shape of the arrays does not match in any dimension, and neither of them is equal to 1, NumPy raises a ValueError.\n",
    "\n",
    "After applying the above rules, the sizes of the arrays must match in each dimension or one of them must be 1.\n"
   ]
  },
  {
   "cell_type": "code",
   "execution_count": 17,
   "metadata": {},
   "outputs": [
    {
     "name": "stdout",
     "output_type": "stream",
     "text": [
      "Array 1:\n",
      "[1 2 3]\n",
      "\n",
      "Array 2:\n",
      "[[4]\n",
      " [5]\n",
      " [6]]\n",
      "\n",
      "Result after broadcasting:\n",
      "[[5 6 7]\n",
      " [6 7 8]\n",
      " [7 8 9]]\n"
     ]
    }
   ],
   "source": [
    "#example \n",
    "import numpy as np\n",
    "\n",
    "# Define two arrays with different shapes\n",
    "arr1 = np.array([1, 2, 3])\n",
    "arr2 = np.array([[4],\n",
    "                 [5],\n",
    "                 [6]])\n",
    "\n",
    "# Perform element-wise addition using broadcasting\n",
    "result = arr1 + arr2\n",
    "\n",
    "print(\"Array 1:\")\n",
    "print(arr1)\n",
    "print(\"\\nArray 2:\")\n",
    "print(arr2)\n",
    "print(\"\\nResult after broadcasting:\")\n",
    "print(result)\n"
   ]
  },
  {
   "cell_type": "code",
   "execution_count": null,
   "metadata": {},
   "outputs": [],
   "source": []
  }
 ],
 "metadata": {
  "kernelspec": {
   "display_name": "Python 3",
   "language": "python",
   "name": "python3"
  },
  "language_info": {
   "codemirror_mode": {
    "name": "ipython",
    "version": 3
   },
   "file_extension": ".py",
   "mimetype": "text/x-python",
   "name": "python",
   "nbconvert_exporter": "python",
   "pygments_lexer": "ipython3",
   "version": "3.7.3"
  }
 },
 "nbformat": 4,
 "nbformat_minor": 2
}
