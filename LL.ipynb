{
  "cells": [
    {
      "cell_type": "code",
      "execution_count": null,
      "id": "fe931be9-2443-40f9-adcb-223bf979513e",
      "metadata": {
        "id": "fe931be9-2443-40f9-adcb-223bf979513e"
      },
      "outputs": [],
      "source": []
    },
    {
      "cell_type": "code",
      "execution_count": null,
      "id": "f05a9cdc-2c36-40ac-b0aa-c398e302ea59",
      "metadata": {
        "id": "f05a9cdc-2c36-40ac-b0aa-c398e302ea59"
      },
      "outputs": [],
      "source": [
        "                                                   ****DSA Practice Questions ****"
      ]
    },
    {
      "cell_type": "markdown",
      "source": [
        "Q1    A doubly linked list is a data structure that consists of a set of nodes, each of which contains a value and two pointers, one pointing to the previous node in the list and one pointing to the next node in the list. This allows for efficient traversal of the list in both directions, making it suitable for applications where frequent insertions and deletions are required.\n",
        "\n"
      ],
      "metadata": {
        "id": "nK_l68Ynh7DJ"
      },
      "id": "nK_l68Ynh7DJ"
    },
    {
      "cell_type": "markdown",
      "id": "dda54d77-b56a-49fc-8d81-7dfd62a211c5",
      "metadata": {
        "id": "dda54d77-b56a-49fc-8d81-7dfd62a211c5"
      },
      "source": [
        "#Q2 Reverse a singly linked list."
      ]
    },
    {
      "cell_type": "code",
      "source": [],
      "metadata": {
        "id": "9WZX8xKAiDF0"
      },
      "id": "9WZX8xKAiDF0",
      "execution_count": null,
      "outputs": []
    },
    {
      "cell_type": "code",
      "execution_count": null,
      "id": "79b5d8e8-a5a8-4e08-9c23-f66d53930d5e",
      "metadata": {
        "id": "79b5d8e8-a5a8-4e08-9c23-f66d53930d5e"
      },
      "outputs": [],
      "source": [
        "Input: 1 -> 2 -> 3 -> 4 -> 5\n",
        "Output: 5 -> 4 -> 3 -> 2 -> 1"
      ]
    },
    {
      "cell_type": "code",
      "execution_count": 1,
      "id": "bd6d5b33-e2ad-480c-b42a-481df22bc72c",
      "metadata": {
        "colab": {
          "base_uri": "https://localhost:8080/"
        },
        "id": "bd6d5b33-e2ad-480c-b42a-481df22bc72c",
        "outputId": "c5c03529-0906-474d-ee7f-ec22726c32bc"
      },
      "outputs": [
        {
          "output_type": "stream",
          "name": "stdout",
          "text": [
            "Original linked-list :\n",
            "1-->2-->3-->4-->5-->None\n",
            "\n",
            "Reversed linked list :\n",
            "5-->4-->3-->2-->1-->None\n"
          ]
        }
      ],
      "source": [
        "# Defining the class Node\n",
        "\n",
        "class Node:\n",
        "    def __init__(self, data = None, next = None):\n",
        "        self.data = data\n",
        "        self.next = next\n",
        "    # Method to set the data\n",
        "    def setdata(self,data):\n",
        "        self.data = data\n",
        "    # Method to get the data\n",
        "    def getdata(self):\n",
        "        return self.data\n",
        "    #Method to set the next\n",
        "    def setnext(self,next):\n",
        "        self.next = next\n",
        "    #Method to get the next\n",
        "    def getnext(self):\n",
        "        return self.next\n",
        "\n",
        "# creating the nodes\n",
        "head = Node(1)\n",
        "node2 = Node(2)\n",
        "node3 = Node(3)\n",
        "node4 = Node(4)\n",
        "node5 = Node(5)\n",
        "\n",
        "# linking the nodes/ creating the linked list\n",
        "\n",
        "head.setnext(node2)\n",
        "node2.setnext(node3)\n",
        "node3.setnext(node4)\n",
        "node4.setnext(node5)\n",
        "\n",
        "#Function to traverse through the linked list\n",
        "\n",
        "def traverse(head):\n",
        "    temp = head\n",
        "    while(temp):\n",
        "        print(temp.getdata(),end = \"-->\")\n",
        "        temp = temp.getnext()\n",
        "    print(\"None\")\n",
        "\n",
        "#Function to reverse the order of linked list\n",
        "\n",
        "def reverse_linkedlist(head):\n",
        "    prev = None\n",
        "    current = head\n",
        "    while current:\n",
        "        next_node = current.getnext()\n",
        "        current.setnext(prev)\n",
        "        prev = current\n",
        "        current = next_node\n",
        "    return prev\n",
        "\n",
        "print(\"Original linked-list :\")\n",
        "traverse(head)\n",
        "print()\n",
        "new_head = reverse_linkedlist(head)\n",
        "print(\"Reversed linked list :\")\n",
        "traverse(new_head)\n"
      ]
    },
    {
      "cell_type": "code",
      "execution_count": null,
      "id": "860ec1b3-3f59-4e59-bcb7-78668de0f41d",
      "metadata": {
        "id": "860ec1b3-3f59-4e59-bcb7-78668de0f41d"
      },
      "outputs": [],
      "source": []
    },
    {
      "cell_type": "markdown",
      "id": "866d3047-75bd-4bd3-9d6f-45af1090977e",
      "metadata": {
        "id": "866d3047-75bd-4bd3-9d6f-45af1090977e"
      },
      "source": [
        "### Q4: Merge two sorted linked lists into one sorted linked list."
      ]
    },
    {
      "cell_type": "code",
      "execution_count": null,
      "id": "2ec5d88c-2dc9-4ed9-8dee-dc0584c910bd",
      "metadata": {
        "id": "2ec5d88c-2dc9-4ed9-8dee-dc0584c910bd"
      },
      "outputs": [],
      "source": [
        "Input: List 1: 1 -> 3 -> 5, List 2: 2 -> 4 -> 6\n",
        "Output: 1 -> 2 -> 3 -> 4 -> 5 ->"
      ]
    },
    {
      "cell_type": "code",
      "execution_count": null,
      "id": "302578d0-667f-47d3-b72b-c17c726cd9a2",
      "metadata": {
        "id": "302578d0-667f-47d3-b72b-c17c726cd9a2",
        "outputId": "f29df379-6084-4d5f-8384-924aeb895976"
      },
      "outputs": [
        {
          "name": "stdout",
          "output_type": "stream",
          "text": [
            "List 1 :\n",
            "1-->3-->5-->None\n",
            "List 2 :\n",
            "2-->4-->6-->None\n",
            "Merge two sorted linked lists (List 1 and List 2) :\n",
            "1-->2-->3-->4-->5-->6-->None\n"
          ]
        }
      ],
      "source": [
        "#creating nodes of  linked list L1 ------\n",
        "head_a = Node(1)\n",
        "node_a1 = Node(3)\n",
        "node_a2 = Node(5)\n",
        "\n",
        "# linking the nodes of L1--------\n",
        "head_a.setnext(node_a1)\n",
        "node_a1.setnext(node_a2)\n",
        "\n",
        "#creating linked list L2 ------\n",
        "head_b = Node(2)\n",
        "node_b1 = Node(4)\n",
        "node_b2 = Node(6)\n",
        "\n",
        "# linking the nodes of L2--------\n",
        "head_b.setnext(node_b1)\n",
        "node_b1.setnext(node_b2)\n",
        "\n",
        "print(\"List 1 :\")\n",
        "traverse(head_a)\n",
        "\n",
        "print(\"List 2 :\")\n",
        "traverse(head_b)\n",
        "\n",
        "#Merging two sorted linked lists into one sorted linked list\n",
        "def merge_sorted_LL(head_a, head_b):\n",
        "    temp = Node()\n",
        "    current = temp\n",
        "    while(head_a and head_b):\n",
        "        if head_a.getdata() >= head_b.getdata():\n",
        "            current.setnext(Node(head_b.getdata()))\n",
        "            head_b = head_b.getnext()\n",
        "        else:\n",
        "            current.setnext(Node(head_a.getdata()))\n",
        "            head_a = head_a.getnext()\n",
        "        current = current.getnext()\n",
        "\n",
        "    if head_a:\n",
        "        current.setnext(head_a)\n",
        "    if head_b:\n",
        "        current.setnext(head_b)\n",
        "\n",
        "    return temp.getnext()\n",
        "\n",
        "new_head = merge_sorted_LL(head_a, head_b)\n",
        "print(\"Merge two sorted linked lists (List 1 and List 2) :\")\n",
        "traverse(new_head)\n"
      ]
    },
    {
      "cell_type": "code",
      "execution_count": null,
      "id": "68e3e3d8-db1c-4612-bd56-76b3c52b8c86",
      "metadata": {
        "id": "68e3e3d8-db1c-4612-bd56-76b3c52b8c86"
      },
      "outputs": [],
      "source": []
    },
    {
      "cell_type": "markdown",
      "id": "2b7b46db-5ba6-4c39-a1a7-8556dd7bf22b",
      "metadata": {
        "id": "2b7b46db-5ba6-4c39-a1a7-8556dd7bf22b"
      },
      "source": [
        "\n",
        "\n",
        "```\n",
        "# This is formatted as code\n",
        "```\n",
        "\n",
        "### Q5: Remove the nth node from the end of a linked list."
      ]
    },
    {
      "cell_type": "code",
      "execution_count": null,
      "id": "7b296c12-965c-481a-828b-055414375ea4",
      "metadata": {
        "id": "7b296c12-965c-481a-828b-055414375ea4"
      },
      "outputs": [],
      "source": [
        "Input: 1 -> 2 -> 3 -> 4 -> 5, n = 2\n",
        "Output: 1 -> 2 -> 3 -> 5\n"
      ]
    },
    {
      "cell_type": "code",
      "execution_count": null,
      "id": "b6519e26-01fa-4558-b59e-0d165a256d9b",
      "metadata": {
        "id": "b6519e26-01fa-4558-b59e-0d165a256d9b",
        "outputId": "c5901c33-a498-4ccd-ebc9-7eed7ca83fd7"
      },
      "outputs": [
        {
          "name": "stdout",
          "output_type": "stream",
          "text": [
            "Original linked list :\n",
            "1-->2-->3-->4-->5-->None\n",
            "\n"
          ]
        },
        {
          "name": "stdin",
          "output_type": "stream",
          "text": [
            "Enter the position of the node to be deleted from the end : 2\n"
          ]
        },
        {
          "name": "stdout",
          "output_type": "stream",
          "text": [
            "\n",
            "After deletion of the 2th element from the end :\n",
            "1-->2-->3-->5-->None\n"
          ]
        }
      ],
      "source": [
        "# creating the nodes\n",
        "\n",
        "head = Node(1)\n",
        "node2 = Node(2)\n",
        "node3 = Node(3)\n",
        "node4 = Node(4)\n",
        "node5 = Node(5)\n",
        "\n",
        "# linking the nodes/ creating the linked list\n",
        "\n",
        "head.setnext(node2)\n",
        "node2.setnext(node3)\n",
        "node3.setnext(node4)\n",
        "node4.setnext(node5)\n",
        "\n",
        "#function to check the length of the linked list\n",
        "def length(head):\n",
        "    temp = head\n",
        "    c = 0\n",
        "    while temp:\n",
        "        c += 1\n",
        "        temp = temp.getnext()\n",
        "    return c\n",
        "\n",
        "# Function to delete the nth node from the end of the linked list\n",
        "def delete_node_end(head,n):\n",
        "    k = length(head) - n #n-th node from the end is k-th node from the front\n",
        "    if k >= length(head) or k < 0 or not head:\n",
        "        print(\"Enter valid value of n\")\n",
        "        return head\n",
        "    if k == 0:\n",
        "        head = head.getnext()\n",
        "    else:\n",
        "        #we jump to k-1`th position\n",
        "        i = 0\n",
        "        prev = head\n",
        "        while(i<k-1):\n",
        "            prev = prev.getnext()\n",
        "            i+=1\n",
        "        #prev will be pointing to the node left of the k`th position\n",
        "        prev.setnext(prev.getnext().getnext())\n",
        "\n",
        "    return head\n",
        "\n",
        "\n",
        "\n",
        "print(\"Original linked list :\")\n",
        "traverse(head)\n",
        "print()\n",
        "n = int(input(\"Enter the position of the node to be deleted from the end :\"))\n",
        "new_head = delete_node_end(head,n)\n",
        "print()\n",
        "print(f\"After deletion of the {n}th element from the end :\")\n",
        "traverse(new_head)\n"
      ]
    },
    {
      "cell_type": "code",
      "execution_count": null,
      "id": "44393a33-fd56-4ca9-b5de-1cf14cbab5ed",
      "metadata": {
        "id": "44393a33-fd56-4ca9-b5de-1cf14cbab5ed"
      },
      "outputs": [],
      "source": []
    },
    {
      "cell_type": "markdown",
      "id": "69d4c063-14d3-4abe-beb3-96de12ae9fe9",
      "metadata": {
        "id": "69d4c063-14d3-4abe-beb3-96de12ae9fe9"
      },
      "source": [
        "### Q7: Find the intersection point of two linked lists."
      ]
    },
    {
      "cell_type": "code",
      "execution_count": null,
      "id": "7127dcc9-9a0e-4658-aac6-929c9ec0d7b2",
      "metadata": {
        "id": "7127dcc9-9a0e-4658-aac6-929c9ec0d7b2"
      },
      "outputs": [],
      "source": [
        "Input: List 1: 1 -> 2 -> 3 -> 4, List 2: 9 -> 8 -> 3 -> 4\n",
        "Output: Node with value 3"
      ]
    },
    {
      "cell_type": "code",
      "execution_count": null,
      "id": "eb4bdbbb-588f-4932-a22a-cd51443c7b83",
      "metadata": {
        "id": "eb4bdbbb-588f-4932-a22a-cd51443c7b83",
        "outputId": "ce1c415a-e0fe-4c1a-f122-4ed4d9f7e66b"
      },
      "outputs": [
        {
          "name": "stdout",
          "output_type": "stream",
          "text": [
            "List 1 :\n",
            "1-->2-->3-->4-->None\n",
            "\n",
            "List 2 :\n",
            "9-->8-->3-->4-->None\n",
            "\n",
            "Intersection point of the two linked list is : Node with value 3\n"
          ]
        }
      ],
      "source": [
        "# List-1 is defined here\n",
        "\n",
        "head11 =Node(1)\n",
        "node2 =Node(2)\n",
        "node3 =Node(3)\n",
        "node4 =Node(4)\n",
        "\n",
        "# Create Linkage of nodes\n",
        "head11.setnext(node2)\n",
        "node2.setnext(node3)\n",
        "node3.setnext(node4)\n",
        "\n",
        "# list-2 is define\n",
        "head21 =Node(9)\n",
        "node8 =Node(8)\n",
        "node3 =Node(3)\n",
        "node4 =Node(4)\n",
        "\n",
        "# create linkage of nodes\n",
        "head21.setnext(node8)\n",
        "node8.setnext(node3)\n",
        "node3.setnext(node4)\n",
        "print(\"List 1 :\")\n",
        "traverse(head11)\n",
        "print()\n",
        "print(\"List 2 :\")\n",
        "traverse(head21)\n",
        "print()\n",
        "def IntersectPoint(head11 ,head21):\n",
        "    temp1 =head11\n",
        "    temp2 =head21\n",
        "    while(temp1 and temp2):\n",
        "        if(temp1.getdata() == temp2.getdata()):\n",
        "            return temp1.getdata()\n",
        "        temp1 =temp1.getnext()\n",
        "        temp2 =temp2.getnext()\n",
        "\n",
        "print(\"Intersection point of the two linked list is : Node with value\",IntersectPoint(head11 ,head21))\n"
      ]
    },
    {
      "cell_type": "code",
      "execution_count": null,
      "id": "8ffc5428-8314-4c4e-bde8-d5b60508a07d",
      "metadata": {
        "id": "8ffc5428-8314-4c4e-bde8-d5b60508a07d"
      },
      "outputs": [],
      "source": []
    },
    {
      "cell_type": "markdown",
      "id": "66b2bad6-1aeb-482e-b16f-7b8b13c9c6b3",
      "metadata": {
        "id": "66b2bad6-1aeb-482e-b16f-7b8b13c9c6b3"
      },
      "source": [
        "### Q6: Remove duplicates from a sorted linked list."
      ]
    },
    {
      "cell_type": "code",
      "execution_count": null,
      "id": "4b4d514f-ce2a-4932-a4e5-8fe8fc2d71d3",
      "metadata": {
        "id": "4b4d514f-ce2a-4932-a4e5-8fe8fc2d71d3"
      },
      "outputs": [],
      "source": [
        "Input: 1 -> 1 -> 2 -> 3 -> 3\n",
        "Output: 1 -> 2 -> 3\n"
      ]
    },
    {
      "cell_type": "code",
      "execution_count": null,
      "id": "9d0a8a04-5cb4-4aa8-9c4e-808734381e65",
      "metadata": {
        "id": "9d0a8a04-5cb4-4aa8-9c4e-808734381e65",
        "outputId": "ffac7835-6a3f-4d6f-8147-98f7fc688b23"
      },
      "outputs": [
        {
          "name": "stdout",
          "output_type": "stream",
          "text": [
            "Original linkedlist :\n",
            "1-->1-->2-->3-->3-->None\n",
            "\n",
            "After removing duplicates :\n",
            "1-->2-->3-->None\n"
          ]
        }
      ],
      "source": [
        "# creating the nodes\n",
        "head = Node(1)\n",
        "node1 = Node(1)\n",
        "node2 = Node(2)\n",
        "node3 = Node(3)\n",
        "node4 = Node(3)\n",
        "\n",
        "#creating linkage\n",
        "head.setnext(node1)\n",
        "node1.setnext(node2)\n",
        "node2.setnext(node3)\n",
        "node3.setnext(node4)\n",
        "\n",
        "def remove_duplicates(head):\n",
        "    temp = head\n",
        "    while(temp and temp.getnext()):\n",
        "        if temp.getdata() == temp.getnext().getdata():\n",
        "            temp.setnext(temp.getnext().getnext())\n",
        "        else:\n",
        "            temp = temp.getnext()\n",
        "\n",
        "print(\"Original linkedlist :\")\n",
        "traverse(head)\n",
        "remove_duplicates(head)\n",
        "print(\"\\nAfter removing duplicates :\")\n",
        "traverse(head)\n"
      ]
    },
    {
      "cell_type": "code",
      "execution_count": null,
      "id": "c88a4c11-45d9-4cfb-b73b-35a8aff2d13d",
      "metadata": {
        "id": "c88a4c11-45d9-4cfb-b73b-35a8aff2d13d"
      },
      "outputs": [],
      "source": []
    },
    {
      "cell_type": "markdown",
      "id": "b218b77b-c276-4392-ba4c-1f4eae1a2ae3",
      "metadata": {
        "id": "b218b77b-c276-4392-ba4c-1f4eae1a2ae3"
      },
      "source": [
        "### Q9: Add two numbers represented by linked lists (where each node contains a single digit)."
      ]
    },
    {
      "cell_type": "code",
      "execution_count": null,
      "id": "c33ee7e7-21d5-46b7-a6fc-49bd0ea9033c",
      "metadata": {
        "id": "c33ee7e7-21d5-46b7-a6fc-49bd0ea9033c"
      },
      "outputs": [],
      "source": [
        "Input: List 1: 2 -> 4 -> 3, List 2: 5 -> 6 -> 4 (represents 342 + 465)\n",
        "Output: 7 -> 0 -> 8 (represents 807)"
      ]
    },
    {
      "cell_type": "code",
      "execution_count": null,
      "id": "d2888d4f-e8f9-4ec7-ba63-3a5e9ac3ee03",
      "metadata": {
        "id": "d2888d4f-e8f9-4ec7-ba63-3a5e9ac3ee03",
        "outputId": "dc71bc78-6785-4cad-f910-3296956cbf8b"
      },
      "outputs": [
        {
          "name": "stdout",
          "output_type": "stream",
          "text": [
            "List 1 :\n",
            "2-->4-->3-->None\n",
            "\n",
            "List 2 :\n",
            "5-->6-->4-->None\n",
            "\n",
            "(represents 342 + 465)\n",
            "\n",
            "After adding :\n",
            "7-->0-->8-->None\n",
            "(represents 807)\n"
          ]
        }
      ],
      "source": [
        "\n",
        "# List 1\n",
        "head1 = Node(2)\n",
        "node12 = Node(4)\n",
        "node13 = Node(3)\n",
        "#connecting the nodes\n",
        "head1.setnext(node12)\n",
        "node12.setnext(node13)\n",
        "#list 2\n",
        "head2 = Node(5)\n",
        "node22 = Node(6)\n",
        "node23 = Node(4)\n",
        "#connecting the nodes\n",
        "head2.setnext(node22)\n",
        "node22.setnext(node23)\n",
        "\n",
        "def add_two_numbers(head1, head2):\n",
        "    l1,l2 = head1,head2\n",
        "    dummy_head = Node()\n",
        "    current = dummy_head\n",
        "    carry = 0\n",
        "\n",
        "    while l1 or l2 or carry:\n",
        "        sum_val = carry\n",
        "        if l1:\n",
        "            sum_val += l1.getdata()\n",
        "            l1 = l1.getnext()\n",
        "        if l2:\n",
        "            sum_val += l2.getdata()\n",
        "            l2 = l2.getnext()\n",
        "\n",
        "        carry, digit = divmod(sum_val, 10)\n",
        "        current.setnext(Node(digit))\n",
        "        current = current.getnext()\n",
        "\n",
        "    return dummy_head.getnext()\n",
        "\n",
        "\n",
        "print(\"List 1 :\")\n",
        "traverse(head1)\n",
        "print(\"\\nList 2 :\")\n",
        "traverse(head2)\n",
        "print(\"\\n(represents 342 + 465)\")\n",
        "k = add_two_numbers(head1,head2)\n",
        "print(\"\\nAfter adding :\")\n",
        "traverse(k)\n",
        "print(\"(represents 807)\")\n",
        "\n"
      ]
    },
    {
      "cell_type": "code",
      "execution_count": null,
      "id": "7223f122-2a91-430f-b3b5-860329d10c05",
      "metadata": {
        "id": "7223f122-2a91-430f-b3b5-860329d10c05"
      },
      "outputs": [],
      "source": []
    },
    {
      "cell_type": "code",
      "execution_count": null,
      "id": "3bdad6af-563c-489e-aadf-b0e10a0a92b7",
      "metadata": {
        "id": "3bdad6af-563c-489e-aadf-b0e10a0a92b7"
      },
      "outputs": [],
      "source": [
        "Input: 1 -> 2 -> 3 -> 4 -> 5, k = 3\n",
        "Output: 3 -> 2 -> 1 -> 4 -> 5"
      ]
    },
    {
      "cell_type": "code",
      "execution_count": null,
      "id": "90da885d-85e2-434f-abf1-46e9ddc318a8",
      "metadata": {
        "id": "90da885d-85e2-434f-abf1-46e9ddc318a8",
        "outputId": "5831f01e-8bf6-4715-9b86-b6a6eec38af0"
      },
      "outputs": [
        {
          "name": "stdout",
          "output_type": "stream",
          "text": [
            "Original Linked list :\n",
            "1-->2-->3-->4-->5-->None\n",
            "\n",
            "Reverse nodes in a linked list in groups of k : 3\n",
            "\n",
            "Output :\n",
            "3-->2-->1-->4-->5-->None\n"
          ]
        }
      ],
      "source": [
        "def reverse_k_group(head, k):\n",
        "    if not head or k == 1:\n",
        "        return head\n",
        "\n",
        "    dummy = Node(0)\n",
        "    dummy.setnext(head)\n",
        "    prev_group_end = dummy\n",
        "\n",
        "    while prev_group_end:\n",
        "        group_start = prev_group_end.getnext()\n",
        "        group_end = group_start\n",
        "        for _ in range(k - 1):\n",
        "            group_end = group_end.getnext()\n",
        "            if not group_end:\n",
        "                return dummy.getnext()\n",
        "\n",
        "        next_group_start = group_end.getnext()\n",
        "        group_end.setnext(None)\n",
        "\n",
        "        # Reverse the current group\n",
        "        prev = None\n",
        "        current = group_start\n",
        "        while current:\n",
        "            next_node = current.getnext()\n",
        "            current.setnext(prev)\n",
        "            prev = current\n",
        "            current = next_node\n",
        "\n",
        "        # Connect the reversed group back to the main list\n",
        "        prev_group_end.setnext(group_end)\n",
        "        group_start.setnext(next_group_start)\n",
        "\n",
        "        # Update prev_group_end for the next iteration\n",
        "        prev_group_end = group_start\n",
        "\n",
        "    return dummy.getnext()\n",
        "\n",
        "# creating the nodes\n",
        "\n",
        "head = Node(1)\n",
        "node2 = Node(2)\n",
        "node3 = Node(3)\n",
        "node4 = Node(4)\n",
        "node5 = Node(5)\n",
        "\n",
        "# linking the nodes/ creating the linked list\n",
        "\n",
        "head.setnext(node2)\n",
        "node2.setnext(node3)\n",
        "node3.setnext(node4)\n",
        "node4.setnext(node5)\n",
        "\n",
        "print(\"Original Linked list :\")\n",
        "traverse(head)\n",
        "new_head = reverse_k_group(head,3)\n",
        "print(\"\\nReverse nodes in a linked list in groups of k : 3\")\n",
        "print(\"\\nOutput :\")\n",
        "traverse(new_head)\n"
      ]
    },
    {
      "cell_type": "code",
      "execution_count": null,
      "id": "7ed0ed1f-63f3-44ca-a1af-4e559d5815f4",
      "metadata": {
        "id": "7ed0ed1f-63f3-44ca-a1af-4e559d5815f4"
      },
      "outputs": [],
      "source": []
    },
    {
      "cell_type": "markdown",
      "id": "0459cd3b-4651-4acb-b26a-f38e81915519",
      "metadata": {
        "id": "0459cd3b-4651-4acb-b26a-f38e81915519"
      },
      "source": [
        "### Problem 9: Determine if a linked list is a palindrome."
      ]
    },
    {
      "cell_type": "code",
      "execution_count": null,
      "id": "a6013edc-704c-4f1f-ab45-36c87bc56a10",
      "metadata": {
        "id": "a6013edc-704c-4f1f-ab45-36c87bc56a10"
      },
      "outputs": [],
      "source": [
        "Input: 1 -> 2 -> 2 -> 1\n",
        "Output: True"
      ]
    },
    {
      "cell_type": "code",
      "execution_count": null,
      "id": "a0ccc2ee-60ad-46ce-8acf-c1598c9c3754",
      "metadata": {
        "id": "a0ccc2ee-60ad-46ce-8acf-c1598c9c3754",
        "outputId": "a6099b10-bea4-433b-a3ae-faacfa746306"
      },
      "outputs": [
        {
          "name": "stdout",
          "output_type": "stream",
          "text": [
            "Linked list :\n",
            "1-->2-->2-->1-->None\n",
            "\n",
            "Determine if a linked list is a palindrome ? output :  True\n"
          ]
        }
      ],
      "source": [
        "def is_palindrome(head):\n",
        "    if not head or not head.getnext():\n",
        "        return True\n",
        "\n",
        "    # Find the middle of the linked list\n",
        "    slow = head\n",
        "    fast = head\n",
        "    while fast.getnext() and fast.getnext().getnext():\n",
        "        slow = slow.getnext()\n",
        "        fast = fast.getnext().getnext()\n",
        "\n",
        "    # Reverse the second half of the linked list\n",
        "    second_half_head = reverse_linked_list(slow.getnext())\n",
        "\n",
        "    # Compare the first half with the reversed second half\n",
        "    first_half = head\n",
        "    second_half = second_half_head\n",
        "    while second_half:\n",
        "        if first_half.getdata() != second_half.getdata():\n",
        "            return False\n",
        "        first_half = first_half.getnext()\n",
        "        second_half = second_half.getnext()\n",
        "\n",
        "    return True\n",
        "def reverse_linked_list(head):\n",
        "    prev = None\n",
        "    current = head\n",
        "    while current:\n",
        "        next_node = current.getnext()\n",
        "        current.setnext(prev)\n",
        "        prev = current\n",
        "        current = next_node\n",
        "    return prev\n",
        "\n",
        "# Creating a linked list\n",
        "head = Node(1)\n",
        "node2 = Node(2)\n",
        "node3 = Node(2)\n",
        "node4 = Node(1)\n",
        "\n",
        "# Linking the nodes\n",
        "head.setnext(node2)\n",
        "node2.setnext(node3)\n",
        "node3.setnext(node4)\n",
        "\n",
        "# Traversing and printing the linked list\n",
        "print(\"Linked list :\")\n",
        "traverse(head)\n",
        "\n",
        "# Checking if the linked list is a palindrome\n",
        "print(\"\\nDetermine if a linked list is a palindrome ?\", \"output : \", is_palindrome(head))\n"
      ]
    },
    {
      "cell_type": "code",
      "execution_count": null,
      "id": "e1759aff-5a55-4d08-9440-a2a56d97b610",
      "metadata": {
        "id": "e1759aff-5a55-4d08-9440-a2a56d97b610"
      },
      "outputs": [],
      "source": []
    },
    {
      "cell_type": "markdown",
      "id": "7e9edf26-f177-45f6-ba39-8d3bd2fa1827",
      "metadata": {
        "id": "7e9edf26-f177-45f6-ba39-8d3bd2fa1827"
      },
      "source": [
        "### Q8: Rotate a linked list to the right by k places."
      ]
    },
    {
      "cell_type": "code",
      "execution_count": null,
      "id": "8a436c1c-0200-4e5f-a5d1-927a1aa5bcac",
      "metadata": {
        "id": "8a436c1c-0200-4e5f-a5d1-927a1aa5bcac"
      },
      "outputs": [],
      "source": [
        "Input: 1 -> 2 -> 3 -> 4 -> 5, k = 2\n",
        "Output: 4 -> 5 -> 1 -> 2 -> 3"
      ]
    },
    {
      "cell_type": "code",
      "execution_count": null,
      "id": "571616bb-b08f-45a5-aea5-4b10cee1e5cf",
      "metadata": {
        "id": "571616bb-b08f-45a5-aea5-4b10cee1e5cf",
        "outputId": "38ac31f2-1d89-4bff-db85-f1f36d5e05a8"
      },
      "outputs": [
        {
          "name": "stdout",
          "output_type": "stream",
          "text": [
            "Original Linked list :\n",
            "1-->2-->3-->4-->5-->None\n",
            "\n",
            "Rotate a linked list to the right by k places : 2\n",
            "\n",
            "Output :\n",
            "4-->5-->1-->2-->3-->None\n"
          ]
        }
      ],
      "source": [
        "def rotate_right(head, k):\n",
        "    if not head or k == 0:\n",
        "        return head\n",
        "\n",
        "    # Find the length of the linked list\n",
        "    length = 1\n",
        "    tail = head\n",
        "    while tail.getnext():\n",
        "        tail = tail.getnext()\n",
        "        length += 1\n",
        "\n",
        "    # Calculate the actual number of rotations needed\n",
        "    k %= length\n",
        "    if k == 0:\n",
        "        return head\n",
        "\n",
        "    # Traverse to the (length - k) - 1 node\n",
        "    prev = head\n",
        "    for _ in range(length - k - 1):\n",
        "        prev = prev.getnext()\n",
        "\n",
        "    # Set the new head and break the list\n",
        "    new_head = prev.getnext()\n",
        "    prev.setnext(None)\n",
        "\n",
        "    # Connect the tail to the original head\n",
        "    tail.setnext(head)\n",
        "\n",
        "    return new_head\n",
        "\n",
        "# creating the nodes\n",
        "\n",
        "head = Node(1)\n",
        "node2 = Node(2)\n",
        "node3 = Node(3)\n",
        "node4 = Node(4)\n",
        "node5 = Node(5)\n",
        "\n",
        "# linking the nodes/ creating the linked list\n",
        "\n",
        "head.setnext(node2)\n",
        "node2.setnext(node3)\n",
        "node3.setnext(node4)\n",
        "node4.setnext(node5)\n",
        "\n",
        "print(\"Original Linked list :\")\n",
        "traverse(head)\n",
        "new_head = rotate_right(head,2)\n",
        "print(\"\\nRotate a linked list to the right by k places : 2\")\n",
        "print(\"\\nOutput :\")\n",
        "traverse(new_head)\n"
      ]
    }
  ],
  "metadata": {
    "kernelspec": {
      "display_name": "Python 3 (ipykernel)",
      "language": "python",
      "name": "python3"
    },
    "language_info": {
      "codemirror_mode": {
        "name": "ipython",
        "version": 3
      },
      "file_extension": ".py",
      "mimetype": "text/x-python",
      "name": "python",
      "nbconvert_exporter": "python",
      "pygments_lexer": "ipython3",
      "version": "3.10.8"
    },
    "colab": {
      "provenance": []
    }
  },
  "nbformat": 4,
  "nbformat_minor": 5
}