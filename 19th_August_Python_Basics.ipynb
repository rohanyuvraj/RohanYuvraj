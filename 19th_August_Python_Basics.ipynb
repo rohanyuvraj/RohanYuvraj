{
  "nbformat": 4,
  "nbformat_minor": 0,
  "metadata": {
    "colab": {
      "provenance": []
    },
    "kernelspec": {
      "name": "python3",
      "display_name": "Python 3"
    },
    "language_info": {
      "name": "python"
    }
  },
  "cells": [
    {
      "cell_type": "code",
      "execution_count": null,
      "metadata": {
        "id": "7FH9113feLGf"
      },
      "outputs": [],
      "source": []
    },
    {
      "cell_type": "markdown",
      "source": [
        "TOPIC: Python Basics Variable"
      ],
      "metadata": {
        "id": "8iw-N8ZGeM8g"
      }
    },
    {
      "cell_type": "markdown",
      "source": [
        "**Que 1** : Declare two variables, x and y, and assign them integer values. Swap the values of these variables without using any temporary variable."
      ],
      "metadata": {
        "id": "PkqNrsFLeuH1"
      }
    },
    {
      "cell_type": "code",
      "source": [
        "#  Declaring Variables\n",
        "x=10\n",
        "y=20\n",
        "\n",
        "# Printing Before Swapping\n",
        "print(\"Value of x is \",x)\n",
        "print(\"Value of y is \",y)\n",
        "\n",
        "# Swapping Values\n",
        "x,y=y,x\n",
        "#It simply swaps the values\n",
        "\n",
        "# printing Swapped Values\n",
        "\n",
        "print(\"Value of x after swapping is \",x)\n",
        "print(\"Value of y after swapping is \",y)\n",
        "\n"
      ],
      "metadata": {
        "colab": {
          "base_uri": "https://localhost:8080/"
        },
        "id": "lI_Geiw9eykJ",
        "outputId": "05e4be57-c6ac-453e-9287-411deff657e5"
      },
      "execution_count": 1,
      "outputs": [
        {
          "output_type": "stream",
          "name": "stdout",
          "text": [
            "Value of x is  10\n",
            "Value of y is  20\n",
            "Value of x after swapping is  20\n",
            "Value of y after swapping is  10\n"
          ]
        }
      ]
    },
    {
      "cell_type": "code",
      "source": [],
      "metadata": {
        "id": "KGDS6YGwe04z"
      },
      "execution_count": null,
      "outputs": []
    },
    {
      "cell_type": "markdown",
      "source": [
        "**Explanation**\n",
        "\n",
        "1. Declaring Variables\n",
        "2. Swapping Values\n",
        "3. Printing Swapped Values\n",
        "\n",
        "\n",
        "\n",
        "---\n",
        "\n",
        "\n",
        "\n",
        "\n",
        "\n"
      ],
      "metadata": {
        "id": "BsN56tRe2wFR"
      }
    },
    {
      "cell_type": "markdown",
      "source": [
        "**Que 2**:Create a program that calculates the area of a rectangle. Take the length and width as inputs from the user and store them in variables. Calculate and display the area."
      ],
      "metadata": {
        "id": "7G5AUmGfggrw"
      }
    },
    {
      "cell_type": "code",
      "source": [
        "# Get input from the user of the length and width\n",
        "length = float( input(\"Enter the length of the rectangle: \")) # Taking user input for length\n",
        "width = float(input(\"Enter the width of the rectangle: \"))  # Taking user input for width\n",
        "\n",
        "\"\"\"While taking the values we have converted it to float so that\n",
        "while compiling it does not give an error as input values can be decimal.\n",
        "\"\"\"\n",
        "\n",
        "\n",
        "# Calculate the area of the rectangle using the formula: area = length * width\n",
        "area = length * width\n",
        "\n",
        "# Printing the calculated area to the user\n",
        "print(\"The area of the rectangle is:\", area)"
      ],
      "metadata": {
        "colab": {
          "base_uri": "https://localhost:8080/"
        },
        "id": "1TSvdJolgkhg",
        "outputId": "c409759c-0928-431e-c177-8b3d1d4b1f74"
      },
      "execution_count": 4,
      "outputs": [
        {
          "output_type": "stream",
          "name": "stdout",
          "text": [
            "Enter the length of the rectangle: 21\n",
            "Enter the width of the rectangle: 22\n",
            "The area of the rectangle is: 462.0\n"
          ]
        }
      ]
    },
    {
      "cell_type": "markdown",
      "source": [
        "**Explanation**\n",
        "\n",
        "1. Taking Length Input from the user and converting it to float as the values can be decimal.\n",
        "2. Similarly Taking Breadth\n",
        "3. Area =l*b\n",
        "4. Printing area\n"
      ],
      "metadata": {
        "id": "FlBOPQjq288m"
      }
    },
    {
      "cell_type": "markdown",
      "source": [
        "**Que 3**: Write a Python program that converts temperatures from Celsius to Fahrenheit. Take the temperature in Celsius as input, store it in a variable, convert it to Fahrenheit, and display the result."
      ],
      "metadata": {
        "id": "u6k-cJb6j-BK"
      }
    },
    {
      "cell_type": "code",
      "source": [
        "# Taking the input from the user in Celcius\n",
        "c= float(input(\"Enter the temperature in celcius\"))\n",
        "\n",
        "# Converting it into Fahrenheit\n",
        "f= (c*9/5) +32\n",
        "\n",
        " # Displaying The temperature in Fahrenheit\n",
        "print(\"Given Temperature in Fahrenheit is\",f)\n",
        "\n"
      ],
      "metadata": {
        "colab": {
          "base_uri": "https://localhost:8080/"
        },
        "id": "qiR_U9EJgzmJ",
        "outputId": "8baf2744-847e-4168-be1a-f1534dff0ab8"
      },
      "execution_count": 15,
      "outputs": [
        {
          "output_type": "stream",
          "name": "stdout",
          "text": [
            "Enter the temperature in celcius32\n",
            "Given Temperature in Fahrenheit is 89.6\n"
          ]
        }
      ]
    },
    {
      "cell_type": "markdown",
      "source": [
        "**Explanation**\n",
        "\n",
        "1. Taking Reading In celcius and converting to float\n",
        "2. Formula = F=(c*9/5) +32\n",
        "3. Printing In Fahrenheit"
      ],
      "metadata": {
        "id": "ThzkbRpn3a8U"
      }
    },
    {
      "cell_type": "markdown",
      "source": [
        "Topic : String Based Questions"
      ],
      "metadata": {
        "id": "atnVOpE7nSv3"
      }
    },
    {
      "cell_type": "markdown",
      "source": [
        "**Que 1**:Write a Python program that takes a string as input and prints the length of the string"
      ],
      "metadata": {
        "id": "Btp-3zSSnjQI"
      }
    },
    {
      "cell_type": "code",
      "source": [
        "# Get input from the user\n",
        "input_string = input(\"Enter a string: \")\n",
        "\n",
        "# Calculating the length of the input string using the built-in len() function\n",
        "string_length = len(input_string)\n",
        "\n",
        "# Print the length of the string\n",
        "print(\"Length of the input string is \", string_length)"
      ],
      "metadata": {
        "colab": {
          "base_uri": "https://localhost:8080/"
        },
        "id": "90-3j7gXnn5O",
        "outputId": "d7e08b5c-604e-4c12-ba00-e99879254ace"
      },
      "execution_count": 16,
      "outputs": [
        {
          "output_type": "stream",
          "name": "stdout",
          "text": [
            "Enter a string: GoogLE ColLab\n",
            "Length of the input string is  13\n"
          ]
        }
      ]
    },
    {
      "cell_type": "markdown",
      "source": [
        "**Explanation**\n",
        "\n",
        "1. Taking input from the user\n",
        "2. Calculating the length using len() function\n",
        "3. Printing the length"
      ],
      "metadata": {
        "id": "Q9__8MT-4RWN"
      }
    },
    {
      "cell_type": "markdown",
      "source": [
        "**Que 2**:Create a program that takes a sentence from the user and counts the number of vowels (a, e, i, o, u) in the string."
      ],
      "metadata": {
        "id": "4tr4WWw1pUQn"
      }
    },
    {
      "cell_type": "code",
      "source": [
        "#  Taking input from the user\n",
        "a = input(\"Enter a sentence \")\n",
        "\n",
        "# Initialize a counter to calculate the number of vowels\n",
        "counter = 0\n",
        "\n",
        "#  For loop is used here to go through each character\n",
        "for char in a:\n",
        "\n",
        " # Convert all to lowercase because of case sensitivity\n",
        "    char_l = char.lower()\n",
        "\n",
        "  #  Checking for vowels\n",
        "    if char_l in \"aeiou\":\n",
        "\n",
        "  #  Increment the counter if vowel is found\n",
        "      counter= counter+1\n",
        "\n",
        "# Step 7: Display the result\n",
        "print(\"Number of vowels is\", counter)"
      ],
      "metadata": {
        "colab": {
          "base_uri": "https://localhost:8080/"
        },
        "id": "iTzmTPvGpZr1",
        "outputId": "33590eaf-6170-41ea-8abd-bb2717d1de7a"
      },
      "execution_count": 19,
      "outputs": [
        {
          "output_type": "stream",
          "name": "stdout",
          "text": [
            "Enter a sentence pw skills\n",
            "Number of vowels is 1\n"
          ]
        }
      ]
    },
    {
      "cell_type": "markdown",
      "source": [
        "**Explanation**\n",
        "\n",
        "1. Taking the input from the user.\n",
        "2. Setting a counter so that it increments its value by 1 when it encounters a vowel.\n",
        "3. Converting to lower case using lower() function as python is case sensitive.\n",
        "4. Using if statement to verify vowel and setting the counter.\n",
        "5. Value of counter gives the number of vowels."
      ],
      "metadata": {
        "id": "1ZP5BHqF4gZy"
      }
    },
    {
      "cell_type": "markdown",
      "source": [
        "**Que 3**:Given a string, reverse the order of characters using string slicing and print the reversed string.\n"
      ],
      "metadata": {
        "id": "YkLFaGXOt1CU"
      }
    },
    {
      "cell_type": "code",
      "source": [
        "#Taking the input from the user\n",
        "string = input(\"Enter a string: \")\n",
        "\n",
        "# String slicing to reverse the string\n",
        "\n",
        "# We don't define 1st 2 columns as it will let it start from the end and -1 is applied so that it can move in reverse order\n",
        "reversed_string =string[::-1]\n",
        "\n",
        "# Printing the reversed string\n",
        "print(\"Reversed string:\", reversed_string)"
      ],
      "metadata": {
        "colab": {
          "base_uri": "https://localhost:8080/"
        },
        "id": "WNZM0r1Jt7mi",
        "outputId": "b6f77655-8de5-4ef0-c1ce-c639599c4dd6"
      },
      "execution_count": 20,
      "outputs": [
        {
          "output_type": "stream",
          "name": "stdout",
          "text": [
            "Enter a string:  pwskills\n",
            "Reversed string: sllikswp \n"
          ]
        }
      ]
    },
    {
      "cell_type": "markdown",
      "source": [
        "**Explanation**\n",
        "\n",
        "1. Taking input from the user\n",
        "2. Using Slicing\n",
        "3. Syntax: [start:end:step]\n",
        "4. start not defined so it will mark the beginning of the string.\n",
        "similarly end is also not mentioned.\n",
        "5. step reduces the index by 1 which means moving backwards in string.\n",
        "6. Printing Reversed String"
      ],
      "metadata": {
        "id": "3K6OjRKO5aj-"
      }
    },
    {
      "cell_type": "markdown",
      "source": [
        "**Que 4**:Write a program that takes a string as input and checks if it is a palindrome (reads the same forwards and backwards).\n"
      ],
      "metadata": {
        "id": "T69cDgt4wGLn"
      }
    },
    {
      "cell_type": "code",
      "source": [
        "# Taking input from the user\n",
        "\n",
        "string=input(\"Enter the string \")\n",
        "\n",
        "# Arranging the string without spaces\n",
        "\n",
        "string1= string.replace(\" \", \"\")\n",
        "\n",
        "# Converting all into lower\n",
        "\n",
        "string2= string1.lower()\n",
        "\n",
        "#Reversing The String\n",
        "\n",
        "stringrev =string2[::-1]\n",
        "\n",
        "# Checking Palindrome\n",
        "\n",
        "if stringrev == string:\n",
        " print(\"String is Palindrome\")\n",
        "\n",
        "else :\n",
        "\n",
        " print(\"String is not Palindrome\")\n",
        "\n"
      ],
      "metadata": {
        "colab": {
          "base_uri": "https://localhost:8080/"
        },
        "id": "uXG9Nc4AwRuA",
        "outputId": "9b597039-7980-4cad-e313-ec9c25f09814"
      },
      "execution_count": 38,
      "outputs": [
        {
          "output_type": "stream",
          "name": "stdout",
          "text": [
            "Enter the string ijkllkji\n",
            "String is Palindrome\n"
          ]
        }
      ]
    },
    {
      "cell_type": "markdown",
      "source": [
        "**Explanation**\n",
        "\n",
        "1. Taking input from the user.\n",
        "2. Removing All Spaces using replace().\n",
        "3. converting to lowercase using lower().\n",
        "4. Comparing the final to the entered string.\n",
        "5. Printing the result."
      ],
      "metadata": {
        "id": "V9LmCk2q6R7L"
      }
    },
    {
      "cell_type": "markdown",
      "source": [
        "**Que 5**:Create a program that takes a string as input and removes all the spaces from it. Print the modified string without spaces."
      ],
      "metadata": {
        "id": "yWuczS4r1G1-"
      }
    },
    {
      "cell_type": "code",
      "source": [
        "# Taking input from the user\n",
        "\n",
        "string=input(\"Enter the string \")\n",
        "\n",
        "# Arranging the string without spaces\n",
        "\n",
        "string1= string.replace(\" \", \"\")\n",
        "\n",
        "#printing atring without space\n",
        "\n",
        "print(string1)"
      ],
      "metadata": {
        "colab": {
          "base_uri": "https://localhost:8080/"
        },
        "id": "7n46N0Jn1K8u",
        "outputId": "c9d1625b-6283-45e9-ce08-41edb53526c5"
      },
      "execution_count": 39,
      "outputs": [
        {
          "output_type": "stream",
          "name": "stdout",
          "text": [
            "Enter the string Solved Papers\n",
            "SolvedPapers\n"
          ]
        }
      ]
    },
    {
      "cell_type": "markdown",
      "source": [
        "**Explantion**\n",
        "\n",
        "1. Taking input from the user\n",
        "2. Arranging without spaces using replace function\n",
        "3. Printing the result"
      ],
      "metadata": {
        "id": "X_Afrpdy9ZPX"
      }
    },
    {
      "cell_type": "code",
      "source": [],
      "metadata": {
        "id": "BbdfWfwc9pjV"
      },
      "execution_count": null,
      "outputs": []
    }
  ]
}