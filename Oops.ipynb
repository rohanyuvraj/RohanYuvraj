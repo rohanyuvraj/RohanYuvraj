{
  "nbformat": 4,
  "nbformat_minor": 0,
  "metadata": {
    "colab": {
      "provenance": []
    },
    "kernelspec": {
      "name": "python3",
      "display_name": "Python 3"
    },
    "language_info": {
      "name": "python"
    }
  },
  "cells": [
    {
      "cell_type": "markdown",
      "source": [
        "Oops"
      ],
      "metadata": {
        "id": "JHnGx9NARXoO"
      }
    },
    {
      "cell_type": "markdown",
      "source": [
        "Problem 1: Bank Account - Create a class representing a bank account with attributes like account number, account holder name, and balance. Implement methods to deposit and withdraw money from the account"
      ],
      "metadata": {
        "id": "Rk5zbWSZRKid"
      }
    },
    {
      "cell_type": "code",
      "source": [
        "class bank_account:\n",
        "  def __init__(self, account_number , account_holder_name , balance=5000):\n",
        "    self.account_number=account_number\n",
        "    self.account_holder_name=   account_holder_name\n",
        "    self.balance=balance\n",
        "\n",
        "  def deposit(self,deposit):\n",
        "    self.balance=self.balance+deposit\n",
        "    return \"Balance after deposit\",self.balance  #Returns amount after deposit\n",
        "\n",
        "  def withdraw(self,withdraw):\n",
        "    if self.balance>=withdraw:\n",
        "      self.balance=self.balance-withdraw\n",
        "      return \"Balance after withdrawal\",self.balance   #Returns amount after withdrawal\n",
        "    else:\n",
        "      return \"Insufficient Balance\"\n",
        "\n",
        "account= bank_account(\"12345678\",\"Ron\")  #Assigning Constructor\n",
        "print(\"Balance is\",account.balance)\n",
        "account.deposit(500)\n",
        "account.withdraw(3000)\n",
        "\n",
        "\n"
      ],
      "metadata": {
        "colab": {
          "base_uri": "https://localhost:8080/"
        },
        "id": "VSTXucTmRaek",
        "outputId": "17267f34-fe61-4321-930e-21c3c7e6aa88"
      },
      "execution_count": 14,
      "outputs": [
        {
          "output_type": "stream",
          "name": "stdout",
          "text": [
            "Balance is 5000\n"
          ]
        },
        {
          "output_type": "execute_result",
          "data": {
            "text/plain": [
              "('Balance after withdrawal', 2500)"
            ]
          },
          "metadata": {},
          "execution_count": 14
        }
      ]
    },
    {
      "cell_type": "markdown",
      "source": [
        "Problem 2: Employee Management - Create a class representing an employee with attributes like employee ID, name, and salary. Implement methods to calculate the yearly bonus and display employee details"
      ],
      "metadata": {
        "id": "Qi4VDESkVUcG"
      }
    },
    {
      "cell_type": "code",
      "source": [
        "class EmployeeManagement:\n",
        "  def __init__(self, employeeid, name , salary,bonus=0):\n",
        "    self.employeeid=employeeid\n",
        "    self.name=name\n",
        "    self.salary=salary\n",
        "\n",
        "  def bonus(self,bonusper):\n",
        "    return (bonusper/100)*self.salary\n",
        "\n",
        "  def display(self):\n",
        "    print(\"Employee Id\", self.employeeid)\n",
        "    print(\"Employee Name\", self.name)\n",
        "    print(\"Bonus is\",bonus)\n",
        "    print(\"Salary is\",self.salary)\n",
        "\n",
        "\n",
        "\n",
        "#Initialising Constructor\n",
        "employee=EmployeeManagement(\"12345\",\"Ron\",100000)\n",
        "bonus=employee.bonus(5)\n",
        "employee.display()\n",
        "\n",
        "\n",
        "\n"
      ],
      "metadata": {
        "colab": {
          "base_uri": "https://localhost:8080/"
        },
        "id": "cwLrIZx8VTbL",
        "outputId": "67a43423-131f-427f-fe0b-8b3b6a27ee4b"
      },
      "execution_count": 21,
      "outputs": [
        {
          "output_type": "stream",
          "name": "stdout",
          "text": [
            "Employee Id 12345\n",
            "Employee Name Ron\n",
            "Bonus is 5000.0\n",
            "Salary is 100000\n"
          ]
        }
      ]
    },
    {
      "cell_type": "markdown",
      "source": [
        "Problem 3: Vehicle Rental - Create a class representing a vehicle rental system. Implement methods to rent a vehicle, return a vehicle, and display available vehicles."
      ],
      "metadata": {
        "id": "NgbstrDteGEn"
      }
    },
    {
      "cell_type": "code",
      "source": [
        "class vehiclerentalsystem:\n",
        "  def __init__(self):\n",
        "    self.vehicles=[]\n",
        "\n",
        "  def rent(self,rentvehicle):\n",
        "    self.vehicles.remove(rentvehicle)\n",
        "\n",
        "  def returnvehicle(self,retvehicle):\n",
        "    self.vehicles.append(retvehicles)\n",
        "\n",
        "  def displayvehicle(self):\n",
        "    for vehicle in self.vehicles:\n",
        "      print(vehicle)\n",
        "\n",
        "class vehicle:\n",
        "  def __init__(self,vehicleid,model):\n",
        "    self.vehicleid=vehicleid\n",
        "    self.model=model\n",
        "\n",
        "  def __str__(self):\n",
        "    return f\"Vehicle Id: {self.vehicleid}, Model:{self.model}\"\n",
        "\n",
        "rental_system=vehiclerentalsystem()\n",
        "car1=vehicle(1,\"Swift\")\n",
        "car2=vehicle(2,\"Ertiga\")\n",
        "car3=vehicle(3,\"Innova\")\n",
        "\n",
        "rental_system.vehicles.extend([car1,car2,car3])\n",
        "\n",
        "print(\"Available Vehicles:\")\n",
        "rental_system.displayvehicle()\n",
        "\n",
        "#renting vehicle\n",
        "rental_system.rent(car1)\n",
        "\n",
        "#display after renting\n",
        "print(\"Available Now\")\n",
        "rental_system.displayvehicle()"
      ],
      "metadata": {
        "colab": {
          "base_uri": "https://localhost:8080/"
        },
        "id": "DQmpED5FeJXx",
        "outputId": "bca4c59c-90be-44de-dd64-b971471ddf1a"
      },
      "execution_count": 13,
      "outputs": [
        {
          "output_type": "stream",
          "name": "stdout",
          "text": [
            "Available Vehicles:\n",
            "Vehicle Id: 1, Model:Swift\n",
            "Vehicle Id: 2, Model:Ertiga\n",
            "Vehicle Id: 3, Model:Innova\n",
            "Available Now\n",
            "Vehicle Id: 2, Model:Ertiga\n",
            "Vehicle Id: 3, Model:Innova\n"
          ]
        }
      ]
    },
    {
      "cell_type": "markdown",
      "source": [
        "Problem 4: Library Catalog - Create classes representing a library and a book. Implement methods to add books to the library, borrow books, and display available books."
      ],
      "metadata": {
        "id": "8Hc8vy8VxifH"
      }
    },
    {
      "cell_type": "code",
      "source": [
        "\n",
        "class Library:\n",
        "    def __init__(self):\n",
        "        self.books = []\n",
        "\n",
        "\n",
        "    def add_book(self, book):\n",
        "        self.books.append(book)\n",
        "\n",
        "\n",
        "    def borrow_book(self, book):\n",
        "        if book in self.books:\n",
        "            self.books.remove(book)\n",
        "        else:\n",
        "            print(\"Book not available\")\n",
        "\n",
        "\n",
        "    def display_available_books(self):\n",
        "        for book in self.books:\n",
        "            print(book)\n",
        "\n",
        "\n",
        "class Book:\n",
        "    def __init__(self, title, author):\n",
        "        self.title = title\n",
        "        self.author = author\n",
        "\n",
        "    def __str__(self):\n",
        "        return f\"Title: {self.title}, Author: {self.author}\"\n",
        "\n",
        "# initialising library\n",
        "library = Library()\n",
        "\n",
        "\n",
        "book1 = Book(\"DSA\", \"Rohan\")\n",
        "book2 = Book(\"NLP\", \"Yuvraj\")\n",
        "\n",
        "\n",
        "library.add_book(book1)\n",
        "library.add_book(book2)\n",
        "\n",
        "\n",
        "print(\"Available books before borrowing :\")\n",
        "library.display_available_books()\n",
        "\n",
        "\n",
        "library.borrow_book(book1)\n",
        "\n",
        "\n",
        "print(\"\\nAvailable books after borrowing :\")\n",
        "library.display_available_books()\n"
      ],
      "metadata": {
        "colab": {
          "base_uri": "https://localhost:8080/"
        },
        "id": "G1WFinYQxn2g",
        "outputId": "57a31751-02a9-4df6-be63-3ab5487a2b24"
      },
      "execution_count": 1,
      "outputs": [
        {
          "output_type": "stream",
          "name": "stdout",
          "text": [
            "Available books before borrowing :\n",
            "Title: DSA, Author: Rohan\n",
            "Title: NLP, Author: Yuvraj\n",
            "\n",
            "Available books after borrowing :\n",
            "Title: NLP, Author: Yuvraj\n"
          ]
        }
      ]
    },
    {
      "cell_type": "markdown",
      "source": [
        "Problem 5: Product Inventory - Create classes representing a product and an inventory system. Implement methods to add products to the inventory, update product quantity, and display available products."
      ],
      "metadata": {
        "id": "mtmLPYymMBjF"
      }
    },
    {
      "cell_type": "code",
      "source": [
        "class Inventory:\n",
        "    def __init__(self):\n",
        "        self.products = {}\n",
        "\n",
        "    def add_product(self, product, quantity):\n",
        "        if product in self.products:\n",
        "            self.products[product] += quantity\n",
        "        else:\n",
        "            self.products[product] = quantity\n",
        "\n",
        "    def update_product_quantity(self, product, new_quantity):\n",
        "        if product in self.products:\n",
        "            self.products[product] = new_quantity\n",
        "        else:\n",
        "            print(\"Product not found\")\n",
        "\n",
        "    def display_available_products(self):\n",
        "        for product, quantity in self.products.items():\n",
        "            print(f\"Product: {product}, Quantity: {quantity}\")\n",
        "\n",
        "class Product:\n",
        "    def __init__(self, name, price):\n",
        "        self.name = name\n",
        "        self.price = price\n",
        "\n",
        "    def __str__(self):\n",
        "        return f\"Name: {self.name}, Price: {self.price}\"\n",
        "#Initialisiing\n",
        "inventory = Inventory()\n",
        "product1 = Product(\"Mobile\", 20000)\n",
        "product2 = Product(\"Tab\", 10000)\n",
        "\n",
        "inventory.add_product(product1, 10)\n",
        "inventory.add_product(product2, 50)\n",
        "\n",
        "\n",
        "print(\"Available products : \")\n",
        "\n",
        "inventory.display_available_products()\n",
        "\n",
        "inventory.update_product_quantity(product1, 5)\n",
        "\n",
        "print(\"\\nAvailable products after updating quantity: \")\n",
        "inventory.display_available_products()"
      ],
      "metadata": {
        "colab": {
          "base_uri": "https://localhost:8080/"
        },
        "id": "ghA2_Rr8MEyl",
        "outputId": "846e4d74-fdf9-4329-daf7-466976bb7685"
      },
      "execution_count": 2,
      "outputs": [
        {
          "output_type": "stream",
          "name": "stdout",
          "text": [
            "Available products : \n",
            "Product: Name: Mobile, Price: 20000, Quantity: 10\n",
            "Product: Name: Tab, Price: 10000, Quantity: 50\n",
            "\n",
            "Available products after updating quantity: \n",
            "Product: Name: Mobile, Price: 20000, Quantity: 5\n",
            "Product: Name: Tab, Price: 10000, Quantity: 50\n"
          ]
        }
      ]
    },
    {
      "cell_type": "markdown",
      "source": [
        "Problem 6: Shape Calculation - Create a class representing a shape with attributes like length, width, and height. Implement methods to calculate the area and perimeter of the shape."
      ],
      "metadata": {
        "id": "SAB9YZFxNJhG"
      }
    },
    {
      "cell_type": "code",
      "source": [
        "class Shape:\n",
        "    def __init__(self, length, width, height):\n",
        "        self.length = length\n",
        "        self.width = width\n",
        "        self.height = height\n",
        "\n",
        "\n",
        "class Rectangle(Shape):\n",
        "    def area(self):\n",
        "        return self.length * self.width\n",
        "\n",
        "    def perimeter(self):\n",
        "        return 2 * (self.length + self.width)\n",
        "\n",
        "class Triangle(Shape):\n",
        "    def area(self):\n",
        "        #  Heron's formula\n",
        "        s = (self.length + self.width + self.height) / 2\n",
        "        return (s * (s - self.length) * (s - self.width) * (s - self.height)) ** 0.5\n",
        "\n",
        "    def perimeter(self):\n",
        "        return self.length + self.width + self.height\n",
        "\n",
        "# example\n",
        "rectangle = Rectangle(10, 7, 0)\n",
        "triangle = Triangle(3, 4, 5)\n",
        "\n",
        "print(\"Rectangle Area:\", rectangle.area())\n",
        "print(\"Rectangle Perimeter:\", rectangle.perimeter())\n",
        "print(\"\\nTriangle Area:\", triangle.area())\n",
        "print(\"Triangle Perimeter:\", triangle.perimeter())"
      ],
      "metadata": {
        "colab": {
          "base_uri": "https://localhost:8080/"
        },
        "id": "1v4OAZTGNNHt",
        "outputId": "1aa12bcb-6d07-4406-c130-fde7fa0fa3c2"
      },
      "execution_count": 3,
      "outputs": [
        {
          "output_type": "stream",
          "name": "stdout",
          "text": [
            "Rectangle Area: 70\n",
            "Rectangle Perimeter: 34\n",
            "\n",
            "Triangle Area: 6.0\n",
            "Triangle Perimeter: 12\n"
          ]
        }
      ]
    },
    {
      "cell_type": "markdown",
      "source": [
        "Problem 7: Student Management - Create a class representing a student with attributes like student ID, name, and grades. Implement methods to calculate the average grade and display student details."
      ],
      "metadata": {
        "id": "ArEYQng4PlIC"
      }
    },
    {
      "cell_type": "code",
      "source": [
        "class Student:\n",
        "    def __init__(self, student_id, name, grades=[]):\n",
        "        self.student_id = student_id\n",
        "        self.name = name\n",
        "        self.grades = grades\n",
        "\n",
        "    def calculate_average_grade(self):\n",
        "        if len(self.grades) > 0:\n",
        "            return sum(self.grades) / len(self.grades)\n",
        "        else:\n",
        "            return 0\n",
        "\n",
        "    def display_details(self):\n",
        "        print(f\"Student ID: {self.student_id}\")\n",
        "        print(f\"Name: {self.name}\")\n",
        "        print(f\"Average Grade: {self.calculate_average_grade()}\")\n",
        "\n",
        "    def add_grade(self, grade):\n",
        "        self.grades.append(grade)\n",
        "\n",
        "# initialising\n",
        "student = Student(1, \"Rohan\")\n",
        "\n",
        "student.add_grade(96)\n",
        "student.add_grade(87)\n",
        "student.add_grade(82)\n",
        "\n",
        "student.display_details()"
      ],
      "metadata": {
        "colab": {
          "base_uri": "https://localhost:8080/"
        },
        "id": "1R-BMNm4Pp8Y",
        "outputId": "aa6a332b-6c36-4c63-dddd-2cc03da34be0"
      },
      "execution_count": 4,
      "outputs": [
        {
          "output_type": "stream",
          "name": "stdout",
          "text": [
            "Student ID: 1\n",
            "Name: Rohan\n",
            "Average Grade: 88.33333333333333\n"
          ]
        }
      ]
    },
    {
      "cell_type": "markdown",
      "source": [
        "Problem 8: Email Management - Create a class representing an email with attributes like sender, recipient, and subject. Implement methods to send an email and display email details."
      ],
      "metadata": {
        "id": "aoFxMUWhQASJ"
      }
    },
    {
      "cell_type": "code",
      "source": [
        "class Email:\n",
        "  sent_emails = []\n",
        "\n",
        "  def __init__(self, sender, recipient, subject, message):\n",
        "    self.sender = sender\n",
        "    self.recipient = recipient\n",
        "    self.subject = subject\n",
        "    self.message = message\n",
        "\n",
        "    # send email method, adding mail to sent items\n",
        "  def send_email(self):\n",
        "    Email.sent_emails.append(self)\n",
        "    print(\"Email sent successfully!\")\n",
        "\n",
        "    # method to display email\n",
        "  def display_details(self):\n",
        "    print(f\"Sender: {self.sender}\")\n",
        "    print(f\"Recipient: {self.recipient}\")\n",
        "    print(f\"Subject: {self.subject}\")\n",
        "    print(f\"Message: {self.message}\")\n",
        "\n",
        "  def get_sent_emails():\n",
        "    return sent_emails\n",
        "\n",
        "# examples\n",
        "email1 = Email(\"rohan@example.com\", \"yuvraj@example.com\", \"Hello\", \"This is a test email.\")\n",
        "email1.send_email()\n",
        "\n",
        "email2 = Email(\"rohan2@example.com\", \"yuvraj2@example.com\", \"hello 2\", \"Another test email.\")\n",
        "email2.send_email()\n",
        "\n",
        "sent_emails = Email.get_sent_emails()\n",
        "\n",
        "# display sent mails\n",
        "Email.display_details(email1)\n",
        "Email.display_details(email2)\n",
        ""
      ],
      "metadata": {
        "colab": {
          "base_uri": "https://localhost:8080/"
        },
        "id": "ByGz7u7yU4N5",
        "outputId": "3cac8efe-a15a-4673-9d9f-db2a603a70bd"
      },
      "execution_count": 70,
      "outputs": [
        {
          "output_type": "stream",
          "name": "stdout",
          "text": [
            "Email sent successfully!\n",
            "Email sent successfully!\n",
            "Sender: rohan@example.com\n",
            "Recipient: yuvraj@example.com\n",
            "Subject: Hello\n",
            "Message: This is a test email.\n",
            "Sender: rohan2@example.com\n",
            "Recipient: yuvraj2@example.com\n",
            "Subject: hello 2\n",
            "Message: Another test email.\n"
          ]
        }
      ]
    },
    {
      "cell_type": "markdown",
      "source": [
        "Problem 9: Social Media Profile - Create a class representing a social media profile with attributes like username and posts. Implement methods to add posts, display posts, and search for posts by keyword."
      ],
      "metadata": {
        "id": "ypEzseaYSJZr"
      }
    },
    {
      "cell_type": "code",
      "source": [
        "class SocialMediaProfile:\n",
        "    def __init__(self, username, posts=[]):\n",
        "        self.username = username\n",
        "        self.posts = posts\n",
        "\n",
        "    def add_post(self, post):\n",
        "        self.posts.append(post)\n",
        "\n",
        "    def display_posts(self):\n",
        "        for post in self.posts:\n",
        "            print(post)\n",
        "\n",
        "    def search_posts(self, keyword):\n",
        "        matching_posts = [post for post in self.posts if keyword in post]\n",
        "        return matching_posts\n",
        "\n",
        "# example\n",
        "profile = SocialMediaProfile(\"user123\")\n",
        "\n",
        "profile.add_post(\"Hello world!\")\n",
        "profile.add_post(\"Python is fun.\")\n",
        "profile.add_post(\"Python is awesome.\")\n",
        "\n",
        "# display\n",
        "print(\"\\nPosts : \")\n",
        "profile.display_posts()\n",
        "\n",
        "# searching\n",
        "keyword = \"Python\"\n",
        "results = profile.search_posts(keyword)\n",
        "\n",
        "print(f\"\\nSearch Results for '{keyword}'\")\n",
        "for result in results:\n",
        "    print(result)"
      ],
      "metadata": {
        "id": "JbV_7G9USNMD"
      },
      "execution_count": null,
      "outputs": []
    },
    {
      "cell_type": "markdown",
      "source": [
        "Problem 10: ToDo List - Create a class representing a ToDo list with attributes like tasks and due dates. Implement methods to add tasks, mark tasks as completed, and display pending tasks."
      ],
      "metadata": {
        "id": "08F11ADrSiWA"
      }
    },
    {
      "cell_type": "code",
      "source": [
        "class ToDoList:\n",
        "    def __init__(self):\n",
        "        self.tasks = []\n",
        "\n",
        "    def add_task(self, task, due_date):\n",
        "        self.tasks.append({\"task\": task, \"due_date\": due_date, \"completed\": False})\n",
        "\n",
        "    def mark_task_as_completed(self, task):\n",
        "        for t in self.tasks:\n",
        "            if t[\"task\"] == task:\n",
        "                t[\"completed\"] = True\n",
        "\n",
        "    def display_pending_tasks(self):\n",
        "        pending_tasks = [task for task in self.tasks if not task[\"completed\"]]\n",
        "        for task in pending_tasks:\n",
        "            print(f\"Task: {task['task']}, Due Date: {task['due_date']}\")\n",
        "\n",
        "# example\n",
        "to_do_list = ToDoList()\n",
        "\n",
        "# adding tasks\n",
        "to_do_list.add_task(\"Go to gym\", \"2023-11-12\")\n",
        "to_do_list.add_task(\"call bank\", \"2023-12-12\")\n",
        "\n",
        "\n",
        "# display pending tasks\n",
        "to_do_list.display_pending_tasks()\n",
        "\n",
        "# marking task\n",
        "to_do_list.mark_task_as_completed(\"Go to gym\")\n",
        "\n",
        "# display t\n",
        "print(\"\\nPending tasks after completing one task\")\n",
        "to_do_list.display_pending_tasks()"
      ],
      "metadata": {
        "colab": {
          "base_uri": "https://localhost:8080/"
        },
        "id": "fhaP97-PSmKM",
        "outputId": "3d7d50b5-9ea2-4b29-f862-8a552accb9e9"
      },
      "execution_count": 10,
      "outputs": [
        {
          "output_type": "stream",
          "name": "stdout",
          "text": [
            "Task: Go to gym, Due Date: 2023-11-12\n",
            "Task: call bank, Due Date: 2023-12-12\n",
            "\n",
            "Pending tasks after completing one task\n",
            "Task: call bank, Due Date: 2023-12-12\n"
          ]
        }
      ]
    }
  ]
}